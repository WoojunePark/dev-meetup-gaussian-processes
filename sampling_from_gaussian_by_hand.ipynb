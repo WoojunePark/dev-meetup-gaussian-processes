{
 "cells": [
  {
   "cell_type": "markdown",
   "metadata": {
    "deletable": true,
    "editable": true
   },
   "source": [
    "# Sampling from Gaussian Process by Hand"
   ]
  },
  {
   "cell_type": "markdown",
   "metadata": {
    "deletable": true,
    "editable": true
   },
   "source": [
    "This example is taken from [here](https://blog.dominodatalab.com/fitting-gaussian-process-models-python/)."
   ]
  },
  {
   "cell_type": "markdown",
   "metadata": {
    "deletable": true,
    "editable": true
   },
   "source": [
    "In the function-space view of gaussian processes (see section 2.2 [here](http://www.gaussianprocess.org/gpml/chapters/RW2.pdf)) you look at gaussian processes from the perspective of sampling functions in a similar way as you normally sample random numbers from a distribution, e.g.:\n",
    "$$f(x)\\sim\\mathcal{GP}(m(x), k(x, x'))$$\n",
    "where\n",
    "$$\n",
    "\\begin{eqnarray}\n",
    "m(x)&=&\\mathbb{E}[f(x)],\\\\\n",
    "k(x,x')&=&\\mathbb{E}[(f(x)-m(x))(f(x')-m(x'))]\n",
    "\\end{eqnarray}\n",
    "$$\n",
    "Usually the mean function $m(x)$ is taken to be zero."
   ]
  },
  {
   "cell_type": "markdown",
   "metadata": {
    "deletable": true,
    "editable": true
   },
   "source": [
    "If you look at it from that perspective then it is interesting to draw a few samples and plot them. The purpose of this notebook is to show how that can be done."
   ]
  },
  {
   "cell_type": "markdown",
   "metadata": {
    "deletable": true,
    "editable": true
   },
   "source": [
    "## Sampling from a Gaussian Process"
   ]
  },
  {
   "cell_type": "code",
   "execution_count": 1,
   "metadata": {
    "collapsed": true,
    "deletable": true,
    "editable": true
   },
   "outputs": [],
   "source": [
    "%matplotlib inline\n",
    "import numpy as np, matplotlib.pyplot as plt, seaborn as sns\n",
    "\n",
    "# https://stackoverflow.com/questions/37149933/how-to-set-max-output-width-in-numpy\n",
    "np.set_printoptions(edgeitems=10)\n",
    "np.core.arrayprint._line_width = 180\n",
    "\n",
    "sns.set()"
   ]
  },
  {
   "cell_type": "code",
   "execution_count": 2,
   "metadata": {
    "collapsed": true,
    "deletable": true,
    "editable": true
   },
   "outputs": [],
   "source": [
    "SEED = 42\n",
    "np.random.seed(SEED)"
   ]
  },
  {
   "cell_type": "markdown",
   "metadata": {
    "deletable": true,
    "editable": true
   },
   "source": [
    "For this example we take the SE (squared exponential) kernel (a.k.a. covariance function; have a look [here](http://www.gaussianprocess.org/gpml/chapters/RW4.pdf) p. 83). Have a look at the excellent Phd thesis [Automatic Model Construction with Gaussian Processes](https://github.com/duvenaud/phd-thesis/) for an overview of different choice of kernels and their properties.\n",
    "\n",
    "$$k_{SE}(r)=\\sigma^2\\cdot e^{-\\frac{r^2}{2\\ell^2}}$$"
   ]
  },
  {
   "cell_type": "code",
   "execution_count": 3,
   "metadata": {
    "collapsed": false,
    "deletable": true,
    "editable": true
   },
   "outputs": [],
   "source": [
    "class GPCovarianceFunctionSquaredExponential:\n",
    "    def __init__(self, l, sigma):\n",
    "        self.l = float(l)\n",
    "        self.sigma = float(sigma)\n",
    "\n",
    "    def covariance(self, x1, x2):\n",
    "        return (self.sigma**2) * np.exp( -0.5 * (np.subtract.outer(x1, x2)**2) / (self.l ** 2))"
   ]
  },
  {
   "cell_type": "code",
   "execution_count": 4,
   "metadata": {
    "collapsed": false,
    "deletable": true,
    "editable": true
   },
   "outputs": [],
   "source": [
    "xpts = np.arange(-3, 3, step=0.01)\n",
    "k = GPCovarianceFunctionSquaredExponential(l=np.sqrt(0.1), sigma=1)"
   ]
  },
  {
   "cell_type": "markdown",
   "metadata": {
    "deletable": true,
    "editable": true
   },
   "source": [
    "We will assume a zero function as the mean, so we can plot a band that represents one standard deviation from the mean."
   ]
  },
  {
   "cell_type": "code",
   "execution_count": 5,
   "metadata": {
    "collapsed": false,
    "deletable": true,
    "editable": true
   },
   "outputs": [
    {
     "data": {
      "text/plain": [
       "1.0"
      ]
     },
     "execution_count": 5,
     "metadata": {},
     "output_type": "execute_result"
    }
   ],
   "source": [
    "sigma_0 = k.covariance(0, 0)\n",
    "sigma_0"
   ]
  },
  {
   "cell_type": "code",
   "execution_count": 6,
   "metadata": {
    "collapsed": false,
    "deletable": true,
    "editable": true
   },
   "outputs": [
    {
     "data": {
      "text/plain": [
       "(-3.0, 3.0)"
      ]
     },
     "execution_count": 6,
     "metadata": {},
     "output_type": "execute_result"
    },
    {
     "data": {
      "image/png": "[encoded data removed]",
      "text/plain": [
       "<matplotlib.figure.Figure at 0x7f4cc5594e80>"
      ]
     },
     "metadata": {},
     "output_type": "display_data"
    }
   ],
   "source": [
    "fig=plt.figure(figsize=(15, 8), dpi= 80, facecolor='w', edgecolor='k')\n",
    "ax = plt.subplot(1, 1, 1)\n",
    "ax.errorbar(xpts, np.zeros(len(xpts)), yerr=sigma_0, capsize=0)\n",
    "ax.set_ylim(-3.0,3.0)"
   ]
  },
  {
   "cell_type": "markdown",
   "metadata": {
    "deletable": true,
    "editable": true
   },
   "source": [
    "Let's select an arbitrary starting point to sample, say $x=1$. Since there are no prevous points, we can sample from an unconditional Gaussian:"
   ]
  },
  {
   "cell_type": "code",
   "execution_count": 7,
   "metadata": {
    "collapsed": false,
    "deletable": true,
    "editable": true
   },
   "outputs": [
    {
     "data": {
      "text/plain": [
       "[0.4967141530112327]"
      ]
     },
     "execution_count": 7,
     "metadata": {},
     "output_type": "execute_result"
    }
   ],
   "source": [
    "x = [1.]\n",
    "y = [np.random.normal(scale=sigma_0)]\n",
    "y"
   ]
  },
  {
   "cell_type": "code",
   "execution_count": 8,
   "metadata": {
    "collapsed": false,
    "deletable": true,
    "editable": true
   },
   "outputs": [
    {
     "data": {
      "text/plain": [
       "array([[ 1.]])"
      ]
     },
     "execution_count": 8,
     "metadata": {},
     "output_type": "execute_result"
    }
   ],
   "source": [
    "sigma_1 = k.covariance(x, x)\n",
    "sigma_1"
   ]
  },
  {
   "cell_type": "markdown",
   "metadata": {
    "deletable": true,
    "editable": true
   },
   "source": [
    "In order to create new function points `y_new` at locations `x_new` after we created a set of initial ones at locations `x` with their corresponding `y` values we have to use the conditional probability as described [here](http://www.gaussianprocess.org/gpml/chapters/RWA.pdf) in equation A.6.\n",
    "\n",
    "Even while I've taken the example from [here](https://blog.dominodatalab.com/fitting-gaussian-process-models-python/) I will change the notation to fit to the [Gaussian Processes for Machine Learning](http://www.gaussianprocess.org/gpml/chapters/) notation. I will use $y_*$ instead of `y_new`, though.\n",
    "\n",
    "Given a joint distribution:\n",
    "$$\\left[\\begin{matrix}y_*\\\\ y\\end{matrix}\\right]\\sim\\mathcal{N}\\left(\n",
    "\\left[\\begin{matrix}\\bar y_*\\\\\\bar y\\end{matrix}\\right],\n",
    "\\left[\\begin{matrix}A&C\\\\ C^T&B\\end{matrix}\\right]\n",
    "\\right)$$\n",
    "\n",
    "We get the conditional distribution analytically as follows:\n",
    "\n",
    "$$p(y_*\\,|\\, X, y, X_*)\\sim\\mathcal{N}(\\bar y_*+CB^{-1}(y-\\bar y), A-CB^{-1}C^T)$$\n",
    "\n",
    "And as we set the mean function $m(x)=0$ this reduces to:\n",
    "\n",
    "$$p(y_*\\,|\\, X, y, X_*)\\sim\\mathcal{N}(CB^{-1}y, A-CB^{-1}C^T)$$\n",
    "\n",
    "Please also keep in mind that both, $y_*$ and $y$ can be vectors and do not need to be scalars."
   ]
  },
  {
   "cell_type": "markdown",
   "metadata": {
    "deletable": true,
    "editable": true
   },
   "source": [
    "In case that $A$, $B$ and $C$ are defined by the covariance function and we only look at predicting one new point $(x_*,y_*)$ we have the following:\n",
    "\n",
    "$$\n",
    "\\begin{eqnarray}\n",
    "A&=&k(x_*, x_*)\\space\\hbox{is a scalar}\\\\\n",
    "B&=&k(x_*, x)=k_*\\space\\hbox{is a vector}\\\\\n",
    "C&=&k(X,X)\\space\\hbox{is a matrix}\\\\\n",
    "\\end{eqnarray}\n",
    "$$\n",
    "\n",
    "See also [here](http://www.gaussianprocess.org/gpml/chapters/RW2.pdf) equations 2.25 and 2.26 for details."
   ]
  },
  {
   "cell_type": "code",
   "execution_count": 9,
   "metadata": {
    "collapsed": true,
    "deletable": true,
    "editable": true
   },
   "outputs": [],
   "source": [
    "def conditional(x_new, x, y, cov, sigma_n=0):\n",
    "    total_covariance_function = cov\n",
    "\n",
    "    A = total_covariance_function.covariance(x_new, x_new)\n",
    "    C = total_covariance_function.covariance(x_new, x)\n",
    "    B = total_covariance_function.covariance(x, x) + np.power(sigma_n,2)*np.diag(np.ones(len(x)))\n",
    "\n",
    "    mu = [np.linalg.inv(B).dot(C.T).T.dot(y).squeeze()]\n",
    "    sigma = [(A - C.dot(np.linalg.inv(B).dot(C.T))).squeeze()]\n",
    "\n",
    "    return (mu, sigma)\n",
    "\n",
    "def predict(x_new, x, y, cov, sigma_n=0):\n",
    "    l_y_pred, l_sigmas = conditional(x_new, x, y, cov=cov, sigma_n=sigma_n)\n",
    "    if len(l_sigmas[0].shape) > 1:\n",
    "        return l_y_pred, [np.diagonal(ls) for ls in l_sigmas]\n",
    "    else:\n",
    "        return l_y_pred, l_sigmas"
   ]
  },
  {
   "cell_type": "markdown",
   "metadata": {
    "deletable": true,
    "editable": true
   },
   "source": [
    "Now we can draw the predicted function value together with the sigmas via the predict method."
   ]
  },
  {
   "cell_type": "code",
   "execution_count": 10,
   "metadata": {
    "collapsed": false,
    "deletable": true,
    "editable": true
   },
   "outputs": [],
   "source": [
    "y_pred, sigmas         = predict(xpts, x, y, cov=k)"
   ]
  },
  {
   "cell_type": "code",
   "execution_count": 11,
   "metadata": {
    "collapsed": false,
    "deletable": true,
    "editable": true
   },
   "outputs": [
    {
     "data": {
      "text/plain": [
       "(-3.0, 3.0)"
      ]
     },
     "execution_count": 11,
     "metadata": {},
     "output_type": "execute_result"
    },
    {
     "data": {
      "image/png": "[encoded data removed]",
      "text/plain": [
       "<matplotlib.figure.Figure at 0x7f4cbd4974e0>"
      ]
     },
     "metadata": {},
     "output_type": "display_data"
    }
   ],
   "source": [
    "fig=plt.figure(figsize=(15, 8), dpi= 80, facecolor='w', edgecolor='k')\n",
    "ax = plt.subplot(1, 1, 1)\n",
    "ax.errorbar(xpts, y_pred[0], yerr=sigmas[0], capsize=0)\n",
    "ax.plot(x, y, \"ro\")\n",
    "ax.set_ylim(-3.0,3.0)"
   ]
  },
  {
   "cell_type": "markdown",
   "metadata": {
    "deletable": true,
    "editable": true
   },
   "source": [
    "Now let's take a second arbitrary location on the $x$-axis, e.g. $-0.7$ and let's repeat the process from before:"
   ]
  },
  {
   "cell_type": "code",
   "execution_count": 12,
   "metadata": {
    "collapsed": false,
    "deletable": true,
    "editable": true
   },
   "outputs": [
    {
     "name": "stdout",
     "output_type": "stream",
     "text": [
      "[array(2.633608839077876e-07)]\n",
      "[array(0.9999999999997189)]\n"
     ]
    }
   ],
   "source": [
    "new_dp = [-0.7]\n",
    "m, s = predict(new_dp, x, y, cov=k)\n",
    "print(m)\n",
    "print(s)"
   ]
  },
  {
   "cell_type": "markdown",
   "metadata": {
    "deletable": true,
    "editable": true
   },
   "source": [
    "Drawing a random number with the mean function and standard deviation (sigma):"
   ]
  },
  {
   "cell_type": "code",
   "execution_count": 13,
   "metadata": {
    "collapsed": false,
    "deletable": true,
    "editable": true
   },
   "outputs": [
    {
     "name": "stdout",
     "output_type": "stream",
     "text": [
      "[array(2.633608839077876e-07)]\n",
      "[array(0.9999999999997189)]\n"
     ]
    },
    {
     "data": {
      "text/plain": [
       "-0.1382640378102619"
      ]
     },
     "execution_count": 13,
     "metadata": {},
     "output_type": "execute_result"
    }
   ],
   "source": [
    "y2 = np.random.normal(m[0], s[0])\n",
    "print(m)\n",
    "print(s)\n",
    "y2"
   ]
  },
  {
   "cell_type": "markdown",
   "metadata": {
    "deletable": true,
    "editable": true
   },
   "source": [
    "Now we add the new x-point to the array of x-values:"
   ]
  },
  {
   "cell_type": "code",
   "execution_count": 14,
   "metadata": {
    "collapsed": false,
    "deletable": true,
    "editable": true
   },
   "outputs": [
    {
     "data": {
      "text/plain": [
       "[1.0, -0.7]"
      ]
     },
     "execution_count": 14,
     "metadata": {},
     "output_type": "execute_result"
    }
   ],
   "source": [
    "# x = [1.0]\n",
    "x += new_dp\n",
    "x"
   ]
  },
  {
   "cell_type": "markdown",
   "metadata": {
    "deletable": true,
    "editable": true
   },
   "source": [
    "and the new y-point to the array of y-values:"
   ]
  },
  {
   "cell_type": "code",
   "execution_count": 15,
   "metadata": {
    "collapsed": false,
    "deletable": true,
    "editable": true
   },
   "outputs": [
    {
     "data": {
      "text/plain": [
       "[0.4967141530112327, -0.1382640378102619]"
      ]
     },
     "execution_count": 15,
     "metadata": {},
     "output_type": "execute_result"
    }
   ],
   "source": [
    "y.append(y2)\n",
    "y"
   ]
  },
  {
   "cell_type": "markdown",
   "metadata": {
    "deletable": true,
    "editable": true
   },
   "source": [
    "And repeat the process from above to predict how the function should look like along the x-axis given the two points we just fixed."
   ]
  },
  {
   "cell_type": "code",
   "execution_count": 16,
   "metadata": {
    "collapsed": false,
    "deletable": true,
    "editable": true
   },
   "outputs": [],
   "source": [
    "y_pred, sigmas         = predict(xpts, x, y, cov=k)"
   ]
  },
  {
   "cell_type": "code",
   "execution_count": 17,
   "metadata": {
    "collapsed": false,
    "deletable": true,
    "editable": true,
    "scrolled": false
   },
   "outputs": [
    {
     "data": {
      "text/plain": [
       "(-3.0, 3.0)"
      ]
     },
     "execution_count": 17,
     "metadata": {},
     "output_type": "execute_result"
    },
    {
     "data": {
      "image/png": "[encoded data removed]",
      "text/plain": [
       "<matplotlib.figure.Figure at 0x7f4cc4f6e3c8>"
      ]
     },
     "metadata": {},
     "output_type": "display_data"
    }
   ],
   "source": [
    "fig=plt.figure(figsize=(15, 8), dpi= 80, facecolor='w', edgecolor='k')\n",
    "ax = plt.subplot(1, 1, 1)\n",
    "ax.errorbar(xpts, y_pred[0], yerr=sigmas[0], capsize=0)\n",
    "ax.plot(x, y, \"ro\")\n",
    "ax.set_ylim(-3.0,3.0)"
   ]
  },
  {
   "cell_type": "markdown",
   "metadata": {
    "deletable": true,
    "editable": true
   },
   "source": [
    "At every location where there is a \"known\" point the standard deviation goes to zero, because the function at this point is not \"unknown\" or \"random\" any longer, but fixed and known. This is the effect of using the conditional probability $p(y_*\\,|\\, X, y, X_*)$ as described above."
   ]
  },
  {
   "cell_type": "markdown",
   "metadata": {
    "deletable": true,
    "editable": true
   },
   "source": [
    "Let's draw several values at once rather than going single point by point as we did above:"
   ]
  },
  {
   "cell_type": "code",
   "execution_count": 18,
   "metadata": {
    "collapsed": false,
    "deletable": true,
    "editable": true
   },
   "outputs": [
    {
     "name": "stdout",
     "output_type": "stream",
     "text": [
      "[ -7.66697664e-06  -5.63595765e-03   4.19316345e-02   2.02471666e-02   6.46090979e-06]\n",
      "[[  9.99999997e-01   1.65296628e-01  -3.73627090e-07   1.19843900e-12   3.82424663e-16]\n",
      " [  1.65296628e-01   9.98338443e-01  -2.74559569e-04   8.80965650e-10   2.81118181e-13]\n",
      " [ -3.73627090e-07  -2.74559569e-04   9.92508018e-01  -3.50450933e-03  -1.12241541e-06]\n",
      " [  1.19843900e-12   8.80965650e-10  -3.50450933e-03   9.98338443e-01   8.62930563e-02]\n",
      " [  3.82424663e-16   2.81118181e-13  -1.12241541e-06   8.62930563e-02   1.00000000e+00]]\n"
     ]
    }
   ],
   "source": [
    "x_more = [-2.1, -1.5, 0.3, 1.8, 2.5]\n",
    "m, s = conditional(x_more, x, y, cov=k)\n",
    "print(m[0])\n",
    "print(s[0])"
   ]
  },
  {
   "cell_type": "code",
   "execution_count": 19,
   "metadata": {
    "collapsed": false,
    "deletable": true,
    "editable": true
   },
   "outputs": [
    {
     "data": {
      "text/plain": [
       "array([-1.5128756 ,  0.52371713, -0.13952425, -0.93665367, -1.29343995])"
      ]
     },
     "execution_count": 19,
     "metadata": {},
     "output_type": "execute_result"
    }
   ],
   "source": [
    "y_more = np.random.multivariate_normal(m[0], s[0])\n",
    "y_more"
   ]
  },
  {
   "cell_type": "code",
   "execution_count": 20,
   "metadata": {
    "collapsed": true,
    "deletable": true,
    "editable": true
   },
   "outputs": [],
   "source": [
    "x += x_more\n",
    "y += y_more.tolist()"
   ]
  },
  {
   "cell_type": "code",
   "execution_count": 21,
   "metadata": {
    "collapsed": false,
    "deletable": true,
    "editable": true
   },
   "outputs": [],
   "source": [
    "y_pred, sigmas         = predict(xpts, x, y, cov=k)"
   ]
  },
  {
   "cell_type": "code",
   "execution_count": 22,
   "metadata": {
    "collapsed": false,
    "deletable": true,
    "editable": true
   },
   "outputs": [
    {
     "data": {
      "text/plain": [
       "(-3.0, 3.0)"
      ]
     },
     "execution_count": 22,
     "metadata": {},
     "output_type": "execute_result"
    },
    {
     "data": {
      "image/png": "[encoded data removed]",
      "text/plain": [
       "<matplotlib.figure.Figure at 0x7f4cc4e75d68>"
      ]
     },
     "metadata": {},
     "output_type": "display_data"
    }
   ],
   "source": [
    "fig=plt.figure(figsize=(15, 8), dpi= 80, facecolor='w', edgecolor='k')\n",
    "ax = plt.subplot(1, 1, 1)\n",
    "ax.errorbar(xpts, y_pred[0], yerr=sigmas[0], capsize=0)\n",
    "ax.plot(x, y, \"ro\")\n",
    "ax.set_ylim(-3.0,3.0)"
   ]
  },
  {
   "cell_type": "markdown",
   "metadata": {
    "deletable": true,
    "editable": true
   },
   "source": [
    "You can see how a sample of the function drawn out of the relevant function space (configured via the covariance function) emerges."
   ]
  }
 ],
 "metadata": {
  "kernelspec": {
   "display_name": "Python 3",
   "language": "python",
   "name": "python3"
  },
  "language_info": {
   "codemirror_mode": {
    "name": "ipython",
    "version": 3
   },
   "file_extension": ".py",
   "mimetype": "text/x-python",
   "name": "python",
   "nbconvert_exporter": "python",
   "pygments_lexer": "ipython3",
   "version": "3.6.1"
  }
 },
 "nbformat": 4,
 "nbformat_minor": 2
}
