{
 "cells": [
  {
   "cell_type": "markdown",
   "metadata": {},
   "source": [
    "# $C$$O_2$ Mauna Loa Gaussian Process Regression"
   ]
  },
  {
   "cell_type": "markdown",
   "metadata": {},
   "source": [
    "The goal of this notebook is to replicate the results from [chapter 5](http://www.gaussianprocess.org/gpml/chapters/RW5.pdf), p.118, of [Gaussian Processes for Machine Learning](http://www.gaussianprocess.org/gpml/chapters/)."
   ]
  },
  {
   "cell_type": "markdown",
   "metadata": {},
   "source": [
    "I did not find a way on how to make [GPflow](https://github.com/GPflow/GPflow) perform this additive decomposition and therefore I decided to implement it by hand. In this set-up GPflow is used to find the correct parameters and the hand writte code is used to decompose the addtitive parts. \n",
    "\n",
    "There is currently work under-way to add this functionality to GPflow. For more details have a look at [Predicting component contributions #234](https://github.com/GPflow/GPflow/issues/234)."
   ]
  },
  {
   "cell_type": "code",
   "execution_count": 1,
   "metadata": {},
   "outputs": [
    {
     "name": "stderr",
     "output_type": "stream",
     "text": [
      "/home/user/cs/local/install/Anaconda3-5.1.0-Linux-x86_64/lib/python3.6/site-packages/h5py/__init__.py:36: FutureWarning: Conversion of the second argument of issubdtype from `float` to `np.floating` is deprecated. In future, it will be treated as `np.float64 == np.dtype(float).type`.\n",
      "  from ._conv import register_converters as _register_converters\n"
     ]
    },
    {
     "name": "stdout",
     "output_type": "stream",
     "text": [
      "Christian Schuhegger \n",
      "last updated: 2018-05-05 \n",
      "\n",
      "CPython 3.6.4\n",
      "IPython 6.2.1\n",
      "\n",
      "numpy 1.14.2\n",
      "pandas 0.22.0\n",
      "matplotlib 2.2.2\n",
      "seaborn 0.8.1\n",
      "gpflow 1.1.0\n",
      "GPy 1.9.2\n",
      "bokeh 0.12.15\n",
      "statsmodels 0.8.0\n"
     ]
    }
   ],
   "source": [
    "%load_ext watermark\n",
    "%watermark -a 'Christian Schuhegger' -u -d -v -p numpy,pandas,matplotlib,seaborn,gpflow,GPy,bokeh,statsmodels"
   ]
  },
  {
   "cell_type": "code",
   "execution_count": 2,
   "metadata": {},
   "outputs": [],
   "source": [
    "%matplotlib inline\n",
    "import numpy as np, pandas as pd, matplotlib.pyplot as plt, seaborn as sns, gpflow"
   ]
  },
  {
   "cell_type": "markdown",
   "metadata": {},
   "source": [
    "Let's use the [bokeh](https://bokeh.pydata.org/en/latest/) library to make the chart interactive and so that you can zoom in. The hints on how to use bokeh on these examples came from [Looking at the Keeling Curve with GPs in PyMC3](https://bwengals.github.io/looking-at-the-keeling-curve-with-gps-in-pymc3.html)."
   ]
  },
  {
   "cell_type": "code",
   "execution_count": 3,
   "metadata": {},
   "outputs": [
    {
     "data": {
      "text/html": [
       "\n",
       "    <div class=\"bk-root\">\n",
       "        <a href=\"https://bokeh.pydata.org\" target=\"_blank\" class=\"bk-logo bk-logo-small bk-logo-notebook\"></a>\n",
       "        <span id=\"a7c109f3-ef42-4e57-8bd2-140902c97cb6\">Loading BokehJS ...</span>\n",
       "    </div>"
      ]
     },
     "metadata": {},
     "output_type": "display_data"
    },
    {
     "data": {
      "application/javascript": [
       "\n",
       "(function(root) {\n",
       "  function now() {\n",
       "    return new Date();\n",
       "  }\n",
       "\n",
       "  var force = true;\n",
       "\n",
       "  if (typeof (root._bokeh_onload_callbacks) === \"undefined\" || force === true) {\n",
       "    root._bokeh_onload_callbacks = [];\n",
       "    root._bokeh_is_loading = undefined;\n",
       "  }\n",
       "\n",
       "  var JS_MIME_TYPE = 'application/javascript';\n",
       "  var HTML_MIME_TYPE = 'text/html';\n",
       "  var EXEC_MIME_TYPE = 'application/vnd.bokehjs_exec.v0+json';\n",
       "  var CLASS_NAME = 'output_bokeh rendered_html';\n",
       "\n",
       "  /**\n",
       "   * Render data to the DOM node\n",
       "   */\n",
       "  function render(props, node) {\n",
       "    var script = document.createElement(\"script\");\n",
       "    node.appendChild(script);\n",
       "  }\n",
       "\n",
       "  /**\n",
       "   * Handle when an output is cleared or removed\n",
       "   */\n",
       "  function handleClearOutput(event, handle) {\n",
       "    var cell = handle.cell;\n",
       "\n",
       "    var id = cell.output_area._bokeh_element_id;\n",
       "    var server_id = cell.output_area._bokeh_server_id;\n",
       "    // Clean up Bokeh references\n",
       "    if (id !== undefined) {\n",
       "      Bokeh.index[id].model.document.clear();\n",
       "      delete Bokeh.index[id];\n",
       "    }\n",
       "\n",
       "    if (server_id !== undefined) {\n",
       "      // Clean up Bokeh references\n",
       "      var cmd = \"from bokeh.io.state import curstate; print(curstate().uuid_to_server['\" + server_id + \"'].get_sessions()[0].document.roots[0]._id)\";\n",
       "      cell.notebook.kernel.execute(cmd, {\n",
       "        iopub: {\n",
       "          output: function(msg) {\n",
       "            var element_id = msg.content.text.trim();\n",
       "            Bokeh.index[element_id].model.document.clear();\n",
       "            delete Bokeh.index[element_id];\n",
       "          }\n",
       "        }\n",
       "      });\n",
       "      // Destroy server and session\n",
       "      var cmd = \"import bokeh.io.notebook as ion; ion.destroy_server('\" + server_id + \"')\";\n",
       "      cell.notebook.kernel.execute(cmd);\n",
       "    }\n",
       "  }\n",
       "\n",
       "  /**\n",
       "   * Handle when a new output is added\n",
       "   */\n",
       "  function handleAddOutput(event, handle) {\n",
       "    var output_area = handle.output_area;\n",
       "    var output = handle.output;\n",
       "\n",
       "    // limit handleAddOutput to display_data with EXEC_MIME_TYPE content only\n",
       "    if ((output.output_type != \"display_data\") || (!output.data.hasOwnProperty(EXEC_MIME_TYPE))) {\n",
       "      return\n",
       "    }\n",
       "\n",
       "    var toinsert = output_area.element.find(\".\" + CLASS_NAME.split(' ')[0]);\n",
       "\n",
       "    if (output.metadata[EXEC_MIME_TYPE][\"id\"] !== undefined) {\n",
       "      toinsert[toinsert.length - 1].firstChild.textContent = output.data[JS_MIME_TYPE];\n",
       "      // store reference to embed id on output_area\n",
       "      output_area._bokeh_element_id = output.metadata[EXEC_MIME_TYPE][\"id\"];\n",
       "    }\n",
       "    if (output.metadata[EXEC_MIME_TYPE][\"server_id\"] !== undefined) {\n",
       "      var bk_div = document.createElement(\"div\");\n",
       "      bk_div.innerHTML = output.data[HTML_MIME_TYPE];\n",
       "      var script_attrs = bk_div.children[0].attributes;\n",
       "      for (var i = 0; i < script_attrs.length; i++) {\n",
       "        toinsert[toinsert.length - 1].firstChild.setAttribute(script_attrs[i].name, script_attrs[i].value);\n",
       "      }\n",
       "      // store reference to server id on output_area\n",
       "      output_area._bokeh_server_id = output.metadata[EXEC_MIME_TYPE][\"server_id\"];\n",
       "    }\n",
       "  }\n",
       "\n",
       "  function register_renderer(events, OutputArea) {\n",
       "\n",
       "    function append_mime(data, metadata, element) {\n",
       "      // create a DOM node to render to\n",
       "      var toinsert = this.create_output_subarea(\n",
       "        metadata,\n",
       "        CLASS_NAME,\n",
       "        EXEC_MIME_TYPE\n",
       "      );\n",
       "      this.keyboard_manager.register_events(toinsert);\n",
       "      // Render to node\n",
       "      var props = {data: data, metadata: metadata[EXEC_MIME_TYPE]};\n",
       "      render(props, toinsert[toinsert.length - 1]);\n",
       "      element.append(toinsert);\n",
       "      return toinsert\n",
       "    }\n",
       "\n",
       "    /* Handle when an output is cleared or removed */\n",
       "    events.on('clear_output.CodeCell', handleClearOutput);\n",
       "    events.on('delete.Cell', handleClearOutput);\n",
       "\n",
       "    /* Handle when a new output is added */\n",
       "    events.on('output_added.OutputArea', handleAddOutput);\n",
       "\n",
       "    /**\n",
       "     * Register the mime type and append_mime function with output_area\n",
       "     */\n",
       "    OutputArea.prototype.register_mime_type(EXEC_MIME_TYPE, append_mime, {\n",
       "      /* Is output safe? */\n",
       "      safe: true,\n",
       "      /* Index of renderer in `output_area.display_order` */\n",
       "      index: 0\n",
       "    });\n",
       "  }\n",
       "\n",
       "  // register the mime type if in Jupyter Notebook environment and previously unregistered\n",
       "  if (root.Jupyter !== undefined) {\n",
       "    var events = require('base/js/events');\n",
       "    var OutputArea = require('notebook/js/outputarea').OutputArea;\n",
       "\n",
       "    if (OutputArea.prototype.mime_types().indexOf(EXEC_MIME_TYPE) == -1) {\n",
       "      register_renderer(events, OutputArea);\n",
       "    }\n",
       "  }\n",
       "\n",
       "  \n",
       "  if (typeof (root._bokeh_timeout) === \"undefined\" || force === true) {\n",
       "    root._bokeh_timeout = Date.now() + 5000;\n",
       "    root._bokeh_failed_load = false;\n",
       "  }\n",
       "\n",
       "  var NB_LOAD_WARNING = {'data': {'text/html':\n",
       "     \"<div style='background-color: #fdd'>\\n\"+\n",
       "     \"<p>\\n\"+\n",
       "     \"BokehJS does not appear to have successfully loaded. If loading BokehJS from CDN, this \\n\"+\n",
       "     \"may be due to a slow or bad network connection. Possible fixes:\\n\"+\n",
       "     \"</p>\\n\"+\n",
       "     \"<ul>\\n\"+\n",
       "     \"<li>re-rerun `output_notebook()` to attempt to load from CDN again, or</li>\\n\"+\n",
       "     \"<li>use INLINE resources instead, as so:</li>\\n\"+\n",
       "     \"</ul>\\n\"+\n",
       "     \"<code>\\n\"+\n",
       "     \"from bokeh.resources import INLINE\\n\"+\n",
       "     \"output_notebook(resources=INLINE)\\n\"+\n",
       "     \"</code>\\n\"+\n",
       "     \"</div>\"}};\n",
       "\n",
       "  function display_loaded() {\n",
       "    var el = document.getElementById(\"a7c109f3-ef42-4e57-8bd2-140902c97cb6\");\n",
       "    if (el != null) {\n",
       "      el.textContent = \"BokehJS is loading...\";\n",
       "    }\n",
       "    if (root.Bokeh !== undefined) {\n",
       "      if (el != null) {\n",
       "        el.textContent = \"BokehJS \" + root.Bokeh.version + \" successfully loaded.\";\n",
       "      }\n",
       "    } else if (Date.now() < root._bokeh_timeout) {\n",
       "      setTimeout(display_loaded, 100)\n",
       "    }\n",
       "  }\n",
       "\n",
       "\n",
       "  function run_callbacks() {\n",
       "    try {\n",
       "      root._bokeh_onload_callbacks.forEach(function(callback) { callback() });\n",
       "    }\n",
       "    finally {\n",
       "      delete root._bokeh_onload_callbacks\n",
       "    }\n",
       "    console.info(\"Bokeh: all callbacks have finished\");\n",
       "  }\n",
       "\n",
       "  function load_libs(js_urls, callback) {\n",
       "    root._bokeh_onload_callbacks.push(callback);\n",
       "    if (root._bokeh_is_loading > 0) {\n",
       "      console.log(\"Bokeh: BokehJS is being loaded, scheduling callback at\", now());\n",
       "      return null;\n",
       "    }\n",
       "    if (js_urls == null || js_urls.length === 0) {\n",
       "      run_callbacks();\n",
       "      return null;\n",
       "    }\n",
       "    console.log(\"Bokeh: BokehJS not loaded, scheduling load and callback at\", now());\n",
       "    root._bokeh_is_loading = js_urls.length;\n",
       "    for (var i = 0; i < js_urls.length; i++) {\n",
       "      var url = js_urls[i];\n",
       "      var s = document.createElement('script');\n",
       "      s.src = url;\n",
       "      s.async = false;\n",
       "      s.onreadystatechange = s.onload = function() {\n",
       "        root._bokeh_is_loading--;\n",
       "        if (root._bokeh_is_loading === 0) {\n",
       "          console.log(\"Bokeh: all BokehJS libraries loaded\");\n",
       "          run_callbacks()\n",
       "        }\n",
       "      };\n",
       "      s.onerror = function() {\n",
       "        console.warn(\"failed to load library \" + url);\n",
       "      };\n",
       "      console.log(\"Bokeh: injecting script tag for BokehJS library: \", url);\n",
       "      document.getElementsByTagName(\"head\")[0].appendChild(s);\n",
       "    }\n",
       "  };var element = document.getElementById(\"a7c109f3-ef42-4e57-8bd2-140902c97cb6\");\n",
       "  if (element == null) {\n",
       "    console.log(\"Bokeh: ERROR: autoload.js configured with elementid 'a7c109f3-ef42-4e57-8bd2-140902c97cb6' but no matching script tag was found. \")\n",
       "    return false;\n",
       "  }\n",
       "\n",
       "  var js_urls = [\"https://cdn.pydata.org/bokeh/release/bokeh-0.12.15.min.js\", \"https://cdn.pydata.org/bokeh/release/bokeh-widgets-0.12.15.min.js\", \"https://cdn.pydata.org/bokeh/release/bokeh-tables-0.12.15.min.js\", \"https://cdn.pydata.org/bokeh/release/bokeh-gl-0.12.15.min.js\"];\n",
       "\n",
       "  var inline_js = [\n",
       "    function(Bokeh) {\n",
       "      Bokeh.set_log_level(\"info\");\n",
       "    },\n",
       "    \n",
       "    function(Bokeh) {\n",
       "      \n",
       "    },\n",
       "    function(Bokeh) {\n",
       "      console.log(\"Bokeh: injecting CSS: https://cdn.pydata.org/bokeh/release/bokeh-0.12.15.min.css\");\n",
       "      Bokeh.embed.inject_css(\"https://cdn.pydata.org/bokeh/release/bokeh-0.12.15.min.css\");\n",
       "      console.log(\"Bokeh: injecting CSS: https://cdn.pydata.org/bokeh/release/bokeh-widgets-0.12.15.min.css\");\n",
       "      Bokeh.embed.inject_css(\"https://cdn.pydata.org/bokeh/release/bokeh-widgets-0.12.15.min.css\");\n",
       "      console.log(\"Bokeh: injecting CSS: https://cdn.pydata.org/bokeh/release/bokeh-tables-0.12.15.min.css\");\n",
       "      Bokeh.embed.inject_css(\"https://cdn.pydata.org/bokeh/release/bokeh-tables-0.12.15.min.css\");\n",
       "    }\n",
       "  ];\n",
       "\n",
       "  function run_inline_js() {\n",
       "    \n",
       "    if ((root.Bokeh !== undefined) || (force === true)) {\n",
       "      for (var i = 0; i < inline_js.length; i++) {\n",
       "        inline_js[i].call(root, root.Bokeh);\n",
       "      }if (force === true) {\n",
       "        display_loaded();\n",
       "      }} else if (Date.now() < root._bokeh_timeout) {\n",
       "      setTimeout(run_inline_js, 100);\n",
       "    } else if (!root._bokeh_failed_load) {\n",
       "      console.log(\"Bokeh: BokehJS failed to load within specified timeout.\");\n",
       "      root._bokeh_failed_load = true;\n",
       "    } else if (force !== true) {\n",
       "      var cell = $(document.getElementById(\"a7c109f3-ef42-4e57-8bd2-140902c97cb6\")).parents('.cell').data().cell;\n",
       "      cell.output_area.append_execute_result(NB_LOAD_WARNING)\n",
       "    }\n",
       "\n",
       "  }\n",
       "\n",
       "  if (root._bokeh_is_loading === 0) {\n",
       "    console.log(\"Bokeh: BokehJS loaded, going straight to plotting\");\n",
       "    run_inline_js();\n",
       "  } else {\n",
       "    load_libs(js_urls, function() {\n",
       "      console.log(\"Bokeh: BokehJS plotting callback run at\", now());\n",
       "      run_inline_js();\n",
       "    });\n",
       "  }\n",
       "}(window));"
      ],
      "application/vnd.bokehjs_load.v0+json": "\n(function(root) {\n  function now() {\n    return new Date();\n  }\n\n  var force = true;\n\n  if (typeof (root._bokeh_onload_callbacks) === \"undefined\" || force === true) {\n    root._bokeh_onload_callbacks = [];\n    root._bokeh_is_loading = undefined;\n  }\n\n  \n\n  \n  if (typeof (root._bokeh_timeout) === \"undefined\" || force === true) {\n    root._bokeh_timeout = Date.now() + 5000;\n    root._bokeh_failed_load = false;\n  }\n\n  var NB_LOAD_WARNING = {'data': {'text/html':\n     \"<div style='background-color: #fdd'>\\n\"+\n     \"<p>\\n\"+\n     \"BokehJS does not appear to have successfully loaded. If loading BokehJS from CDN, this \\n\"+\n     \"may be due to a slow or bad network connection. Possible fixes:\\n\"+\n     \"</p>\\n\"+\n     \"<ul>\\n\"+\n     \"<li>re-rerun `output_notebook()` to attempt to load from CDN again, or</li>\\n\"+\n     \"<li>use INLINE resources instead, as so:</li>\\n\"+\n     \"</ul>\\n\"+\n     \"<code>\\n\"+\n     \"from bokeh.resources import INLINE\\n\"+\n     \"output_notebook(resources=INLINE)\\n\"+\n     \"</code>\\n\"+\n     \"</div>\"}};\n\n  function display_loaded() {\n    var el = document.getElementById(\"a7c109f3-ef42-4e57-8bd2-140902c97cb6\");\n    if (el != null) {\n      el.textContent = \"BokehJS is loading...\";\n    }\n    if (root.Bokeh !== undefined) {\n      if (el != null) {\n        el.textContent = \"BokehJS \" + root.Bokeh.version + \" successfully loaded.\";\n      }\n    } else if (Date.now() < root._bokeh_timeout) {\n      setTimeout(display_loaded, 100)\n    }\n  }\n\n\n  function run_callbacks() {\n    try {\n      root._bokeh_onload_callbacks.forEach(function(callback) { callback() });\n    }\n    finally {\n      delete root._bokeh_onload_callbacks\n    }\n    console.info(\"Bokeh: all callbacks have finished\");\n  }\n\n  function load_libs(js_urls, callback) {\n    root._bokeh_onload_callbacks.push(callback);\n    if (root._bokeh_is_loading > 0) {\n      console.log(\"Bokeh: BokehJS is being loaded, scheduling callback at\", now());\n      return null;\n    }\n    if (js_urls == null || js_urls.length === 0) {\n      run_callbacks();\n      return null;\n    }\n    console.log(\"Bokeh: BokehJS not loaded, scheduling load and callback at\", now());\n    root._bokeh_is_loading = js_urls.length;\n    for (var i = 0; i < js_urls.length; i++) {\n      var url = js_urls[i];\n      var s = document.createElement('script');\n      s.src = url;\n      s.async = false;\n      s.onreadystatechange = s.onload = function() {\n        root._bokeh_is_loading--;\n        if (root._bokeh_is_loading === 0) {\n          console.log(\"Bokeh: all BokehJS libraries loaded\");\n          run_callbacks()\n        }\n      };\n      s.onerror = function() {\n        console.warn(\"failed to load library \" + url);\n      };\n      console.log(\"Bokeh: injecting script tag for BokehJS library: \", url);\n      document.getElementsByTagName(\"head\")[0].appendChild(s);\n    }\n  };var element = document.getElementById(\"a7c109f3-ef42-4e57-8bd2-140902c97cb6\");\n  if (element == null) {\n    console.log(\"Bokeh: ERROR: autoload.js configured with elementid 'a7c109f3-ef42-4e57-8bd2-140902c97cb6' but no matching script tag was found. \")\n    return false;\n  }\n\n  var js_urls = [\"https://cdn.pydata.org/bokeh/release/bokeh-0.12.15.min.js\", \"https://cdn.pydata.org/bokeh/release/bokeh-widgets-0.12.15.min.js\", \"https://cdn.pydata.org/bokeh/release/bokeh-tables-0.12.15.min.js\", \"https://cdn.pydata.org/bokeh/release/bokeh-gl-0.12.15.min.js\"];\n\n  var inline_js = [\n    function(Bokeh) {\n      Bokeh.set_log_level(\"info\");\n    },\n    \n    function(Bokeh) {\n      \n    },\n    function(Bokeh) {\n      console.log(\"Bokeh: injecting CSS: https://cdn.pydata.org/bokeh/release/bokeh-0.12.15.min.css\");\n      Bokeh.embed.inject_css(\"https://cdn.pydata.org/bokeh/release/bokeh-0.12.15.min.css\");\n      console.log(\"Bokeh: injecting CSS: https://cdn.pydata.org/bokeh/release/bokeh-widgets-0.12.15.min.css\");\n      Bokeh.embed.inject_css(\"https://cdn.pydata.org/bokeh/release/bokeh-widgets-0.12.15.min.css\");\n      console.log(\"Bokeh: injecting CSS: https://cdn.pydata.org/bokeh/release/bokeh-tables-0.12.15.min.css\");\n      Bokeh.embed.inject_css(\"https://cdn.pydata.org/bokeh/release/bokeh-tables-0.12.15.min.css\");\n    }\n  ];\n\n  function run_inline_js() {\n    \n    if ((root.Bokeh !== undefined) || (force === true)) {\n      for (var i = 0; i < inline_js.length; i++) {\n        inline_js[i].call(root, root.Bokeh);\n      }if (force === true) {\n        display_loaded();\n      }} else if (Date.now() < root._bokeh_timeout) {\n      setTimeout(run_inline_js, 100);\n    } else if (!root._bokeh_failed_load) {\n      console.log(\"Bokeh: BokehJS failed to load within specified timeout.\");\n      root._bokeh_failed_load = true;\n    } else if (force !== true) {\n      var cell = $(document.getElementById(\"a7c109f3-ef42-4e57-8bd2-140902c97cb6\")).parents('.cell').data().cell;\n      cell.output_area.append_execute_result(NB_LOAD_WARNING)\n    }\n\n  }\n\n  if (root._bokeh_is_loading === 0) {\n    console.log(\"Bokeh: BokehJS loaded, going straight to plotting\");\n    run_inline_js();\n  } else {\n    load_libs(js_urls, function() {\n      console.log(\"Bokeh: BokehJS plotting callback run at\", now());\n      run_inline_js();\n    });\n  }\n}(window));"
     },
     "metadata": {},
     "output_type": "display_data"
    }
   ],
   "source": [
    "import bokeh.plotting, bokeh.models, bokeh.io, bokeh.palettes\n",
    "bokeh.io.output_notebook()"
   ]
  },
  {
   "cell_type": "markdown",
   "metadata": {},
   "source": [
    "We take the raw data from the statsmodels package:"
   ]
  },
  {
   "cell_type": "code",
   "execution_count": 4,
   "metadata": {},
   "outputs": [
    {
     "name": "stderr",
     "output_type": "stream",
     "text": [
      " /home/user/cs/local/install/Anaconda3-5.1.0-Linux-x86_64/lib/python3.6/site-packages/statsmodels/compat/pandas.py:56: FutureWarning:The pandas.core.datetools module is deprecated and will be removed in a future version. Please use the pandas.tseries module instead.\n"
     ]
    },
    {
     "name": "stdout",
     "output_type": "stream",
     "text": [
      "+-----+-----------------+\n",
      "| co2 | R Documentation |\n",
      "+-----+-----------------+\n",
      "\n",
      "Mauna Loa Atmospheric CO2 Concentration\n",
      "---------------------------------------\n",
      "\n",
      "Description\n",
      "~~~~~~~~~~~\n",
      "\n",
      "Atmospheric concentrations of CO\\ *2* are expressed in parts per million\n",
      "(ppm) and reported in the preliminary 1997 SIO manometric mole fraction\n",
      "scale.\n",
      "\n",
      "Usage\n",
      "~~~~~\n",
      "\n",
      "::\n",
      "\n",
      "    co2\n",
      "\n",
      "Format\n",
      "~~~~~~\n",
      "\n",
      "A time series of 468 observations; monthly from 1959 to 1997.\n",
      "\n",
      "Details\n",
      "~~~~~~~\n",
      "\n",
      "The values for February, March and April of 1964 were missing and have\n",
      "been obtained by interpolating linearly between the values for January\n",
      "and May of 1964.\n",
      "\n",
      "Source\n",
      "~~~~~~\n",
      "\n",
      "Keeling, C. D. and Whorf, T. P., Scripps Institution of Oceanography\n",
      "(SIO), University of California, La Jolla, California USA 92093-0220.\n",
      "\n",
      "ftp://cdiac.esd.ornl.gov/pub/maunaloa-co2/maunaloa.co2.\n",
      "\n",
      "References\n",
      "~~~~~~~~~~\n",
      "\n",
      "Cleveland, W. S. (1993) *Visualizing Data*. New Jersey: Summit Press.\n",
      "\n",
      "Examples\n",
      "~~~~~~~~\n",
      "\n",
      "::\n",
      "\n",
      "    require(graphics)\n",
      "    plot(co2, ylab = expression(\"Atmospheric concentration of CO\"[2]),\n",
      "         las = 1)\n",
      "    title(main = \"co2 data set\")\n",
      "\n"
     ]
    },
    {
     "data": {
      "text/html": [
       "<div>\n",
       "<style scoped>\n",
       "    .dataframe tbody tr th:only-of-type {\n",
       "        vertical-align: middle;\n",
       "    }\n",
       "\n",
       "    .dataframe tbody tr th {\n",
       "        vertical-align: top;\n",
       "    }\n",
       "\n",
       "    .dataframe thead th {\n",
       "        text-align: right;\n",
       "    }\n",
       "</style>\n",
       "<table border=\"1\" class=\"dataframe\">\n",
       "  <thead>\n",
       "    <tr style=\"text-align: right;\">\n",
       "      <th></th>\n",
       "      <th>time</th>\n",
       "      <th>value</th>\n",
       "    </tr>\n",
       "  </thead>\n",
       "  <tbody>\n",
       "    <tr>\n",
       "      <th>0</th>\n",
       "      <td>1959.000000</td>\n",
       "      <td>315.42</td>\n",
       "    </tr>\n",
       "    <tr>\n",
       "      <th>1</th>\n",
       "      <td>1959.083333</td>\n",
       "      <td>316.31</td>\n",
       "    </tr>\n",
       "    <tr>\n",
       "      <th>2</th>\n",
       "      <td>1959.166667</td>\n",
       "      <td>316.50</td>\n",
       "    </tr>\n",
       "    <tr>\n",
       "      <th>3</th>\n",
       "      <td>1959.250000</td>\n",
       "      <td>317.56</td>\n",
       "    </tr>\n",
       "    <tr>\n",
       "      <th>4</th>\n",
       "      <td>1959.333333</td>\n",
       "      <td>318.13</td>\n",
       "    </tr>\n",
       "  </tbody>\n",
       "</table>\n",
       "</div>"
      ],
      "text/plain": [
       "          time   value\n",
       "0  1959.000000  315.42\n",
       "1  1959.083333  316.31\n",
       "2  1959.166667  316.50\n",
       "3  1959.250000  317.56\n",
       "4  1959.333333  318.13"
      ]
     },
     "execution_count": 4,
     "metadata": {},
     "output_type": "execute_result"
    }
   ],
   "source": [
    "# The data used to be available at http://cdiac.esd.ornl.gov/ftp/trends/co2/maunaloa.co2, \n",
    "# but now it seems that more up-to-date data can be found at \n",
    "# ftp://ftp.cmdl.noaa.gov/ccg/co2/trends/co2_mm_mlo.txt\n",
    "\n",
    "import statsmodels.api as sm\n",
    "\n",
    "mauna_loa_atmospheric_CO2_concentration_data = sm.datasets.get_rdataset(\"CO2\")\n",
    "\n",
    "print(mauna_loa_atmospheric_CO2_concentration_data.__doc__)\n",
    "\n",
    "data1 = mauna_loa_atmospheric_CO2_concentration_data.data\n",
    "data1.head()"
   ]
  },
  {
   "cell_type": "markdown",
   "metadata": {},
   "source": [
    "We will make the data available in two formats, as row vectors as lower case x and y and as column vectors as upper case X and Y."
   ]
  },
  {
   "cell_type": "code",
   "execution_count": 5,
   "metadata": {},
   "outputs": [],
   "source": [
    "x = np.array(data1.time)\n",
    "y = np.array(data1.value)\n",
    "X = x.reshape(-1, 1)\n",
    "Y = y.reshape(-1, 1)"
   ]
  },
  {
   "cell_type": "code",
   "execution_count": 6,
   "metadata": {},
   "outputs": [
    {
     "data": {
      "text/html": [
       "\n",
       "<div class=\"bk-root\">\n",
       "    <div class=\"bk-plotdiv\" id=\"811c25a3-5373-4ec4-b836-867ff73f0b70\"></div>\n",
       "</div>"
      ]
     },
     "metadata": {},
     "output_type": "display_data"
    },
    {
     "data": {
      "application/javascript": [
       "(function(root) {\n",
       "  function embed_document(root) {\n",
       "    \n",
       "  var docs_json = {\"acf5ecea-2102-4d7a-b8c2-b06e4d422f11\":{\"roots\":{\"references\":[{\"attributes\":{},\"id\":\"39bae464-43c1-4650-8c1c-c2e5a485aa34\",\"type\":\"ResetTool\"},{\"attributes\":{\"active_drag\":\"auto\",\"active_inspect\":\"auto\",\"active_scroll\":\"auto\",\"active_tap\":\"auto\",\"tools\":[{\"id\":\"7d93cc8d-5fcc-4000-b8e6-fa53d316471a\",\"type\":\"PanTool\"},{\"id\":\"b29a64ec-244e-4472-8a1c-ca0be8e39f91\",\"type\":\"WheelZoomTool\"},{\"id\":\"62129f3b-3e43-4b9c-805d-ccf0a014d635\",\"type\":\"BoxZoomTool\"},{\"id\":\"b22c22d3-d14d-497e-8c0a-06feb7475abb\",\"type\":\"SaveTool\"},{\"id\":\"39bae464-43c1-4650-8c1c-c2e5a485aa34\",\"type\":\"ResetTool\"},{\"id\":\"e26e4e45-5cc9-40e9-a41c-a8c9d09eb946\",\"type\":\"HelpTool\"}]},\"id\":\"f030d465-c59e-466d-96dd-31cd70f33f36\",\"type\":\"Toolbar\"},{\"attributes\":{},\"id\":\"b22c22d3-d14d-497e-8c0a-06feb7475abb\",\"type\":\"SaveTool\"},{\"attributes\":{\"bottom_units\":\"screen\",\"fill_alpha\":{\"value\":0.5},\"fill_color\":{\"value\":\"lightgrey\"},\"left_units\":\"screen\",\"level\":\"overlay\",\"line_alpha\":{\"value\":1.0},\"line_color\":{\"value\":\"black\"},\"line_dash\":[4,4],\"line_width\":{\"value\":2},\"plot\":null,\"render_mode\":\"css\",\"right_units\":\"screen\",\"top_units\":\"screen\"},\"id\":\"cdb8988e-60a7-4525-b643-9874d29b9e26\",\"type\":\"BoxAnnotation\"},{\"attributes\":{\"overlay\":{\"id\":\"cdb8988e-60a7-4525-b643-9874d29b9e26\",\"type\":\"BoxAnnotation\"}},\"id\":\"62129f3b-3e43-4b9c-805d-ccf0a014d635\",\"type\":\"BoxZoomTool\"},{\"attributes\":{\"dimension\":1,\"plot\":{\"id\":\"3c7dbff7-64d5-4c06-9938-622df0f921f2\",\"subtype\":\"Figure\",\"type\":\"Plot\"},\"ticker\":{\"id\":\"863e4b1d-224f-4ea4-8051-d3ce5d4790b7\",\"type\":\"BasicTicker\"}},\"id\":\"f5ec0f51-9de8-4bec-8fbe-910ce2924356\",\"type\":\"Grid\"},{\"attributes\":{},\"id\":\"b29a64ec-244e-4472-8a1c-ca0be8e39f91\",\"type\":\"WheelZoomTool\"},{\"attributes\":{\"callback\":null},\"id\":\"1eb7b537-3854-4efb-81fb-e4bf87d82284\",\"type\":\"DataRange1d\"},{\"attributes\":{\"source\":{\"id\":\"d659b085-dde0-4dd9-bf0c-5f42cdf5e9ae\",\"type\":\"ColumnDataSource\"}},\"id\":\"c2f0a939-287a-4db9-aed1-1e201e45001b\",\"type\":\"CDSView\"},{\"attributes\":{\"plot\":null,\"text\":\"Fit to the Mauna Loa Data\"},\"id\":\"c9eee837-3caf-4a04-b60d-1694eacaaebb\",\"type\":\"Title\"},{\"attributes\":{},\"id\":\"7d93cc8d-5fcc-4000-b8e6-fa53d316471a\",\"type\":\"PanTool\"},{\"attributes\":{\"data_source\":{\"id\":\"d659b085-dde0-4dd9-bf0c-5f42cdf5e9ae\",\"type\":\"ColumnDataSource\"},\"glyph\":{\"id\":\"15d31e55-c78f-4e83-af40-2bd224f89403\",\"type\":\"Circle\"},\"hover_glyph\":null,\"muted_glyph\":null,\"nonselection_glyph\":{\"id\":\"d0323e11-94a5-45a0-aeb7-2c9267e7177b\",\"type\":\"Circle\"},\"selection_glyph\":null,\"view\":{\"id\":\"c2f0a939-287a-4db9-aed1-1e201e45001b\",\"type\":\"CDSView\"}},\"id\":\"f1e4c0e4-8619-47b3-ba7e-431d6196fbbe\",\"type\":\"GlyphRenderer\"},{\"attributes\":{\"fill_color\":{\"value\":\"black\"},\"x\":{\"field\":\"x\"},\"y\":{\"field\":\"y\"}},\"id\":\"15d31e55-c78f-4e83-af40-2bd224f89403\",\"type\":\"Circle\"},{\"attributes\":{\"callback\":null,\"column_names\":[\"x\",\"y\"],\"data\":{\"x\":{\"__ndarray__\":\"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\",\"dtype\":\"float64\",\"shape\":[468]},\"y\":{\"__ndarray__\":\"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\",\"dtype\":\"float64\",\"shape\":[468]}},\"selected\":null,\"selection_policy\":null},\"id\":\"d659b085-dde0-4dd9-bf0c-5f42cdf5e9ae\",\"type\":\"ColumnDataSource\"},{\"attributes\":{\"fill_alpha\":{\"value\":0.1},\"fill_color\":{\"value\":\"#1f77b4\"},\"line_alpha\":{\"value\":0.1},\"line_color\":{\"value\":\"#1f77b4\"},\"x\":{\"field\":\"x\"},\"y\":{\"field\":\"y\"}},\"id\":\"d0323e11-94a5-45a0-aeb7-2c9267e7177b\",\"type\":\"Circle\"},{\"attributes\":{\"below\":[{\"id\":\"a5c2e589-b21c-45e6-aa91-65237658bd2d\",\"type\":\"LinearAxis\"}],\"left\":[{\"id\":\"7ca12394-da3c-43e0-a75e-b71e0c8951e0\",\"type\":\"LinearAxis\"}],\"plot_width\":900,\"renderers\":[{\"id\":\"a5c2e589-b21c-45e6-aa91-65237658bd2d\",\"type\":\"LinearAxis\"},{\"id\":\"a1180c51-922a-439a-9380-36ac25e5d3f1\",\"type\":\"Grid\"},{\"id\":\"7ca12394-da3c-43e0-a75e-b71e0c8951e0\",\"type\":\"LinearAxis\"},{\"id\":\"f5ec0f51-9de8-4bec-8fbe-910ce2924356\",\"type\":\"Grid\"},{\"id\":\"cdb8988e-60a7-4525-b643-9874d29b9e26\",\"type\":\"BoxAnnotation\"},{\"id\":\"8257569e-8047-4def-af58-4f0948c6b721\",\"type\":\"Legend\"},{\"id\":\"f1e4c0e4-8619-47b3-ba7e-431d6196fbbe\",\"type\":\"GlyphRenderer\"}],\"title\":{\"id\":\"c9eee837-3caf-4a04-b60d-1694eacaaebb\",\"type\":\"Title\"},\"toolbar\":{\"id\":\"f030d465-c59e-466d-96dd-31cd70f33f36\",\"type\":\"Toolbar\"},\"x_range\":{\"id\":\"1eb7b537-3854-4efb-81fb-e4bf87d82284\",\"type\":\"DataRange1d\"},\"x_scale\":{\"id\":\"6776315c-6686-443d-a9c9-1ee0355d3683\",\"type\":\"LinearScale\"},\"y_range\":{\"id\":\"5a096b5d-d4a9-4f8b-87e4-c63367ff0c66\",\"type\":\"DataRange1d\"},\"y_scale\":{\"id\":\"49bde042-81ab-4bf9-9b12-e8190766b02b\",\"type\":\"LinearScale\"}},\"id\":\"3c7dbff7-64d5-4c06-9938-622df0f921f2\",\"subtype\":\"Figure\",\"type\":\"Plot\"},{\"attributes\":{},\"id\":\"863e4b1d-224f-4ea4-8051-d3ce5d4790b7\",\"type\":\"BasicTicker\"},{\"attributes\":{\"axis_label\":\"CO2 [ppm]\",\"formatter\":{\"id\":\"6170e358-118d-4d8b-94d8-a459a29015c4\",\"type\":\"BasicTickFormatter\"},\"plot\":{\"id\":\"3c7dbff7-64d5-4c06-9938-622df0f921f2\",\"subtype\":\"Figure\",\"type\":\"Plot\"},\"ticker\":{\"id\":\"863e4b1d-224f-4ea4-8051-d3ce5d4790b7\",\"type\":\"BasicTicker\"}},\"id\":\"7ca12394-da3c-43e0-a75e-b71e0c8951e0\",\"type\":\"LinearAxis\"},{\"attributes\":{\"items\":[{\"id\":\"66a73886-f32b-42aa-834e-0d533749c871\",\"type\":\"LegendItem\"}],\"location\":\"top_left\",\"plot\":{\"id\":\"3c7dbff7-64d5-4c06-9938-622df0f921f2\",\"subtype\":\"Figure\",\"type\":\"Plot\"}},\"id\":\"8257569e-8047-4def-af58-4f0948c6b721\",\"type\":\"Legend\"},{\"attributes\":{\"plot\":{\"id\":\"3c7dbff7-64d5-4c06-9938-622df0f921f2\",\"subtype\":\"Figure\",\"type\":\"Plot\"},\"ticker\":{\"id\":\"1c35ddea-195f-4aba-958a-964dd8ebfa1d\",\"type\":\"BasicTicker\"}},\"id\":\"a1180c51-922a-439a-9380-36ac25e5d3f1\",\"type\":\"Grid\"},{\"attributes\":{},\"id\":\"1c35ddea-195f-4aba-958a-964dd8ebfa1d\",\"type\":\"BasicTicker\"},{\"attributes\":{\"axis_label\":\"Date\",\"formatter\":{\"id\":\"a770099e-fc86-4587-a1b6-b6c1f43447cb\",\"type\":\"BasicTickFormatter\"},\"plot\":{\"id\":\"3c7dbff7-64d5-4c06-9938-622df0f921f2\",\"subtype\":\"Figure\",\"type\":\"Plot\"},\"ticker\":{\"id\":\"1c35ddea-195f-4aba-958a-964dd8ebfa1d\",\"type\":\"BasicTicker\"}},\"id\":\"a5c2e589-b21c-45e6-aa91-65237658bd2d\",\"type\":\"LinearAxis\"},{\"attributes\":{},\"id\":\"6170e358-118d-4d8b-94d8-a459a29015c4\",\"type\":\"BasicTickFormatter\"},{\"attributes\":{},\"id\":\"a770099e-fc86-4587-a1b6-b6c1f43447cb\",\"type\":\"BasicTickFormatter\"},{\"attributes\":{},\"id\":\"49bde042-81ab-4bf9-9b12-e8190766b02b\",\"type\":\"LinearScale\"},{\"attributes\":{\"label\":{\"value\":\"Observed data\"},\"renderers\":[{\"id\":\"f1e4c0e4-8619-47b3-ba7e-431d6196fbbe\",\"type\":\"GlyphRenderer\"}]},\"id\":\"66a73886-f32b-42aa-834e-0d533749c871\",\"type\":\"LegendItem\"},{\"attributes\":{\"callback\":null},\"id\":\"5a096b5d-d4a9-4f8b-87e4-c63367ff0c66\",\"type\":\"DataRange1d\"},{\"attributes\":{},\"id\":\"6776315c-6686-443d-a9c9-1ee0355d3683\",\"type\":\"LinearScale\"},{\"attributes\":{},\"id\":\"e26e4e45-5cc9-40e9-a41c-a8c9d09eb946\",\"type\":\"HelpTool\"}],\"root_ids\":[\"3c7dbff7-64d5-4c06-9938-622df0f921f2\"]},\"title\":\"Bokeh Application\",\"version\":\"0.12.15\"}};\n",
       "  var render_items = [{\"docid\":\"acf5ecea-2102-4d7a-b8c2-b06e4d422f11\",\"elementid\":\"811c25a3-5373-4ec4-b836-867ff73f0b70\",\"modelid\":\"3c7dbff7-64d5-4c06-9938-622df0f921f2\"}];\n",
       "  root.Bokeh.embed.embed_items_notebook(docs_json, render_items);\n",
       "\n",
       "  }\n",
       "  if (root.Bokeh !== undefined) {\n",
       "    embed_document(root);\n",
       "  } else {\n",
       "    var attempts = 0;\n",
       "    var timer = setInterval(function(root) {\n",
       "      if (root.Bokeh !== undefined) {\n",
       "        embed_document(root);\n",
       "        clearInterval(timer);\n",
       "      }\n",
       "      attempts++;\n",
       "      if (attempts > 100) {\n",
       "        console.log(\"Bokeh: ERROR: Unable to run BokehJS code because BokehJS library is missing\")\n",
       "        clearInterval(timer);\n",
       "      }\n",
       "    }, 10, root)\n",
       "  }\n",
       "})(window);"
      ],
      "application/vnd.bokehjs_exec.v0+json": ""
     },
     "metadata": {
      "application/vnd.bokehjs_exec.v0+json": {
       "id": "3c7dbff7-64d5-4c06-9938-622df0f921f2"
      }
     },
     "output_type": "display_data"
    }
   ],
   "source": [
    "p = bokeh.plotting.figure(title=\"Fit to the Mauna Loa Data\", #x_axis_type='datetime', \n",
    "                          plot_width=900, plot_height=600)\n",
    "p.yaxis.axis_label = 'CO2 [ppm]'\n",
    "p.xaxis.axis_label = 'Date'\n",
    "\n",
    "# true value\n",
    "p.circle(x, y, color=\"black\", legend=\"Observed data\")\n",
    "p.legend.location = \"top_left\"\n",
    "bokeh.plotting.show(p)"
   ]
  },
  {
   "cell_type": "markdown",
   "metadata": {},
   "source": [
    "Please use the GUI elements on the right top of the graph for moving and zooming into the graph."
   ]
  },
  {
   "cell_type": "markdown",
   "metadata": {},
   "source": [
    "As GPflow performs some optimization procedure to find the best fit parameters we will set-up the different aspects of the kernel functions with good starting points taken from [chapter 5](http://www.gaussianprocess.org/gpml/chapters/RW5.pdf) of [Gaussian Processes for Machine Learning](http://www.gaussianprocess.org/gpml/chapters/). In principle you could use arbitrary starting point values and it is the job of GPflow to find the best fit parameters."
   ]
  },
  {
   "cell_type": "markdown",
   "metadata": {},
   "source": [
    "As in [chapter 5](http://www.gaussianprocess.org/gpml/chapters/RW5.pdf) of [Gaussian Processes for Machine Learning](http://www.gaussianprocess.org/gpml/chapters/) we create the total fit as an additive composition of different aspects. \n",
    "\n",
    "* $k_1$ models a long term trend. \n",
    "* $k_2$ models the seasonal variation due to the vegetation changes due to the seasons in the northern hemisphere. \n",
    "* $k_3$ I will not include, as GPflow does not provide out of the box a rational quadratic kernel function. But we will see that this does not hurt us too much. \n",
    "* $k_4$ finally is the short term variations plus some \"white noise\". \n",
    "\n",
    "To be honest, I am not sure why $k_4$ includes the white noise at all, because in principle the gaussian process provides this white noise by default via the $\\sigma_n$ parameter (see [Gaussian Process Parameter Effects](https://github.com/cs224/dev-meetup-gaussian-processes) for details), which is called `m.likelihood.variance` in GPflow."
   ]
  },
  {
   "cell_type": "code",
   "execution_count": 7,
   "metadata": {},
   "outputs": [],
   "source": [
    "k1_ = gpflow.kernels.RBF(1, variance=(66.0 ** 2), lengthscales=67.0)\n",
    "k2_exp_sine_squred_gamma= 2.0 / 1.3 ** 2.0\n",
    "k2_exp_sine_squred_period = 1.0\n",
    "k2_ = gpflow.kernels.RBF(1, variance=(2.4 ** 2.0), lengthscales=90.0) * gpflow.kernels.Periodic(1, period=k2_exp_sine_squred_period, variance=1.0,  lengthscales=1.0/k2_exp_sine_squred_gamma)\n",
    "# k3 = how to do a rational quadratic term in GPflow?\n",
    "k4_ = gpflow.kernels.RBF(1, variance=(0.18 ** 2), lengthscales=1.6) + gpflow.kernels.White(1, variance=0.19)\n",
    "k1 = k1_\n",
    "k2 = k2_\n",
    "k4 = k4_\n",
    "kernel = k1 + k2 + k4\n",
    "k_ = kernel"
   ]
  },
  {
   "cell_type": "code",
   "execution_count": 8,
   "metadata": {},
   "outputs": [
    {
     "name": "stderr",
     "output_type": "stream",
     "text": [
      " /home/user/cs/local/install/Anaconda3-5.1.0-Linux-x86_64/lib/python3.6/site-packages/gpflow/densities.py:89: UserWarning:Shape of x must be 2D at computation.\n"
     ]
    },
    {
     "data": {
      "text/html": [
       "<div>\n",
       "<style scoped>\n",
       "    .dataframe tbody tr th:only-of-type {\n",
       "        vertical-align: middle;\n",
       "    }\n",
       "\n",
       "    .dataframe tbody tr th {\n",
       "        vertical-align: top;\n",
       "    }\n",
       "\n",
       "    .dataframe thead th {\n",
       "        text-align: right;\n",
       "    }\n",
       "</style>\n",
       "<table border=\"1\" class=\"dataframe\">\n",
       "  <thead>\n",
       "    <tr style=\"text-align: right;\">\n",
       "      <th></th>\n",
       "      <th>class</th>\n",
       "      <th>prior</th>\n",
       "      <th>transform</th>\n",
       "      <th>trainable</th>\n",
       "      <th>shape</th>\n",
       "      <th>fixed_shape</th>\n",
       "      <th>value</th>\n",
       "    </tr>\n",
       "  </thead>\n",
       "  <tbody>\n",
       "    <tr>\n",
       "      <th>GPR/kern/rbf_1/variance</th>\n",
       "      <td>Parameter</td>\n",
       "      <td>None</td>\n",
       "      <td>+ve</td>\n",
       "      <td>True</td>\n",
       "      <td>()</td>\n",
       "      <td>True</td>\n",
       "      <td>4356.0</td>\n",
       "    </tr>\n",
       "    <tr>\n",
       "      <th>GPR/kern/rbf_1/lengthscales</th>\n",
       "      <td>Parameter</td>\n",
       "      <td>None</td>\n",
       "      <td>+ve</td>\n",
       "      <td>True</td>\n",
       "      <td>()</td>\n",
       "      <td>True</td>\n",
       "      <td>67.0</td>\n",
       "    </tr>\n",
       "    <tr>\n",
       "      <th>GPR/kern/product/rbf/variance</th>\n",
       "      <td>Parameter</td>\n",
       "      <td>None</td>\n",
       "      <td>+ve</td>\n",
       "      <td>True</td>\n",
       "      <td>()</td>\n",
       "      <td>True</td>\n",
       "      <td>5.76</td>\n",
       "    </tr>\n",
       "    <tr>\n",
       "      <th>GPR/kern/product/rbf/lengthscales</th>\n",
       "      <td>Parameter</td>\n",
       "      <td>None</td>\n",
       "      <td>+ve</td>\n",
       "      <td>True</td>\n",
       "      <td>()</td>\n",
       "      <td>True</td>\n",
       "      <td>90.0</td>\n",
       "    </tr>\n",
       "    <tr>\n",
       "      <th>GPR/kern/product/periodic/variance</th>\n",
       "      <td>Parameter</td>\n",
       "      <td>None</td>\n",
       "      <td>+ve</td>\n",
       "      <td>True</td>\n",
       "      <td>()</td>\n",
       "      <td>True</td>\n",
       "      <td>1.0</td>\n",
       "    </tr>\n",
       "    <tr>\n",
       "      <th>GPR/kern/product/periodic/lengthscales</th>\n",
       "      <td>Parameter</td>\n",
       "      <td>None</td>\n",
       "      <td>+ve</td>\n",
       "      <td>True</td>\n",
       "      <td>()</td>\n",
       "      <td>True</td>\n",
       "      <td>0.8450000000000001</td>\n",
       "    </tr>\n",
       "    <tr>\n",
       "      <th>GPR/kern/product/periodic/period</th>\n",
       "      <td>Parameter</td>\n",
       "      <td>None</td>\n",
       "      <td>+ve</td>\n",
       "      <td>True</td>\n",
       "      <td>()</td>\n",
       "      <td>True</td>\n",
       "      <td>1.0</td>\n",
       "    </tr>\n",
       "    <tr>\n",
       "      <th>GPR/kern/rbf_2/variance</th>\n",
       "      <td>Parameter</td>\n",
       "      <td>None</td>\n",
       "      <td>+ve</td>\n",
       "      <td>True</td>\n",
       "      <td>()</td>\n",
       "      <td>True</td>\n",
       "      <td>0.0324</td>\n",
       "    </tr>\n",
       "    <tr>\n",
       "      <th>GPR/kern/rbf_2/lengthscales</th>\n",
       "      <td>Parameter</td>\n",
       "      <td>None</td>\n",
       "      <td>+ve</td>\n",
       "      <td>True</td>\n",
       "      <td>()</td>\n",
       "      <td>True</td>\n",
       "      <td>1.6</td>\n",
       "    </tr>\n",
       "    <tr>\n",
       "      <th>GPR/kern/white/variance</th>\n",
       "      <td>Parameter</td>\n",
       "      <td>None</td>\n",
       "      <td>+ve</td>\n",
       "      <td>True</td>\n",
       "      <td>()</td>\n",
       "      <td>True</td>\n",
       "      <td>0.19</td>\n",
       "    </tr>\n",
       "    <tr>\n",
       "      <th>GPR/likelihood/variance</th>\n",
       "      <td>Parameter</td>\n",
       "      <td>None</td>\n",
       "      <td>+ve</td>\n",
       "      <td>True</td>\n",
       "      <td>()</td>\n",
       "      <td>True</td>\n",
       "      <td>0.01</td>\n",
       "    </tr>\n",
       "  </tbody>\n",
       "</table>\n",
       "</div>"
      ],
      "text/plain": [
       "                                            class prior transform  trainable  \\\n",
       "GPR/kern/rbf_1/variance                 Parameter  None       +ve       True   \n",
       "GPR/kern/rbf_1/lengthscales             Parameter  None       +ve       True   \n",
       "GPR/kern/product/rbf/variance           Parameter  None       +ve       True   \n",
       "GPR/kern/product/rbf/lengthscales       Parameter  None       +ve       True   \n",
       "GPR/kern/product/periodic/variance      Parameter  None       +ve       True   \n",
       "GPR/kern/product/periodic/lengthscales  Parameter  None       +ve       True   \n",
       "GPR/kern/product/periodic/period        Parameter  None       +ve       True   \n",
       "GPR/kern/rbf_2/variance                 Parameter  None       +ve       True   \n",
       "GPR/kern/rbf_2/lengthscales             Parameter  None       +ve       True   \n",
       "GPR/kern/white/variance                 Parameter  None       +ve       True   \n",
       "GPR/likelihood/variance                 Parameter  None       +ve       True   \n",
       "\n",
       "                                       shape  fixed_shape               value  \n",
       "GPR/kern/rbf_1/variance                   ()         True              4356.0  \n",
       "GPR/kern/rbf_1/lengthscales               ()         True                67.0  \n",
       "GPR/kern/product/rbf/variance             ()         True                5.76  \n",
       "GPR/kern/product/rbf/lengthscales         ()         True                90.0  \n",
       "GPR/kern/product/periodic/variance        ()         True                 1.0  \n",
       "GPR/kern/product/periodic/lengthscales    ()         True  0.8450000000000001  \n",
       "GPR/kern/product/periodic/period          ()         True                 1.0  \n",
       "GPR/kern/rbf_2/variance                   ()         True              0.0324  \n",
       "GPR/kern/rbf_2/lengthscales               ()         True                 1.6  \n",
       "GPR/kern/white/variance                   ()         True                0.19  \n",
       "GPR/likelihood/variance                   ()         True                0.01  "
      ]
     },
     "execution_count": 8,
     "metadata": {},
     "output_type": "execute_result"
    }
   ],
   "source": [
    "m = gpflow.models.GPR(X, Y, kern=kernel)\n",
    "m.likelihood.variance = 0.01\n",
    "m.as_pandas_table()"
   ]
  },
  {
   "cell_type": "code",
   "execution_count": 9,
   "metadata": {},
   "outputs": [
    {
     "name": "stdout",
     "output_type": "stream",
     "text": [
      "INFO:tensorflow:Optimization terminated with:\n",
      "  Message: b'ABNORMAL_TERMINATION_IN_LNSRCH'\n",
      "  Objective function value: 129.032563\n",
      "  Number of iterations: 138\n",
      "  Number of functions evaluations: 210\n",
      "CPU times: user 5.03 s, sys: 671 ms, total: 5.7 s\n",
      "Wall time: 3.72 s\n"
     ]
    }
   ],
   "source": [
    "%%time\n",
    "opt = gpflow.train.ScipyOptimizer()\n",
    "opt.minimize(m)"
   ]
  },
  {
   "cell_type": "code",
   "execution_count": 10,
   "metadata": {},
   "outputs": [
    {
     "data": {
      "text/html": [
       "<div>\n",
       "<style scoped>\n",
       "    .dataframe tbody tr th:only-of-type {\n",
       "        vertical-align: middle;\n",
       "    }\n",
       "\n",
       "    .dataframe tbody tr th {\n",
       "        vertical-align: top;\n",
       "    }\n",
       "\n",
       "    .dataframe thead th {\n",
       "        text-align: right;\n",
       "    }\n",
       "</style>\n",
       "<table border=\"1\" class=\"dataframe\">\n",
       "  <thead>\n",
       "    <tr style=\"text-align: right;\">\n",
       "      <th></th>\n",
       "      <th>class</th>\n",
       "      <th>prior</th>\n",
       "      <th>transform</th>\n",
       "      <th>trainable</th>\n",
       "      <th>shape</th>\n",
       "      <th>fixed_shape</th>\n",
       "      <th>value</th>\n",
       "    </tr>\n",
       "  </thead>\n",
       "  <tbody>\n",
       "    <tr>\n",
       "      <th>GPR/kern/rbf_1/variance</th>\n",
       "      <td>Parameter</td>\n",
       "      <td>None</td>\n",
       "      <td>+ve</td>\n",
       "      <td>True</td>\n",
       "      <td>()</td>\n",
       "      <td>True</td>\n",
       "      <td>4356.219066727382</td>\n",
       "    </tr>\n",
       "    <tr>\n",
       "      <th>GPR/kern/rbf_1/lengthscales</th>\n",
       "      <td>Parameter</td>\n",
       "      <td>None</td>\n",
       "      <td>+ve</td>\n",
       "      <td>True</td>\n",
       "      <td>()</td>\n",
       "      <td>True</td>\n",
       "      <td>48.56594619483027</td>\n",
       "    </tr>\n",
       "    <tr>\n",
       "      <th>GPR/kern/product/rbf/variance</th>\n",
       "      <td>Parameter</td>\n",
       "      <td>None</td>\n",
       "      <td>+ve</td>\n",
       "      <td>True</td>\n",
       "      <td>()</td>\n",
       "      <td>True</td>\n",
       "      <td>5.637683700856834</td>\n",
       "    </tr>\n",
       "    <tr>\n",
       "      <th>GPR/kern/product/rbf/lengthscales</th>\n",
       "      <td>Parameter</td>\n",
       "      <td>None</td>\n",
       "      <td>+ve</td>\n",
       "      <td>True</td>\n",
       "      <td>()</td>\n",
       "      <td>True</td>\n",
       "      <td>91.88721945135256</td>\n",
       "    </tr>\n",
       "    <tr>\n",
       "      <th>GPR/kern/product/periodic/variance</th>\n",
       "      <td>Parameter</td>\n",
       "      <td>None</td>\n",
       "      <td>+ve</td>\n",
       "      <td>True</td>\n",
       "      <td>()</td>\n",
       "      <td>True</td>\n",
       "      <td>1.0272708800096328</td>\n",
       "    </tr>\n",
       "    <tr>\n",
       "      <th>GPR/kern/product/periodic/lengthscales</th>\n",
       "      <td>Parameter</td>\n",
       "      <td>None</td>\n",
       "      <td>+ve</td>\n",
       "      <td>True</td>\n",
       "      <td>()</td>\n",
       "      <td>True</td>\n",
       "      <td>0.6709921661743454</td>\n",
       "    </tr>\n",
       "    <tr>\n",
       "      <th>GPR/kern/product/periodic/period</th>\n",
       "      <td>Parameter</td>\n",
       "      <td>None</td>\n",
       "      <td>+ve</td>\n",
       "      <td>True</td>\n",
       "      <td>()</td>\n",
       "      <td>True</td>\n",
       "      <td>0.9997023993127501</td>\n",
       "    </tr>\n",
       "    <tr>\n",
       "      <th>GPR/kern/rbf_2/variance</th>\n",
       "      <td>Parameter</td>\n",
       "      <td>None</td>\n",
       "      <td>+ve</td>\n",
       "      <td>True</td>\n",
       "      <td>()</td>\n",
       "      <td>True</td>\n",
       "      <td>0.1604335253636476</td>\n",
       "    </tr>\n",
       "    <tr>\n",
       "      <th>GPR/kern/rbf_2/lengthscales</th>\n",
       "      <td>Parameter</td>\n",
       "      <td>None</td>\n",
       "      <td>+ve</td>\n",
       "      <td>True</td>\n",
       "      <td>()</td>\n",
       "      <td>True</td>\n",
       "      <td>0.3275299772519137</td>\n",
       "    </tr>\n",
       "    <tr>\n",
       "      <th>GPR/kern/white/variance</th>\n",
       "      <td>Parameter</td>\n",
       "      <td>None</td>\n",
       "      <td>+ve</td>\n",
       "      <td>True</td>\n",
       "      <td>()</td>\n",
       "      <td>True</td>\n",
       "      <td>0.03261433565644494</td>\n",
       "    </tr>\n",
       "    <tr>\n",
       "      <th>GPR/likelihood/variance</th>\n",
       "      <td>Parameter</td>\n",
       "      <td>None</td>\n",
       "      <td>+ve</td>\n",
       "      <td>True</td>\n",
       "      <td>()</td>\n",
       "      <td>True</td>\n",
       "      <td>0.009561763817922439</td>\n",
       "    </tr>\n",
       "  </tbody>\n",
       "</table>\n",
       "</div>"
      ],
      "text/plain": [
       "                                            class prior transform  trainable  \\\n",
       "GPR/kern/rbf_1/variance                 Parameter  None       +ve       True   \n",
       "GPR/kern/rbf_1/lengthscales             Parameter  None       +ve       True   \n",
       "GPR/kern/product/rbf/variance           Parameter  None       +ve       True   \n",
       "GPR/kern/product/rbf/lengthscales       Parameter  None       +ve       True   \n",
       "GPR/kern/product/periodic/variance      Parameter  None       +ve       True   \n",
       "GPR/kern/product/periodic/lengthscales  Parameter  None       +ve       True   \n",
       "GPR/kern/product/periodic/period        Parameter  None       +ve       True   \n",
       "GPR/kern/rbf_2/variance                 Parameter  None       +ve       True   \n",
       "GPR/kern/rbf_2/lengthscales             Parameter  None       +ve       True   \n",
       "GPR/kern/white/variance                 Parameter  None       +ve       True   \n",
       "GPR/likelihood/variance                 Parameter  None       +ve       True   \n",
       "\n",
       "                                       shape  fixed_shape  \\\n",
       "GPR/kern/rbf_1/variance                   ()         True   \n",
       "GPR/kern/rbf_1/lengthscales               ()         True   \n",
       "GPR/kern/product/rbf/variance             ()         True   \n",
       "GPR/kern/product/rbf/lengthscales         ()         True   \n",
       "GPR/kern/product/periodic/variance        ()         True   \n",
       "GPR/kern/product/periodic/lengthscales    ()         True   \n",
       "GPR/kern/product/periodic/period          ()         True   \n",
       "GPR/kern/rbf_2/variance                   ()         True   \n",
       "GPR/kern/rbf_2/lengthscales               ()         True   \n",
       "GPR/kern/white/variance                   ()         True   \n",
       "GPR/likelihood/variance                   ()         True   \n",
       "\n",
       "                                                       value  \n",
       "GPR/kern/rbf_1/variance                    4356.219066727382  \n",
       "GPR/kern/rbf_1/lengthscales                48.56594619483027  \n",
       "GPR/kern/product/rbf/variance              5.637683700856834  \n",
       "GPR/kern/product/rbf/lengthscales          91.88721945135256  \n",
       "GPR/kern/product/periodic/variance        1.0272708800096328  \n",
       "GPR/kern/product/periodic/lengthscales    0.6709921661743454  \n",
       "GPR/kern/product/periodic/period          0.9997023993127501  \n",
       "GPR/kern/rbf_2/variance                   0.1604335253636476  \n",
       "GPR/kern/rbf_2/lengthscales               0.3275299772519137  \n",
       "GPR/kern/white/variance                  0.03261433565644494  \n",
       "GPR/likelihood/variance                 0.009561763817922439  "
      ]
     },
     "execution_count": 10,
     "metadata": {},
     "output_type": "execute_result"
    }
   ],
   "source": [
    "m.as_pandas_table()"
   ]
  },
  {
   "cell_type": "markdown",
   "metadata": {},
   "source": [
    "Let's create a visualization of the fitted overall model. I will only plot the fit between 1990 and 2000, to on the one hand show how nicely the regression curve fits the existing data points and to show how gaussian processes can be used to predict the near term future behaviour together with some confidence interval."
   ]
  },
  {
   "cell_type": "code",
   "execution_count": 11,
   "metadata": {},
   "outputs": [],
   "source": [
    "xx = np.linspace(1990, 2000, 1000).reshape(-1,1)"
   ]
  },
  {
   "cell_type": "code",
   "execution_count": 12,
   "metadata": {},
   "outputs": [],
   "source": [
    "def plot(m, with_data=True):\n",
    "    if not isinstance(m, list):\n",
    "        m = [m]\n",
    "    predictions = [model.predict_y(xx) for model in m]\n",
    "    \n",
    "    p = bokeh.plotting.figure(title=\"Fit to the Mauna Loa Data\", #x_axis_type='datetime', \n",
    "                          plot_width=900, plot_height=600)\n",
    "    p.yaxis.axis_label = 'CO2 [ppm]'\n",
    "    p.xaxis.axis_label = 'Date'\n",
    "   \n",
    "    if with_data:\n",
    "        # true value\n",
    "        p.circle(x, y, color=\"black\", legend=\"Observed data\")\n",
    "    for mean, var in predictions:\n",
    "        xpts = xx[:,0]\n",
    "        p.line(xpts, mean[:,0],  line_width=1)\n",
    "        lowerband = mean[:,0] - 2*np.sqrt(var[:,0])\n",
    "        upperband = mean[:,0] + 2*np.sqrt(var[:,0])\n",
    "        band_x = np.append(xpts, xpts[::-1])\n",
    "        band_y = np.append(lowerband, upperband[::-1])\n",
    "        p.patch(band_x, band_y, color='#7570B3', fill_alpha=0.2)\n",
    "    p.legend.location = \"top_left\"\n",
    "    bokeh.plotting.show(p)"
   ]
  },
  {
   "cell_type": "markdown",
   "metadata": {},
   "source": [
    "As you can see in the below figure the complete model matches nicely."
   ]
  },
  {
   "cell_type": "code",
   "execution_count": 13,
   "metadata": {},
   "outputs": [
    {
     "data": {
      "text/html": [
       "\n",
       "<div class=\"bk-root\">\n",
       "    <div class=\"bk-plotdiv\" id=\"4647e49f-fd1b-4e1a-a6b1-57a4f62aa61f\"></div>\n",
       "</div>"
      ]
     },
     "metadata": {},
     "output_type": "display_data"
    },
    {
     "data": {
      "application/javascript": [
       "(function(root) {\n",
       "  function embed_document(root) {\n",
       "    \n",
       "  var docs_json = {\"6ad1ee6f-f275-4c4d-8683-1c65effcfe51\":{\"roots\":{\"references\":[{\"attributes\":{\"dimension\":1,\"plot\":{\"id\":\"30ddaad7-6c5f-4e09-94ad-bb223baac927\",\"subtype\":\"Figure\",\"type\":\"Plot\"},\"ticker\":{\"id\":\"fb1301c5-bc34-40ef-b61a-0b23bdf80890\",\"type\":\"BasicTicker\"}},\"id\":\"0a908aa3-c924-4102-811d-f7458b374299\",\"type\":\"Grid\"},{\"attributes\":{},\"id\":\"fb1301c5-bc34-40ef-b61a-0b23bdf80890\",\"type\":\"BasicTicker\"},{\"attributes\":{\"callback\":null},\"id\":\"5c152630-33ab-4d55-9e15-883ffedba7a2\",\"type\":\"DataRange1d\"},{\"attributes\":{\"axis_label\":\"Date\",\"formatter\":{\"id\":\"e7dff38e-9c5d-4ba9-ab37-dcc4ac1cf8fc\",\"type\":\"BasicTickFormatter\"},\"plot\":{\"id\":\"30ddaad7-6c5f-4e09-94ad-bb223baac927\",\"subtype\":\"Figure\",\"type\":\"Plot\"},\"ticker\":{\"id\":\"22db4030-7d14-4c87-856a-f02b300ca3e8\",\"type\":\"BasicTicker\"}},\"id\":\"25790050-81cc-41a4-acd9-f17082596e86\",\"type\":\"LinearAxis\"},{\"attributes\":{\"source\":{\"id\":\"b69fdcf4-40cc-45bf-ac4a-df15581c9d0a\",\"type\":\"ColumnDataSource\"}},\"id\":\"55679420-6ff1-4576-8903-7518c99a4a04\",\"type\":\"CDSView\"},{\"attributes\":{\"plot\":{\"id\":\"30ddaad7-6c5f-4e09-94ad-bb223baac927\",\"subtype\":\"Figure\",\"type\":\"Plot\"},\"ticker\":{\"id\":\"22db4030-7d14-4c87-856a-f02b300ca3e8\",\"type\":\"BasicTicker\"}},\"id\":\"d92c28ad-1edd-4793-8bae-876033d04580\",\"type\":\"Grid\"},{\"attributes\":{},\"id\":\"e9ce4d3a-5237-4281-83d2-231bc98035a4\",\"type\":\"BasicTickFormatter\"},{\"attributes\":{},\"id\":\"7114ff72-9850-43b2-b13f-d948d3cb8ae2\",\"type\":\"LinearScale\"},{\"attributes\":{\"callback\":null},\"id\":\"2888b429-f88c-4262-bc0c-63f7a8e3cc4c\",\"type\":\"DataRange1d\"},{\"attributes\":{\"bottom_units\":\"screen\",\"fill_alpha\":{\"value\":0.5},\"fill_color\":{\"value\":\"lightgrey\"},\"left_units\":\"screen\",\"level\":\"overlay\",\"line_alpha\":{\"value\":1.0},\"line_color\":{\"value\":\"black\"},\"line_dash\":[4,4],\"line_width\":{\"value\":2},\"plot\":null,\"render_mode\":\"css\",\"right_units\":\"screen\",\"top_units\":\"screen\"},\"id\":\"f73d6724-893d-4ee7-8cb9-dc4da6f93c4b\",\"type\":\"BoxAnnotation\"},{\"attributes\":{},\"id\":\"e528eb77-598b-4b94-93a0-94f3fec6beee\",\"type\":\"PanTool\"},{\"attributes\":{\"source\":{\"id\":\"f72b33a5-8b82-4eec-9111-762bac2c0265\",\"type\":\"ColumnDataSource\"}},\"id\":\"d9b69b10-b73b-4480-b93a-2d56f3cc2052\",\"type\":\"CDSView\"},{\"attributes\":{},\"id\":\"7d3ae12b-bf13-4b27-ae1d-731714144fdc\",\"type\":\"WheelZoomTool\"},{\"attributes\":{\"overlay\":{\"id\":\"f73d6724-893d-4ee7-8cb9-dc4da6f93c4b\",\"type\":\"BoxAnnotation\"}},\"id\":\"05dfbef5-a026-4f87-a43e-3f90bfa85c3e\",\"type\":\"BoxZoomTool\"},{\"attributes\":{},\"id\":\"ae6faa9f-0e45-4b07-bd38-e031d810baa0\",\"type\":\"HelpTool\"},{\"attributes\":{},\"id\":\"49560e02-777f-4f76-9ec9-71c9387dd22c\",\"type\":\"SaveTool\"},{\"attributes\":{},\"id\":\"0fa11751-c1e1-472c-bb82-1d58b0e648e2\",\"type\":\"LinearScale\"},{\"attributes\":{},\"id\":\"82ed0a9e-490d-443e-b265-d481989a848f\",\"type\":\"ResetTool\"},{\"attributes\":{\"line_alpha\":0.1,\"line_color\":\"#1f77b4\",\"x\":{\"field\":\"x\"},\"y\":{\"field\":\"y\"}},\"id\":\"09900a5d-797b-4e36-809e-12075162a85e\",\"type\":\"Line\"},{\"attributes\":{\"label\":{\"value\":\"Observed data\"},\"renderers\":[{\"id\":\"c8b64345-9a23-4007-9b3b-535fe7f52c8c\",\"type\":\"GlyphRenderer\"}]},\"id\":\"5345a497-9aee-4713-98ea-bef59de8af91\",\"type\":\"LegendItem\"},{\"attributes\":{\"fill_alpha\":{\"value\":0.1},\"fill_color\":{\"value\":\"#1f77b4\"},\"line_alpha\":{\"value\":0.1},\"line_color\":{\"value\":\"#1f77b4\"},\"x\":{\"field\":\"x\"},\"y\":{\"field\":\"y\"}},\"id\":\"bb46bb16-5a3a-42dd-a6cb-b733649df491\",\"type\":\"Circle\"},{\"attributes\":{},\"id\":\"e7dff38e-9c5d-4ba9-ab37-dcc4ac1cf8fc\",\"type\":\"BasicTickFormatter\"},{\"attributes\":{\"fill_alpha\":0.2,\"fill_color\":\"#7570B3\",\"line_color\":\"#7570B3\",\"x\":{\"field\":\"x\"},\"y\":{\"field\":\"y\"}},\"id\":\"d6a22107-e0bb-436f-b8e0-d35a87524281\",\"type\":\"Patch\"},{\"attributes\":{},\"id\":\"22db4030-7d14-4c87-856a-f02b300ca3e8\",\"type\":\"BasicTicker\"},{\"attributes\":{\"fill_color\":{\"value\":\"black\"},\"x\":{\"field\":\"x\"},\"y\":{\"field\":\"y\"}},\"id\":\"242bf3b3-3aa8-497e-8978-3508b0710b87\",\"type\":\"Circle\"},{\"attributes\":{\"callback\":null,\"column_names\":[\"x\",\"y\"],\"data\":{\"x\":{\"__ndarray__\":\"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\",\"dtype\":\"float64\",\"shape\":[1000]},\"y\":{\"__ndarray__\":\"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\",\"dtype\":\"float64\",\"shape\":[1000]}},\"selected\":null,\"selection_policy\":null},\"id\":\"122a5366-d10b-4788-af40-b92414733047\",\"type\":\"ColumnDataSource\"},{\"attributes\":{\"items\":[{\"id\":\"5345a497-9aee-4713-98ea-bef59de8af91\",\"type\":\"LegendItem\"}],\"location\":\"top_left\",\"plot\":{\"id\":\"30ddaad7-6c5f-4e09-94ad-bb223baac927\",\"subtype\":\"Figure\",\"type\":\"Plot\"}},\"id\":\"c94c9941-d8ac-42e5-b2b5-19cc07ced6dc\",\"type\":\"Legend\"},{\"attributes\":{\"callback\":null,\"column_names\":[\"x\",\"y\"],\"data\":{\"x\":{\"__ndarray__\":\"AAAAAAAYn0CBZhBAChifQAHNIIAUGJ9AgjMxwB4Yn0ADmkEAKRifQIMAUkAzGJ9ABGdigD0Yn0CEzXLARxifQAU0gwBSGJ9AhpqTQFwYn0AGAaSAZhifQIdntMBwGJ9ACM7EAHsYn0CINNVAhRifQAmb5YCPGJ9AigH2wJkYn0AKaAYBpBifQIvOFkGuGJ9ADDUngbgYn0CMmzfBwhifQA0CSAHNGJ9AjWhYQdcYn0AOz2iB4RifQI81ecHrGJ9AD5yJAfYYn0CQAppBABmfQBFpqoEKGZ9Akc+6wRQZn0ASNssBHxmfQJOc20EpGZ9AEwPsgTMZn0CUafzBPRmfQBXQDAJIGZ9AlTYdQlIZn0AWnS2CXBmfQJYDPsJmGZ9AF2pOAnEZn0CY0F5CexmfQBg3b4KFGZ9AmZ1/wo8Zn0AaBJACmhmfQJpqoEKkGZ9AG9Gwgq4Zn0CcN8HCuBmfQBye0QLDGZ9AnQTiQs0Zn0Ada/KC1xmfQJ7RAsPhGZ9AHzgTA+wZn0CfniND9hmfQCAFNIMAGp9AoWtEwwoan0Ah0lQDFRqfQKI4ZUMfGp9AI591gykan0CjBYbDMxqfQCRslgM+Gp9ApdKmQ0gan0AlObeDUhqfQKafx8NcGp9AJgbYA2can0CnbOhDcRqfQCjT+IN7Gp9AqDkJxIUan0ApoBkEkBqfQKoGKkSaGp9AKm06hKQan0Cr00rErhqfQCw6WwS5Gp9ArKBrRMMan0AtB3yEzRqfQK1tjMTXGp9ALtScBOIan0CvOq1E7BqfQC+hvYT2Gp9AsAfOxAAbn0Axbt4ECxufQLHU7kQVG59AMjv/hB8bn0CzoQ/FKRufQDMIIAU0G59AtG4wRT4bn0A11UCFSBufQLU7UcVSG59ANqJhBV0bn0C2CHJFZxufQDdvgoVxG59AuNWSxXsbn0A4PKMFhhufQLmis0WQG59AOgnEhZobn0C6b9TFpBufQDvW5AWvG59AvDz1Rbkbn0A8owWGwxufQL0JFsbNG59APnAmBtgbn0C+1jZG4hufQD89R4bsG59Av6NXxvYbn0BACmgGARyfQMFweEYLHJ9AQdeIhhUcn0DCPZnGHxyfQEOkqQYqHJ9Awwq6RjQcn0BEccqGPhyfQMXX2sZIHJ9ART7rBlMcn0DGpPtGXRyfQEYLDIdnHJ9Ax3Ecx3Ecn0BI2CwHfByfQMg+PUeGHJ9ASaVNh5Acn0DKC17HmhyfQEpybgelHJ9Ay9h+R68cn0BMP4+HuRyfQMyln8fDHJ9ATQywB84cn0DOcsBH2ByfQE7Z0IfiHJ9Azz/hx+wcn0BPpvEH9xyfQNAMAkgBHZ9AUXMSiAsdn0DR2SLIFR2fQFJAMwggHZ9A06ZDSCodn0BTDVSINB2fQNRzZMg+HZ9AVdp0CEkdn0DVQIVIUx2fQFanlYhdHZ9A1g2myGcdn0BXdLYIch2fQNjaxkh8HZ9AWEHXiIYdn0DZp+fIkB2fQFoO+AibHZ9A2nQISaUdn0Bb2xiJrx2fQNxBKcm5HZ9AXKg5CcQdn0DdDkpJzh2fQF51WonYHZ9A3ttqyeIdn0BfQnsJ7R2fQN+oi0n3HZ9AYA+ciQEen0DhdazJCx6fQGHcvAkWHp9A4kLNSSAen0Bjqd2JKh6fQOMP7sk0Hp9AZHb+CT8en0Dl3A5KSR6fQGVDH4pTHp9A5qkvyl0en0BnEEAKaB6fQOd2UEpyHp9AaN1ginwen0DoQ3HKhh6fQGmqgQqRHp9A6hCSSpsen0Bqd6KKpR6fQOvdssqvHp9AbETDCroen0DsqtNKxB6fQG0R5IrOHp9A7nf0ytgen0Bu3gQL4x6fQO9EFUvtHp9Ab6sli/cen0DwETbLAR+fQHF4RgsMH59A8d5WSxYfn0ByRWeLIB+fQPOrd8sqH59AcxKICzUfn0D0eJhLPx+fQHXfqItJH59A9UW5y1Mfn0B2rMkLXh+fQPcS2ktoH59Ad3nqi3Ifn0D43/rLfB+fQHhGCwyHH59A+awbTJEfn0B6EyyMmx+fQPp5PMylH59Ae+BMDLAfn0D8Rl1Muh+fQHytbYzEH59A/RN+zM4fn0B+eo4M2R+fQP7gnkzjH59Af0evjO0fn0D/rb/M9x+fQIAU0AwCIJ9AAXvgTAwgn0CB4fCMFiCfQAJIAc0gIJ9Ag64RDSsgn0ADFSJNNSCfQIR7Mo0/IJ9ABeJCzUkgn0CFSFMNVCCfQAavY01eIJ9AhxV0jWggn0AHfITNciCfQIjilA19IJ9ACEmlTYcgn0CJr7WNkSCfQAoWxs2bIJ9AinzWDaYgn0AL4+ZNsCCfQIxJ9426IJ9ADLAHzsQgn0CNFhgOzyCfQA59KE7ZIJ9AjuM4juMgn0APSknO7SCfQJCwWQ74IJ9AEBdqTgIhn0CRfXqODCGfQBHkis4WIZ9AkkqbDiEhn0ATsatOKyGfQJMXvI41IZ9AFH7Mzj8hn0CV5NwOSiGfQBVL7U5UIZ9AlrH9jl4hn0AXGA7PaCGfQJd+Hg9zIZ9AGOUuT30hn0CYSz+PhyGfQBmyT8+RIZ9AmhhgD5whn0Aaf3BPpiGfQJvlgI+wIZ9AHEyRz7ohn0CcsqEPxSGfQB0Zsk/PIZ9Ann/Cj9khn0Ae5tLP4yGfQJ9M4w/uIZ9AILPzT/ghn0CgGQSQAiKfQCGAFNAMIp9AoeYkEBcin0AiTTVQISKfQKOzRZArIp9AIxpW0DUin0CkgGYQQCKfQCXndlBKIp9ApU2HkFQin0AmtJfQXiKfQKcaqBBpIp9AJ4G4UHMin0Co58iQfSKfQChO2dCHIp9AqbTpEJIin0AqG/pQnCKfQKqBCpGmIp9AK+ga0bAin0CsTisRuyKfQCy1O1HFIp9ArRtMkc8in0AuglzR2SKfQK7obBHkIp9AL099Ue4in0CwtY2R+CKfQDAcntECI59AsYKuEQ0jn0Ax6b5RFyOfQLJPz5EhI59AM7bf0Ssjn0CzHPARNiOfQDSDAFJAI59AtekQkkojn0A1UCHSVCOfQLa2MRJfI59ANx1CUmkjn0C3g1KScyOfQDjqYtJ9I59AuVBzEogjn0A5t4NSkiOfQLodlJKcI59AOoSk0qYjn0C76rQSsSOfQDxRxVK7I59AvLfVksUjn0A9HubSzyOfQL6E9hLaI59APusGU+Qjn0C/UReT7iOfQEC4J9P4I59AwB44EwMkn0BBhUhTDSSfQMHrWJMXJJ9AQlJp0yEkn0DDuHkTLCSfQEMfilM2JJ9AxIWak0Akn0BF7KrTSiSfQMVSuxNVJJ9ARrnLU18kn0DHH9yTaSSfQEeG7NNzJJ9AyOz8E34kn0BJUw1UiCSfQMm5HZSSJJ9ASiAu1Jwkn0DKhj4UpySfQEvtTlSxJJ9AzFNflLskn0BMum/UxSSfQM0ggBTQJJ9AToeQVNokn0DO7aCU5CSfQE9UsdTuJJ9A0LrBFPkkn0BQIdJUAyWfQNGH4pQNJZ9AUe7y1Bcln0DSVAMVIiWfQFO7E1UsJZ9A0yEklTYln0BUiDTVQCWfQNXuRBVLJZ9AVVVVVVUln0DWu2WVXyWfQFcidtVpJZ9A14iGFXQln0BY75ZVfiWfQNlVp5WIJZ9AWby31ZIln0DaIsgVnSWfQFqJ2FWnJZ9A2+/olbEln0BcVvnVuyWfQNy8CRbGJZ9AXSMaVtAln0DeiSqW2iWfQF7wOtbkJZ9A31ZLFu8ln0BgvVtW+SWfQOAjbJYDJp9AYYp81g0mn0Di8IwWGCafQGJXnVYiJp9A472tliwmn0BjJL7WNiafQOSKzhZBJp9AZfHeVksmn0DlV++WVSafQGa+/9ZfJp9A5yQQF2omn0BniyBXdCafQOjxMJd+Jp9AaVhB14gmn0DpvlEXkyafQGolYledJp9A6otyl6cmn0Br8oLXsSafQOxYkxe8Jp9AbL+jV8Ymn0DtJbSX0CafQG6MxNfaJp9A7vLUF+Umn0BvWeVX7yafQPC/9Zf5Jp9AcCYG2AMnn0DxjBYYDiefQHLzJlgYJ59A8lk3mCInn0BzwEfYLCefQPMmWBg3J59AdI1oWEEnn0D183iYSyefQHVaidhVJ59A9sCZGGAnn0B3J6pYaiefQPeNuph0J59AePTK2H4nn0D5WtsYiSefQHnB61iTJ59A+if8mJ0nn0B6jgzZpyefQPv0HBmyJ59AfFstWbwnn0D8wT2ZxiefQH0oTtnQJ59A/o5eGdsnn0B+9W5Z5SefQP9bf5nvJ59AgMKP2fknn0AAKaAZBCifQIGPsFkOKJ9AAvbAmRgon0CCXNHZIiifQAPD4RktKJ9AgynyWTcon0AEkAKaQSifQIX2EtpLKJ9ABV0jGlYon0CGwzNaYCifQAcqRJpqKJ9Ah5BU2nQon0AI92QafyifQIlddVqJKJ9ACcSFmpMon0CKKpbanSifQAuRphqoKJ9Ai/e2WrIon0AMXseavCifQIzE19rGKJ9ADSvoGtEon0COkfha2yifQA74CJvlKJ9Aj14Z2+8on0AQxSkb+iifQJArOlsEKZ9AEZJKmw4pn0CS+FrbGCmfQBJfaxsjKZ9Ak8V7Wy0pn0ATLIybNymfQJSSnNtBKZ9AFfmsG0wpn0CVX71bVimfQBbGzZtgKZ9Alyze22opn0AXk+4bdSmfQJj5/lt/KZ9AGWAPnIkpn0CZxh/ckymfQBotMByeKZ9Am5NAXKgpn0Ab+lCcsimfQJxgYdy8KZ9AHMdxHMcpn0CdLYJc0SmfQB6UkpzbKZ9Anvqi3OUpn0AfYbMc8CmfQKDHw1z6KZ9AIC7UnAQqn0ChlOTcDiqfQCL79BwZKp9AomEFXSMqn0AjyBWdLSqfQKMuJt03Kp9AJJU2HUIqn0Cl+0ZdTCqfQCViV51WKp9Apshn3WAqn0AnL3gdayqfQKeViF11Kp9AKPyYnX8qn0CpYqndiSqfQCnJuR2UKp9Aqi/KXZ4qn0ArltqdqCqfQKv86t2yKp9ALGP7Hb0qn0CsyQtexyqfQC0wHJ7RKp9ArpYs3tsqn0Au/Twe5iqfQK9jTV7wKp9AMMpdnvoqn0CwMG7eBCufQDGXfh4PK59Asv2OXhkrn0AyZJ+eIyufQLPKr94tK59ANDHAHjgrn0C0l9BeQiufQDX+4J5MK59AtWTx3lYrn0A2ywEfYSufQLcxEl9rK59AN5gin3Urn0C4/jLffyufQDllQx+KK59AuctTX5Qrn0A6MmSfniufQLuYdN+oK59AO/+EH7Mrn0C8ZZVfvSufQDzMpZ/HK59AvTK239Ern0A+mcYf3CufQL7/1l/mK59AP2bnn/Arn0DAzPff+iufQEAzCCAFLJ9AwZkYYA8sn0BCACmgGSyfQMJmOeAjLJ9AQ81JIC4sn0DEM1pgOCyfQESaaqBCLJ9AxQB74Ewsn0BFZ4sgVyyfQMbNm2BhLJ9ARzSsoGssn0DHmrzgdSyfQEgBzSCALJ9AyWfdYIosn0BJzu2glCyfQMo0/uCeLJ9AS5sOIaksn0DLAR9hsyyfQExoL6G9LJ9AzM4/4ccsn0BNNVAh0iyfQM6bYGHcLJ9ATgJxoeYsn0DPaIHh8CyfQFDPkSH7LJ9A0DWiYQUtn0BRnLKhDy2fQNICw+EZLZ9AUmnTISQtn0DTz+NhLi2fQFQ29KE4LZ9A1JwE4kItn0BVAxUiTS2fQNVpJWJXLZ9AVtA1omEtn0DXNkbiay2fQFedViJ2LZ9A2ANnYoAtn0BZaneiii2fQNnQh+KULZ9AWjeYIp8tn0DbnahiqS2fQFsEuaKzLZ9A3GrJ4r0tn0Bd0dkiyC2fQN036mLSLZ9AXp76otwtn0DeBAvj5i2fQF9rGyPxLZ9A4NErY/stn0BgODyjBS6fQOGeTOMPLp9AYgVdIxoun0Dia21jJC6fQGPSfaMuLp9A5DiO4zgun0Bkn54jQy6fQOUFr2NNLp9AZWy/o1cun0Dm0s/jYS6fQGc54CNsLp9A55/wY3Yun0BoBgGkgC6fQOlsEeSKLp9AadMhJJUun0DqOTJkny6fQGugQqSpLp9A6wZT5LMun0BsbWMkvi6fQO3Tc2TILp9AbTqEpNIun0DuoJTk3C6fQG4HpSTnLp9A7221ZPEun0Bw1MWk+y6fQPA61uQFL59AcaHmJBAvn0DyB/dkGi+fQHJuB6UkL59A89QX5S4vn0B0OyglOS+fQPShOGVDL59AdQhJpU0vn0D1blnlVy+fQHbVaSViL59A9zt6ZWwvn0B3ooqldi+fQPgIm+WAL59AeW+rJYsvn0D51btllS+fQHo8zKWfL59A+6Lc5akvn0B7Ce0ltC+fQPxv/WW+L59AfdYNpsgvn0D9PB7m0i+fQH6jLibdL59A/gk/Zucvn0B/cE+m8S+fQADXX+b7L59AgD1wJgYwn0ABpIBmEDCfQIIKkaYaMJ9AAnGh5iQwn0CD17EmLzCfQAQ+wmY5MJ9AhKTSpkMwn0AFC+PmTTCfQIZx8yZYMJ9ABtgDZ2Iwn0CHPhSnbDCfQAelJOd2MJ9AiAs1J4Ewn0AJckVnizCfQInYVaeVMJ9ACj9m558wn0CLpXYnqjCfQAsMh2e0MJ9AjHKXp74wn0AN2afnyDCfQI0/uCfTMJ9ADqbIZ90wn0CODNmn5zCfQA9z6efxMJ9AkNn5J/wwn0AQQApoBjGfQJGmGqgQMZ9AEg0r6Boxn0CSczsoJTGfQBPaS2gvMZ9AlEBcqDkxn0AUp2zoQzGfQJUNfShOMZ9AFnSNaFgxn0CW2p2oYjGfQBdBruhsMZ9Al6e+KHcxn0AYDs9ogTGfQJl036iLMZ9AGdvv6JUxn0CaQQApoDGfQBuoEGmqMZ9Amw4hqbQxn0AcdTHpvjGfQJ3bQSnJMZ9AHUJSadMxn0CeqGKp3TGfQB4Pc+nnMZ9An3WDKfIxn0Ag3JNp/DGfQKBCpKkGMp9AIam06RAyn0CiD8UpGzKfQCJ21WklMp9Ao9zlqS8yn0AkQ/bpOTKfQKSpBipEMp9AJRAXak4yn0CmdieqWDKfQCbdN+piMp9Ap0NIKm0yn0AnqlhqdzKfQKgQaaqBMp9AKXd56osyn0Cp3YkqljKfQCpEmmqgMp9Aq6qqqqoyn0ArEbvqtDKfQKx3yyq/Mp9ALd7baskyn0CtROyq0zKfQC6r/OrdMp9ArxENK+gyn0AveB1r8jKfQLDeLav8Mp9AMEU+6wYzn0Cxq04rETOfQDISX2sbM59AsnhvqyUzn0Az33/rLzOfQLRFkCs6M59ANKyga0Qzn0C1ErGrTjOfQDZ5wetYM59Att/RK2Mzn0A3RuJrbTOfQLes8qt3M59AOBMD7IEzn0C5eRMsjDOfQDngI2yWM59AukY0rKAzn0A7rUTsqjOfQLsTVSy1M59APHplbL8zn0C94HWsyTOfQD1HhuzTM59Avq2WLN4zn0A/FKds6DOfQL96t6zyM59AQOHH7Pwzn0DAR9gsBzSfQEGu6GwRNJ9AwhT5rBs0n0BCewntJTSfQMPhGS0wNJ9AREgqbTo0n0DErjqtRDSfQEUVS+1ONJ9AxntbLVk0n0BG4mttYzSfQMdIfK1tNJ9AR6+M7Xc0n0DIFZ0tgjSfQEl8rW2MNJ9AyeK9rZY0n0BKSc7toDSfQMuv3i2rNJ9ASxbvbbU0n0DMfP+tvzSfQE3jD+7JNJ9AzUkgLtQ0n0BOsDBu3jSfQM8WQa7oNJ9AT31R7vI0n0DQ42Eu/TSfQFBKcm4HNZ9A0bCCrhE1n0BSF5PuGzWfQNJ9oy4mNZ9AU+SzbjA1n0DUSsSuOjWfQFSx1O5ENZ9A1RflLk81n0BWfvVuWTWfQNbkBa9jNZ9AV0sW7201n0DYsSYveDWfQFgYN2+CNZ9A2X5Hr4w1n0BZ5VfvljWfQNpLaC+hNZ9AW7J4b6s1n0DbGImvtTWfQFx/me+/NZ9A3eWpL8o1n0BdTLpv1DWfQN6yyq/eNZ9AXxnb7+g1n0Dff+sv8zWfQGDm+2/9NZ9A4EwMsAc2n0BhsxzwETafQOIZLTAcNp9AYoA9cCY2n0Dj5k2wMDafQGRNXvA6Np9A5LNuMEU2n0BlGn9wTzafQOaAj7BZNp9AZuef8GM2n0DnTbAwbjafQGi0wHB4Np9A6BrRsII2n0BpgeHwjDafQOnn8TCXNp9Aak4CcaE2n0DrtBKxqzafQGsbI/G1Np9A7IEzMcA2n0Bt6ENxyjafQO1OVLHUNp9AbrVk8d42n0DvG3Ux6TafQG+ChXHzNp9A8OiVsf02n0BwT6bxBzefQPG1tjESN59AchzHcRw3n0DygtexJjefQHPp5/EwN59A9E/4MTs3n0B0tghyRTefQPUcGbJPN59AdoMp8lk3n0D26TkyZDefQHdQSnJuN59A+LZasng3n0B4HWvygjefQPmDezKNN59AeeqLcpc3n0D6UJyyoTefQHu3rPKrN59A+x29MrY3n0B8hM1ywDefQP3q3bLKN59AfVHu8tQ3n0D+t/4y3zefQH8eD3PpN59A/4Qfs/M3n0CA6y/z/TefQAFSQDMIOJ9AgbhQcxI4n0ACH2GzHDifQIKFcfMmOJ9AA+yBMzE4n0CEUpJzOzifQAS5orNFOJ9AhR+z8084n0AGhsMzWjifQIbs03NkOJ9AB1Pks244n0CIufTzeDifQAggBTSDOJ9AiYYVdI04n0AJ7SW0lzifQIpTNvShOJ9AC7pGNKw4n0CLIFd0tjifQAyHZ7TAOJ9Aje139Mo4n0ANVIg01TifQI66mHTfOJ9ADyGptOk4n0CPh7n08zifQBDuyTT+OJ9AkVTadAg5n0ARu+q0EjmfQJIh+/QcOZ9AEogLNSc5n0CT7ht1MTmfQBRVLLU7OZ9AlLs89UU5n0AVIk01UDmfQJaIXXVaOZ9AFu9ttWQ5n0CXVX71bjmfQBi8jjV5OZ9AmCKfdYM5n0AZia+1jTmfQJrvv/WXOZ9AGlbQNaI5n0CbvOB1rDmfQBsj8bW2OZ9AnIkB9sA5n0Ad8BE2yzmfQJ1WInbVOZ9AHr0ytt85n0CfI0P26TmfQB+KUzb0OZ9AoPBjdv45n0AhV3S2CDqfQKG9hPYSOp9AIiSVNh06n0CiiqV2JzqfQCPxtbYxOp9ApFfG9js6n0AkvtY2RjqfQKUk53ZQOp9AJov3tlo6n0Cm8Qf3ZDqfQCdYGDdvOp9AqL4od3k6n0AoJTm3gzqfQKmLSfeNOp9AKvJZN5g6n0CqWGp3ojqfQCu/eresOp9AqyWL97Y6n0AsjJs3wTqfQK3yq3fLOp9ALVm8t9U6n0Cuv8z33zqfQC8m3TfqOp9Ar4ztd/Q6n0Aw8/23/jqfQLFZDvgIO59AMcAeOBM7n0CyJi94HTufQDKNP7gnO59As/NP+DE7n0A0WmA4PDufQLTAcHhGO59ANSeBuFA7n0C2jZH4WjufQDb0oThlO59At1qyeG87n0A4wcK4eTufQLgn0/iDO59AOY7jOI47n0C69PN4mDufQDpbBLmiO59Au8EU+aw7n0A7KCU5tzufQLyONXnBO59APfVFucs7n0C9W1b51TufQD7CZjngO59Avyh3eeo7n0A/j4e59DufQMD1l/n+O59AQVyoOQk8n0DBwrh5EzyfQEIpybkdPJ9Awo/Z+Sc8n0BD9uk5MjyfQMRc+nk8PJ9ARMMKukY8n0DFKRv6UDyfQEaQKzpbPJ9AxvY7emU8n0BHXUy6bzyfQMjDXPp5PJ9ASCptOoQ8n0DJkH16jjyfQEr3jbqYPJ9Ayl2e+qI8n0BLxK46rTyfQMsqv3q3PJ9ATJHPusE8n0DN99/6yzyfQE1e8DrWPJ9AzsQAe+A8n0BPKxG76jyfQM+RIfv0PJ9AUPgxO/88n0DRXkJ7CT2fQFHFUrsTPZ9A0itj+x09n0BTknM7KD2fQNP4g3syPZ9AVF+Uuzw9n0DUxaT7Rj2fQFUstTtRPZ9A1pLFe1s9n0BW+dW7ZT2fQNdf5vtvPZ9AWMb2O3o9n0DYLAd8hD2fQFmTF7yOPZ9A2vkn/Jg9n0BaYDg8oz2fQNvGSHytPZ9AWy1ZvLc9n0Dck2n8wT2fQF36eTzMPZ9A3WCKfNY9n0Bex5q84D2fQN8tq/zqPZ9AX5S7PPU9n0Dg+st8/z2fQGFh3LwJPp9A4cfs/BM+n0BiLv08Hj6fQOOUDX0oPp9AY/sdvTI+n0DkYS79PD6fQGTIPj1HPp9A5S5PfVE+n0BmlV+9Wz6fQOb7b/1lPp9AZ2KAPXA+n0DoyJB9ej6fQGgvob2EPp9A6ZWx/Y4+n0Bq/ME9mT6fQOpi0n2jPp9Aa8niva0+n0DsL/P9tz6fQGyWAz7CPp9A7fwTfsw+n0BtYyS+1j6fQO7JNP7gPp9AbzBFPus+n0DvllV+9T6fQHD9Zb7/Pp9A8WN2/gk/n0BxyoY+FD+fQPIwl34eP59Ac5envig/n0Dz/bf+Mj+fQHRkyD49P59A9MrYfkc/n0B1Mem+UT+fQPaX+f5bP59Adv4JP2Y/n0D3ZBp/cD+fQHjLKr96P59A+DE7/4Q/n0B5mEs/jz+fQPr+W3+ZP59AemVsv6M/n0D7y3z/rT+fQHwyjT+4P59A/Jidf8I/n0B9/62/zD+fQP1lvv/WP59AfszOP+E/n0D/Mt9/6z+fQH+Z77/1P59AAAAAAABAn0AAAAAAAECfQH+Z77/1P59A/zLff+s/n0B+zM4/4T+fQP1lvv/WP59Aff+tv8w/n0D8mJ1/wj+fQHwyjT+4P59A+8t8/60/n0B6ZWy/oz+fQPr+W3+ZP59AeZhLP48/n0D4MTv/hD+fQHjLKr96P59A92Qaf3A/n0B2/gk/Zj+fQPaX+f5bP59AdTHpvlE/n0D0yth+Rz+fQHRkyD49P59A8/23/jI/n0Bzl6e+KD+fQPIwl34eP59AccqGPhQ/n0DxY3b+CT+fQHD9Zb7/Pp9A75ZVfvU+n0BvMEU+6z6fQO7JNP7gPp9AbWMkvtY+n0Dt/BN+zD6fQGyWAz7CPp9A7C/z/bc+n0BryeK9rT6fQOpi0n2jPp9AavzBPZk+n0DplbH9jj6fQGgvob2EPp9A6MiQfXo+n0BnYoA9cD6fQOb7b/1lPp9AZpVfvVs+n0DlLk99UT6fQGTIPj1HPp9A5GEu/Tw+n0Bj+x29Mj6fQOOUDX0oPp9AYi79PB4+n0Dhx+z8Ez6fQGFh3LwJPp9A4PrLfP89n0BflLs89T2fQN8tq/zqPZ9AXseavOA9n0DdYIp81j2fQF36eTzMPZ9A3JNp/ME9n0BbLVm8tz2fQNvGSHytPZ9AWmA4PKM9n0Da+Sf8mD2fQFmTF7yOPZ9A2CwHfIQ9n0BYxvY7ej2fQNdf5vtvPZ9AVvnVu2U9n0DWksV7Wz2fQFUstTtRPZ9A1MWk+0Y9n0BUX5S7PD2fQNP4g3syPZ9AU5JzOyg9n0DSK2P7HT2fQFHFUrsTPZ9A0V5Cewk9n0BQ+DE7/zyfQM+RIfv0PJ9ATysRu+o8n0DOxAB74DyfQE1e8DrWPJ9Azfff+ss8n0BMkc+6wTyfQMsqv3q3PJ9AS8SuOq08n0DKXZ76ojyfQEr3jbqYPJ9AyZB9eo48n0BIKm06hDyfQMjDXPp5PJ9AR11Mum88n0DG9jt6ZTyfQEaQKzpbPJ9AxSkb+lA8n0BEwwq6RjyfQMRc+nk8PJ9AQ/bpOTI8n0DCj9n5JzyfQEIpybkdPJ9AwcK4eRM8n0BBXKg5CTyfQMD1l/n+O59AP4+HufQ7n0C/KHd56jufQD7CZjngO59AvVtW+dU7n0A99UW5yzufQLyONXnBO59AOyglObc7n0C7wRT5rDufQDpbBLmiO59AuvTzeJg7n0A5juM4jjufQLgn0/iDO59AOMHCuHk7n0C3WrJ4bzufQDb0oThlO59Ato2R+Fo7n0A1J4G4UDufQLTAcHhGO59ANFpgODw7n0Cz80/4MTufQDKNP7gnO59AsiYveB07n0AxwB44EzufQLFZDvgIO59AMPP9t/46n0CvjO139DqfQC8m3TfqOp9Arr/M9986n0AtWby31TqfQK3yq3fLOp9ALIybN8E6n0CrJYv3tjqfQCu/eresOp9Aqlhqd6I6n0Aq8lk3mDqfQKmLSfeNOp9AKCU5t4M6n0Covih3eTqfQCdYGDdvOp9ApvEH92Q6n0Ami/e2WjqfQKUk53ZQOp9AJL7WNkY6n0CkV8b2OzqfQCPxtbYxOp9Aooqldic6n0AiJJU2HTqfQKG9hPYSOp9AIVd0tgg6n0Cg8GN2/jmfQB+KUzb0OZ9AnyND9uk5n0AevTK23zmfQJ1WInbVOZ9AHfARNss5n0CciQH2wDmfQBsj8bW2OZ9Am7zgdaw5n0AaVtA1ojmfQJrvv/WXOZ9AGYmvtY05n0CYIp91gzmfQBi8jjV5OZ9Al1V+9W45n0AW7221ZDmfQJaIXXVaOZ9AFSJNNVA5n0CUuzz1RTmfQBRVLLU7OZ9Ak+4bdTE5n0ASiAs1JzmfQJIh+/QcOZ9AEbvqtBI5n0CRVNp0CDmfQBDuyTT+OJ9Aj4e59PM4n0APIam06TifQI66mHTfOJ9ADVSINNU4n0CN7Xf0yjifQAyHZ7TAOJ9AiyBXdLY4n0ALukY0rDifQIpTNvShOJ9ACe0ltJc4n0CJhhV0jTifQAggBTSDOJ9AiLn083g4n0AHU+SzbjifQIbs03NkOJ9ABobDM1o4n0CFH7PzTzifQAS5orNFOJ9AhFKSczs4n0AD7IEzMTifQIKFcfMmOJ9AAh9hsxw4n0CBuFBzEjifQAFSQDMIOJ9AgOsv8/03n0D/hB+z8zefQH8eD3PpN59A/rf+Mt83n0B9Ue7y1DefQP3q3bLKN59AfITNcsA3n0D7Hb0ytjefQHu3rPKrN59A+lCcsqE3n0B56otylzefQPmDezKNN59AeB1r8oI3n0D4tlqyeDefQHdQSnJuN59A9uk5MmQ3n0B2gynyWTefQPUcGbJPN59AdLYIckU3n0D0T/gxOzefQHPp5/EwN59A8oLXsSY3n0ByHMdxHDefQPG1tjESN59AcE+m8Qc3n0Dw6JWx/TafQG+ChXHzNp9A7xt1Mek2n0ButWTx3jafQO1OVLHUNp9AbehDcco2n0DsgTMxwDafQGsbI/G1Np9A67QSsas2n0BqTgJxoTafQOnn8TCXNp9AaYHh8Iw2n0DoGtGwgjafQGi0wHB4Np9A502wMG42n0Bm55/wYzafQOaAj7BZNp9AZRp/cE82n0Dks24wRTafQGRNXvA6Np9A4+ZNsDA2n0BigD1wJjafQOIZLTAcNp9AYbMc8BE2n0DgTAywBzafQGDm+2/9NZ9A33/rL/M1n0BfGdvv6DWfQN6yyq/eNZ9AXUy6b9Q1n0Dd5akvyjWfQFx/me+/NZ9A2xiJr7U1n0BbsnhvqzWfQNpLaC+hNZ9AWeVX75Y1n0DZfkevjDWfQFgYN2+CNZ9A2LEmL3g1n0BXSxbvbTWfQNbkBa9jNZ9AVn71blk1n0DVF+UuTzWfQFSx1O5ENZ9A1ErErjo1n0BT5LNuMDWfQNJ9oy4mNZ9AUheT7hs1n0DRsIKuETWfQFBKcm4HNZ9A0ONhLv00n0BPfVHu8jSfQM8WQa7oNJ9ATrAwbt40n0DNSSAu1DSfQE3jD+7JNJ9AzHz/rb80n0BLFu9ttTSfQMuv3i2rNJ9ASknO7aA0n0DJ4r2tljSfQEl8rW2MNJ9AyBWdLYI0n0BHr4ztdzSfQMdIfK1tNJ9ARuJrbWM0n0DGe1stWTSfQEUVS+1ONJ9AxK46rUQ0n0BESCptOjSfQMPhGS0wNJ9AQnsJ7SU0n0DCFPmsGzSfQEGu6GwRNJ9AwEfYLAc0n0BA4cfs/DOfQL96t6zyM59APxSnbOgzn0C+rZYs3jOfQD1HhuzTM59AveB1rMkzn0A8emVsvzOfQLsTVSy1M59AO61E7Kozn0C6RjSsoDOfQDngI2yWM59AuXkTLIwzn0A4EwPsgTOfQLes8qt3M59AN0bia20zn0C239ErYzOfQDZ5wetYM59AtRKxq04zn0A0rKBrRDOfQLRFkCs6M59AM99/6y8zn0CyeG+rJTOfQDISX2sbM59AsatOKxEzn0AwRT7rBjOfQLDeLav8Mp9AL3gda/Iyn0CvEQ0r6DKfQC6r/OrdMp9ArUTsqtMyn0At3ttqyTKfQKx3yyq/Mp9AKxG76rQyn0CrqqqqqjKfQCpEmmqgMp9Aqd2JKpYyn0Apd3nqizKfQKgQaaqBMp9AJ6pYancyn0CnQ0gqbTKfQCbdN+piMp9ApnYnqlgyn0AlEBdqTjKfQKSpBipEMp9AJEP26Tkyn0Cj3OWpLzKfQCJ21WklMp9Aog/FKRsyn0AhqbTpEDKfQKBCpKkGMp9AINyTafwxn0CfdYMp8jGfQB4Pc+nnMZ9Anqhiqd0xn0AdQlJp0zGfQJ3bQSnJMZ9AHHUx6b4xn0CbDiGptDGfQBuoEGmqMZ9AmkEAKaAxn0AZ2+/olTGfQJl036iLMZ9AGA7PaIExn0CXp74odzGfQBdBruhsMZ9AltqdqGIxn0AWdI1oWDGfQJUNfShOMZ9AFKds6EMxn0CUQFyoOTGfQBPaS2gvMZ9AknM7KCUxn0ASDSvoGjGfQJGmGqgQMZ9AEEAKaAYxn0CQ2fkn/DCfQA9z6efxMJ9AjgzZp+cwn0AOpshn3TCfQI0/uCfTMJ9ADdmn58gwn0CMcpenvjCfQAsMh2e0MJ9Ai6V2J6own0AKP2bnnzCfQInYVaeVMJ9ACXJFZ4swn0CICzUngTCfQAelJOd2MJ9Ahz4Up2wwn0AG2ANnYjCfQIZx8yZYMJ9ABQvj5k0wn0CEpNKmQzCfQAQ+wmY5MJ9Ag9exJi8wn0ACcaHmJDCfQIIKkaYaMJ9AAaSAZhAwn0CAPXAmBjCfQADXX+b7L59Af3BPpvEvn0D+CT9m5y+fQH6jLibdL59A/Twe5tIvn0B91g2myC+fQPxv/WW+L59AewntJbQvn0D7otzlqS+fQHo8zKWfL59A+dW7ZZUvn0B5b6sliy+fQPgIm+WAL59Ad6KKpXYvn0D3O3plbC+fQHbVaSViL59A9W5Z5Vcvn0B1CEmlTS+fQPShOGVDL59AdDsoJTkvn0Dz1BflLi+fQHJuB6UkL59A8gf3ZBovn0BxoeYkEC+fQPA61uQFL59AcNTFpPsun0DvbbVk8S6fQG4HpSTnLp9A7qCU5Nwun0BtOoSk0i6fQO3Tc2TILp9AbG1jJL4un0DrBlPksy6fQGugQqSpLp9A6jkyZJ8un0Bp0yEklS6fQOlsEeSKLp9AaAYBpIAun0Dnn/Bjdi6fQGc54CNsLp9A5tLP42Eun0BlbL+jVy6fQOUFr2NNLp9AZJ+eI0Mun0DkOI7jOC6fQGPSfaMuLp9A4mttYyQun0BiBV0jGi6fQOGeTOMPLp9AYDg8owUun0Dg0Stj+y2fQF9rGyPxLZ9A3gQL4+Ytn0Benvqi3C2fQN036mLSLZ9AXdHZIsgtn0DcasnivS2fQFsEuaKzLZ9A252oYqktn0BaN5giny2fQNnQh+KULZ9AWWp3oootn0DYA2digC2fQFedViJ2LZ9A1zZG4mstn0BW0DWiYS2fQNVpJWJXLZ9AVQMVIk0tn0DUnATiQi2fQFQ29KE4LZ9A08/jYS4tn0BSadMhJC2fQNICw+EZLZ9AUZyyoQ8tn0DQNaJhBS2fQFDPkSH7LJ9Az2iB4fAsn0BOAnGh5iyfQM6bYGHcLJ9ATTVQIdIsn0DMzj/hxyyfQExoL6G9LJ9AywEfYbMsn0BLmw4hqSyfQMo0/uCeLJ9ASc7toJQsn0DJZ91giiyfQEgBzSCALJ9Ax5q84HUsn0BHNKygayyfQMbNm2BhLJ9ARWeLIFcsn0DFAHvgTCyfQESaaqBCLJ9AxDNaYDgsn0BDzUkgLiyfQMJmOeAjLJ9AQgApoBksn0DBmRhgDyyfQEAzCCAFLJ9AwMz33/orn0A/Zuef8CufQL7/1l/mK59APpnGH9wrn0C9Mrbf0SufQDzMpZ/HK59AvGWVX70rn0A7/4QfsyufQLuYdN+oK59AOjJkn54rn0C5y1NflCufQDllQx+KK59AuP4y338rn0A3mCKfdSufQLcxEl9rK59ANssBH2Ern0C1ZPHeViufQDX+4J5MK59AtJfQXkIrn0A0McAeOCufQLPKr94tK59AMmSfniMrn0Cy/Y5eGSufQDGXfh4PK59AsDBu3gQrn0Awyl2e+iqfQK9jTV7wKp9ALv08HuYqn0Culize2yqfQC0wHJ7RKp9ArMkLXscqn0AsY/sdvSqfQKv86t2yKp9AK5banagqn0CqL8pdniqfQCnJuR2UKp9AqWKp3Ykqn0Ao/JidfyqfQKeViF11Kp9AJy94HWsqn0CmyGfdYCqfQCViV51WKp9ApftGXUwqn0AklTYdQiqfQKMuJt03Kp9AI8gVnS0qn0CiYQVdIyqfQCL79BwZKp9AoZTk3A4qn0AgLtScBCqfQKDHw1z6KZ9AH2GzHPApn0Ce+qLc5SmfQB6UkpzbKZ9AnS2CXNEpn0Acx3EcxymfQJxgYdy8KZ9AG/pQnLIpn0Cbk0BcqCmfQBotMByeKZ9AmcYf3JMpn0AZYA+ciSmfQJj5/lt/KZ9AF5PuG3Upn0CXLN7baimfQBbGzZtgKZ9AlV+9W1Ypn0AV+awbTCmfQJSSnNtBKZ9AEyyMmzcpn0CTxXtbLSmfQBJfaxsjKZ9Akvha2xgpn0ARkkqbDimfQJArOlsEKZ9AEMUpG/oon0CPXhnb7yifQA74CJvlKJ9AjpH4Wtson0ANK+ga0SifQIzE19rGKJ9ADF7Hmrwon0CL97ZasiifQAuRphqoKJ9AiiqW2p0on0AJxIWakyifQIlddVqJKJ9ACPdkGn8on0CHkFTadCifQAcqRJpqKJ9AhsMzWmAon0AFXSMaViifQIX2EtpLKJ9ABJACmkEon0CDKfJZNyifQAPD4RktKJ9AglzR2SIon0AC9sCZGCifQIGPsFkOKJ9AACmgGQQon0CAwo/Z+SefQP9bf5nvJ59AfvVuWeUnn0D+jl4Z2yefQH0oTtnQJ59A/ME9mcYnn0B8Wy1ZvCefQPv0HBmyJ59Aeo4M2acnn0D6J/yYnSefQHnB61iTJ59A+VrbGIknn0B49MrYfiefQPeNuph0J59AdyeqWGonn0D2wJkYYCefQHVaidhVJ59A9fN4mEsnn0B0jWhYQSefQPMmWBg3J59Ac8BH2Cwnn0DyWTeYIiefQHLzJlgYJ59A8YwWGA4nn0BwJgbYAyefQPC/9Zf5Jp9Ab1nlV+8mn0Du8tQX5SafQG6MxNfaJp9A7SW0l9Amn0Bsv6NXxiafQOxYkxe8Jp9Aa/KC17Emn0Dqi3KXpyafQGolYledJp9A6b5RF5Mmn0BpWEHXiCafQOjxMJd+Jp9AZ4sgV3Qmn0DnJBAXaiafQGa+/9ZfJp9A5VfvllUmn0Bl8d5WSyafQOSKzhZBJp9AYyS+1jYmn0Djva2WLCafQGJXnVYiJp9A4vCMFhgmn0BhinzWDSafQOAjbJYDJp9AYL1bVvkln0DfVksW7yWfQF7wOtbkJZ9A3okqltoln0BdIxpW0CWfQNy8CRbGJZ9AXFb51bsln0Db7+iVsSWfQFqJ2FWnJZ9A2iLIFZ0ln0BZvLfVkiWfQNlVp5WIJZ9AWO+WVX4ln0DXiIYVdCWfQFcidtVpJZ9A1rtllV8ln0BVVVVVVSWfQNXuRBVLJZ9AVIg01UAln0DTISSVNiWfQFO7E1UsJZ9A0lQDFSIln0BR7vLUFyWfQNGH4pQNJZ9AUCHSVAMln0DQusEU+SSfQE9UsdTuJJ9Azu2glOQkn0BOh5BU2iSfQM0ggBTQJJ9ATLpv1MUkn0DMU1+UuySfQEvtTlSxJJ9AyoY+FKckn0BKIC7UnCSfQMm5HZSSJJ9ASVMNVIgkn0DI7PwTfiSfQEeG7NNzJJ9Axx/ck2kkn0BGuctTXySfQMVSuxNVJJ9AReyq00okn0DEhZqTQCSfQEMfilM2JJ9Aw7h5Eywkn0BCUmnTISSfQMHrWJMXJJ9AQYVIUw0kn0DAHjgTAySfQEC4J9P4I59Av1EXk+4jn0A+6wZT5COfQL6E9hLaI59APR7m0s8jn0C8t9WSxSOfQDxRxVK7I59Au+q0ErEjn0A6hKTSpiOfQLodlJKcI59AObeDUpIjn0C5UHMSiCOfQDjqYtJ9I59At4NSknMjn0A3HUJSaSOfQLa2MRJfI59ANVAh0lQjn0C16RCSSiOfQDSDAFJAI59AsxzwETYjn0Aztt/RKyOfQLJPz5EhI59AMem+URcjn0Cxgq4RDSOfQDAcntECI59AsLWNkfgin0AvT31R7iKfQK7obBHkIp9ALoJc0dkin0CtG0yRzyKfQCy1O1HFIp9ArE4rEbsin0Ar6BrRsCKfQKqBCpGmIp9AKhv6UJwin0CptOkQkiKfQChO2dCHIp9AqOfIkH0in0AngbhQcyKfQKcaqBBpIp9AJrSX0F4in0ClTYeQVCKfQCXndlBKIp9ApIBmEEAin0AjGlbQNSKfQKOzRZArIp9AIk01UCEin0Ch5iQQFyKfQCGAFNAMIp9AoBkEkAIin0Ags/NP+CGfQJ9M4w/uIZ9AHubSz+Mhn0Cef8KP2SGfQB0Zsk/PIZ9AnLKhD8Uhn0AcTJHPuiGfQJvlgI+wIZ9AGn9wT6Yhn0CaGGAPnCGfQBmyT8+RIZ9AmEs/j4chn0AY5S5PfSGfQJd+Hg9zIZ9AFxgOz2ghn0CWsf2OXiGfQBVL7U5UIZ9AleTcDkohn0AUfszOPyGfQJMXvI41IZ9AE7GrTishn0CSSpsOISGfQBHkis4WIZ9AkX16jgwhn0AQF2pOAiGfQJCwWQ74IJ9AD0pJzu0gn0CO4ziO4yCfQA59KE7ZIJ9AjRYYDs8gn0AMsAfOxCCfQIxJ9426IJ9AC+PmTbAgn0CKfNYNpiCfQAoWxs2bIJ9Aia+1jZEgn0AISaVNhyCfQIjilA19IJ9AB3yEzXIgn0CHFXSNaCCfQAavY01eIJ9AhUhTDVQgn0AF4kLNSSCfQIR7Mo0/IJ9AAxUiTTUgn0CDrhENKyCfQAJIAc0gIJ9AgeHwjBYgn0ABe+BMDCCfQIAU0AwCIJ9A/62/zPcfn0B/R6+M7R+fQP7gnkzjH59AfnqODNkfn0D9E37Mzh+fQHytbYzEH59A/EZdTLofn0B74EwMsB+fQPp5PMylH59AehMsjJsfn0D5rBtMkR+fQHhGCwyHH59A+N/6y3wfn0B3eeqLch+fQPcS2ktoH59AdqzJC14fn0D1RbnLUx+fQHXfqItJH59A9HiYSz8fn0BzEogLNR+fQPOrd8sqH59AckVniyAfn0Dx3lZLFh+fQHF4RgsMH59A8BE2ywEfn0BvqyWL9x6fQO9EFUvtHp9Abt4EC+Men0Dud/TK2B6fQG0R5IrOHp9A7KrTSsQen0BsRMMKuh6fQOvdssqvHp9AaneiiqUen0DqEJJKmx6fQGmqgQqRHp9A6ENxyoYen0Bo3WCKfB6fQOd2UEpyHp9AZxBACmgen0DmqS/KXR6fQGVDH4pTHp9A5dwOSkken0Bkdv4JPx6fQOMP7sk0Hp9AY6ndiSoen0DiQs1JIB6fQGHcvAkWHp9A4XWsyQsen0BgD5yJAR6fQN+oi0n3HZ9AX0J7Ce0dn0De22rJ4h2fQF51WonYHZ9A3Q5KSc4dn0BcqDkJxB2fQNxBKcm5HZ9AW9sYia8dn0DadAhJpR2fQFoO+AibHZ9A2afnyJAdn0BYQdeIhh2fQNjaxkh8HZ9AV3S2CHIdn0DWDabIZx2fQFanlYhdHZ9A1UCFSFMdn0BV2nQISR2fQNRzZMg+HZ9AUw1UiDQdn0DTpkNIKh2fQFJAMwggHZ9A0dkiyBUdn0BRcxKICx2fQNAMAkgBHZ9AT6bxB/ccn0DPP+HH7ByfQE7Z0IfiHJ9AznLAR9gcn0BNDLAHzhyfQMyln8fDHJ9ATD+Ph7kcn0DL2H5HrxyfQEpybgelHJ9Aygtex5ocn0BJpU2HkByfQMg+PUeGHJ9ASNgsB3wcn0DHcRzHcRyfQEYLDIdnHJ9AxqT7Rl0cn0BFPusGUxyfQMXX2sZIHJ9ARHHKhj4cn0DDCrpGNByfQEOkqQYqHJ9Awj2Zxh8cn0BB14iGFRyfQMFweEYLHJ9AQApoBgEcn0C/o1fG9hufQD89R4bsG59AvtY2RuIbn0A+cCYG2BufQL0JFsbNG59APKMFhsMbn0C8PPVFuRufQDvW5AWvG59Aum/UxaQbn0A6CcSFmhufQLmis0WQG59AODyjBYYbn0C41ZLFexufQDdvgoVxG59AtghyRWcbn0A2omEFXRufQLU7UcVSG59ANdVAhUgbn0C0bjBFPhufQDMIIAU0G59As6EPxSkbn0AyO/+EHxufQLHU7kQVG59AMW7eBAsbn0CwB87EABufQC+hvYT2Gp9ArzqtROwan0Au1JwE4hqfQK1tjMTXGp9ALQd8hM0an0CsoGtEwxqfQCw6WwS5Gp9Aq9NKxK4an0AqbTqEpBqfQKoGKkSaGp9AKaAZBJAan0CoOQnEhRqfQCjT+IN7Gp9Ap2zoQ3Ean0AmBtgDZxqfQKafx8NcGp9AJTm3g1Ian0Cl0qZDSBqfQCRslgM+Gp9AowWGwzMan0Ajn3WDKRqfQKI4ZUMfGp9AIdJUAxUan0Cha0TDChqfQCAFNIMAGp9An54jQ/YZn0AfOBMD7BmfQJ7RAsPhGZ9AHWvygtcZn0CdBOJCzRmfQBye0QLDGZ9AnDfBwrgZn0Ab0bCCrhmfQJpqoEKkGZ9AGgSQApoZn0CZnX/CjxmfQBg3b4KFGZ9AmNBeQnsZn0AXak4CcRmfQJYDPsJmGZ9AFp0tglwZn0CVNh1CUhmfQBXQDAJIGZ9AlGn8wT0Zn0ATA+yBMxmfQJOc20EpGZ9AEjbLAR8Zn0CRz7rBFBmfQBFpqoEKGZ9AkAKaQQAZn0APnIkB9hifQI81ecHrGJ9ADs9ogeEYn0CNaFhB1xifQA0CSAHNGJ9AjJs3wcIYn0AMNSeBuBifQIvOFkGuGJ9ACmgGAaQYn0CKAfbAmRifQAmb5YCPGJ9AiDTVQIUYn0AIzsQAexifQIdntMBwGJ9ABgGkgGYYn0CGmpNAXBifQAU0gwBSGJ9AhM1ywEcYn0AEZ2KAPRifQIMAUkAzGJ9AA5pBACkYn0CCMzHAHhifQAHNIIAUGJ9AgWYQQAoYn0AAAAAAABifQA==\",\"dtype\":\"float64\",\"shape\":[2000]},\"y\":{\"__ndarray__\":\"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\",\"dtype\":\"float64\",\"shape\":[2000]}},\"selected\":null,\"selection_policy\":null},\"id\":\"b69fdcf4-40cc-45bf-ac4a-df15581c9d0a\",\"type\":\"ColumnDataSource\"},{\"attributes\":{\"line_color\":\"#1f77b4\",\"x\":{\"field\":\"x\"},\"y\":{\"field\":\"y\"}},\"id\":\"64e7bc25-7ee9-428c-ba50-a62e772ce63d\",\"type\":\"Line\"},{\"attributes\":{\"data_source\":{\"id\":\"122a5366-d10b-4788-af40-b92414733047\",\"type\":\"ColumnDataSource\"},\"glyph\":{\"id\":\"64e7bc25-7ee9-428c-ba50-a62e772ce63d\",\"type\":\"Line\"},\"hover_glyph\":null,\"muted_glyph\":null,\"nonselection_glyph\":{\"id\":\"09900a5d-797b-4e36-809e-12075162a85e\",\"type\":\"Line\"},\"selection_glyph\":null,\"view\":{\"id\":\"da5e4592-b80e-4dae-8ae5-878d84830829\",\"type\":\"CDSView\"}},\"id\":\"b87a84ab-c837-4119-ba00-71cc7d7055ea\",\"type\":\"GlyphRenderer\"},{\"attributes\":{\"source\":{\"id\":\"122a5366-d10b-4788-af40-b92414733047\",\"type\":\"ColumnDataSource\"}},\"id\":\"da5e4592-b80e-4dae-8ae5-878d84830829\",\"type\":\"CDSView\"},{\"attributes\":{\"active_drag\":\"auto\",\"active_inspect\":\"auto\",\"active_scroll\":\"auto\",\"active_tap\":\"auto\",\"tools\":[{\"id\":\"e528eb77-598b-4b94-93a0-94f3fec6beee\",\"type\":\"PanTool\"},{\"id\":\"7d3ae12b-bf13-4b27-ae1d-731714144fdc\",\"type\":\"WheelZoomTool\"},{\"id\":\"05dfbef5-a026-4f87-a43e-3f90bfa85c3e\",\"type\":\"BoxZoomTool\"},{\"id\":\"49560e02-777f-4f76-9ec9-71c9387dd22c\",\"type\":\"SaveTool\"},{\"id\":\"82ed0a9e-490d-443e-b265-d481989a848f\",\"type\":\"ResetTool\"},{\"id\":\"ae6faa9f-0e45-4b07-bd38-e031d810baa0\",\"type\":\"HelpTool\"}]},\"id\":\"f9a1acaf-2c3f-47e8-9534-83bdc887b00a\",\"type\":\"Toolbar\"},{\"attributes\":{\"fill_alpha\":0.1,\"fill_color\":\"#1f77b4\",\"line_alpha\":0.1,\"line_color\":\"#1f77b4\",\"x\":{\"field\":\"x\"},\"y\":{\"field\":\"y\"}},\"id\":\"6ab8a20a-5f19-44dc-8f58-5e76c6348a95\",\"type\":\"Patch\"},{\"attributes\":{\"below\":[{\"id\":\"25790050-81cc-41a4-acd9-f17082596e86\",\"type\":\"LinearAxis\"}],\"left\":[{\"id\":\"81aeb6cd-c806-4d61-90be-139824ab0057\",\"type\":\"LinearAxis\"}],\"plot_width\":900,\"renderers\":[{\"id\":\"25790050-81cc-41a4-acd9-f17082596e86\",\"type\":\"LinearAxis\"},{\"id\":\"d92c28ad-1edd-4793-8bae-876033d04580\",\"type\":\"Grid\"},{\"id\":\"81aeb6cd-c806-4d61-90be-139824ab0057\",\"type\":\"LinearAxis\"},{\"id\":\"0a908aa3-c924-4102-811d-f7458b374299\",\"type\":\"Grid\"},{\"id\":\"f73d6724-893d-4ee7-8cb9-dc4da6f93c4b\",\"type\":\"BoxAnnotation\"},{\"id\":\"c94c9941-d8ac-42e5-b2b5-19cc07ced6dc\",\"type\":\"Legend\"},{\"id\":\"c8b64345-9a23-4007-9b3b-535fe7f52c8c\",\"type\":\"GlyphRenderer\"},{\"id\":\"b87a84ab-c837-4119-ba00-71cc7d7055ea\",\"type\":\"GlyphRenderer\"},{\"id\":\"2da56bda-5ad3-4644-b866-6e3a315e72ce\",\"type\":\"GlyphRenderer\"}],\"title\":{\"id\":\"99993455-b933-40d2-8144-be1696b8eb4d\",\"type\":\"Title\"},\"toolbar\":{\"id\":\"f9a1acaf-2c3f-47e8-9534-83bdc887b00a\",\"type\":\"Toolbar\"},\"x_range\":{\"id\":\"2888b429-f88c-4262-bc0c-63f7a8e3cc4c\",\"type\":\"DataRange1d\"},\"x_scale\":{\"id\":\"0fa11751-c1e1-472c-bb82-1d58b0e648e2\",\"type\":\"LinearScale\"},\"y_range\":{\"id\":\"5c152630-33ab-4d55-9e15-883ffedba7a2\",\"type\":\"DataRange1d\"},\"y_scale\":{\"id\":\"7114ff72-9850-43b2-b13f-d948d3cb8ae2\",\"type\":\"LinearScale\"}},\"id\":\"30ddaad7-6c5f-4e09-94ad-bb223baac927\",\"subtype\":\"Figure\",\"type\":\"Plot\"},{\"attributes\":{\"data_source\":{\"id\":\"b69fdcf4-40cc-45bf-ac4a-df15581c9d0a\",\"type\":\"ColumnDataSource\"},\"glyph\":{\"id\":\"d6a22107-e0bb-436f-b8e0-d35a87524281\",\"type\":\"Patch\"},\"hover_glyph\":null,\"muted_glyph\":null,\"nonselection_glyph\":{\"id\":\"6ab8a20a-5f19-44dc-8f58-5e76c6348a95\",\"type\":\"Patch\"},\"selection_glyph\":null,\"view\":{\"id\":\"55679420-6ff1-4576-8903-7518c99a4a04\",\"type\":\"CDSView\"}},\"id\":\"2da56bda-5ad3-4644-b866-6e3a315e72ce\",\"type\":\"GlyphRenderer\"},{\"attributes\":{\"axis_label\":\"CO2 [ppm]\",\"formatter\":{\"id\":\"e9ce4d3a-5237-4281-83d2-231bc98035a4\",\"type\":\"BasicTickFormatter\"},\"plot\":{\"id\":\"30ddaad7-6c5f-4e09-94ad-bb223baac927\",\"subtype\":\"Figure\",\"type\":\"Plot\"},\"ticker\":{\"id\":\"fb1301c5-bc34-40ef-b61a-0b23bdf80890\",\"type\":\"BasicTicker\"}},\"id\":\"81aeb6cd-c806-4d61-90be-139824ab0057\",\"type\":\"LinearAxis\"},{\"attributes\":{\"plot\":null,\"text\":\"Fit to the Mauna Loa Data\"},\"id\":\"99993455-b933-40d2-8144-be1696b8eb4d\",\"type\":\"Title\"},{\"attributes\":{\"data_source\":{\"id\":\"f72b33a5-8b82-4eec-9111-762bac2c0265\",\"type\":\"ColumnDataSource\"},\"glyph\":{\"id\":\"242bf3b3-3aa8-497e-8978-3508b0710b87\",\"type\":\"Circle\"},\"hover_glyph\":null,\"muted_glyph\":null,\"nonselection_glyph\":{\"id\":\"bb46bb16-5a3a-42dd-a6cb-b733649df491\",\"type\":\"Circle\"},\"selection_glyph\":null,\"view\":{\"id\":\"d9b69b10-b73b-4480-b93a-2d56f3cc2052\",\"type\":\"CDSView\"}},\"id\":\"c8b64345-9a23-4007-9b3b-535fe7f52c8c\",\"type\":\"GlyphRenderer\"},{\"attributes\":{\"callback\":null,\"column_names\":[\"x\",\"y\"],\"data\":{\"x\":{\"__ndarray__\":\"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\",\"dtype\":\"float64\",\"shape\":[468]},\"y\":{\"__ndarray__\":\"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\",\"dtype\":\"float64\",\"shape\":[468]}},\"selected\":null,\"selection_policy\":null},\"id\":\"f72b33a5-8b82-4eec-9111-762bac2c0265\",\"type\":\"ColumnDataSource\"}],\"root_ids\":[\"30ddaad7-6c5f-4e09-94ad-bb223baac927\"]},\"title\":\"Bokeh Application\",\"version\":\"0.12.15\"}};\n",
       "  var render_items = [{\"docid\":\"6ad1ee6f-f275-4c4d-8683-1c65effcfe51\",\"elementid\":\"4647e49f-fd1b-4e1a-a6b1-57a4f62aa61f\",\"modelid\":\"30ddaad7-6c5f-4e09-94ad-bb223baac927\"}];\n",
       "  root.Bokeh.embed.embed_items_notebook(docs_json, render_items);\n",
       "\n",
       "  }\n",
       "  if (root.Bokeh !== undefined) {\n",
       "    embed_document(root);\n",
       "  } else {\n",
       "    var attempts = 0;\n",
       "    var timer = setInterval(function(root) {\n",
       "      if (root.Bokeh !== undefined) {\n",
       "        embed_document(root);\n",
       "        clearInterval(timer);\n",
       "      }\n",
       "      attempts++;\n",
       "      if (attempts > 100) {\n",
       "        console.log(\"Bokeh: ERROR: Unable to run BokehJS code because BokehJS library is missing\")\n",
       "        clearInterval(timer);\n",
       "      }\n",
       "    }, 10, root)\n",
       "  }\n",
       "})(window);"
      ],
      "application/vnd.bokehjs_exec.v0+json": ""
     },
     "metadata": {
      "application/vnd.bokehjs_exec.v0+json": {
       "id": "30ddaad7-6c5f-4e09-94ad-bb223baac927"
      }
     },
     "output_type": "display_data"
    }
   ],
   "source": [
    "plot(m)"
   ]
  },
  {
   "cell_type": "markdown",
   "metadata": {},
   "source": [
    "Now let's split the model into components and create model $m_1$ (blue) with only the long term trend and model $m_2$ (green) with only the product term of [p.120](http://www.gaussianprocess.org/gpml/chapters/RW5.pdf):\n",
    "$$\n",
    "\\begin{eqnarray}\n",
    "k_2(x,x')&=&\\theta_3^2\\cdot\\hbox{exp}\\left(-\\frac{(x-x')^2}{2\\theta_4^2}-\\frac{2\\sin^2(\\pi(x-x')/1.0)}{\\theta_5^2}\\right)\\\\\n",
    "&=&\\left(\\theta_3^2\\cdot\\hbox{exp}\\left(-\\frac{(x-x')^2}{2\\theta_4^2}\\right)\\right)\\cdot\\left(1.0\\cdot\\hbox{exp}\\left(-\\frac{2\\sin^2(\\pi(x-x')/1.0)}{\\theta_5^2}\\right)\\right)\n",
    "\\end{eqnarray}\n",
    "$$"
   ]
  },
  {
   "cell_type": "markdown",
   "metadata": {},
   "source": [
    "Where $\\theta_3$ is the `variance` term in the `RBF` kernel and therefore the `variance` term in the `PeriodicKernel` kernel will be $1.0$."
   ]
  },
  {
   "cell_type": "markdown",
   "metadata": {},
   "source": [
    "### How not to do it"
   ]
  },
  {
   "cell_type": "markdown",
   "metadata": {},
   "source": [
    "It turns out that the simplistic idea on how to decompose the additive components of the model by simply creating partial models is not correct. This would have looked like this:"
   ]
  },
  {
   "cell_type": "markdown",
   "metadata": {
    "collapsed": true
   },
   "source": [
    "    k1 = GPflow.kernels.RBF(1, variance=m.kern.rbf_1.variance.value, lengthscales=m.kern.rbf_1.lengthscales.value)\n",
    "    m1 = GPflow.gpr.GPR(X, Y, kern=k1)\n",
    "    m1.likelihood.variance = m.likelihood.variance.value\n",
    "    m1.fixed = True\n",
    "\n",
    "    k2 = GPflow.kernels.RBF(1, variance=m.kern.prod.rbf.variance.value, lengthscales=m.kern.prod.rbf.lengthscales.value) \\\n",
    "        * \\\n",
    "        GPflow.kernels.PeriodicKernel(1, period=m.kern.prod.periodickernel.period.value, \n",
    "                                      variance=m.kern.prod.periodickernel.variance.value, \n",
    "                                      lengthscales=m.kern.prod.periodickernel.lengthscales.value)\n",
    "    m2 = GPflow.gpr.GPR(X, Y, kern=k2)\n",
    "    m2.likelihood.variance = m.likelihood.variance.value\n",
    "    m2.fixed = True\n",
    "\n",
    "    k1 = GPflow.kernels.RBF(1, variance=m.kern.rbf_1.variance.value, lengthscales=m.kern.rbf_1.lengthscales.value)\n",
    "    k2 = GPflow.kernels.RBF(1, variance=m.kern.prod.rbf.variance.value, lengthscales=m.kern.prod.rbf.lengthscales.value) \\\n",
    "        * \\\n",
    "        GPflow.kernels.PeriodicKernel(1, period=m.kern.prod.periodickernel.period.value, \n",
    "                                      variance=m.kern.prod.periodickernel.variance.value, \n",
    "                                      lengthscales=m.kern.prod.periodickernel.lengthscales.value)\n",
    "    m3 = GPflow.gpr.GPR(X, Y, kern=(k1+k2))\n",
    "    m3.likelihood.variance = m.likelihood.variance.value\n",
    "    m3.fixed = True"
   ]
  },
  {
   "cell_type": "markdown",
   "metadata": {},
   "source": [
    "### How to do it"
   ]
  },
  {
   "cell_type": "markdown",
   "metadata": {},
   "source": [
    "Have a look at [The Kernel Cookbook](http://www.cs.toronto.edu/~duvenaud/cookbook/index.html) and scroll down to \"Additive decomposition\" or look at equation 1.17 at the [kernels](https://github.com/duvenaud/phd-thesis/blob/master/kernels.pdf) chapter of David Duvenaud's Phd [thesis](https://github.com/duvenaud/phd-thesis/).\n",
    "\n",
    "There it says (I leave out the $\\mu$ variables as we set the mean function to be 0):\n",
    "$$ f_1(X^*)|f_1(X) + f_2(X) \\sim \\mathcal{N}\\left({K_1^*}^T(K_1+K_2)^{-1}[f_1(X) + f_2(X)], ...\\right)$$\n",
    "but our simplistic approach from above would have calculated the following:\n",
    "$$ f_1(X^*)|f_1(X) + f_2(X) \\sim \\mathcal{N}\\left({K_1^*}^TK_1^{-1}[f_1(X) + f_2(X)], ...\\right)$$"
   ]
  },
  {
   "cell_type": "markdown",
   "metadata": {},
   "source": [
    "I did not find a way on how to make GPflow perform this additive decomposition and therefore I decided to implement it by hand. In this set-up GPflow is used to find the correct parameters and the hand writte code is used to decompose the addtitive parts."
   ]
  },
  {
   "cell_type": "code",
   "execution_count": 14,
   "metadata": {},
   "outputs": [],
   "source": [
    "import functools\n",
    "\n",
    "# http://www.cs.toronto.edu/~duvenaud/cookbook/index.html\n",
    "\n",
    "class GPCovarianceFunctionWhiteNoise:\n",
    "    def __init__(self, sigma):\n",
    "        self.sigma = float(sigma)\n",
    "\n",
    "    def covariance(self, x1, x2):\n",
    "        lr = np.zeros(shape=(len(x1), len(x2)))\n",
    "        np.fill_diagonal(lr, self.sigma ** 2)\n",
    "        return lr\n",
    "\n",
    "class GPCovarianceFunctionSquaredExponential:\n",
    "    def __init__(self, l, sigma):\n",
    "        self.l = float(l)\n",
    "        self.sigma = float(sigma)\n",
    "\n",
    "    def covariance(self, x1, x2):\n",
    "        return (self.sigma**2) * np.exp( -0.5 * (np.subtract.outer(x1, x2)**2) / (self.l ** 2))\n",
    "\n",
    "class GPCovarianceFunctionExpSine2Kernel:\n",
    "    def __init__(self, l, period, sigma):\n",
    "        self.l = float(l)\n",
    "        self.period = float(period)\n",
    "        self.sigma = float(sigma)\n",
    "\n",
    "    def covariance(self, x1, x2):\n",
    "        return (self.sigma**2) * np.exp( -2.0 * np.power(np.sin((np.pi / self.period) * np.abs(np.subtract.outer(x1, x2))),\n",
    "                                                         2) / (self.l ** 2))\n",
    "\n",
    "class GPCovarianceFunctionSum:\n",
    "    def __init__(self, k1, k2):\n",
    "        self.k1 = k1\n",
    "        self.k2 = k2\n",
    "\n",
    "    def covariance(self, x1, x2):\n",
    "        s1 = self.k1.covariance(x1, x2)\n",
    "        s2 = self.k2.covariance(x1, x2)\n",
    "        s = s1 + s2\n",
    "        return  s\n",
    "\n",
    "class GPCovarianceFunctionProduct:\n",
    "    def __init__(self, k1, k2):\n",
    "        self.k1 = k1\n",
    "        self.k2 = k2\n",
    "\n",
    "    def covariance(self, x1, x2):\n",
    "        p1 = self.k1.covariance(x1, x2)\n",
    "        p2 = self.k2.covariance(x1, x2)\n",
    "        p = p1 * p2\n",
    "        return  p\n",
    "\n",
    "def conditional1(x_new, x, y, cov, sigma_n=0):\n",
    "    if not isinstance(cov, list):\n",
    "        cov = [cov]\n",
    "\n",
    "    if len(cov) < 2:\n",
    "        total_covariance_function = cov[0]\n",
    "    else:\n",
    "        total_covariance_function = functools.reduce(lambda a, x: GPCovarianceFunctionSum(a, x), cov)\n",
    "\n",
    "    A = total_covariance_function.covariance(x_new, x_new)\n",
    "    C = total_covariance_function.covariance(x_new, x)\n",
    "    B = total_covariance_function.covariance(x, x) + np.power(sigma_n,2)*np.diag(np.ones(len(x)))\n",
    "\n",
    "    mu = [np.linalg.inv(B).dot(C.T).T.dot(y).squeeze()]\n",
    "    sigma = [(A - C.dot(np.linalg.inv(B).dot(C.T))).squeeze()]\n",
    "\n",
    "    for i in range(0, len(cov)):\n",
    "        partial_covariance_function = cov[i]\n",
    "        C_ = partial_covariance_function.covariance(x_new, x)\n",
    "        mu_ = np.linalg.inv(B).dot(C_.T).T.dot(y).squeeze()\n",
    "        mu.append(mu_)\n",
    "\n",
    "    return (mu, sigma)\n",
    "\n",
    "def predict1(x_new, x, y, cov, sigma_n=0):\n",
    "    l_y_pred, l_sigmas = conditional1(x_new, x, y, cov=cov, sigma_n=sigma_n)\n",
    "    if len(l_sigmas[0].shape) > 1:\n",
    "        return l_y_pred, [np.diagonal(ls) for ls in l_sigmas]\n",
    "    else:\n",
    "        return l_y_pred, l_sigmas"
   ]
  },
  {
   "cell_type": "code",
   "execution_count": 15,
   "metadata": {},
   "outputs": [
    {
     "data": {
      "text/plain": [
       "array(91.88721945)"
      ]
     },
     "execution_count": 15,
     "metadata": {},
     "output_type": "execute_result"
    }
   ],
   "source": [
    "m.kern.product.rbf.lengthscales.value"
   ]
  },
  {
   "cell_type": "code",
   "execution_count": 16,
   "metadata": {},
   "outputs": [],
   "source": [
    "xx = np.linspace(1990, 2000, 1000)\n",
    "k1 = GPCovarianceFunctionSquaredExponential(l=m.kern.rbf_1.lengthscales.value, \n",
    "                                            sigma=np.sqrt(m.kern.rbf_1.variance.value))\n",
    "k2 = GPCovarianceFunctionProduct(\n",
    "    GPCovarianceFunctionSquaredExponential(l=m.kern.product.rbf.lengthscales.value,\n",
    "                                           sigma=np.sqrt(m.kern.product.rbf.variance.value)),\n",
    "    GPCovarianceFunctionExpSine2Kernel(l=m.kern.product.periodic.lengthscales.value, \n",
    "                                       period=m.kern.product.periodic.period.value, \n",
    "                                       sigma=np.sqrt(m.kern.product.periodic.variance.value)))\n",
    "\n",
    "k4 = GPCovarianceFunctionSum(GPCovarianceFunctionSquaredExponential(l=m.kern.rbf_2.lengthscales.value, \n",
    "                                                                    sigma=np.sqrt(m.kern.rbf_2.variance.value)),\n",
    "                             GPCovarianceFunctionWhiteNoise(sigma=np.sqrt(m.kern.white.variance.value)))\n",
    "\n",
    "k = GPCovarianceFunctionSum(k1, GPCovarianceFunctionSum(k2, k4))\n",
    "\n",
    "y_pred, sigmas = predict1(xx, x, y, cov=[k1, k2, k4], sigma_n=np.sqrt(m.likelihood.variance.value))"
   ]
  },
  {
   "cell_type": "markdown",
   "metadata": {},
   "source": [
    "And if we then plot $m_1$ (blue) and $m_1 + m_2$ (green) and the combined/full model $m$ (red) in the same graph we get the picture below."
   ]
  },
  {
   "cell_type": "code",
   "execution_count": 17,
   "metadata": {},
   "outputs": [
    {
     "data": {
      "text/html": [
       "\n",
       "<div class=\"bk-root\">\n",
       "    <div class=\"bk-plotdiv\" id=\"e5f6c282-07f0-4233-8c87-2251cca7a569\"></div>\n",
       "</div>"
      ]
     },
     "metadata": {},
     "output_type": "display_data"
    },
    {
     "data": {
      "application/javascript": [
       "(function(root) {\n",
       "  function embed_document(root) {\n",
       "    \n",
       "  var docs_json = {\"424ed711-e683-407c-b067-ca39fd1430c1\":{\"roots\":{\"references\":[{\"attributes\":{\"active_drag\":\"auto\",\"active_inspect\":\"auto\",\"active_scroll\":\"auto\",\"active_tap\":\"auto\",\"tools\":[{\"id\":\"8586ed74-e87b-4060-af04-4e98aabb147f\",\"type\":\"PanTool\"},{\"id\":\"66e77062-d2aa-45e6-8ef9-f1f26b64682f\",\"type\":\"WheelZoomTool\"},{\"id\":\"6cd5e616-00e1-4fc6-853d-2a051a30dba5\",\"type\":\"BoxZoomTool\"},{\"id\":\"accaf3e8-3eea-45d5-9d15-2e05114ccdbe\",\"type\":\"SaveTool\"},{\"id\":\"bb61a9fd-468e-427f-bc4f-bafd7fb4ca68\",\"type\":\"ResetTool\"},{\"id\":\"2d5a6e65-dcf2-4305-9c6f-9fd9fceba0f6\",\"type\":\"HelpTool\"}]},\"id\":\"2f2a6c3d-478b-4fa5-8193-ea47f7f1e0b3\",\"type\":\"Toolbar\"},{\"attributes\":{\"data_source\":{\"id\":\"ecbaef93-e715-4d52-808d-091cae9cf369\",\"type\":\"ColumnDataSource\"},\"glyph\":{\"id\":\"69ec98b6-f187-494b-897e-a1f0720cf7ec\",\"type\":\"Line\"},\"hover_glyph\":null,\"muted_glyph\":null,\"nonselection_glyph\":{\"id\":\"e8ae70cf-59f1-440b-bdcd-447b3f14d7c1\",\"type\":\"Line\"},\"selection_glyph\":null,\"view\":{\"id\":\"502379da-bbcd-4fc3-a40d-a3cf75e566da\",\"type\":\"CDSView\"}},\"id\":\"b9169e5c-6d0b-4269-a8ec-0e9cc2977bc7\",\"type\":\"GlyphRenderer\"},{\"attributes\":{\"callback\":null},\"id\":\"543640aa-cdee-4f06-a720-f7c77b56cd75\",\"type\":\"DataRange1d\"},{\"attributes\":{},\"id\":\"0c4fa47d-e6dc-41eb-87b4-0f761ed62106\",\"type\":\"BasicTickFormatter\"},{\"attributes\":{\"fill_alpha\":{\"value\":0.1},\"fill_color\":{\"value\":\"#1f77b4\"},\"line_alpha\":{\"value\":0.1},\"line_color\":{\"value\":\"#1f77b4\"},\"x\":{\"field\":\"x\"},\"y\":{\"field\":\"y\"}},\"id\":\"e2608b4d-524c-4890-a894-2c012a21a1ae\",\"type\":\"Circle\"},{\"attributes\":{\"below\":[{\"id\":\"8d2b58e7-e271-450d-b8a4-40168f1a569c\",\"type\":\"LinearAxis\"}],\"left\":[{\"id\":\"6d8d4e46-f733-4181-84ec-a8dd0f4adb74\",\"type\":\"LinearAxis\"}],\"plot_width\":900,\"renderers\":[{\"id\":\"8d2b58e7-e271-450d-b8a4-40168f1a569c\",\"type\":\"LinearAxis\"},{\"id\":\"a704fc35-652b-4ccd-be1b-4030876142a4\",\"type\":\"Grid\"},{\"id\":\"6d8d4e46-f733-4181-84ec-a8dd0f4adb74\",\"type\":\"LinearAxis\"},{\"id\":\"c360d47e-5a29-4560-a87e-3a13df893424\",\"type\":\"Grid\"},{\"id\":\"3fea8bf2-61a2-4e76-ab18-87ce38467376\",\"type\":\"BoxAnnotation\"},{\"id\":\"3e5ea366-28d0-4140-bab9-ea891d0dfbc0\",\"type\":\"Legend\"},{\"id\":\"bb77bea0-fd30-483b-84a0-457905010ee1\",\"type\":\"GlyphRenderer\"},{\"id\":\"b9169e5c-6d0b-4269-a8ec-0e9cc2977bc7\",\"type\":\"GlyphRenderer\"},{\"id\":\"6eb4c6e6-ac71-402b-8442-c95f67702d44\",\"type\":\"GlyphRenderer\"},{\"id\":\"cffacca6-f87e-4c44-9e40-3ed4aa907870\",\"type\":\"GlyphRenderer\"}],\"title\":{\"id\":\"ffd6a3b7-b444-4a44-994a-7abd40bd9f36\",\"type\":\"Title\"},\"toolbar\":{\"id\":\"2f2a6c3d-478b-4fa5-8193-ea47f7f1e0b3\",\"type\":\"Toolbar\"},\"x_range\":{\"id\":\"543640aa-cdee-4f06-a720-f7c77b56cd75\",\"type\":\"DataRange1d\"},\"x_scale\":{\"id\":\"21c04958-1f64-410a-9f7a-7ab09028f5c5\",\"type\":\"LinearScale\"},\"y_range\":{\"id\":\"04ca4dc1-c05a-4c37-832b-ecbc82118ded\",\"type\":\"DataRange1d\"},\"y_scale\":{\"id\":\"8940f4d2-832b-4b0f-8bfb-01aee60d687d\",\"type\":\"LinearScale\"}},\"id\":\"bcf9dcbb-8f67-4a85-93f4-67658b407af8\",\"subtype\":\"Figure\",\"type\":\"Plot\"},{\"attributes\":{\"source\":{\"id\":\"ecbaef93-e715-4d52-808d-091cae9cf369\",\"type\":\"ColumnDataSource\"}},\"id\":\"502379da-bbcd-4fc3-a40d-a3cf75e566da\",\"type\":\"CDSView\"},{\"attributes\":{\"label\":{\"value\":\"Observed data\"},\"renderers\":[{\"id\":\"cffacca6-f87e-4c44-9e40-3ed4aa907870\",\"type\":\"GlyphRenderer\"}]},\"id\":\"55fedebd-2272-4982-9736-92d08b928895\",\"type\":\"LegendItem\"},{\"attributes\":{\"plot\":null,\"text\":\"Fit to the Mauna Loa Data\"},\"id\":\"ffd6a3b7-b444-4a44-994a-7abd40bd9f36\",\"type\":\"Title\"},{\"attributes\":{\"data_source\":{\"id\":\"66f88210-f4a5-4a23-b4d8-350e709804e7\",\"type\":\"ColumnDataSource\"},\"glyph\":{\"id\":\"f522927e-cd49-4b5d-b823-93bedb264a62\",\"type\":\"Line\"},\"hover_glyph\":null,\"muted_glyph\":null,\"nonselection_glyph\":{\"id\":\"bf3de7b6-abf2-45e4-b73a-ef2493c3f894\",\"type\":\"Line\"},\"selection_glyph\":null,\"view\":{\"id\":\"0124ed92-9e7d-4bf7-b6c0-7ea8d2e0a1a0\",\"type\":\"CDSView\"}},\"id\":\"6eb4c6e6-ac71-402b-8442-c95f67702d44\",\"type\":\"GlyphRenderer\"},{\"attributes\":{\"callback\":null,\"column_names\":[\"x\",\"y\"],\"data\":{\"x\":{\"__ndarray__\":\"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\",\"dtype\":\"float64\",\"shape\":[1000]},\"y\":{\"__ndarray__\":\"TwqQfeoWdkAE7UU5thx2QM7MWMd7GXZAtFujKn8bdkAV5YxC1xx2QBZfnZt6IXZANTD5x7QddkADPvsmoB92QE8AB1W9JnZAbzk6BDwkdkDbp9nG8Cl2QMzDHCROKHZAjebJ6C8pdkAyXA1l5Sh2QFt36PLjKHZA6CiCrRYudkC0Gr3SJzR2QPw/FfHTNXZAY8pTsMg2dkDzdnfElzV2QIOTFXgdN3ZA6Yh9bSI6dkBet0akLT52QCoUCLr5QnZAUGF1FaVCdkBUfmFX5UV2QJyhXhfcSHZA36HZtbZHdkCTZdt+8052QM+U/EcVS3ZA2OSsD9NMdkAo5kauak52QFCFFtV3S3ZAnzx+XGdSdkBnc4aX1E12QLVSCNWyS3ZAB0H1ajdLdkD+AmfhWUl2QE9zZ4EZTXZAipLmVJBIdkCv6L8LgER2QGrv98PlQnZAzKQyGGNEdkDAk0xkmD52QOCSQpj2QXZAD3JZnJE4dkDHyIdIAzh2QAe/FDvLNHZASeWx1UMzdkBnvoEdJCt2QLjTWDTDJ3ZAZp70Sa0odkDlmYnlYyh2QD3IZcxlIXZAhunEM2YZdkB3NzY10BV2QGNiAnvlEnZAM1RKITAPdkCGiCZ6+wl2QK3rBK0SCHZAk4nn8wUHdkANnc3TaAJ2QHj6hUoh/nVAjO3SyWn1dUB32xPTx/N1QM5LP64f83VAjqseeCjvdUBsMgsPcu91QB5+afr16HVAWS8f9xDtdUBTUfA6D+l1QGFmXDRr6XVAx4O6lafodUAQrFkv2O51QKn97anw7XVAxk3pJ/HxdUDVFcZwiu11QB8YygXs8XVASuVb1Pv7dUBYe95refh1QESe7lA+AXZAXQ/RCZb/dUDTK1lYwAZ2QKjCjtZeAnZAkPc3edEHdkBA1Xl05gx2QGKCf8JZD3ZABeYyl34TdkBD7EEVVxN2QMQEMnY4GHZASu/0UyEbdkD1QEYbrRx2QBClvsoZHnZAaNsK5CscdkCUSeW1SyR2QIPRJGanJ3ZAyQbIZd0tdkCJaN+NbSl2QPLszEmpKXZAgwdMr8ovdkCIYcmkLzN2QMLhfyb8MHZASf4Llm8wdkDDfZ6bVjV2QA70r26KNXZANsOXbz46dkBK3UwWyjx2QDgS+UHrP3ZAiPpUMaw9dkDF0xjHdD52QBgxUMyHQHZA2rCG/mNCdkBz9l1bu0N2QN9vRW3kSHZAiShw+dZLdkAfYYDz9Ut2QDZPxAftS3ZASw6bO+1OdkAkjOQINE92QAIZXI6yVnZAVvR6SwladkCKZUrT71d2QKL/+6PVXnZAJV37MMJedkCM2te9BGJ2QCXIAziYYXZAGDkf4eRpdkA6d4Dl+Gd2QE9180gobnZAL826o2NqdkD340y5uml2QD11TaDda3ZAzEoAJ6VrdkCdOqbO0G12QDTnS0Bub3ZAo9z2akpvdkBHGmXErWZ2QBvWSY2sZnZAhp5SOFJldkAibE90W2Z2QHQ9f4pgZHZAtOe+lZVjdkCcXcJONl52QMvSB2BQXHZAsi7v6ylcdkBQfUHRAVh2QOS+mpyqUnZAgF608h5JdkC21rfLnEx2QKALslklSnZA1q+IDEJHdkCusNOIJkJ2QPzqb1AyOHZAurgeJBc4dkBRxLJw+DN2QCFEqaQFMXZAOwuXG7QqdkAWz8tM2Sh2QDGUlAXYHHZAOXsiLAojdkCg8rjNBBx2QAh2prGBEXZAgxtNcw4QdkCvbA+Onwx2QEzaUk7nCHZABF2r5pUJdkDZF23ynQV2QE3gYDiMAHZAi9keQMv9dUBKek9dG/91QD/PuWlM/HVABNICMGT6dUCyq2nWov11QK0nOwe8/XVAAxCuQ5T/dUCrz1DtdwV2QNcLykbaBnZAPuY34dsIdkDeimRPsAp2QKl9ZaenB3ZA/hZL7wIJdkACvR3foxR2QJXTn6ItF3ZAv/+CTUYZdkBjAhMG+xl2QD4mLKORGHZA7c6gTREfdkDI+AwF6iN2QPx5gkLFI3ZACW1REgcodkCWRwNwRCl2QPCH03DLK3ZAD43UF7AsdkA1jTlthjJ2QCFiMZEuMnZA3OzoLuo0dkCgalu3xTd2QJ+UNzGMO3ZAJIrMomM5dkCK7NIGbjx2QDWH/F6XQHZA40wDuOhAdkBAMp5MF0F2QNeAZpiiQ3ZAbU+1rCdFdkCIy7YkZkd2QG5xV+aLSnZAK/qL2QFLdkCkc4m9/kl2QE3MyE6NTHZAsJ9ZmYVQdkA2kK5ZwVB2QJxIwXLzU3ZACgOzV8tSdkDF6lULZ1V2QPaZC6jKWHZAZTKGVH1cdkBHCsD0sFl2QEHeb2nZX3ZAr5u4VYhidkD0v3SQ7mR2QCGeGIZ+Z3ZAITu7SilqdkD+YHFueGl2QFNhbfhicnZAXdQuy0NwdkCQY1ZY3nF2QOZd9DRddnZAVsa18CN5dkA0L7OAuXV2QNVgerMme3ZAmHduKth5dkCQ+cu9eXV2QGcUsoUqenZAWp8ewwF6dkBnaEzIKHp2QBLO0An2dnZAFgaTuHB0dkBVHppqW3R2QOGR01ezcHZA4GlTZTZydkDsk5sUDG12QDDGpQ2KbnZAvQ8C9YdndkDhxwGabmR2QCVSCZ+/ZXZAcCCAbYFgdkDFu0+I0GB2QKKHEeypV3ZAIT/vSu1TdkC5cR+e1lB2QJl355l5TnZAfTbbRoFMdkCsSa5HwEF2QPGhwf/vRnZABzbwFe86dkBjf9Ryizd2QDw2YCB5NnZA8BUwwucvdkDw0PNFwSt2QBW4hJgTKHZAIHtenzYmdkDZsyCOEx92QESuSa/zGHZArlycVI0UdkDRK6EpLRZ2QCSDJHZ0E3ZABGFBTdIPdkDtv4CvBw12QBpARjs5DHZAqxp/LfkIdkDVckxLqQh2QIEHStt3CXZAKfTGSn0MdkC5/cSo/A52QJtonghbD3ZAOQHQR58RdkDCt0RkVRR2QMG2FjR2GXZA3rd/pMoXdkAKGpJzfxt2QPkcrd8CHXZABULpI68idkDKTsEROSN2QEYxJQ7VJXZAk9j6uEModkAsNTW1HSx2QBeFvK9HLnZAWOR8LV8udkCCgtD/7DN2QH7a9B2IMHZAIqiw85c3dkC5F+cmbzp2QJM+03CTPHZAeMQlUv8+dkAqm1R9SUV2QPaQqks5PnZAc9jyeq1CdkBkw+R5p0J2QDPDIPx8S3ZAJ95EbbBIdkC6wp/+wkl2QHq1YlkhSXZAcqNx00FQdkABMyYMI092QCM2m7WYUHZAcL2mkIFTdkDW2VELJ1R2QDgPL07fUHZAN/UemkNWdkCy82OfvFp2QCm7G8cGW3ZAiWzxrjFYdkA/hkhZ5Vt2QLRfNgqyY3ZAJqprswRhdkDCEcJBQmN2QLUsHbUbZXZA3dSpwDZldkBCD/IQn2l2QP1//0Ymb3ZA+ur/MM1udkA2DrFwGXN2QJClJGrKdnZAw3nrMht2dkDnou6BIHd2QLCXXyULeXZAu3enllB/dkAHClkTCYF2QP1bBKajgHZAAE4K4Ot+dkDo9n+DVX52QK2cEpCJh3ZAqDVtiRl/dkAQcznvsoB2QCmC8Vbrf3ZALLy1vXSAdkBebHqm+Hp2QOzp5nZteXZARD0I/C56dkArMCj2bnp2QEJ4JvwWd3ZAe2ZCBPxvdkAJ4ETEMnN2QHrye3X6cHZAqh2+fYBrdkBYyze4H2h2QM4qR7d/YXZAdo6Gch1idkB2ro40WGN2QBs5P5iBWXZASFuvUWpVdkBe8a2pOVF2QAzpOrbRTnZAo+3eKupKdkBfO0yjgUZ2QN4acRO3QnZAfDeQxOw/dkCrPJUxTjl2QJ1Wf0wGNXZA1HniXls2dkDGAX5mOS12QFVf0vpNJnZAWHKKyG4odkCmkkOlaSF2QPnmM8ZtH3ZAEuhlBycgdkBvWJP+Fht2QGTnCvqSGHZA7HGOd2YZdkAQCyqG/Bd2QGkFOAVJF3ZAbtKMPqgZdkAkUlTzyB52QAk4B9qIHnZAbjiJxYgbdkC5ZowwsCN2QOq2nEhxI3ZAZnfL6ukndkBU1TmeECx2QHFP1GZHLXZAYnuZxdUxdkCztlZHEDd2QMULEyOYOXZAkCNpTNE0dkBHeyRMYTl2QAKlFcspQXZADaTKKWJFdkDAmfkM6Up2QEK7QTqySXZACP7rCO5HdkBpDxHHcUt2QLriIXuGT3ZA9vm44khTdkBnslpVnFd2QOrjCnqjWHZA2/LDrJ5ZdkAlHQ1PbFp2QKUrDwH8XXZA2WRnnDhgdkCw/l+MyGF2QJfumt2zZ3ZAIz1cCVFidkA2K/YU/GV2QN1TU//gZ3ZAMnDSfQRudkCy880rIGp2QDZOYGFba3ZAYgMCLJlwdkCZwShIPm52QMScKLiIc3ZAhQgem41ydkCb9Gxf9Xd2QAln3pqFenZALIFd6HV3dkCxz3UtAXp2QOr8Hd+5fHZABcSYJtGAdkA5hOuaBYF2QLzXhVCXg3ZAp6tZuDGLdkAKHjWfzYl2QJC8TMSvjXZAxPJOXwyQdkAYfQdOApF2QC3WRCzfknZA6diyXMGWdkCzEJbjspd2QHodCKGrmnZASBryhl2bdkAvR/741Jx2QIOR8VJvnXZAl9ig70KbdkC8oOqQap12QLqkP7yBmHZAZdd5CymddkDccVq6zJh2QNJMCO01mXZAD4db/+uZdkDHCFmkJpN2QFEcQla8lnZAHRHMl/WOdkB6jCLFj5B2QAg35Gd+inZAZe7wSx2LdkA7TVnc84x2QP9OcQjQh3ZAKdojucR8dkBDwpgL+Xp2QHUazASienZAqAJ8Rjl6dkDJBHgXVXV2QPT2kCjSb3ZASuGf7cBsdkCIPjHw5GV2QNrhsjpmZXZA3AIcr/dfdkCGDiA1P112QJ/aOR87VXZAOV3aVXVXdkCqTnIKgFJ2QGTxESRYSXZAkj142MhKdkDA/HMNG0h2QMmL31kCPnZAdrw93hA/dkAPZROQNT12QOl+WmxoP3ZAbhTWKPM5dkDfBcXYPjl2QEpU3GQtOXZAGuZcv7s5dkAasJU44Dp2QPoJAVeLPHZAZlitN6k+dkBkwTRJI0F2QDBwES7iQ3ZAL3vAjc9GdkCyayyg10l2QPE95EzqTHZAPqL4w/tPdkBueweLBFN2QCrYfQsBVnZAkIqFvfBYdkAX5CgV1Vt2QFLqK1+wXnZAQZkrtoRhdkBCR0QyU2R2QIZuIWsbZ3ZAjDYXVttpdkD+uaR5j2x2QG2p5GYzb3ZAH6oKXsJxdkCZrpD/N3R2QMuiwu2QdnZASAZ7RMt4dkCkvuXX5np2QDJLTzTlfHZAaOUUYsl+dkB+9g59l4B2QOsVqzBUgnZAot0rMQSEdkAhvj/Gq4V2QGhWf3lOh3ZAactP8+6IdkCCFlIJj4p2QJbTyvkvjHZAqgpQxtKNdkA28lqeeI92QAtzXkMjkXZAJTdXVNWSdkBSFfpvkpR2QClcYCJflnZAMlcYm0CYdkBF6YgvPJp2QI67cbVWnHZA/rNayZOedkCgJvQU9aB2QNtqFrB5o3ZA92ZYrx2mdkA9EuX12ah2QPsTC1Gkq3ZAtMwz42+udkBt6LLVLbF2QHmu/0DOs3ZAGewhN0G2dkDBVkPUd7h2QIox8ThlunZAh3THVf+7dkDwUKdxP712QJA6zV8ivnZAg794Xqi+dkCDkVKn1L52QDIXWrysvnZAku0tize+dkDxf+99fL12QE4EZZmCvHZAim/MwE+7dkB2Hog26Ll2QIdWjmZOuHZAbajZ/oK2dkD0SiJPhbR2QGGNfN5TsnZA2IkLH+2vdkAtxrEiUK12QDE+YzN9qnZADXC6NXandkCEIsLGPqR2QIt1BA7coHZA4rvdTFSddkC/x1s+rpl2QMen+GPwlXZAlfWPYiCSdkCKeaGOQo52QBYAhMVZinZA9+Pkn2eGdkDQXDsBbYJ2QMqUnfJqfnZAAk0JrGN6dkBuikOkW3Z2QD1vrnhacnZASQyrgmtudkCEZ+34nWp2QAS4wYcEZ3ZAiOfSYLRjdkDcu0fVw2B2QBzOx5xIXnZAGz63/lVcdkAvsM0R+1p2QMxmyUxBWnZAwiAPlCtadkA47oDktVp2QAFgbKbVW3ZAaspan3pddkCikolkkF92QLZgXSEAYnZAatS9fLJkdkDJg5VjkWd2QNxNmYaJanZAEOb1ZottdkBzw3vYi3B2QEQgivqDc3ZAVp5Js3B2dkD5InPNUXl2QCLvad8ofHZAKlcKKPh+dkB41v+JwYF2QMjXS8eFhHZAEt72EUSHdkAxGBP4+Yl2QCs9fqWjjHZAUw5iZzyPdkAqSJBWv5F2QEodjAoolHZAiC/hNnOWdkC206Acn5h2QFvClcCrmnZA5jn34JqcdkDMrfawb552QP2gk2kuoHZAPbj9wduhdkD9/7JofKN2QGYcsJAUpXZAf0xhpaemdkC7A+AtOKh2QAb0uuLHqXZA4u2f7lerdkD1iYpO6ax2QCwn8zx9rnZAmjlVlRWwdkCQ8BoctbF2QNqUzJpfs3ZAikCWxhm1dkBs5H3u6LZ2QCbaJ3fSuHZA6/raMNu6dkAPnv2aBr12QOufaytWv3ZAwOtEs8jBdkBs5gj1WcR2QMOT530Cx3ZAC8LQzLfJdkBxMLvFbMx2QEwpA2wSz3ZAGWtv0JjRdkAADRce8NN2QPz6jqgJ1nZALFrJ4tjXdkC0MnUhVNl2QECefRh12nZAkZHBBDnbdkBln3yCoNt2QAcZaxOv23ZAQgAnZ2rbdkDCw9F72dp2QEPaFbED2nZAk4cx6+/YdkAJg//eo9d2QOyItJwj1nZAlv2SY3HUdkDt4BTEjdJ2QNYcAQV40HZAMi7cuy7OdkBB/7N+sMt2QDz8w5L8yHZABbKlehPGdkCiaPtN98J2QC0Oxcqrv3ZA+p7NHDa8dkB8MbtmnLh2QFY4cx/ltHZArvegYxaxdkBJF5dbNa12QJGQFNdFqXZAul/yNkqldkCReDyyQ6F2QE8xqvQynXZA+qW7BBmZdkB+DyJR+JR2QKnDcrzVkHZAE1ciebmMdkAoPF6Nr4h2QOsDu9zHhHZAukgsqBWBdkD05qmHrn12QAEGDvGoenZAomd7dhp4dkBYIi7sFXZ2QGyWjLGpdHZAAWeDUd5zdkBioHantXN2QN1t1qQqdHZAho/9vjF1dkCgAMn4uXZ2QLSwGWeueHZAGx+/Afh6dkA57veIf312QADiwEgvgHZArK50iPSCdkD6RumBwIV2QNjWEM+IiHZAe2hlTEeLdkA0lqGC+Y12QFYif7efkHZAzwNJzzuTdkBnYyAq0JV2QFcp0aZemHZA3YRJ6eeadkCmWNj4ap12QDXftDvln3ZAIvEnxFKidkBmm8bdrqR2QJqSVrz0pnZALmICLiCpdkDcWao1Lqt2QNI5qnMdrXZA4qBMUu6udkAHqLnxorB2QIyS8No+snZAfJVAicazdkAe8gvgPrV2QN/pbaOstnZAt3NgCBS4dkBLaWJueLl2QCVU8UjcunZAGeS+PEG8dkBDgDVmqL12QJP7T70Sv3ZARR5ygoHAdkCevGKh9sF2QNhwI/R0w3ZAtDA3WgDFdkCiibGXncZ2QLFpVPxRyHZA9ttG2SLKdkD+iZTSFMx2QH/flCErznZA8o8X3mbQdkB4Yr5nxtJ2QGIqMARF1XZAGwlEwtrXdkCuybGqfNp2QHnhiz4d3XZACPZ7Oa3fdkAvr7mFHOJ2QL/jFktb5HZAGlaA/FrmdkAgWBhJD+h2QC+OiNdu6XZApn1puXPqdkBDtA2LG+t2QLtyhD9n63ZA/GAzn1rrdkCxYrKL++p2QD/SPx5R6nZAU3WHvWLpdkCFkftFN+h2QMJdiF7U5nZAHtlNDD7ldkAXqcqQduN2QL/7D5N+4XZAX18Fi1XfdkCV6I9a+tx2QMROx/xr2nZAV4IhLarXdkCFK2jrtdR2QKSrBMeR0XZARR5v40HOdkAFQg22y8p2QBzoeIc1x3ZAMtZQ0IXDdkAJThqOwr92QDyB+bPwu3ZABiIA1BO4dkC5TdgZLrR2QE7nHqFAsHZAIG0FIkysdkCldBTgUah2QLdW/rlUpHZAlvGXL1qgdkAkKfMwa5x2QMnlhI2UmHZAZIOo5uaUdkAg6eEWdpF2QAPx9BRYjnZAYFH1aaOLdkCfERVmbYl2QDP//kbIh3ZAZRrNicGGdkBxkrKdYIZ2QAzNeiCmhnZATSn0v4uHdkCHJdDBBIl2QIfkyyX/inZAY+jXOmWNdkB15EF5H5B2QHkEIGgWk3ZATejJWDSWdkDSK0zGZpl2QIwcoDmfnHZAc8sKodOfdkB8GFge/qJ2QAlm+F8cpnZAp5sppy6pdkAZnAKlNqx2QJI8wVo2r3ZA1O63JC+ydkAm7hkOIbV2QNMJ7X0KuHZAvjFUQei6dkA9xvXltb12QKhC009uwHZARBr8bAzDdkC7Q/Hni8V2QCO+ebzpx3ZAVwNbmSTKdkD9tFgDPcx2QAKT2DY1znZATrAj0xDQdkCZ5sBd1NF2QO+6lbWE03ZA4GqciybVdkDtNl/3vdZ2QP/lWDVO2HZAXGkSmNnZdkAyknKrYdt2QK6xOYHn3HZAxFHwF2zedkC+ZNjI8N92QBlBcqh34XZAt7E3xQPjdkBGa303meR2QFXjPfk85nZA4ZtjhfTndkAfKaZGxel2QGjrD+Wz63ZAsUv9hcPtdkBaIVsX9e92QMWz7r1G8nZAVuhPerP0dkAHZ5IVM/d2QAZOHly6+XZAUkqPpTv8dkDF4cOdp/52QAYswT7uAHdAmd9T4P8Cd0DWFYVDzgR3QMllP35NBndA/LSgrXQHd0A87a9fPgh3QGw+maioCHdAlt545LQId0DK9jgvZwh3QK7q76LFB3dAi/DlddcGd0CeHy4TpAV3QM0m80gyBHdAmK1/pYcCd0DQ/1kVqAB3QEXWvsqV/nZA2oOublH8dkC+g3CR2vl2QJF/rUQw93ZAh3iux1H0dkBfR/MmP/F2QDZzubb57XZA7FqhUYTqdkDVBjxS4+Z2QG/1U0cc43ZA9ZbCbzXfdkDST98XNdt2QCKv+fMg13ZAiqmSm/3SdkD+flBDzs52QJrIjciUynZA4M+UGFLGdkBew2frBsJ2QOJEJru0vXZAtMf+1F65dkCG3b5YC7V2QIRjJvnDsHZAGKquV5asdkA3h5Xek6h2QAIeSRDRpHZA57A2VGShdkBKa0peZJ52QD3sjFrmm3ZA4JJHFvyZdkCkNXtcsph2QGa3y7oPmHZAEpJa1xOYdkBK+Mxst5h2QBzK/ezsmXZAvqkPuaGbdkBpqVvGv512QK5MjX8voHZAoGj6qNmidkBiN9EQqaV2QN6yut6LqHZAuFJ9YnSrdkBbiixVWa52QHDxE5M1sXZAu/TnYwe0dkBukdd2z7Z2QG5YfbuPuXZAur2RRUq8dkDtdx1gAL92QD09Te6xwXZAimEMJ13EdkBlhvWs/sZ2QKb71/SRyXZAlsuV4xHMdkD7LtOEec52QC6u0rvE0HZALE8x0/DSdkCc67jV/NR2QAEyJ6fp1nZAlK+V3LnYdkBUUsBecdp2QOR7RegU3HZAqFGjdanddkBuABXAM992QP60vtS34HZA8Ovs2TjidkDJ0w0HueN2QNKuVM455XZA1zRRL7zmdkCxkQ8hQeh2QGKjZADK6XZAuox/7ljrdkAX3b4K8ex2QI2Gi3yW7nZABsKjQk7wdkCLCifMHfJ2QE6402AK9HZAuvgVaxj2dkBaiSG3Svh2QASTB8Gh+nZAAP7sJxv9dkC4B1Fcsf92QCt4hpVbAndAIZP8Fw4Fd0BNvt/Fugd3QJSt0fBRCndAeKnwV8MMd0AxODs5/w53QGPSe1r3EHdA9fbi7p8Sd0A5UQ1C8BN3QITBfBbjFHdAboCSsXYVd0C689GTrBV3QHeh0emIFXdAtZ7nxhEVd0DUNLZCThR3QEmtCJVFE3dAnEA7S/4Rd0DXuYetfRB3QGaI4mbHDndACWI1dt0Md0CqZK5mwAp3QJ9HR8RvCHdAEIABt+oFd0B24TuqMAN3QMgoguVBAHdA7x3W+x/9dkBY31v+zfl2QKXD7mpQ9nZAgoUw16zydkBcbTxo6e52QGJAEjAM63ZABqrijhrndkBw6Ke6GON2QNtBZ4cJ33ZA9mXFhO7adkBAIsd1yNZ2QJi6mxeY0nZAyqoYIV/OdkColMlSIcp2QIxAOW7lxXZAGdiK57XBdkDKxD8rob12QEAzT2C5uXZAODKXnxO2dkDAoqOrxrJ2QLKPL0npr3ZAjJJeZZCtdkBSo9dAzat2QNuaItmrqnZALXkpwTGqdkApHQWRXap2QFfAJvwmq3ZAuetHj3+sdkCcMP/8U652QDXpfdGNsHZAd+j5WRWzdkC2dQWF07V2QBdiT4izuHZAPVs7HqS7dkB0NH0/mL52QEqeIk6HwXZAh+B0u2zEdkDA8OhAR8d2QO50rtIXynZAIcZsduDMdkBSghAro892QFjA5AVh0nZA3f9xoBnVdkB56BTjytd2QLJzaitx2nZA6Wv2vQfddkAZT1Jrid92QDgv3knx4XZAmmu7ZDvkdkCpqRFFZeZ2QCQlM0Ju6HZAffKEkFfqdkC14XAQJOx2QPZlDOjX7XZAIq7h/HfvdkA=\",\"dtype\":\"float64\",\"shape\":[1000]}},\"selected\":null,\"selection_policy\":null},\"id\":\"9a60877f-a147-493c-a2b9-f3113d9dd854\",\"type\":\"ColumnDataSource\"},{\"attributes\":{\"label\":{\"value\":\"Total fit\"},\"renderers\":[{\"id\":\"bb77bea0-fd30-483b-84a0-457905010ee1\",\"type\":\"GlyphRenderer\"}]},\"id\":\"b6d1d78b-93a2-4ddc-b157-3081f610f52d\",\"type\":\"LegendItem\"},{\"attributes\":{\"label\":{\"value\":\"Long term trend\"},\"renderers\":[{\"id\":\"b9169e5c-6d0b-4269-a8ec-0e9cc2977bc7\",\"type\":\"GlyphRenderer\"}]},\"id\":\"81e17ebf-1de1-4040-977e-dd4b5397a494\",\"type\":\"LegendItem\"},{\"attributes\":{\"data_source\":{\"id\":\"86042cfc-47e9-4d9d-a3b7-38cb2d191254\",\"type\":\"ColumnDataSource\"},\"glyph\":{\"id\":\"7e508513-2539-4d1e-a2cf-e0ecaa9f9637\",\"type\":\"Circle\"},\"hover_glyph\":null,\"muted_glyph\":null,\"nonselection_glyph\":{\"id\":\"e2608b4d-524c-4890-a894-2c012a21a1ae\",\"type\":\"Circle\"},\"selection_glyph\":null,\"view\":{\"id\":\"a94d1d60-d367-4fb4-a90f-ff65533a039e\",\"type\":\"CDSView\"}},\"id\":\"cffacca6-f87e-4c44-9e40-3ed4aa907870\",\"type\":\"GlyphRenderer\"},{\"attributes\":{\"data_source\":{\"id\":\"9a60877f-a147-493c-a2b9-f3113d9dd854\",\"type\":\"ColumnDataSource\"},\"glyph\":{\"id\":\"e0f0731f-a46f-4881-96f6-cba5987785cf\",\"type\":\"Line\"},\"hover_glyph\":null,\"muted_glyph\":null,\"nonselection_glyph\":{\"id\":\"b8a5fd15-a089-4c55-aa20-6e7346122f7b\",\"type\":\"Line\"},\"selection_glyph\":null,\"view\":{\"id\":\"6998917e-9b46-42a9-a46d-f134365fcb3e\",\"type\":\"CDSView\"}},\"id\":\"bb77bea0-fd30-483b-84a0-457905010ee1\",\"type\":\"GlyphRenderer\"},{\"attributes\":{\"label\":{\"value\":\"Long term trend + seasonal variation\"},\"renderers\":[{\"id\":\"6eb4c6e6-ac71-402b-8442-c95f67702d44\",\"type\":\"GlyphRenderer\"}]},\"id\":\"ed2caec3-a0e6-4832-bdf5-906903bb6c2a\",\"type\":\"LegendItem\"},{\"attributes\":{\"line_alpha\":0.1,\"line_color\":\"#1f77b4\",\"x\":{\"field\":\"x\"},\"y\":{\"field\":\"y\"}},\"id\":\"bf3de7b6-abf2-45e4-b73a-ef2493c3f894\",\"type\":\"Line\"},{\"attributes\":{},\"id\":\"bb61a9fd-468e-427f-bc4f-bafd7fb4ca68\",\"type\":\"ResetTool\"},{\"attributes\":{\"fill_color\":{\"value\":\"black\"},\"x\":{\"field\":\"x\"},\"y\":{\"field\":\"y\"}},\"id\":\"7e508513-2539-4d1e-a2cf-e0ecaa9f9637\",\"type\":\"Circle\"},{\"attributes\":{},\"id\":\"2d5a6e65-dcf2-4305-9c6f-9fd9fceba0f6\",\"type\":\"HelpTool\"},{\"attributes\":{\"items\":[{\"id\":\"b6d1d78b-93a2-4ddc-b157-3081f610f52d\",\"type\":\"LegendItem\"},{\"id\":\"81e17ebf-1de1-4040-977e-dd4b5397a494\",\"type\":\"LegendItem\"},{\"id\":\"ed2caec3-a0e6-4832-bdf5-906903bb6c2a\",\"type\":\"LegendItem\"},{\"id\":\"55fedebd-2272-4982-9736-92d08b928895\",\"type\":\"LegendItem\"}],\"location\":\"top_left\",\"plot\":{\"id\":\"bcf9dcbb-8f67-4a85-93f4-67658b407af8\",\"subtype\":\"Figure\",\"type\":\"Plot\"}},\"id\":\"3e5ea366-28d0-4140-bab9-ea891d0dfbc0\",\"type\":\"Legend\"},{\"attributes\":{\"line_alpha\":0.1,\"line_color\":\"#1f77b4\",\"x\":{\"field\":\"x\"},\"y\":{\"field\":\"y\"}},\"id\":\"e8ae70cf-59f1-440b-bdcd-447b3f14d7c1\",\"type\":\"Line\"},{\"attributes\":{\"line_color\":\"blue\",\"x\":{\"field\":\"x\"},\"y\":{\"field\":\"y\"}},\"id\":\"69ec98b6-f187-494b-897e-a1f0720cf7ec\",\"type\":\"Line\"},{\"attributes\":{\"source\":{\"id\":\"86042cfc-47e9-4d9d-a3b7-38cb2d191254\",\"type\":\"ColumnDataSource\"}},\"id\":\"a94d1d60-d367-4fb4-a90f-ff65533a039e\",\"type\":\"CDSView\"},{\"attributes\":{},\"id\":\"21c04958-1f64-410a-9f7a-7ab09028f5c5\",\"type\":\"LinearScale\"},{\"attributes\":{\"callback\":null,\"column_names\":[\"x\",\"y\"],\"data\":{\"x\":{\"__ndarray__\":\"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\",\"dtype\":\"float64\",\"shape\":[468]},\"y\":{\"__ndarray__\":\"H4XrUbi2c0ApXI/C9cRzQAAAAAAAyHNAKVyPwvXYc0CuR+F6FOJzQAAAAAAA4HNACtejcD3Gc0BmZmZmZqpzQHsUrkfhmnNAexSuR+GSc0DD9Shcj6pzQHsUrkfhtnNAuB6F61HEc0ApXI/C9cxzQB+F61G41nNAUrgehevtc0BSuB6F6/1zQHsUrkfh9nNAXI/C9Sjgc0CkcD0K17tzQAAAAAAAoHNAexSuR+Gac0A9CtejcK1zQBSuR+F6wHNASOF6FK7Lc0BxPQrXo9hzQK5H4XoU5nNAKVyPwvX0c0AfhetRuAZ0QPYoXI/C+XNAH4XrUbjmc0CuR+F6FMpzQOF6FK5HrXNAw/UoXI+yc0DXo3A9Cr9zQJqZmZmZzXNAFK5H4Xrcc0BmZmZmZuZzQBSuR+F6+HNAH4XrUbgGdECamZmZmQ10QDMzMzMzB3RAMzMzMzP3c0AAAAAAANRzQPYoXI/CwXNAuB6F61G0c0AUrkfheshzQBSuR+F62HNA4XoUrkfpc0AfhetRuO5zQDMzMzMz+3NA7FG4HoUTdEDhehSuRyF0QClcj8L1FHRA4XoUrkf5c0D2KFyPwtlzQM3MzMzMwHNA4XoUrke9c0DD9Shcj85zQDMzMzMz43NAw/UoXI/2c0CF61G4HgF0QKRwPQrXC3RAZmZmZmYWdEApXI/C9SB0QEjhehSuG3RAuB6F61EEdEBxPQrXo+hzQHE9CtejyHNAj8L1KFzLc0AUrkfhethzQM3MzMzM6HNAuB6F61H0c0AUrkfhegR0QEjhehSuC3RA7FG4HoUfdEAAAAAAACB0QI/C9ShcG3RAzczMzMwQdECPwvUoXOtzQMP1KFyP2nNACtejcD3Sc0AzMzMzM+tzQAAAAAAA9HNAj8L1KFwHdEB7FK5H4RZ0QEjhehSuI3RAcT0K16M4dEDD9Shcjz50QD0K16NwOXRApHA9CtcjdEAzMzMzMwN0QEjhehSu53NA16NwPQrfc0CuR+F6FPpzQFK4HoXrDXRAH4XrUbgidEA9CtejcCV0QK5H4XoULnRAAAAAAABEdEDhehSuR010QHsUrkfhPnRArkfhehQmdEBcj8L1KAx0QJqZmZmZ8XNApHA9Ctfzc0ApXI/C9Qh0QM3MzMzMHHRAZmZmZmYmdECkcD0K1y90QEjhehSuO3RA9ihcj8JNdEBmZmZmZlZ0QDMzMzMzU3RASOF6FK4/dEAzMzMzMx90QHsUrkfhAnRAPQrXo3ABdEDD9ShcjxJ0QKRwPQrXK3RA4XoUrkc9dEBcj8L1KER0QOxRuB6FV3RAAAAAAABodECPwvUoXHN0QHE9CtejaHRA7FG4HoVbdEAAAAAAADh0QOxRuB6FI3RAUrgehesZdEDXo3A9Cit0QDMzMzMzP3RACtejcD1OdECF61G4Hl10QLgehetRbHRA7FG4HoV/dEDD9Shcj350QAAAAAAAeHRAexSuR+FidEAUrkfhekh0QHsUrkfhLnRAZmZmZmYudECamZmZmT10QI/C9ShcT3RAXI/C9ShgdEBcj8L1KGh0QFyPwvUocHRAUrgehet5dEBcj8L1KIx0QGZmZmZmhnRAMzMzMzNzdEC4HoXrUVR0QDMzMzMzM3RAZmZmZmY2dECuR+F6FEp0QJqZmZmZXXRAmpmZmZlpdEDsUbgehXd0QOF6FK5HeXRAKVyPwvWYdEBmZmZmZp50QB+F61G4jnRArkfhehR+dEDD9Shcj2J0QHsUrkfhSnRAcT0K16NQdEA9CtejcGV0QArXo3A9dnRAUrgeheuFdEBmZmZmZpZ0QArXo3A9onRA4XoUrke1dEApXI/C9cR0QGZmZmZmvnRAMzMzMzOrdEBmZmZmZpJ0QJqZmZmZdXRAuB6F61FwdECkcD0K1390QEjhehSuh3RAexSuR+GSdEDNzMzMzKh0QIXrUbgetXRASOF6FK7HdEAfhetRuM50QOF6FK5HwXRAXI/C9SiwdEBI4XoUrpN0QLgehetRdHRAj8L1KFxzdEBxPQrXo4R0QMP1KFyPlnRASOF6FK6jdEAAAAAAALR0QFK4HoXrvXRACtejcD3SdEDNzMzMzNx0QHsUrkfh1nRASOF6FK67dEBmZmZmZp50QGZmZmZmhnRAH4XrUbiCdECF61G4HpV0QD0K16NwqXRA4XoUrke5dEAK16NwPcZ0QOF6FK5H1XRAw/UoXI/mdECPwvUoXOt0QB+F61G44nRACtejcD3OdEC4HoXrUax0QArXo3A9knRAFK5H4XqMdEAK16NwPaJ0QLgehetRuHRAAAAAAADMdECkcD0K19N0QBSuR+F66HRAZmZmZmb+dECF61G4Hgl1QJqZmZmZAXVAXI/C9SjsdEA9CtejcMl0QB+F61G4tnRASOF6FK6vdECkcD0K18N0QHsUrkfh2nRAzczMzMzsdEDsUbgehfN0QOxRuB6FB3VAPQrXo3AZdUA9CtejcB11QOxRuB6FG3VAUrgehesFdUBcj8L1KOh0QJqZmZmZyXRArkfhehTGdEAAAAAAANx0QBSuR+F67HRAzczMzMwAdUA9CtejcAl1QHE9CtejHHVAj8L1KFwrdUDNzMzMzDR1QFK4HoXrMXVAKVyPwvUYdUAfhetRuP50QAAAAAAA3HRAMzMzMzPbdEBSuB6F6/F0QClcj8L1CHVAPQrXo3AddUDXo3A9CiN1QMP1KFyPPnVAmpmZmZlJdUBxPQrXo1R1QAAAAAAAUHVACtejcD02dUB7FK5H4RZ1QOxRuB6F+3RAPQrXo3D9dEB7FK5H4Q51QHE9CtejIHVAKVyPwvUwdUDNzMzMzER1QI/C9ShcU3VA4XoUrkdldUCkcD0K12t1QOF6FK5HYXVAhetRuB5FdUBcj8L1KCR1QLgehetRCHVAexSuR+EKdUDXo3A9CiN1QNejcD0KN3VAhetRuB5JdUDXo3A9Cld1QBSuR+F6aHVACtejcD12dUCPwvUoXH91QHsUrkfhcnVArkfhehRedUBmZmZmZjp1QClcj8L1HHVA16NwPQobdUA9CtejcDF1QIXrUbgeRXVAMzMzMzNTdUCamZmZmWV1QHsUrkfhbnVAuB6F61GMdUDhehSuR5l1QArXo3A9knVAKVyPwvV8dUCPwvUoXGN1QNejcD0KO3VAhetRuB49dUBI4XoUrk91QIXrUbgebXVAuB6F61F4dUDhehSuR4V1QPYoXI/CkXVArkfhehSudUAAAAAAALR1QFK4HoXrqXVA7FG4HoWTdUD2KFyPwnF1QGZmZmZmTnVAexSuR+FSdUDNzMzMzGx1QHE9CtejgHVAcT0K16OMdUCF61G4Hp11QAAAAAAAtHVAH4XrUbjCdUCkcD0K18t1QIXrUbgewXVArkfhehSmdUBcj8L1KIh1QB+F61G4bnVAUrgehetpdUApXI/C9YB1QK5H4XoUlnVA9ihcj8KhdUAUrkfheqx1QHsUrkfhunVAUrgehevVdUAUrkfheuB1QFK4HoXr1XVAXI/C9Si8dUBI4XoUrpt1QHsUrkfhinVApHA9Ctd/dUBI4XoUrpd1QOxRuB6Fq3VAPQrXo3C9dUBxPQrXo8R1QEjhehSu03VAzczMzMzsdUDD9Shcj/p1QIXrUbge8XVA4XoUrkfVdUAfhetRuL51QLgehetRpHVAexSuR+GidUAK16NwPbp1QBSuR+F6zHVAAAAAAADkdUBxPQrXo/h1QM3MzMzMAHZAw/UoXI8WdkBxPQrXoyB2QFK4HoXrGXZA7FG4HoUDdkC4HoXrUeR1QM3MzMzMyHVA7FG4HoXLdUDD9Shcj951QHsUrkfh8nVAmpmZmZkJdkAfhetRuA52QBSuR+F6GHZAXI/C9Sg0dkC4HoXrUTh2QOxRuB6FL3ZAAAAAAAAcdkC4HoXrUfh1QArXo3A92nVA4XoUrkfddUAK16NwPfJ1QFK4HoXrBXZAAAAAAAAYdkDNzMzMzCh2QEjhehSuM3ZAcT0K16NAdkAAAAAAAFB2QIXrUbgeQXZAH4XrUbgqdkBcj8L1KAx2QIXrUbge7XVAcT0K16PwdUDXo3A9Cgt2QIXrUbgeIXZAPQrXo3ApdkCuR+F6FDp2QBSuR+F6UHZASOF6FK5ndkDsUbgehXN2QFK4HoXrYXZAKVyPwvVAdkAfhetRuB52QM3MzMzMAHZA9ihcj8IBdkAK16NwPRp2QArXo3A9LnZArkfhehQ+dkCuR+F6FEp2QOxRuB6FW3ZAhetRuB5xdkDhehSuR3l2QB+F61G4cnZA16NwPQpPdkAfhetRuC52QNejcD0KD3ZASOF6FK4TdkA9CtejcCF2QOF6FK5HNXZArkfhehRKdkCamZmZmVF2QIXrUbgeZXZAw/UoXI92dkBI4XoUroN2QM3MzMzMeHZAFK5H4XpYdkBI4XoUrjd2QB+F61G4GnZAMzMzMzMfdkDNzMzMzDR2QBSuR+F6THZAPQrXo3BldkAK16NwPW52QDMzMzMzf3ZAAAAAAACUdkAfhetRuJp2QNejcD0Kj3ZAzczMzMx4dkCkcD0K11d2QD0K16NwPXZAAAAAAABAdkA9CtejcFl2QM3MzMzMcHZASOF6FK5/dkAUrkfhepB2QMP1KFyPmnZASOF6FK63dkCF61G4Hr12QM3MzMzMtHZA16NwPQqfdkAAAAAAAHh2QPYoXI/CYXZAzczMzMxcdkD2KFyPwnl2QKRwPQrXi3ZAPQrXo3ChdkBxPQrXo7R2QClcj8L1wHZAXI/C9SjMdkAzMzMzM9d2QFyPwvUo0HZAMzMzMzO7dkBxPQrXo5h2QFyPwvUoeHZAZmZmZmZ6dkDNzMzMzIx2QK5H4XoUpnZASOF6FK6zdkApXI/C9cB2QPYoXI/CyXZAZmZmZmbmdkA9CtejcO12QHsUrkfh2nZAuB6F61HIdkCF61G4Hql2QKRwPQrXg3ZA4XoUrkeNdkCkcD0K16d2QD0K16NwxXZA\",\"dtype\":\"float64\",\"shape\":[468]}},\"selected\":null,\"selection_policy\":null},\"id\":\"86042cfc-47e9-4d9d-a3b7-38cb2d191254\",\"type\":\"ColumnDataSource\"},{\"attributes\":{},\"id\":\"accaf3e8-3eea-45d5-9d15-2e05114ccdbe\",\"type\":\"SaveTool\"},{\"attributes\":{},\"id\":\"c18782d8-65c8-43bd-9007-6544e8425d6f\",\"type\":\"BasicTickFormatter\"},{\"attributes\":{\"callback\":null,\"column_names\":[\"x\",\"y\"],\"data\":{\"x\":{\"__ndarray__\":\"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\",\"dtype\":\"float64\",\"shape\":[1000]},\"y\":{\"__ndarray__\":\"eXdpAQoLdkCUwfpfSQt2QDoPUL2IC3ZA/Pg5GcgLdkA6QLFzBwx2QOhL78xGDHZAlJmxJIYMdkB9fih7xQx2QDUzHdAEDXZAve+6I0QNdkA+Q+t1gw12QHPVsMbCDXZAUyogFgIOdkDy3Q9kQQ52QOBzrLCADnZA+ovV+78OdkBlIH9F/w52QNIIwY0+D3ZABmiJ1H0PdkAHvegZvQ92QObCzF38D3ZAFbZEoDsQdkAvu0jhehB2QPwN2SC6EHZA3pvmXvkQdkB0NYCbOBF2QJdKhtZ3EXZAXnQlELcRdkBmEkxI9hF2QAh14X41EnZARx4NtHQSdkALjqfnsxJ2QHdnrRnzEnZA0OtESjITdkCkM1t5cRN2QFVY56awE3ZAMuTh0u8TdkA//1n9LhR2QKTVTiZuFHZA9PalTa0UdkAea25z7BR2QFKktZcrFXZA88xzumoVdkDKTIbbqRV2QJZHGPvoFXZAyFcGGSgWdkBYVGU1ZxZ2QKcKNlCmFnZAwDJlaeUWdkCeJRWBJBd2QJK6/5ZjF3ZAkmFoq6IXdkDooSe+4Rd2QFi9Y88gGHZAcDDp3l8YdkD4bsjsnhh2QC4ULvndGHZA/iqwAx0ZdkDiBboMXBl2QFCHDRSbGXZAx6O9GdoZdkAubccdGRp2QLG6IiBYGnZAKdfJIJcadkDg/Msf1hp2QOq7JB0VG3ZAlUzIGFQbdkBlpLgSkxt2QLyr+grSG3ZAtzSbAREcdkD242n2Txx2QAA5kOmOHHZA5vL32s0cdkCzCZzKDB12QJB5o7hLHXZApVLqpIoddkDOQmKPyR12QJgSJHgIHnZAr40xX0cedkDMP3dEhh52QCxp9SfFHnZAvJiuCQQfdkDy7bLpQh92QJNh5ceBH3ZAsOBRpMAfdkARev9+/x92QDQX1Fc+IHZASIrgLn0gdkDrgy0EvCB2QPrEkNf6IHZAAIVEqTkhdkCq8hh5eCF2QMCyHEe3IXZA+CZJE/YhdkDATKjdNCJ2QCFZNKZzInZArKHvbLIidkDeJNEx8SJ2QDKRw/QvI3ZAZLvwtW4jdkCt3TB1rSN2QBTBqzLsI3ZA28lD7iokdkAgR+6naSR2QGEbs1+oJHZAz+SXFeckdkBH1qXJJSV2QBC2v3tkJXZAmocGLKMldkCGVmPa4SV2QNZDu4YgJnZAol5HMV8mdkBM8tLZnSZ2QA47eoDcJnZAtDowJRsndkAa7PXHWSd2QHJz02iYJ3ZAOGeyB9cndkCXJ5akFSh2QBRWoD9UKHZATNab2JIodkBQdqFv0Sh2QP/+wAQQKXZA3AXal04pdkA4m+UojSl2QPqTJbjLKXZAtAw0RQoqdkAUaVPQSCp2QJN6cVmHKnZAigSr4MUqdkC268JlBCt2QCyIxOhCK3ZAzmXyaYErdkDMwvfovyt2QBty+GX+K3ZAzNjp4DwsdkCwutNZeyx2QN44v9C5LHZAcKWCRfgsdkA+Fk24Ni12QFre8Ch1LXZA8p6Zl7MtdkBNrCgE8i12QKAzjm4wLnZA+kMB124udkAnKEU9rS52QGNDgaHrLnZAOh6MAyovdkDuwnFjaC92QE2kYsGmL3ZAPv4UHeUvdkDox712IzB2QIh5Ps5hMHZAqOuYI6AwdkDph9N23jB2QIBf68ccMXZAiAHWFlsxdkD+h5ZjmTF2QBKYMq7XMXZAX+3D9hUydkA44QA9VDJ2QM+7K4GSMnZABmQSw9AydkCgzsUCDzN2QMfvY0BNM3ZAprGte4szdkCovN+0yTN2QJrH1OsHNHZAFqGgIEY0dkDQnhtThDR2QJjdcoPCNHZAwV6MsQA1dkB8q1LdPjV2QN48/wZ9NXZAlcVdLrs1dkCfUIBT+TV2QO58bXY3NnZAuHoFl3U2dkDgAFi1szZ2QNm1etHxNnZAvgk36y83dkBns8oCbjd2QFk5CxisN3ZAntIMK+o3dkBINrM7KDh2QLypEEpmOHZAfO0nVqQ4dkBGv+Zf4jh2QItTXGcgOXZAPkF6bF45dkAADj9vnDl2QMIavm/aOXZAJkzjbRg6dkDNo7RpVjp2QO5wJGOUOnZAc65EWtI6dkAgBvtOEDt2QIZ1T0FOO3ZA1BBsMYw7dkCEeQQfyjt2QJ9ePgoIPHZAoiEg80U8dkA4857Zgzx2QHWMxr3BPHZAIZh2n/88dkBY28V+PT12QJssslt7PXZAoMc3Nrk9dkDQtjQO9z12QBCy2+M0PnZAEvAMt3I+dkDXZ8SHsD52QCZZK1buPnZAIsQHIiw/dkC2nnDraT92QKZKe7KnP3ZApPn5duU/dkDeLxE5I0B2QDEcm/hgQHZAiha6tZ5AdkA2vWFw3EB2QCaDeCgaQXZAUqMs3ldBdkCm5E6RlUF2QMfk6kHTQXZAToMV8BBCdkBO17GbTkJ2QKxq1ESMQnZAROlu68lCdkATwWuPB0N2QP65/zBFQ3ZAbn4L0IJDdkB/W3FswEN2QNDVTAb+Q3ZAUFiynTtEdkB6aGQyeUR2QAwcpMS2RHZARCVAVPREdkDuk1zhMUV2QMQ/1GtvRXZA+ZHD86xFdkAEIA556kV2QL4Sr/snRnZAtpbTe2VGdkCqUVr5okZ2QJ7gP3TgRnZAFVOB7B1HdkAGlTpiW0d2QBYPK9WYR3ZAlpuMRdZHdkAQalGzE0h2QCnEYx5RSHZAcHfVho5IdkAMV6Dsy0h2QPDi0U8JSXZAZURNsEZJdkCEMCIOhEl2QIg2PmnBSXZAliLAwf5JdkDXhHAXPEp2QPYHgGp5SnZA54r1urZKdkCo5o8I9Ep2QN7IhVMxS3ZA8vzDm25LdkDMmV3hq0t2QOlEJyTpS3ZAkNY6ZCZMdkAOYo2hY0x2QBdPLNygTHZALc8JFN5MdkAZFxtJG012QHLOhHtYTXZAggIkq5VNdkB2u/zX0k12QODoEAIQTnZA9tlaKU1OdkCoSelNik52QPOvmG/HTnZALzGUjgRPdkC+1bmqQU92QEL+D8R+T3ZAiDGc2rtPdkDSGlXu+E92QJTCP/81UHZA9YNPDXNQdkDoKY4YsFB2QNDb+yDtUHZA1veNJipRdkBsVEgpZ1F2QMrVMymkUXZA5UY7JuFRdkBqqVIgHlJ2QNoavBdbUnZA/acqDJhSdkC9U6P91FJ2QGo8b+wRU3ZAqlkv2E5TdkAObSXBi1N2QHpYJafIU3ZA5dNLigVUdkDGCntqQlR2QCpMwEd/VHZARnMSIrxUdkAWopP5+FR2QOvWE841VXZAC32hn3JVdkCM11Vur1V2QDqRDjrsVXZAXRq4AilWdkBahJzIZVZ2QAiTdouiVnZANgdMS99WdkBpEEAIHFd2QFwzKMJYV3ZAIIAYeZVXdkDfIg8t0ld2QL62AN4OWHZASwL9i0tYdkDgi/g2iFh2QF5h6d7EWHZAVJ7kgwFZdkB6ud4lPll2QJh/v8R6WXZABC6fYLdZdkCwcXf581l2QIr7Po8wWnZAkqoLIm1adkA6t8+xqVp2QPKnaz7mWnZAwGoByCJbdkDCp5VOX1t2QAWFDtKbW3ZAJEpvUthbdkBZtbnPFFx2QKCC60lRXHZA6gwHwY1cdkBCQR01ylx2QMMFDKYGXXZAC5fLE0NddkAEaoh+f112QE5qH+a7XXZAs1WUSvhddkAITferNF52QPk/HgpxXnZAQZcoZa1edkAm0hi96V52QFhHzxEmX3ZA/LVvY2JfdkClht2xnl92QJBzLf3aX3ZAlCYzRRdgdkAtkDiKU2B2QCbz8MuPYHZAHTWMCsxgdkCeZuZFCGF2QCg1FX5EYXZAziD+soBhdkAOGtDkvGF2QBjyVhP5YXZAaFqfPjVidkBBPLFmcWJ2QOoGoYutYnZALn5CrelidkADYpvLJWN2QOBAueZhY3ZABjSr/p1jdkDkMEwT2mN2QFouvSQWZHZA+li6MlJkdkAWxZY9jmR2QDc1M0XKZHZAtvR5SQZldkAkPnJKQmV2QAE1KUh+ZXZAkh2HQrpldkAaU6M59mV2QIOnYS0yZnZA3KHcHW5mdkALMhALqmZ2QP8Y3PTlZnZAtMFT2yFndkD8WIi+XWd2QLGMSp6ZZ3ZALPq0etVndkAEBudTEWh2QIFQpilNaHZAnDX8+4hodkBDKAnLxGh2QHakqZYAaXZAMAzkXjxpdkDO1tAjeGl2QBvdWOWzaXZASzdmo+9pdkC5OyJeK2p2QG4RYxVnanZA54tMyaJqdkAxksp53mp2QB77ziYaa3ZA2Btz0FVrdkAWe6F2kWt2QHHfaxnNa3ZA6ha3uAhsdkBCXZJURGx2QAYv+ex/bHZA1PDqgbtsdkDhMGYT92x2QPyheKEybXZAYLHvK25tdkBY/wSzqW12QECkojblbXZAiOmstiBudkDHnT8zXG52QHPDT6yXbnZAC1vnIdNudkCZHwSUDm92QLRpfAJKb3ZAfkGPbYVvdkDAnwzVwG92QPGN+zj8b3ZADqF1mTdwdkDegmj2cnB2QMGIq0+ucHZAsHJ1pelwdkBI55v3JHF2QDp/UUZgcXZA2kZ0kZtxdkBwMuPY1nF2QAvY0hwScnZALW5GXU1ydkC0k++ZiHJ2QDjHC9PDcnZA/lKnCP9ydkCyeIg6OnN2QE1u3mh1c3ZArWOok7BzdkA9pa+663N2QIHqId4mdHZAsBv+/WF0dkCZbicanXR2QHJVrjLYdHZAVdOHRxN1dkAkf8pYTnV2QIydUmaJdXZAVdA9cMR1dkAynnx2/3V2QIAVCHk6dnZAmrDkd3V2dkDi7RxzsHZ2QAKco2rrdnZAX5FRXiZ3dkDw6GhOYXd2QGTiwDqcd3ZAFER0I9d3dkDO5V8IEnh2QISwk+lMeHZAHvMNx4d4dkCG8c+gwnh2QBUSznb9eHZA6HwOSTh5dkCe8pgXc3l2QNk+UOKteXZAP7hIqeh5dkB+toJsI3p2QBom7iteenZA+aWw55h6dkBck4Of03p2QMggmVMOe3ZAUmbcA0l7dkDqpliwg3t2QKchFFm+e3ZAsif+/fh7dkACaf+eM3x2QDIwMjxufHZASNWt1ah8dkA6Oj5r43x2QIzS9fwdfXZAsMfeilh9dkAP/d0Uk312QNC+H5vNfXZA2nBlHQh+dkC84uybQn52QG/zgBZ9fnZAkOFCjbd+dkBRkxkA8n52QBCICW8sf3ZAJQIh2mZ/dkAHxldBoX92QCZYiaTbf3ZAQrPrAxaAdkBTL09fUIB2QA3B4baKgHZA8vl3CsWAdkDJdDta/4B2QGOS96U5gXZAnhbG7XOBdkDA1a0xroF2QPCcg3HogXZArkiKrSKCdkCRUnDlXIJ2QI+1hhmXgnZAleaSSdGCdkDzRqR1C4N2QG7Qv51Fg3ZAFyriwX+DdkC+n/HhuYN2QPKTGf7zg3ZAAqw4Fi6EdkAKn1EqaIR2QMwDZzqihHZASIBzRtyEdkAmJ4FOFoV2QAdMfFJQhXZA5DV/UoqFdkAFAG9OxIV2QJiwYEb+hXZAkq06OjiGdkBHrO4pcoZ2QBeyqBWshnZAf5pY/eWGdkD1Q/LgH4d2QEg4csBZh3ZAQdncm5OHdkDmsBVzzYd2QJ75ZkYHiHZAYFWQFUGIdkBWboTgeoh2QPrZeae0iHZAoKQ+au6IdkDCZO8oKIl2QIgkh+NhiXZA6tHsmZuJdkAs6S9M1Yl2QFt1VPoOinZAYypVpEiKdkDz5ClKgop2QJPlyOu7inZA+qNgifWKdkDi4LMiL4t2QJPN17doi3ZAVw/MSKKLdkD7NqzV24t2QGTmP14VjHZANuGm4k6MdkBNDutiiIx2QLZP497BjHZAAcOmVvuMdkCzEEXKNI12QM5+jTlujXZAWSWwpKeNdkDRp5IL4Y12QMMmOm4ajnZA0y+mzFOOdkD9x8AmjY52QN4wpHzGjnZAvKtgzv+OdkAw8qYbOY92QObNu2Ryj3ZAtzGSqauPdkAvVCnq5I92QKinWCYekHZAs3hMXleQdkCfEO2RkJB2QCreUcHJkHZAEddY7AKRdkAV2AwTPJF2QFkNfTV1kXZAQyafU66RdkC6hFZt55F2QNO9uoIgknZAfpXRk1mSdkD124qgkpJ2QE2O7qjLknZAYpDorASTdkCG2ZKsPZN2QGMd5Kd2k3ZAWFrNnq+TdkCFHFKR6JN2QJ+ZbH8hlHZAFWs7aVqUdkAdmJNOk5R2QGuviy/MlHZAKoscDAWVdkBsxUfkPZV2QKrn+Ld2lXZAislPh6+VdkDS8ydS6JV2QH5HkhghlnZAa3el2lmWdkDkdTiYkpZ2QIf/WFHLlnZAgnrvBQSXdkC8fS22PJd2QKwH72F1l3ZANQYyCa6XdkBdofWr5pd2QCrTQ0ofmHZAThAW5FeYdkDeGW55kJh2QPuFPgrJmHZAPSGSlgGZdkDI5XkeOpl2QCfXw6FymXZAvoaDIKuZdkA44dqa45l2QJxjkRAcmnZAgBDGgVSadkC9zGjujJp2QIc8iFbFmnZA4hcXuv2adkDZeyUZNpt2QG8ViHNum3ZAL9F3yaabdkA40sAa35t2QHt7f2cXnHZAyAGnr0+cdkDnfC7zh5x2QF4lNjLAnHZA8vmAbPicdkDPfEeiMJ12QBiBdNNonXZAkt36/6CddkB+9+Un2Z12QI73PEsRnnZAV7nnaUmedkDU0OuDgZ52QBoHQpm5nnZAHlMGqvGedkBYFBW2KZ92QE4+d71hn3ZAurFLwJmfdkCVSmm+0Z92QAaOzbcJoHZAMDyIrEGgdkB88JeceaB2QGpW5YexoHZAenOfbumgdkA++4ZQIaF2QIge0S1ZoXZAf89ZBpGhdkCjIUHayKF2QLL9UakAonZAf1C3cziidkB8jVc5cKJ2QKaEVPqnonZA8Blhtt+idkDz0tdtF6N2QK8AfiBPo3ZAoHxlzoajdkDAAYR3vqN2QGb/7xv2o3ZA+3l6uy2kdkBlFUlWZaR2QOilVuycpHZAh9iBfdSkdkB3X/0JDKV2QPJSi5FDpXZAeldpFHuldkAN82GSsqV2QOA7kQvqpXZAc7DofyGmdkDq+mjvWKZ2QNN2N1qQpnZAel8JwMemdkDkkgch/6Z2QCpzIH02p3ZA+wls1G2ndkB7weUmpad2QKjMfHTcp3ZACMAhvROodkCXePwAS6h2QOSu5T+CqHZAlIz7ebmodkDbrg+v8Kh2QBFhWt8nqXZAG56oCl+pdkC0CiYxlql2QDH9kFLNqXZAFr42bwSqdkA+TPGGO6p2QPYdr5lyqnZADDRyp6mqdkC8LUmw4Kp2QIDKMrQXq3ZAxKgls06rdkAeci+that2QBxINqK8q3ZAnxo9kvOrdkDboWl9Kqx2QAX4eGNhrHZAyhCeRJisdkASs64gz6x2QINO3fcFrXZAuVsEyjytdkA4lzOXc612QDrUNF+qrXZAFqFVIuGtdkChMG3gF652QJRQeJlOrnZA84dzTYWudkBbJ238u652QApBbqbyrnZAgLI+SymvdkAmNyPrX692QDTY1YWWr3ZALhqIG82vdkChYCqsA7B2QMu+szc6sHZAD9QvvnCwdkBAXo4/p7B2QHvB3rvdsHZAXIAPMxSxdkD/rB2lSrF2QI7IHxKBsXZA2y0EerexdkARpbHc7bF2QMbNSjoksnZAwUTGklqydkCxCS7mkLJ2QGonWTTHsnZAOLN7ff2ydkCwUFfBM7N2QJqBFABqs3ZAVry6OaCzdkDt8A9u1rN2QMMHX50MtHZA7o9ux0K0dkCc6mHseLR2QNcgDwyvtHZAGgWMJuW0dkA9Ztc7G7V2QMSn9ktRtXZAMCzUVoe1dkCI7ntcvbV2QO6w+FzztXZAmow5WCm2dkCwpDJOX7Z2QHLs9j6VtnZA7lFrKsu2dkCgyasQAbd2QMgfn/E2t3ZAKh11zWy3dkCCz/Sjord2QCipOHXYt3ZA8GgoQQ64dkASFr4HRLh2QHCUJ8l5uHZAxRE8ha+4dkBMzPM75bh2QGCtgO0auXZActudmVC5dkCMYYdAhrl2QDJnG+K7uXZAmClCfvG5dkCwOjQVJ7p2QPDJxKZcunZAZLf9MpK6dkBGTtu5x7p2QASjbjv9unZAFqGXtzK7dkAU1WguaLt2QGR61J+du3ZAepzgC9O7dkD3fqVyCLx2QPh139M9vHZABMHbL3O8dkBWFWSGqLx2QChofNfdvHZA0vk5IxO9dkAqA5hpSL12QCrKgap9vXZAJSL85bK9dkAY3wkc6L12QDpspEwdvnZAq7npd1K+dkAFpZ6dh752QBY69b28vnZA3hTH2PG+dkCcJTPuJr92QPhyHv5bv3ZA+LilCJG/dkBy+JkNxr92QAOvIg37v3ZA9AArBzDAdkClW737ZMB2QC6SyOqZwHZADBRZ1M7AdkDZRmW4A8F2QOz96ZY4wXZAHnHob23BdkDLfXpDosF2QGI0dBHXwXZAwWnu2QvCdkAA/tWcQMJ2QFhnJ1p1wnZAwnb4EarCdkCgDEXE3sJ2QPhN9XATw3ZAHToSGEjDdkDIJp65fMN2QGFqolWxw3ZAlkMO7OXDdkCWeel8GsR2QLSAHwhPxHZA9JC/jYPEdkBEk8cNuMR2QHLNSYjsxHZA9Gwy/SDFdkCTMVpsVcV2QNG84NWJxXZA5jXbOb7FdkCWWyqY8sV2QJiP6vAmxnZAetTxQ1vGdkDANUqRj8Z2QGTEBdnDxnZApFIdG/jGdkAy94ZXLMd2QGFTSo5gx3ZAlkZSv5THdkDplbvqyMd2QGksahD9x3ZA5AN7MDHIdkAHzchKZch2QPvWXV+ZyHZAkEE9bs3IdkAvaXV3Acl2QCnL8no1yXZAxo6zeGnJdkBl3axwncl2QFPc+2LRyXZAccBzTwXKdkAdYzg2Ocp2QCVgPRdtynZAtJCb8qDKdkAB3hrI1Mp2QBSg3JcIy3ZA01XRYTzLdkDRQBYmcMt2QAS1cuSjy3ZAE60fndfLdkAxlPJPC8x2QFyHCf0+zHZANhI4pHLMdkB+erNFpsx2QL5WSuHZzHZAMakidw3NdkBi+hIHQc12QBx/J5F0zXZA/FWEFajNdkAWDAaU2812QCeDlQwPznZAnmtbf0LOdkAgsTrsdc52QFApWVOpznZA7x2AtNzOdkA2aNkPEM92QNvrQmVDz3ZAAAfBtHbPdkB1S2n+qc92QDx8P0Ldz3ZA+xIDgBDQdkAQnwS4Q9B2QGgYDep20HZAooU5FqrQdkC6JWY83dB2QBXjtFwQ0XZAtXoFd0PRdkDXqHCLdtF2QABW6Jmp0XZAoL1uotzRdkDZU/mkD9J2QCQRl6FC0nZAHBw+mHXSdkBKivaIqNJ2QLiipnPb0nZAUehhWA7TdkBmCBI3QdN2QIDb2g9003ZA1f2i4qbTdkCswU6v2dN2QD4/GnYM1HZAoETUNj/UdkDDrZPxcdR2QDh5Raak1HZAyuXuVNfUdkABFpb9CdV2QHlJIaA81XZAnBC4PG/VdkCz80DTodV2QCjGvWPU1XZAF7wZ7gbWdkAHK2xyOdZ2QPBFsfBr1nZAk+XfaJ7WdkDbFu3a0NZ2QFnJ9UYD13ZAktzYrDXXdkAgf7cMaNd2QMj4cWaa13ZA3LYUuszXdkBA6ZcH/9d2QIbkAE8x2HZAAJg5kGPYdkAlH1zLldh2QOtecgDI2HZANNIyL/rYdkBYYQJYLNl2QIIsh3pe2XZAYWoEl5DZdkAiu1Gtwtl2QJyMZL302XZA7IJAxybadkAGzgLLWNp2QNqWisiK2nZA2Gj9v7zadkA9oSGx7tp2QKDVHZwg23ZAnHrxgFLbdkA564NfhNt2QEKW0je223ZAGEkMCujbdkDhTfjVGdx2QPCxrJtL3HZAcjkhW33cdkD5xGIUr9x2QAeDVMfg3HZAFB0PdBLddkDiZokaRN12QOCSvbp13XZADNW3VKfddkBAD3Lo2N12QPzYxnUK3nZADk7u/DvedkBNFdB9bd52QCaZVfie3nZAubCXbNDedkB2Zn/aAd92QDrBGkIz33ZAYUZ3o2TfdkDdlXb+ld92QEZhI1PH33ZAB4BoofjfdkAkG4HpKeB2QA1dMitb4HZApUx5ZozgdkAlj4ebveB2QCUCEMru4HZA/xNa8h/hdkDFQzwUUeF2QGq2yi+C4XZAeB/hRLPhdkAEy6RT5OF2QKA1FlwV4nZAUwQHXkbidkC2vJdZd+J2QJsSyE6o4nZAU/GfPdnidkChj/YlCuN2QCAs4gc743ZAj0Vj42vjdkC/hZK4nON2QOZMLIfN43ZAzIhiT/7jdkA0bicRL+R2QHanc8xf5HZARmZUgZDkdkDDeLgvweR2QGZmvdfx5HZAMjQqeSLldkAjSRkUU+V2QNvBnqiD5XZA6uepNrTldkDV+SO+5OV2QCT7NT8V5nZA5X6uuUXmdkC1vrUtduZ2QO7NPJum5nZAepIzAtfmdkAPaKpiB+d2QPH+n7w353ZAFhH2D2jndkDIdtNcmOd2QIg5KKPI53ZAcFbs4vjndkCTsyocKeh2QIs/uk5Z6HZA9SLQeonodkCr91Ogueh2QIoAPr/p6HZAHuaa1xnpdkAGf2DpSel2QHp6iPR56XZA36oR+anpdkD04xL32el2QLOGZ+4J6nZApCol3znqdkAPyk3Jaep2QI+rxKyZ6nZANI2XicnqdkA=\",\"dtype\":\"float64\",\"shape\":[1000]}},\"selected\":null,\"selection_policy\":null},\"id\":\"ecbaef93-e715-4d52-808d-091cae9cf369\",\"type\":\"ColumnDataSource\"},{\"attributes\":{\"source\":{\"id\":\"66f88210-f4a5-4a23-b4d8-350e709804e7\",\"type\":\"ColumnDataSource\"}},\"id\":\"0124ed92-9e7d-4bf7-b6c0-7ea8d2e0a1a0\",\"type\":\"CDSView\"},{\"attributes\":{},\"id\":\"66e77062-d2aa-45e6-8ef9-f1f26b64682f\",\"type\":\"WheelZoomTool\"},{\"attributes\":{\"overlay\":{\"id\":\"3fea8bf2-61a2-4e76-ab18-87ce38467376\",\"type\":\"BoxAnnotation\"}},\"id\":\"6cd5e616-00e1-4fc6-853d-2a051a30dba5\",\"type\":\"BoxZoomTool\"},{\"attributes\":{\"callback\":null},\"id\":\"04ca4dc1-c05a-4c37-832b-ecbc82118ded\",\"type\":\"DataRange1d\"},{\"attributes\":{},\"id\":\"8940f4d2-832b-4b0f-8bfb-01aee60d687d\",\"type\":\"LinearScale\"},{\"attributes\":{\"plot\":{\"id\":\"bcf9dcbb-8f67-4a85-93f4-67658b407af8\",\"subtype\":\"Figure\",\"type\":\"Plot\"},\"ticker\":{\"id\":\"c27e4b1e-5e68-4a14-a686-8872f420df7a\",\"type\":\"BasicTicker\"}},\"id\":\"a704fc35-652b-4ccd-be1b-4030876142a4\",\"type\":\"Grid\"},{\"attributes\":{\"axis_label\":\"Date\",\"formatter\":{\"id\":\"c18782d8-65c8-43bd-9007-6544e8425d6f\",\"type\":\"BasicTickFormatter\"},\"plot\":{\"id\":\"bcf9dcbb-8f67-4a85-93f4-67658b407af8\",\"subtype\":\"Figure\",\"type\":\"Plot\"},\"ticker\":{\"id\":\"c27e4b1e-5e68-4a14-a686-8872f420df7a\",\"type\":\"BasicTicker\"}},\"id\":\"8d2b58e7-e271-450d-b8a4-40168f1a569c\",\"type\":\"LinearAxis\"},{\"attributes\":{\"line_color\":\"green\",\"x\":{\"field\":\"x\"},\"y\":{\"field\":\"y\"}},\"id\":\"f522927e-cd49-4b5d-b823-93bedb264a62\",\"type\":\"Line\"},{\"attributes\":{},\"id\":\"c27e4b1e-5e68-4a14-a686-8872f420df7a\",\"type\":\"BasicTicker\"},{\"attributes\":{\"axis_label\":\"CO2 [ppm]\",\"formatter\":{\"id\":\"0c4fa47d-e6dc-41eb-87b4-0f761ed62106\",\"type\":\"BasicTickFormatter\"},\"plot\":{\"id\":\"bcf9dcbb-8f67-4a85-93f4-67658b407af8\",\"subtype\":\"Figure\",\"type\":\"Plot\"},\"ticker\":{\"id\":\"3219be1a-e30d-48ca-9cab-c9e93f5cabc4\",\"type\":\"BasicTicker\"}},\"id\":\"6d8d4e46-f733-4181-84ec-a8dd0f4adb74\",\"type\":\"LinearAxis\"},{\"attributes\":{},\"id\":\"3219be1a-e30d-48ca-9cab-c9e93f5cabc4\",\"type\":\"BasicTicker\"},{\"attributes\":{\"bottom_units\":\"screen\",\"fill_alpha\":{\"value\":0.5},\"fill_color\":{\"value\":\"lightgrey\"},\"left_units\":\"screen\",\"level\":\"overlay\",\"line_alpha\":{\"value\":1.0},\"line_color\":{\"value\":\"black\"},\"line_dash\":[4,4],\"line_width\":{\"value\":2},\"plot\":null,\"render_mode\":\"css\",\"right_units\":\"screen\",\"top_units\":\"screen\"},\"id\":\"3fea8bf2-61a2-4e76-ab18-87ce38467376\",\"type\":\"BoxAnnotation\"},{\"attributes\":{},\"id\":\"8586ed74-e87b-4060-af04-4e98aabb147f\",\"type\":\"PanTool\"},{\"attributes\":{\"dimension\":1,\"plot\":{\"id\":\"bcf9dcbb-8f67-4a85-93f4-67658b407af8\",\"subtype\":\"Figure\",\"type\":\"Plot\"},\"ticker\":{\"id\":\"3219be1a-e30d-48ca-9cab-c9e93f5cabc4\",\"type\":\"BasicTicker\"}},\"id\":\"c360d47e-5a29-4560-a87e-3a13df893424\",\"type\":\"Grid\"},{\"attributes\":{\"source\":{\"id\":\"9a60877f-a147-493c-a2b9-f3113d9dd854\",\"type\":\"ColumnDataSource\"}},\"id\":\"6998917e-9b46-42a9-a46d-f134365fcb3e\",\"type\":\"CDSView\"},{\"attributes\":{\"line_alpha\":0.1,\"line_color\":\"#1f77b4\",\"x\":{\"field\":\"x\"},\"y\":{\"field\":\"y\"}},\"id\":\"b8a5fd15-a089-4c55-aa20-6e7346122f7b\",\"type\":\"Line\"},{\"attributes\":{\"line_color\":\"firebrick\",\"x\":{\"field\":\"x\"},\"y\":{\"field\":\"y\"}},\"id\":\"e0f0731f-a46f-4881-96f6-cba5987785cf\",\"type\":\"Line\"},{\"attributes\":{\"callback\":null,\"column_names\":[\"x\",\"y\"],\"data\":{\"x\":{\"__ndarray__\":\"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\",\"dtype\":\"float64\",\"shape\":[1000]},\"y\":{\"__ndarray__\":\"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\",\"dtype\":\"float64\",\"shape\":[1000]}},\"selected\":null,\"selection_policy\":null},\"id\":\"66f88210-f4a5-4a23-b4d8-350e709804e7\",\"type\":\"ColumnDataSource\"}],\"root_ids\":[\"bcf9dcbb-8f67-4a85-93f4-67658b407af8\"]},\"title\":\"Bokeh Application\",\"version\":\"0.12.15\"}};\n",
       "  var render_items = [{\"docid\":\"424ed711-e683-407c-b067-ca39fd1430c1\",\"elementid\":\"e5f6c282-07f0-4233-8c87-2251cca7a569\",\"modelid\":\"bcf9dcbb-8f67-4a85-93f4-67658b407af8\"}];\n",
       "  root.Bokeh.embed.embed_items_notebook(docs_json, render_items);\n",
       "\n",
       "  }\n",
       "  if (root.Bokeh !== undefined) {\n",
       "    embed_document(root);\n",
       "  } else {\n",
       "    var attempts = 0;\n",
       "    var timer = setInterval(function(root) {\n",
       "      if (root.Bokeh !== undefined) {\n",
       "        embed_document(root);\n",
       "        clearInterval(timer);\n",
       "      }\n",
       "      attempts++;\n",
       "      if (attempts > 100) {\n",
       "        console.log(\"Bokeh: ERROR: Unable to run BokehJS code because BokehJS library is missing\")\n",
       "        clearInterval(timer);\n",
       "      }\n",
       "    }, 10, root)\n",
       "  }\n",
       "})(window);"
      ],
      "application/vnd.bokehjs_exec.v0+json": ""
     },
     "metadata": {
      "application/vnd.bokehjs_exec.v0+json": {
       "id": "bcf9dcbb-8f67-4a85-93f4-67658b407af8"
      }
     },
     "output_type": "display_data"
    }
   ],
   "source": [
    "p = bokeh.plotting.figure(title=\"Fit to the Mauna Loa Data\", #x_axis_type='datetime', \n",
    "                          plot_width=900, plot_height=600)\n",
    "p.yaxis.axis_label = 'CO2 [ppm]'\n",
    "p.xaxis.axis_label = 'Date'\n",
    "\n",
    "# total fit\n",
    "p.line(xx, y_pred[0],  line_width=1, line_color=\"firebrick\", legend=\"Total fit\")\n",
    "\n",
    "# trend\n",
    "p.line(xx, y_pred[1], line_width=1, line_color=\"blue\", legend=\"Long term trend\")\n",
    "\n",
    "# trend + seasonal variation\n",
    "p.line(xx, y_pred[1] + y_pred[2], line_width=1, line_color=\"green\", legend=\"Long term trend + seasonal variation\")\n",
    "\n",
    "# true value\n",
    "p.circle(x, y, color=\"black\", legend=\"Observed data\")\n",
    "p.legend.location = \"top_left\"\n",
    "bokeh.plotting.show(p)"
   ]
  },
  {
   "cell_type": "markdown",
   "metadata": {},
   "source": [
    "Please pay attention to the very wiggly red line, which is the full model fit. If you scroll up a bit and have a look at the fit of the full model produced by GPflow itself (in the plot function of this notebook via the GPflow `predict_y()` method) you will not see this wiggly pattern. Let's plot the $m_1+m_2$ (green), the $m$ from the hand created predictions (red) and the $m$ as generated by GPflow (blue) in one graph to see the differences."
   ]
  },
  {
   "cell_type": "code",
   "execution_count": 18,
   "metadata": {
    "scrolled": false
   },
   "outputs": [
    {
     "data": {
      "text/html": [
       "\n",
       "<div class=\"bk-root\">\n",
       "    <div class=\"bk-plotdiv\" id=\"9799ade3-59e3-4b02-95ac-bd16616760d2\"></div>\n",
       "</div>"
      ]
     },
     "metadata": {},
     "output_type": "display_data"
    },
    {
     "data": {
      "application/javascript": [
       "(function(root) {\n",
       "  function embed_document(root) {\n",
       "    \n",
       "  var docs_json = {\"87ba05e8-1cf6-4b2c-bfaf-8060b2ceeeaf\":{\"roots\":{\"references\":[{\"attributes\":{\"line_alpha\":0.1,\"line_color\":\"#1f77b4\",\"x\":{\"field\":\"x\"},\"y\":{\"field\":\"y\"}},\"id\":\"29d0980a-6ab5-4e7c-8fe6-19127bf5e7d6\",\"type\":\"Line\"},{\"attributes\":{},\"id\":\"3d988ddb-7272-4367-a61e-54f7a4289b03\",\"type\":\"PanTool\"},{\"attributes\":{\"axis_label\":\"CO2 [ppm]\",\"formatter\":{\"id\":\"3472749b-0619-4b23-84e1-e82c33260903\",\"type\":\"BasicTickFormatter\"},\"plot\":{\"id\":\"92871b6c-a8a2-4a20-b264-6e171bc0bc4a\",\"subtype\":\"Figure\",\"type\":\"Plot\"},\"ticker\":{\"id\":\"663e7340-4ff5-4c2d-93d3-8b85ca6851b3\",\"type\":\"BasicTicker\"}},\"id\":\"84816d97-15af-43c6-b096-2dfad75e0983\",\"type\":\"LinearAxis\"},{\"attributes\":{\"axis_label\":\"Date\",\"formatter\":{\"id\":\"593d0f6d-cc9a-41ab-ac93-d515a1c19ee9\",\"type\":\"BasicTickFormatter\"},\"plot\":{\"id\":\"92871b6c-a8a2-4a20-b264-6e171bc0bc4a\",\"subtype\":\"Figure\",\"type\":\"Plot\"},\"ticker\":{\"id\":\"246a9807-f016-4338-a543-264528bdf2a1\",\"type\":\"BasicTicker\"}},\"id\":\"12c1329b-144d-4bdb-b592-9b4eb88f5a97\",\"type\":\"LinearAxis\"},{\"attributes\":{},\"id\":\"246a9807-f016-4338-a543-264528bdf2a1\",\"type\":\"BasicTicker\"},{\"attributes\":{\"callback\":null},\"id\":\"e4621d3f-6a87-4040-9006-b61a27b1e78b\",\"type\":\"DataRange1d\"},{\"attributes\":{},\"id\":\"7ce4a026-6f25-4402-946d-3f4149c2f3da\",\"type\":\"HelpTool\"},{\"attributes\":{\"label\":{\"value\":\"Total fit by GPflow\"},\"renderers\":[{\"id\":\"e2da5ec5-85a4-41e4-b887-ccdf0aa4e629\",\"type\":\"GlyphRenderer\"}]},\"id\":\"8fd89e5d-3502-4dca-aef0-353d749de83d\",\"type\":\"LegendItem\"},{\"attributes\":{},\"id\":\"593d0f6d-cc9a-41ab-ac93-d515a1c19ee9\",\"type\":\"BasicTickFormatter\"},{\"attributes\":{\"overlay\":{\"id\":\"18e1d77e-3f29-4487-8b8b-af92d4d086a8\",\"type\":\"BoxAnnotation\"}},\"id\":\"9191949d-fd01-4062-8956-566e1f896069\",\"type\":\"BoxZoomTool\"},{\"attributes\":{},\"id\":\"3304cb6a-8657-45bb-983c-dabe486d72c5\",\"type\":\"SaveTool\"},{\"attributes\":{},\"id\":\"dbe08e7b-4317-42b1-82a7-b4a62dbd1c7b\",\"type\":\"WheelZoomTool\"},{\"attributes\":{\"line_color\":\"green\",\"x\":{\"field\":\"x\"},\"y\":{\"field\":\"y\"}},\"id\":\"1cc24b8d-cca2-46dc-be92-f28b79c0b6de\",\"type\":\"Line\"},{\"attributes\":{\"line_alpha\":0.1,\"line_color\":\"#1f77b4\",\"x\":{\"field\":\"x\"},\"y\":{\"field\":\"y\"}},\"id\":\"a91f12e7-dcd6-4756-a0c5-1139c3803897\",\"type\":\"Line\"},{\"attributes\":{\"line_color\":\"firebrick\",\"x\":{\"field\":\"x\"},\"y\":{\"field\":\"y\"}},\"id\":\"6ae1ac82-eee8-4cbb-a98e-3a03f917edce\",\"type\":\"Line\"},{\"attributes\":{\"bottom_units\":\"screen\",\"fill_alpha\":{\"value\":0.5},\"fill_color\":{\"value\":\"lightgrey\"},\"left_units\":\"screen\",\"level\":\"overlay\",\"line_alpha\":{\"value\":1.0},\"line_color\":{\"value\":\"black\"},\"line_dash\":[4,4],\"line_width\":{\"value\":2},\"plot\":null,\"render_mode\":\"css\",\"right_units\":\"screen\",\"top_units\":\"screen\"},\"id\":\"18e1d77e-3f29-4487-8b8b-af92d4d086a8\",\"type\":\"BoxAnnotation\"},{\"attributes\":{\"callback\":null,\"column_names\":[\"x\",\"y\"],\"data\":{\"x\":{\"__ndarray__\":\"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\",\"dtype\":\"float64\",\"shape\":[1000]},\"y\":{\"__ndarray__\":\"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\",\"dtype\":\"float64\",\"shape\":[1000]}},\"selected\":null,\"selection_policy\":null},\"id\":\"4a7f4583-6b65-437b-966f-67469e39c680\",\"type\":\"ColumnDataSource\"},{\"attributes\":{\"callback\":null,\"column_names\":[\"x\",\"y\"],\"data\":{\"x\":{\"__ndarray__\":\"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\",\"dtype\":\"float64\",\"shape\":[1000]},\"y\":{\"__ndarray__\":\"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\",\"dtype\":\"float64\",\"shape\":[1000]}},\"selected\":null,\"selection_policy\":null},\"id\":\"d7e69c56-1179-4a39-81ed-bb1a3178081d\",\"type\":\"ColumnDataSource\"},{\"attributes\":{\"data_source\":{\"id\":\"890289f6-cbb5-4637-96f4-0210e2549b3a\",\"type\":\"ColumnDataSource\"},\"glyph\":{\"id\":\"6ae1ac82-eee8-4cbb-a98e-3a03f917edce\",\"type\":\"Line\"},\"hover_glyph\":null,\"muted_glyph\":null,\"nonselection_glyph\":{\"id\":\"29d0980a-6ab5-4e7c-8fe6-19127bf5e7d6\",\"type\":\"Line\"},\"selection_glyph\":null,\"view\":{\"id\":\"3549eec8-17e8-4e2d-a292-d9542c2a14fd\",\"type\":\"CDSView\"}},\"id\":\"b439aa81-a8ec-46be-bd5d-b552a84c1e17\",\"type\":\"GlyphRenderer\"},{\"attributes\":{\"plot\":{\"id\":\"92871b6c-a8a2-4a20-b264-6e171bc0bc4a\",\"subtype\":\"Figure\",\"type\":\"Plot\"},\"ticker\":{\"id\":\"246a9807-f016-4338-a543-264528bdf2a1\",\"type\":\"BasicTicker\"}},\"id\":\"25b7610d-9cf0-444c-a2ee-06e1774ac0ac\",\"type\":\"Grid\"},{\"attributes\":{\"line_color\":\"blue\",\"x\":{\"field\":\"x\"},\"y\":{\"field\":\"y\"}},\"id\":\"357d9b14-5062-405d-8d35-2c9ca05c6d27\",\"type\":\"Line\"},{\"attributes\":{},\"id\":\"9905532a-f101-49fc-80c5-5e517ccd558b\",\"type\":\"LinearScale\"},{\"attributes\":{\"callback\":null},\"id\":\"58e5c7b9-a60e-47f9-b1aa-8c38afdc760a\",\"type\":\"DataRange1d\"},{\"attributes\":{\"dimension\":1,\"plot\":{\"id\":\"92871b6c-a8a2-4a20-b264-6e171bc0bc4a\",\"subtype\":\"Figure\",\"type\":\"Plot\"},\"ticker\":{\"id\":\"663e7340-4ff5-4c2d-93d3-8b85ca6851b3\",\"type\":\"BasicTicker\"}},\"id\":\"3a7753e0-662a-4c0a-9232-81214f66ceac\",\"type\":\"Grid\"},{\"attributes\":{\"plot\":null,\"text\":\"Fit to the Mauna Loa Data\"},\"id\":\"f0d1e3bc-d9bd-4da4-9d3e-bb46e5bded87\",\"type\":\"Title\"},{\"attributes\":{\"source\":{\"id\":\"d7e69c56-1179-4a39-81ed-bb1a3178081d\",\"type\":\"ColumnDataSource\"}},\"id\":\"c9061c2c-d8a3-4972-93e7-ed4c5768acee\",\"type\":\"CDSView\"},{\"attributes\":{\"source\":{\"id\":\"890289f6-cbb5-4637-96f4-0210e2549b3a\",\"type\":\"ColumnDataSource\"}},\"id\":\"3549eec8-17e8-4e2d-a292-d9542c2a14fd\",\"type\":\"CDSView\"},{\"attributes\":{\"items\":[{\"id\":\"a3d901a7-e3b5-4bfc-85dd-a7e5808053c8\",\"type\":\"LegendItem\"},{\"id\":\"8fd89e5d-3502-4dca-aef0-353d749de83d\",\"type\":\"LegendItem\"},{\"id\":\"ff68327a-69d2-4a5f-8835-76f9109473fc\",\"type\":\"LegendItem\"}],\"location\":\"top_left\",\"plot\":{\"id\":\"92871b6c-a8a2-4a20-b264-6e171bc0bc4a\",\"subtype\":\"Figure\",\"type\":\"Plot\"}},\"id\":\"7a32e862-0748-476b-936b-64c78cf61773\",\"type\":\"Legend\"},{\"attributes\":{},\"id\":\"3472749b-0619-4b23-84e1-e82c33260903\",\"type\":\"BasicTickFormatter\"},{\"attributes\":{\"source\":{\"id\":\"4a7f4583-6b65-437b-966f-67469e39c680\",\"type\":\"ColumnDataSource\"}},\"id\":\"00627a36-97ce-461b-a36a-971a5ca49b24\",\"type\":\"CDSView\"},{\"attributes\":{\"data_source\":{\"id\":\"4a7f4583-6b65-437b-966f-67469e39c680\",\"type\":\"ColumnDataSource\"},\"glyph\":{\"id\":\"357d9b14-5062-405d-8d35-2c9ca05c6d27\",\"type\":\"Line\"},\"hover_glyph\":null,\"muted_glyph\":null,\"nonselection_glyph\":{\"id\":\"a91f12e7-dcd6-4756-a0c5-1139c3803897\",\"type\":\"Line\"},\"selection_glyph\":null,\"view\":{\"id\":\"00627a36-97ce-461b-a36a-971a5ca49b24\",\"type\":\"CDSView\"}},\"id\":\"e2da5ec5-85a4-41e4-b887-ccdf0aa4e629\",\"type\":\"GlyphRenderer\"},{\"attributes\":{\"below\":[{\"id\":\"12c1329b-144d-4bdb-b592-9b4eb88f5a97\",\"type\":\"LinearAxis\"}],\"left\":[{\"id\":\"84816d97-15af-43c6-b096-2dfad75e0983\",\"type\":\"LinearAxis\"}],\"plot_width\":900,\"renderers\":[{\"id\":\"12c1329b-144d-4bdb-b592-9b4eb88f5a97\",\"type\":\"LinearAxis\"},{\"id\":\"25b7610d-9cf0-444c-a2ee-06e1774ac0ac\",\"type\":\"Grid\"},{\"id\":\"84816d97-15af-43c6-b096-2dfad75e0983\",\"type\":\"LinearAxis\"},{\"id\":\"3a7753e0-662a-4c0a-9232-81214f66ceac\",\"type\":\"Grid\"},{\"id\":\"18e1d77e-3f29-4487-8b8b-af92d4d086a8\",\"type\":\"BoxAnnotation\"},{\"id\":\"7a32e862-0748-476b-936b-64c78cf61773\",\"type\":\"Legend\"},{\"id\":\"b439aa81-a8ec-46be-bd5d-b552a84c1e17\",\"type\":\"GlyphRenderer\"},{\"id\":\"e2da5ec5-85a4-41e4-b887-ccdf0aa4e629\",\"type\":\"GlyphRenderer\"},{\"id\":\"56854a83-dfe3-4eb6-b5d0-5c43df9592e5\",\"type\":\"GlyphRenderer\"}],\"title\":{\"id\":\"f0d1e3bc-d9bd-4da4-9d3e-bb46e5bded87\",\"type\":\"Title\"},\"toolbar\":{\"id\":\"651926f0-d2c5-4513-a7cd-df94587e7be7\",\"type\":\"Toolbar\"},\"x_range\":{\"id\":\"58e5c7b9-a60e-47f9-b1aa-8c38afdc760a\",\"type\":\"DataRange1d\"},\"x_scale\":{\"id\":\"4d018627-9296-44d5-9fc8-852264a2df89\",\"type\":\"LinearScale\"},\"y_range\":{\"id\":\"e4621d3f-6a87-4040-9006-b61a27b1e78b\",\"type\":\"DataRange1d\"},\"y_scale\":{\"id\":\"9905532a-f101-49fc-80c5-5e517ccd558b\",\"type\":\"LinearScale\"}},\"id\":\"92871b6c-a8a2-4a20-b264-6e171bc0bc4a\",\"subtype\":\"Figure\",\"type\":\"Plot\"},{\"attributes\":{\"data_source\":{\"id\":\"d7e69c56-1179-4a39-81ed-bb1a3178081d\",\"type\":\"ColumnDataSource\"},\"glyph\":{\"id\":\"1cc24b8d-cca2-46dc-be92-f28b79c0b6de\",\"type\":\"Line\"},\"hover_glyph\":null,\"muted_glyph\":null,\"nonselection_glyph\":{\"id\":\"37456cb1-a384-4a25-aa00-83f753026014\",\"type\":\"Line\"},\"selection_glyph\":null,\"view\":{\"id\":\"c9061c2c-d8a3-4972-93e7-ed4c5768acee\",\"type\":\"CDSView\"}},\"id\":\"56854a83-dfe3-4eb6-b5d0-5c43df9592e5\",\"type\":\"GlyphRenderer\"},{\"attributes\":{\"label\":{\"value\":\"Total fit by hand\"},\"renderers\":[{\"id\":\"b439aa81-a8ec-46be-bd5d-b552a84c1e17\",\"type\":\"GlyphRenderer\"}]},\"id\":\"a3d901a7-e3b5-4bfc-85dd-a7e5808053c8\",\"type\":\"LegendItem\"},{\"attributes\":{},\"id\":\"8cf2e5cb-c88b-47d6-a974-c5bdc66b5adc\",\"type\":\"ResetTool\"},{\"attributes\":{\"callback\":null,\"column_names\":[\"x\",\"y\"],\"data\":{\"x\":{\"__ndarray__\":\"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\",\"dtype\":\"float64\",\"shape\":[1000]},\"y\":{\"__ndarray__\":\"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\",\"dtype\":\"float64\",\"shape\":[1000]}},\"selected\":null,\"selection_policy\":null},\"id\":\"890289f6-cbb5-4637-96f4-0210e2549b3a\",\"type\":\"ColumnDataSource\"},{\"attributes\":{\"label\":{\"value\":\"Long term trend + seasonal variation\"},\"renderers\":[{\"id\":\"56854a83-dfe3-4eb6-b5d0-5c43df9592e5\",\"type\":\"GlyphRenderer\"}]},\"id\":\"ff68327a-69d2-4a5f-8835-76f9109473fc\",\"type\":\"LegendItem\"},{\"attributes\":{},\"id\":\"663e7340-4ff5-4c2d-93d3-8b85ca6851b3\",\"type\":\"BasicTicker\"},{\"attributes\":{\"active_drag\":\"auto\",\"active_inspect\":\"auto\",\"active_scroll\":\"auto\",\"active_tap\":\"auto\",\"tools\":[{\"id\":\"3d988ddb-7272-4367-a61e-54f7a4289b03\",\"type\":\"PanTool\"},{\"id\":\"dbe08e7b-4317-42b1-82a7-b4a62dbd1c7b\",\"type\":\"WheelZoomTool\"},{\"id\":\"9191949d-fd01-4062-8956-566e1f896069\",\"type\":\"BoxZoomTool\"},{\"id\":\"3304cb6a-8657-45bb-983c-dabe486d72c5\",\"type\":\"SaveTool\"},{\"id\":\"8cf2e5cb-c88b-47d6-a974-c5bdc66b5adc\",\"type\":\"ResetTool\"},{\"id\":\"7ce4a026-6f25-4402-946d-3f4149c2f3da\",\"type\":\"HelpTool\"}]},\"id\":\"651926f0-d2c5-4513-a7cd-df94587e7be7\",\"type\":\"Toolbar\"},{\"attributes\":{\"line_alpha\":0.1,\"line_color\":\"#1f77b4\",\"x\":{\"field\":\"x\"},\"y\":{\"field\":\"y\"}},\"id\":\"37456cb1-a384-4a25-aa00-83f753026014\",\"type\":\"Line\"},{\"attributes\":{},\"id\":\"4d018627-9296-44d5-9fc8-852264a2df89\",\"type\":\"LinearScale\"}],\"root_ids\":[\"92871b6c-a8a2-4a20-b264-6e171bc0bc4a\"]},\"title\":\"Bokeh Application\",\"version\":\"0.12.15\"}};\n",
       "  var render_items = [{\"docid\":\"87ba05e8-1cf6-4b2c-bfaf-8060b2ceeeaf\",\"elementid\":\"9799ade3-59e3-4b02-95ac-bd16616760d2\",\"modelid\":\"92871b6c-a8a2-4a20-b264-6e171bc0bc4a\"}];\n",
       "  root.Bokeh.embed.embed_items_notebook(docs_json, render_items);\n",
       "\n",
       "  }\n",
       "  if (root.Bokeh !== undefined) {\n",
       "    embed_document(root);\n",
       "  } else {\n",
       "    var attempts = 0;\n",
       "    var timer = setInterval(function(root) {\n",
       "      if (root.Bokeh !== undefined) {\n",
       "        embed_document(root);\n",
       "        clearInterval(timer);\n",
       "      }\n",
       "      attempts++;\n",
       "      if (attempts > 100) {\n",
       "        console.log(\"Bokeh: ERROR: Unable to run BokehJS code because BokehJS library is missing\")\n",
       "        clearInterval(timer);\n",
       "      }\n",
       "    }, 10, root)\n",
       "  }\n",
       "})(window);"
      ],
      "application/vnd.bokehjs_exec.v0+json": ""
     },
     "metadata": {
      "application/vnd.bokehjs_exec.v0+json": {
       "id": "92871b6c-a8a2-4a20-b264-6e171bc0bc4a"
      }
     },
     "output_type": "display_data"
    }
   ],
   "source": [
    "gpflow_mean, _ = m.predict_y(xx.reshape(-1,1))\n",
    "\n",
    "p = bokeh.plotting.figure(title=\"Fit to the Mauna Loa Data\", #x_axis_type='datetime', \n",
    "                          plot_width=900, plot_height=600)\n",
    "p.yaxis.axis_label = 'CO2 [ppm]'\n",
    "p.xaxis.axis_label = 'Date'\n",
    "\n",
    "# total fit\n",
    "p.line(xx, y_pred[0],  line_width=1, line_color=\"firebrick\", legend=\"Total fit by hand\")\n",
    "\n",
    "# total fit as produced by GPflow\n",
    "p.line(xx, gpflow_mean[:,0], line_width=1, line_color=\"blue\", legend=\"Total fit by GPflow\")\n",
    "\n",
    "# trend + seasonal variation\n",
    "p.line(xx, y_pred[1] + y_pred[2], line_width=1, line_color=\"green\", legend=\"Long term trend + seasonal variation\")\n",
    "\n",
    "p.legend.location = \"top_left\"\n",
    "bokeh.plotting.show(p)"
   ]
  },
  {
   "cell_type": "markdown",
   "metadata": {},
   "source": [
    "As you can see the difference is not big, but I am not entirely sure where this is coming from. Perhaps GPflow ignores white noise in its predictions (which actually makes sense)!"
   ]
  },
  {
   "cell_type": "markdown",
   "metadata": {},
   "source": [
    "If we then want to look at the seasonal variation (k2) and the short term variation (k4) we can do that as follows:"
   ]
  },
  {
   "cell_type": "code",
   "execution_count": 19,
   "metadata": {},
   "outputs": [
    {
     "data": {
      "text/html": [
       "\n",
       "<div class=\"bk-root\">\n",
       "    <div class=\"bk-plotdiv\" id=\"e91a358b-075e-4fb3-8a38-62d3f066360f\"></div>\n",
       "</div>"
      ]
     },
     "metadata": {},
     "output_type": "display_data"
    },
    {
     "data": {
      "application/javascript": [
       "(function(root) {\n",
       "  function embed_document(root) {\n",
       "    \n",
       "  var docs_json = {\"ca9979c0-57c1-45c9-b691-8ed4498f7191\":{\"roots\":{\"references\":[{\"attributes\":{},\"id\":\"f31c3d4a-3d56-43c5-b553-b5af11ddda0d\",\"type\":\"BasicTickFormatter\"},{\"attributes\":{\"plot\":null,\"text\":\"Fit to the Mauna Loa Data\"},\"id\":\"2702ff0a-febc-48af-99ce-c8edf14994d8\",\"type\":\"Title\"},{\"attributes\":{},\"id\":\"776ace63-3a42-4dbb-b95c-d8e7fa835960\",\"type\":\"ResetTool\"},{\"attributes\":{\"dimension\":1,\"plot\":{\"id\":\"2a9f9f3c-a050-42f9-ac19-7fa637dc5be2\",\"subtype\":\"Figure\",\"type\":\"Plot\"},\"ticker\":{\"id\":\"f328548c-db53-4e7e-85bd-d7339cfee7a7\",\"type\":\"BasicTicker\"}},\"id\":\"96e7e890-0dd0-4344-8fe5-02f558f3eed0\",\"type\":\"Grid\"},{\"attributes\":{\"callback\":null},\"id\":\"d0222b72-8d7e-45d6-a9c9-82d3bc8d4dc4\",\"type\":\"DataRange1d\"},{\"attributes\":{\"callback\":null,\"column_names\":[\"x\",\"y\"],\"data\":{\"x\":{\"__ndarray__\":\"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\",\"dtype\":\"float64\",\"shape\":[1000]},\"y\":{\"__ndarray__\":\"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\",\"dtype\":\"float64\",\"shape\":[1000]}},\"selected\":null,\"selection_policy\":null},\"id\":\"2c2b31e3-e84c-405f-b456-b5d9412a7532\",\"type\":\"ColumnDataSource\"},{\"attributes\":{\"items\":[{\"id\":\"1d027d70-6813-4ac5-931d-878a9970d044\",\"type\":\"LegendItem\"},{\"id\":\"9920dfa1-4401-4c32-9fa7-37b1c15c2892\",\"type\":\"LegendItem\"}],\"location\":\"top_left\",\"plot\":{\"id\":\"2a9f9f3c-a050-42f9-ac19-7fa637dc5be2\",\"subtype\":\"Figure\",\"type\":\"Plot\"}},\"id\":\"bc81bef6-bc31-43c4-8c6d-f36b3c073bc2\",\"type\":\"Legend\"},{\"attributes\":{},\"id\":\"7c43436b-208f-4e80-b90e-e5c6b1299830\",\"type\":\"HelpTool\"},{\"attributes\":{\"below\":[{\"id\":\"4160151d-07be-48f4-85a0-22e11167497e\",\"type\":\"LinearAxis\"}],\"left\":[{\"id\":\"abdc0bc1-1102-4be4-861b-65dbb37ba3a3\",\"type\":\"LinearAxis\"}],\"plot_width\":900,\"renderers\":[{\"id\":\"4160151d-07be-48f4-85a0-22e11167497e\",\"type\":\"LinearAxis\"},{\"id\":\"eeeb9a51-4ac1-4ca8-be1c-6c99d93dacac\",\"type\":\"Grid\"},{\"id\":\"abdc0bc1-1102-4be4-861b-65dbb37ba3a3\",\"type\":\"LinearAxis\"},{\"id\":\"96e7e890-0dd0-4344-8fe5-02f558f3eed0\",\"type\":\"Grid\"},{\"id\":\"34931aae-303e-4e77-97a7-d88e70f1fcc8\",\"type\":\"BoxAnnotation\"},{\"id\":\"bc81bef6-bc31-43c4-8c6d-f36b3c073bc2\",\"type\":\"Legend\"},{\"id\":\"5a85a17b-fa71-4509-bbb7-4609e3a7d075\",\"type\":\"GlyphRenderer\"},{\"id\":\"cee3ad2e-90c4-4b0d-84ef-aeb9dc7b2841\",\"type\":\"GlyphRenderer\"}],\"title\":{\"id\":\"2702ff0a-febc-48af-99ce-c8edf14994d8\",\"type\":\"Title\"},\"toolbar\":{\"id\":\"3fcf9f9a-c7de-4dff-89c5-f145e125cc60\",\"type\":\"Toolbar\"},\"x_range\":{\"id\":\"d0222b72-8d7e-45d6-a9c9-82d3bc8d4dc4\",\"type\":\"DataRange1d\"},\"x_scale\":{\"id\":\"5e6bbe10-a86a-429c-aa29-454d734e95f5\",\"type\":\"LinearScale\"},\"y_range\":{\"id\":\"e0a97dd8-ec2d-48a0-8422-f6def7783140\",\"type\":\"DataRange1d\"},\"y_scale\":{\"id\":\"8845d41f-33ce-4169-99a0-5aefcae52f0d\",\"type\":\"LinearScale\"}},\"id\":\"2a9f9f3c-a050-42f9-ac19-7fa637dc5be2\",\"subtype\":\"Figure\",\"type\":\"Plot\"},{\"attributes\":{},\"id\":\"a27a4ec0-92a2-4cbb-8f43-0a52becdf98d\",\"type\":\"PanTool\"},{\"attributes\":{\"overlay\":{\"id\":\"34931aae-303e-4e77-97a7-d88e70f1fcc8\",\"type\":\"BoxAnnotation\"}},\"id\":\"f935b1be-d09e-445d-bd15-b41bf165c2a7\",\"type\":\"BoxZoomTool\"},{\"attributes\":{},\"id\":\"98c79db4-db65-468f-9ad7-9b1940e2d4dd\",\"type\":\"BasicTickFormatter\"},{\"attributes\":{\"line_color\":\"blue\",\"x\":{\"field\":\"x\"},\"y\":{\"field\":\"y\"}},\"id\":\"6cf11d04-2015-44ad-b30a-80595176b346\",\"type\":\"Line\"},{\"attributes\":{\"data_source\":{\"id\":\"1cb02dec-96fd-4c74-8f42-f25804fd1f2e\",\"type\":\"ColumnDataSource\"},\"glyph\":{\"id\":\"6cf11d04-2015-44ad-b30a-80595176b346\",\"type\":\"Line\"},\"hover_glyph\":null,\"muted_glyph\":null,\"nonselection_glyph\":{\"id\":\"9ebf2c73-7c0b-4a9e-a557-fb48a0cb7410\",\"type\":\"Line\"},\"selection_glyph\":null,\"view\":{\"id\":\"d12a5554-9c7e-4f9b-a639-38e878cf101f\",\"type\":\"CDSView\"}},\"id\":\"cee3ad2e-90c4-4b0d-84ef-aeb9dc7b2841\",\"type\":\"GlyphRenderer\"},{\"attributes\":{\"label\":{\"value\":\"Short term variation\"},\"renderers\":[{\"id\":\"cee3ad2e-90c4-4b0d-84ef-aeb9dc7b2841\",\"type\":\"GlyphRenderer\"}]},\"id\":\"9920dfa1-4401-4c32-9fa7-37b1c15c2892\",\"type\":\"LegendItem\"},{\"attributes\":{},\"id\":\"cd237586-e8f3-45c7-961c-d829d7b96979\",\"type\":\"WheelZoomTool\"},{\"attributes\":{\"callback\":null},\"id\":\"e0a97dd8-ec2d-48a0-8422-f6def7783140\",\"type\":\"DataRange1d\"},{\"attributes\":{\"line_color\":\"firebrick\",\"x\":{\"field\":\"x\"},\"y\":{\"field\":\"y\"}},\"id\":\"5a5be40b-8770-43c4-91e4-ee391aac9e8d\",\"type\":\"Line\"},{\"attributes\":{\"label\":{\"value\":\"Seasonal variation\"},\"renderers\":[{\"id\":\"5a85a17b-fa71-4509-bbb7-4609e3a7d075\",\"type\":\"GlyphRenderer\"}]},\"id\":\"1d027d70-6813-4ac5-931d-878a9970d044\",\"type\":\"LegendItem\"},{\"attributes\":{},\"id\":\"49cdeb19-9ab3-4591-b1b7-aea19d1ba7b1\",\"type\":\"BasicTicker\"},{\"attributes\":{},\"id\":\"5e6bbe10-a86a-429c-aa29-454d734e95f5\",\"type\":\"LinearScale\"},{\"attributes\":{\"callback\":null,\"column_names\":[\"x\",\"y\"],\"data\":{\"x\":{\"__ndarray__\":\"AAAAAAAYn0CBZhBAChifQAHNIIAUGJ9AgjMxwB4Yn0ADmkEAKRifQIMAUkAzGJ9ABGdigD0Yn0CEzXLARxifQAU0gwBSGJ9AhpqTQFwYn0AGAaSAZhifQIdntMBwGJ9ACM7EAHsYn0CINNVAhRifQAmb5YCPGJ9AigH2wJkYn0AKaAYBpBifQIvOFkGuGJ9ADDUngbgYn0CMmzfBwhifQA0CSAHNGJ9AjWhYQdcYn0AOz2iB4RifQI81ecHrGJ9AD5yJAfYYn0CQAppBABmfQBFpqoEKGZ9Akc+6wRQZn0ASNssBHxmfQJOc20EpGZ9AEwPsgTMZn0CUafzBPRmfQBXQDAJIGZ9AlTYdQlIZn0AWnS2CXBmfQJYDPsJmGZ9AF2pOAnEZn0CY0F5CexmfQBg3b4KFGZ9AmZ1/wo8Zn0AaBJACmhmfQJpqoEKkGZ9AG9Gwgq4Zn0CcN8HCuBmfQBye0QLDGZ9AnQTiQs0Zn0Ada/KC1xmfQJ7RAsPhGZ9AHzgTA+wZn0CfniND9hmfQCAFNIMAGp9AoWtEwwoan0Ah0lQDFRqfQKI4ZUMfGp9AI591gykan0CjBYbDMxqfQCRslgM+Gp9ApdKmQ0gan0AlObeDUhqfQKafx8NcGp9AJgbYA2can0CnbOhDcRqfQCjT+IN7Gp9AqDkJxIUan0ApoBkEkBqfQKoGKkSaGp9AKm06hKQan0Cr00rErhqfQCw6WwS5Gp9ArKBrRMMan0AtB3yEzRqfQK1tjMTXGp9ALtScBOIan0CvOq1E7BqfQC+hvYT2Gp9AsAfOxAAbn0Axbt4ECxufQLHU7kQVG59AMjv/hB8bn0CzoQ/FKRufQDMIIAU0G59AtG4wRT4bn0A11UCFSBufQLU7UcVSG59ANqJhBV0bn0C2CHJFZxufQDdvgoVxG59AuNWSxXsbn0A4PKMFhhufQLmis0WQG59AOgnEhZobn0C6b9TFpBufQDvW5AWvG59AvDz1Rbkbn0A8owWGwxufQL0JFsbNG59APnAmBtgbn0C+1jZG4hufQD89R4bsG59Av6NXxvYbn0BACmgGARyfQMFweEYLHJ9AQdeIhhUcn0DCPZnGHxyfQEOkqQYqHJ9Awwq6RjQcn0BEccqGPhyfQMXX2sZIHJ9ART7rBlMcn0DGpPtGXRyfQEYLDIdnHJ9Ax3Ecx3Ecn0BI2CwHfByfQMg+PUeGHJ9ASaVNh5Acn0DKC17HmhyfQEpybgelHJ9Ay9h+R68cn0BMP4+HuRyfQMyln8fDHJ9ATQywB84cn0DOcsBH2ByfQE7Z0IfiHJ9Azz/hx+wcn0BPpvEH9xyfQNAMAkgBHZ9AUXMSiAsdn0DR2SLIFR2fQFJAMwggHZ9A06ZDSCodn0BTDVSINB2fQNRzZMg+HZ9AVdp0CEkdn0DVQIVIUx2fQFanlYhdHZ9A1g2myGcdn0BXdLYIch2fQNjaxkh8HZ9AWEHXiIYdn0DZp+fIkB2fQFoO+AibHZ9A2nQISaUdn0Bb2xiJrx2fQNxBKcm5HZ9AXKg5CcQdn0DdDkpJzh2fQF51WonYHZ9A3ttqyeIdn0BfQnsJ7R2fQN+oi0n3HZ9AYA+ciQEen0DhdazJCx6fQGHcvAkWHp9A4kLNSSAen0Bjqd2JKh6fQOMP7sk0Hp9AZHb+CT8en0Dl3A5KSR6fQGVDH4pTHp9A5qkvyl0en0BnEEAKaB6fQOd2UEpyHp9AaN1ginwen0DoQ3HKhh6fQGmqgQqRHp9A6hCSSpsen0Bqd6KKpR6fQOvdssqvHp9AbETDCroen0DsqtNKxB6fQG0R5IrOHp9A7nf0ytgen0Bu3gQL4x6fQO9EFUvtHp9Ab6sli/cen0DwETbLAR+fQHF4RgsMH59A8d5WSxYfn0ByRWeLIB+fQPOrd8sqH59AcxKICzUfn0D0eJhLPx+fQHXfqItJH59A9UW5y1Mfn0B2rMkLXh+fQPcS2ktoH59Ad3nqi3Ifn0D43/rLfB+fQHhGCwyHH59A+awbTJEfn0B6EyyMmx+fQPp5PMylH59Ae+BMDLAfn0D8Rl1Muh+fQHytbYzEH59A/RN+zM4fn0B+eo4M2R+fQP7gnkzjH59Af0evjO0fn0D/rb/M9x+fQIAU0AwCIJ9AAXvgTAwgn0CB4fCMFiCfQAJIAc0gIJ9Ag64RDSsgn0ADFSJNNSCfQIR7Mo0/IJ9ABeJCzUkgn0CFSFMNVCCfQAavY01eIJ9AhxV0jWggn0AHfITNciCfQIjilA19IJ9ACEmlTYcgn0CJr7WNkSCfQAoWxs2bIJ9AinzWDaYgn0AL4+ZNsCCfQIxJ9426IJ9ADLAHzsQgn0CNFhgOzyCfQA59KE7ZIJ9AjuM4juMgn0APSknO7SCfQJCwWQ74IJ9AEBdqTgIhn0CRfXqODCGfQBHkis4WIZ9AkkqbDiEhn0ATsatOKyGfQJMXvI41IZ9AFH7Mzj8hn0CV5NwOSiGfQBVL7U5UIZ9AlrH9jl4hn0AXGA7PaCGfQJd+Hg9zIZ9AGOUuT30hn0CYSz+PhyGfQBmyT8+RIZ9AmhhgD5whn0Aaf3BPpiGfQJvlgI+wIZ9AHEyRz7ohn0CcsqEPxSGfQB0Zsk/PIZ9Ann/Cj9khn0Ae5tLP4yGfQJ9M4w/uIZ9AILPzT/ghn0CgGQSQAiKfQCGAFNAMIp9AoeYkEBcin0AiTTVQISKfQKOzRZArIp9AIxpW0DUin0CkgGYQQCKfQCXndlBKIp9ApU2HkFQin0AmtJfQXiKfQKcaqBBpIp9AJ4G4UHMin0Co58iQfSKfQChO2dCHIp9AqbTpEJIin0AqG/pQnCKfQKqBCpGmIp9AK+ga0bAin0CsTisRuyKfQCy1O1HFIp9ArRtMkc8in0AuglzR2SKfQK7obBHkIp9AL099Ue4in0CwtY2R+CKfQDAcntECI59AsYKuEQ0jn0Ax6b5RFyOfQLJPz5EhI59AM7bf0Ssjn0CzHPARNiOfQDSDAFJAI59AtekQkkojn0A1UCHSVCOfQLa2MRJfI59ANx1CUmkjn0C3g1KScyOfQDjqYtJ9I59AuVBzEogjn0A5t4NSkiOfQLodlJKcI59AOoSk0qYjn0C76rQSsSOfQDxRxVK7I59AvLfVksUjn0A9HubSzyOfQL6E9hLaI59APusGU+Qjn0C/UReT7iOfQEC4J9P4I59AwB44EwMkn0BBhUhTDSSfQMHrWJMXJJ9AQlJp0yEkn0DDuHkTLCSfQEMfilM2JJ9AxIWak0Akn0BF7KrTSiSfQMVSuxNVJJ9ARrnLU18kn0DHH9yTaSSfQEeG7NNzJJ9AyOz8E34kn0BJUw1UiCSfQMm5HZSSJJ9ASiAu1Jwkn0DKhj4UpySfQEvtTlSxJJ9AzFNflLskn0BMum/UxSSfQM0ggBTQJJ9AToeQVNokn0DO7aCU5CSfQE9UsdTuJJ9A0LrBFPkkn0BQIdJUAyWfQNGH4pQNJZ9AUe7y1Bcln0DSVAMVIiWfQFO7E1UsJZ9A0yEklTYln0BUiDTVQCWfQNXuRBVLJZ9AVVVVVVUln0DWu2WVXyWfQFcidtVpJZ9A14iGFXQln0BY75ZVfiWfQNlVp5WIJZ9AWby31ZIln0DaIsgVnSWfQFqJ2FWnJZ9A2+/olbEln0BcVvnVuyWfQNy8CRbGJZ9AXSMaVtAln0DeiSqW2iWfQF7wOtbkJZ9A31ZLFu8ln0BgvVtW+SWfQOAjbJYDJp9AYYp81g0mn0Di8IwWGCafQGJXnVYiJp9A472tliwmn0BjJL7WNiafQOSKzhZBJp9AZfHeVksmn0DlV++WVSafQGa+/9ZfJp9A5yQQF2omn0BniyBXdCafQOjxMJd+Jp9AaVhB14gmn0DpvlEXkyafQGolYledJp9A6otyl6cmn0Br8oLXsSafQOxYkxe8Jp9AbL+jV8Ymn0DtJbSX0CafQG6MxNfaJp9A7vLUF+Umn0BvWeVX7yafQPC/9Zf5Jp9AcCYG2AMnn0DxjBYYDiefQHLzJlgYJ59A8lk3mCInn0BzwEfYLCefQPMmWBg3J59AdI1oWEEnn0D183iYSyefQHVaidhVJ59A9sCZGGAnn0B3J6pYaiefQPeNuph0J59AePTK2H4nn0D5WtsYiSefQHnB61iTJ59A+if8mJ0nn0B6jgzZpyefQPv0HBmyJ59AfFstWbwnn0D8wT2ZxiefQH0oTtnQJ59A/o5eGdsnn0B+9W5Z5SefQP9bf5nvJ59AgMKP2fknn0AAKaAZBCifQIGPsFkOKJ9AAvbAmRgon0CCXNHZIiifQAPD4RktKJ9AgynyWTcon0AEkAKaQSifQIX2EtpLKJ9ABV0jGlYon0CGwzNaYCifQAcqRJpqKJ9Ah5BU2nQon0AI92QafyifQIlddVqJKJ9ACcSFmpMon0CKKpbanSifQAuRphqoKJ9Ai/e2WrIon0AMXseavCifQIzE19rGKJ9ADSvoGtEon0COkfha2yifQA74CJvlKJ9Aj14Z2+8on0AQxSkb+iifQJArOlsEKZ9AEZJKmw4pn0CS+FrbGCmfQBJfaxsjKZ9Ak8V7Wy0pn0ATLIybNymfQJSSnNtBKZ9AFfmsG0wpn0CVX71bVimfQBbGzZtgKZ9Alyze22opn0AXk+4bdSmfQJj5/lt/KZ9AGWAPnIkpn0CZxh/ckymfQBotMByeKZ9Am5NAXKgpn0Ab+lCcsimfQJxgYdy8KZ9AHMdxHMcpn0CdLYJc0SmfQB6UkpzbKZ9Anvqi3OUpn0AfYbMc8CmfQKDHw1z6KZ9AIC7UnAQqn0ChlOTcDiqfQCL79BwZKp9AomEFXSMqn0AjyBWdLSqfQKMuJt03Kp9AJJU2HUIqn0Cl+0ZdTCqfQCViV51WKp9Apshn3WAqn0AnL3gdayqfQKeViF11Kp9AKPyYnX8qn0CpYqndiSqfQCnJuR2UKp9Aqi/KXZ4qn0ArltqdqCqfQKv86t2yKp9ALGP7Hb0qn0CsyQtexyqfQC0wHJ7RKp9ArpYs3tsqn0Au/Twe5iqfQK9jTV7wKp9AMMpdnvoqn0CwMG7eBCufQDGXfh4PK59Asv2OXhkrn0AyZJ+eIyufQLPKr94tK59ANDHAHjgrn0C0l9BeQiufQDX+4J5MK59AtWTx3lYrn0A2ywEfYSufQLcxEl9rK59AN5gin3Urn0C4/jLffyufQDllQx+KK59AuctTX5Qrn0A6MmSfniufQLuYdN+oK59AO/+EH7Mrn0C8ZZVfvSufQDzMpZ/HK59AvTK239Ern0A+mcYf3CufQL7/1l/mK59AP2bnn/Arn0DAzPff+iufQEAzCCAFLJ9AwZkYYA8sn0BCACmgGSyfQMJmOeAjLJ9AQ81JIC4sn0DEM1pgOCyfQESaaqBCLJ9AxQB74Ewsn0BFZ4sgVyyfQMbNm2BhLJ9ARzSsoGssn0DHmrzgdSyfQEgBzSCALJ9AyWfdYIosn0BJzu2glCyfQMo0/uCeLJ9AS5sOIaksn0DLAR9hsyyfQExoL6G9LJ9AzM4/4ccsn0BNNVAh0iyfQM6bYGHcLJ9ATgJxoeYsn0DPaIHh8CyfQFDPkSH7LJ9A0DWiYQUtn0BRnLKhDy2fQNICw+EZLZ9AUmnTISQtn0DTz+NhLi2fQFQ29KE4LZ9A1JwE4kItn0BVAxUiTS2fQNVpJWJXLZ9AVtA1omEtn0DXNkbiay2fQFedViJ2LZ9A2ANnYoAtn0BZaneiii2fQNnQh+KULZ9AWjeYIp8tn0DbnahiqS2fQFsEuaKzLZ9A3GrJ4r0tn0Bd0dkiyC2fQN036mLSLZ9AXp76otwtn0DeBAvj5i2fQF9rGyPxLZ9A4NErY/stn0BgODyjBS6fQOGeTOMPLp9AYgVdIxoun0Dia21jJC6fQGPSfaMuLp9A5DiO4zgun0Bkn54jQy6fQOUFr2NNLp9AZWy/o1cun0Dm0s/jYS6fQGc54CNsLp9A55/wY3Yun0BoBgGkgC6fQOlsEeSKLp9AadMhJJUun0DqOTJkny6fQGugQqSpLp9A6wZT5LMun0BsbWMkvi6fQO3Tc2TILp9AbTqEpNIun0DuoJTk3C6fQG4HpSTnLp9A7221ZPEun0Bw1MWk+y6fQPA61uQFL59AcaHmJBAvn0DyB/dkGi+fQHJuB6UkL59A89QX5S4vn0B0OyglOS+fQPShOGVDL59AdQhJpU0vn0D1blnlVy+fQHbVaSViL59A9zt6ZWwvn0B3ooqldi+fQPgIm+WAL59AeW+rJYsvn0D51btllS+fQHo8zKWfL59A+6Lc5akvn0B7Ce0ltC+fQPxv/WW+L59AfdYNpsgvn0D9PB7m0i+fQH6jLibdL59A/gk/Zucvn0B/cE+m8S+fQADXX+b7L59AgD1wJgYwn0ABpIBmEDCfQIIKkaYaMJ9AAnGh5iQwn0CD17EmLzCfQAQ+wmY5MJ9AhKTSpkMwn0AFC+PmTTCfQIZx8yZYMJ9ABtgDZ2Iwn0CHPhSnbDCfQAelJOd2MJ9AiAs1J4Ewn0AJckVnizCfQInYVaeVMJ9ACj9m558wn0CLpXYnqjCfQAsMh2e0MJ9AjHKXp74wn0AN2afnyDCfQI0/uCfTMJ9ADqbIZ90wn0CODNmn5zCfQA9z6efxMJ9AkNn5J/wwn0AQQApoBjGfQJGmGqgQMZ9AEg0r6Boxn0CSczsoJTGfQBPaS2gvMZ9AlEBcqDkxn0AUp2zoQzGfQJUNfShOMZ9AFnSNaFgxn0CW2p2oYjGfQBdBruhsMZ9Al6e+KHcxn0AYDs9ogTGfQJl036iLMZ9AGdvv6JUxn0CaQQApoDGfQBuoEGmqMZ9Amw4hqbQxn0AcdTHpvjGfQJ3bQSnJMZ9AHUJSadMxn0CeqGKp3TGfQB4Pc+nnMZ9An3WDKfIxn0Ag3JNp/DGfQKBCpKkGMp9AIam06RAyn0CiD8UpGzKfQCJ21WklMp9Ao9zlqS8yn0AkQ/bpOTKfQKSpBipEMp9AJRAXak4yn0CmdieqWDKfQCbdN+piMp9Ap0NIKm0yn0AnqlhqdzKfQKgQaaqBMp9AKXd56osyn0Cp3YkqljKfQCpEmmqgMp9Aq6qqqqoyn0ArEbvqtDKfQKx3yyq/Mp9ALd7baskyn0CtROyq0zKfQC6r/OrdMp9ArxENK+gyn0AveB1r8jKfQLDeLav8Mp9AMEU+6wYzn0Cxq04rETOfQDISX2sbM59AsnhvqyUzn0Az33/rLzOfQLRFkCs6M59ANKyga0Qzn0C1ErGrTjOfQDZ5wetYM59Att/RK2Mzn0A3RuJrbTOfQLes8qt3M59AOBMD7IEzn0C5eRMsjDOfQDngI2yWM59AukY0rKAzn0A7rUTsqjOfQLsTVSy1M59APHplbL8zn0C94HWsyTOfQD1HhuzTM59Avq2WLN4zn0A/FKds6DOfQL96t6zyM59AQOHH7Pwzn0DAR9gsBzSfQEGu6GwRNJ9AwhT5rBs0n0BCewntJTSfQMPhGS0wNJ9AREgqbTo0n0DErjqtRDSfQEUVS+1ONJ9AxntbLVk0n0BG4mttYzSfQMdIfK1tNJ9AR6+M7Xc0n0DIFZ0tgjSfQEl8rW2MNJ9AyeK9rZY0n0BKSc7toDSfQMuv3i2rNJ9ASxbvbbU0n0DMfP+tvzSfQE3jD+7JNJ9AzUkgLtQ0n0BOsDBu3jSfQM8WQa7oNJ9AT31R7vI0n0DQ42Eu/TSfQFBKcm4HNZ9A0bCCrhE1n0BSF5PuGzWfQNJ9oy4mNZ9AU+SzbjA1n0DUSsSuOjWfQFSx1O5ENZ9A1RflLk81n0BWfvVuWTWfQNbkBa9jNZ9AV0sW7201n0DYsSYveDWfQFgYN2+CNZ9A2X5Hr4w1n0BZ5VfvljWfQNpLaC+hNZ9AW7J4b6s1n0DbGImvtTWfQFx/me+/NZ9A3eWpL8o1n0BdTLpv1DWfQN6yyq/eNZ9AXxnb7+g1n0Dff+sv8zWfQGDm+2/9NZ9A4EwMsAc2n0BhsxzwETafQOIZLTAcNp9AYoA9cCY2n0Dj5k2wMDafQGRNXvA6Np9A5LNuMEU2n0BlGn9wTzafQOaAj7BZNp9AZuef8GM2n0DnTbAwbjafQGi0wHB4Np9A6BrRsII2n0BpgeHwjDafQOnn8TCXNp9Aak4CcaE2n0DrtBKxqzafQGsbI/G1Np9A7IEzMcA2n0Bt6ENxyjafQO1OVLHUNp9AbrVk8d42n0DvG3Ux6TafQG+ChXHzNp9A8OiVsf02n0BwT6bxBzefQPG1tjESN59AchzHcRw3n0DygtexJjefQHPp5/EwN59A9E/4MTs3n0B0tghyRTefQPUcGbJPN59AdoMp8lk3n0D26TkyZDefQHdQSnJuN59A+LZasng3n0B4HWvygjefQPmDezKNN59AeeqLcpc3n0D6UJyyoTefQHu3rPKrN59A+x29MrY3n0B8hM1ywDefQP3q3bLKN59AfVHu8tQ3n0D+t/4y3zefQH8eD3PpN59A/4Qfs/M3n0CA6y/z/TefQAFSQDMIOJ9AgbhQcxI4n0ACH2GzHDifQIKFcfMmOJ9AA+yBMzE4n0CEUpJzOzifQAS5orNFOJ9AhR+z8084n0AGhsMzWjifQIbs03NkOJ9AB1Pks244n0CIufTzeDifQAggBTSDOJ9AiYYVdI04n0AJ7SW0lzifQIpTNvShOJ9AC7pGNKw4n0CLIFd0tjifQAyHZ7TAOJ9Aje139Mo4n0ANVIg01TifQI66mHTfOJ9ADyGptOk4n0CPh7n08zifQBDuyTT+OJ9AkVTadAg5n0ARu+q0EjmfQJIh+/QcOZ9AEogLNSc5n0CT7ht1MTmfQBRVLLU7OZ9AlLs89UU5n0AVIk01UDmfQJaIXXVaOZ9AFu9ttWQ5n0CXVX71bjmfQBi8jjV5OZ9AmCKfdYM5n0AZia+1jTmfQJrvv/WXOZ9AGlbQNaI5n0CbvOB1rDmfQBsj8bW2OZ9AnIkB9sA5n0Ad8BE2yzmfQJ1WInbVOZ9AHr0ytt85n0CfI0P26TmfQB+KUzb0OZ9AoPBjdv45n0AhV3S2CDqfQKG9hPYSOp9AIiSVNh06n0CiiqV2JzqfQCPxtbYxOp9ApFfG9js6n0AkvtY2RjqfQKUk53ZQOp9AJov3tlo6n0Cm8Qf3ZDqfQCdYGDdvOp9AqL4od3k6n0AoJTm3gzqfQKmLSfeNOp9AKvJZN5g6n0CqWGp3ojqfQCu/eresOp9AqyWL97Y6n0AsjJs3wTqfQK3yq3fLOp9ALVm8t9U6n0Cuv8z33zqfQC8m3TfqOp9Ar4ztd/Q6n0Aw8/23/jqfQLFZDvgIO59AMcAeOBM7n0CyJi94HTufQDKNP7gnO59As/NP+DE7n0A0WmA4PDufQLTAcHhGO59ANSeBuFA7n0C2jZH4WjufQDb0oThlO59At1qyeG87n0A4wcK4eTufQLgn0/iDO59AOY7jOI47n0C69PN4mDufQDpbBLmiO59Au8EU+aw7n0A7KCU5tzufQLyONXnBO59APfVFucs7n0C9W1b51TufQD7CZjngO59Avyh3eeo7n0A/j4e59DufQMD1l/n+O59AQVyoOQk8n0DBwrh5EzyfQEIpybkdPJ9Awo/Z+Sc8n0BD9uk5MjyfQMRc+nk8PJ9ARMMKukY8n0DFKRv6UDyfQEaQKzpbPJ9AxvY7emU8n0BHXUy6bzyfQMjDXPp5PJ9ASCptOoQ8n0DJkH16jjyfQEr3jbqYPJ9Ayl2e+qI8n0BLxK46rTyfQMsqv3q3PJ9ATJHPusE8n0DN99/6yzyfQE1e8DrWPJ9AzsQAe+A8n0BPKxG76jyfQM+RIfv0PJ9AUPgxO/88n0DRXkJ7CT2fQFHFUrsTPZ9A0itj+x09n0BTknM7KD2fQNP4g3syPZ9AVF+Uuzw9n0DUxaT7Rj2fQFUstTtRPZ9A1pLFe1s9n0BW+dW7ZT2fQNdf5vtvPZ9AWMb2O3o9n0DYLAd8hD2fQFmTF7yOPZ9A2vkn/Jg9n0BaYDg8oz2fQNvGSHytPZ9AWy1ZvLc9n0Dck2n8wT2fQF36eTzMPZ9A3WCKfNY9n0Bex5q84D2fQN8tq/zqPZ9AX5S7PPU9n0Dg+st8/z2fQGFh3LwJPp9A4cfs/BM+n0BiLv08Hj6fQOOUDX0oPp9AY/sdvTI+n0DkYS79PD6fQGTIPj1HPp9A5S5PfVE+n0BmlV+9Wz6fQOb7b/1lPp9AZ2KAPXA+n0DoyJB9ej6fQGgvob2EPp9A6ZWx/Y4+n0Bq/ME9mT6fQOpi0n2jPp9Aa8niva0+n0DsL/P9tz6fQGyWAz7CPp9A7fwTfsw+n0BtYyS+1j6fQO7JNP7gPp9AbzBFPus+n0DvllV+9T6fQHD9Zb7/Pp9A8WN2/gk/n0BxyoY+FD+fQPIwl34eP59Ac5envig/n0Dz/bf+Mj+fQHRkyD49P59A9MrYfkc/n0B1Mem+UT+fQPaX+f5bP59Adv4JP2Y/n0D3ZBp/cD+fQHjLKr96P59A+DE7/4Q/n0B5mEs/jz+fQPr+W3+ZP59AemVsv6M/n0D7y3z/rT+fQHwyjT+4P59A/Jidf8I/n0B9/62/zD+fQP1lvv/WP59AfszOP+E/n0D/Mt9/6z+fQH+Z77/1P59AAAAAAABAn0A=\",\"dtype\":\"float64\",\"shape\":[1000]},\"y\":{\"__ndarray__\":\"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\",\"dtype\":\"float64\",\"shape\":[1000]}},\"selected\":null,\"selection_policy\":null},\"id\":\"1cb02dec-96fd-4c74-8f42-f25804fd1f2e\",\"type\":\"ColumnDataSource\"},{\"attributes\":{\"bottom_units\":\"screen\",\"fill_alpha\":{\"value\":0.5},\"fill_color\":{\"value\":\"lightgrey\"},\"left_units\":\"screen\",\"level\":\"overlay\",\"line_alpha\":{\"value\":1.0},\"line_color\":{\"value\":\"black\"},\"line_dash\":[4,4],\"line_width\":{\"value\":2},\"plot\":null,\"render_mode\":\"css\",\"right_units\":\"screen\",\"top_units\":\"screen\"},\"id\":\"34931aae-303e-4e77-97a7-d88e70f1fcc8\",\"type\":\"BoxAnnotation\"},{\"attributes\":{},\"id\":\"8845d41f-33ce-4169-99a0-5aefcae52f0d\",\"type\":\"LinearScale\"},{\"attributes\":{\"line_alpha\":0.1,\"line_color\":\"#1f77b4\",\"x\":{\"field\":\"x\"},\"y\":{\"field\":\"y\"}},\"id\":\"9ebf2c73-7c0b-4a9e-a557-fb48a0cb7410\",\"type\":\"Line\"},{\"attributes\":{\"plot\":{\"id\":\"2a9f9f3c-a050-42f9-ac19-7fa637dc5be2\",\"subtype\":\"Figure\",\"type\":\"Plot\"},\"ticker\":{\"id\":\"49cdeb19-9ab3-4591-b1b7-aea19d1ba7b1\",\"type\":\"BasicTicker\"}},\"id\":\"eeeb9a51-4ac1-4ca8-be1c-6c99d93dacac\",\"type\":\"Grid\"},{\"attributes\":{\"source\":{\"id\":\"1cb02dec-96fd-4c74-8f42-f25804fd1f2e\",\"type\":\"ColumnDataSource\"}},\"id\":\"d12a5554-9c7e-4f9b-a639-38e878cf101f\",\"type\":\"CDSView\"},{\"attributes\":{\"axis_label\":\"CO2 [ppm]\",\"formatter\":{\"id\":\"f31c3d4a-3d56-43c5-b553-b5af11ddda0d\",\"type\":\"BasicTickFormatter\"},\"plot\":{\"id\":\"2a9f9f3c-a050-42f9-ac19-7fa637dc5be2\",\"subtype\":\"Figure\",\"type\":\"Plot\"},\"ticker\":{\"id\":\"f328548c-db53-4e7e-85bd-d7339cfee7a7\",\"type\":\"BasicTicker\"}},\"id\":\"abdc0bc1-1102-4be4-861b-65dbb37ba3a3\",\"type\":\"LinearAxis\"},{\"attributes\":{},\"id\":\"aac0fe8e-5b3d-425d-9c79-deb49476dc99\",\"type\":\"SaveTool\"},{\"attributes\":{\"data_source\":{\"id\":\"2c2b31e3-e84c-405f-b456-b5d9412a7532\",\"type\":\"ColumnDataSource\"},\"glyph\":{\"id\":\"5a5be40b-8770-43c4-91e4-ee391aac9e8d\",\"type\":\"Line\"},\"hover_glyph\":null,\"muted_glyph\":null,\"nonselection_glyph\":{\"id\":\"ed1d1d47-c782-468a-a8b4-863876753e37\",\"type\":\"Line\"},\"selection_glyph\":null,\"view\":{\"id\":\"72e6adbc-903f-4d38-b59c-1788ee53f7ed\",\"type\":\"CDSView\"}},\"id\":\"5a85a17b-fa71-4509-bbb7-4609e3a7d075\",\"type\":\"GlyphRenderer\"},{\"attributes\":{},\"id\":\"f328548c-db53-4e7e-85bd-d7339cfee7a7\",\"type\":\"BasicTicker\"},{\"attributes\":{\"active_drag\":\"auto\",\"active_inspect\":\"auto\",\"active_scroll\":\"auto\",\"active_tap\":\"auto\",\"tools\":[{\"id\":\"a27a4ec0-92a2-4cbb-8f43-0a52becdf98d\",\"type\":\"PanTool\"},{\"id\":\"cd237586-e8f3-45c7-961c-d829d7b96979\",\"type\":\"WheelZoomTool\"},{\"id\":\"f935b1be-d09e-445d-bd15-b41bf165c2a7\",\"type\":\"BoxZoomTool\"},{\"id\":\"aac0fe8e-5b3d-425d-9c79-deb49476dc99\",\"type\":\"SaveTool\"},{\"id\":\"776ace63-3a42-4dbb-b95c-d8e7fa835960\",\"type\":\"ResetTool\"},{\"id\":\"7c43436b-208f-4e80-b90e-e5c6b1299830\",\"type\":\"HelpTool\"}]},\"id\":\"3fcf9f9a-c7de-4dff-89c5-f145e125cc60\",\"type\":\"Toolbar\"},{\"attributes\":{\"line_alpha\":0.1,\"line_color\":\"#1f77b4\",\"x\":{\"field\":\"x\"},\"y\":{\"field\":\"y\"}},\"id\":\"ed1d1d47-c782-468a-a8b4-863876753e37\",\"type\":\"Line\"},{\"attributes\":{\"source\":{\"id\":\"2c2b31e3-e84c-405f-b456-b5d9412a7532\",\"type\":\"ColumnDataSource\"}},\"id\":\"72e6adbc-903f-4d38-b59c-1788ee53f7ed\",\"type\":\"CDSView\"},{\"attributes\":{\"axis_label\":\"Date\",\"formatter\":{\"id\":\"98c79db4-db65-468f-9ad7-9b1940e2d4dd\",\"type\":\"BasicTickFormatter\"},\"plot\":{\"id\":\"2a9f9f3c-a050-42f9-ac19-7fa637dc5be2\",\"subtype\":\"Figure\",\"type\":\"Plot\"},\"ticker\":{\"id\":\"49cdeb19-9ab3-4591-b1b7-aea19d1ba7b1\",\"type\":\"BasicTicker\"}},\"id\":\"4160151d-07be-48f4-85a0-22e11167497e\",\"type\":\"LinearAxis\"}],\"root_ids\":[\"2a9f9f3c-a050-42f9-ac19-7fa637dc5be2\"]},\"title\":\"Bokeh Application\",\"version\":\"0.12.15\"}};\n",
       "  var render_items = [{\"docid\":\"ca9979c0-57c1-45c9-b691-8ed4498f7191\",\"elementid\":\"e91a358b-075e-4fb3-8a38-62d3f066360f\",\"modelid\":\"2a9f9f3c-a050-42f9-ac19-7fa637dc5be2\"}];\n",
       "  root.Bokeh.embed.embed_items_notebook(docs_json, render_items);\n",
       "\n",
       "  }\n",
       "  if (root.Bokeh !== undefined) {\n",
       "    embed_document(root);\n",
       "  } else {\n",
       "    var attempts = 0;\n",
       "    var timer = setInterval(function(root) {\n",
       "      if (root.Bokeh !== undefined) {\n",
       "        embed_document(root);\n",
       "        clearInterval(timer);\n",
       "      }\n",
       "      attempts++;\n",
       "      if (attempts > 100) {\n",
       "        console.log(\"Bokeh: ERROR: Unable to run BokehJS code because BokehJS library is missing\")\n",
       "        clearInterval(timer);\n",
       "      }\n",
       "    }, 10, root)\n",
       "  }\n",
       "})(window);"
      ],
      "application/vnd.bokehjs_exec.v0+json": ""
     },
     "metadata": {
      "application/vnd.bokehjs_exec.v0+json": {
       "id": "2a9f9f3c-a050-42f9-ac19-7fa637dc5be2"
      }
     },
     "output_type": "display_data"
    }
   ],
   "source": [
    "p = bokeh.plotting.figure(title=\"Fit to the Mauna Loa Data\", #x_axis_type='datetime', \n",
    "                          plot_width=900, plot_height=600)\n",
    "p.yaxis.axis_label = 'CO2 [ppm]'\n",
    "p.xaxis.axis_label = 'Date'\n",
    "\n",
    "# total fit\n",
    "p.line(xx, y_pred[2],  line_width=1, line_color=\"firebrick\", legend=\"Seasonal variation\")\n",
    "\n",
    "# trend\n",
    "p.line(xx, y_pred[3], line_width=1, line_color=\"blue\", legend=\"Short term variation\")\n",
    "\n",
    "# true value\n",
    "p.legend.location = \"top_left\"\n",
    "bokeh.plotting.show(p)"
   ]
  },
  {
   "cell_type": "markdown",
   "metadata": {},
   "source": [
    "If we want to see how the seasonal variation changed over the years we can do that as follows:"
   ]
  },
  {
   "cell_type": "code",
   "execution_count": 20,
   "metadata": {},
   "outputs": [],
   "source": [
    "# plot several years\n",
    "\n",
    "def dates_to_idx(timelist):\n",
    "    reference_time = pd.to_datetime('1959-01-01')\n",
    "    t = (timelist - reference_time) / pd.Timedelta(1, \"Y\")\n",
    "    return np.asarray(t)+1959\n",
    "\n",
    "p = bokeh.plotting.figure(title=\"Several years of the seasonal component\",\n",
    "           plot_width=900, plot_height=600)\n",
    "p.yaxis.axis_label = 'Δ CO2 [ppm]'\n",
    "p.xaxis.axis_label = 'Month'\n",
    "\n",
    "colors = bokeh.palettes.brewer['Paired'][5]\n",
    "years = [\"1960\", \"1970\", \"1980\", \"1990\", \"2000\"]\n"
   ]
  },
  {
   "cell_type": "code",
   "execution_count": 21,
   "metadata": {
    "scrolled": false
   },
   "outputs": [
    {
     "name": "stdout",
     "output_type": "stream",
     "text": [
      "Predicting year 1960\n",
      "Predicting year 1970\n",
      "Predicting year 1980\n",
      "Predicting year 1990\n",
      "Predicting year 2000\n"
     ]
    },
    {
     "data": {
      "text/html": [
       "\n",
       "<div class=\"bk-root\">\n",
       "    <div class=\"bk-plotdiv\" id=\"fd9ec89b-acd8-4435-81b8-e6b68f566f39\"></div>\n",
       "</div>"
      ]
     },
     "metadata": {},
     "output_type": "display_data"
    },
    {
     "data": {
      "application/javascript": [
       "(function(root) {\n",
       "  function embed_document(root) {\n",
       "    \n",
       "  var docs_json = {\"197f91aa-828c-480a-8c7f-50f8ad1a24e8\":{\"roots\":{\"references\":[{\"attributes\":{\"callback\":null,\"column_names\":[\"x\",\"y\"],\"data\":{\"x\":{\"__ndarray__\":\"AAAAAAAA8D8+puhtvEH1P3tM0dt4g/o/uPK5STXF/z97TNHbeIMCQJqfxRJXJAVAuPK5STXFB0DXRa6AE2YKQPaYorfxBg1AFeyW7s+nD0Can8USVyQRQCrJPy7GdBJAuPK5STXFE0BIHDRlpBUVQNdFroATZhZAZ28onIK2F0D2mKK38QYZQIbCHNNgVxpAFeyW7s+nG0CkFREKP/gcQDQ/iyWuSB5Aw2gFQR2ZH0AqyT8uxnQgQPHd/Lv9HCFAuPK5STXFIUCAB3fXbG0iQEgcNGWkFSNAEDHx8tu9I0DXRa6AE2YkQJ9aaw5LDiVAZ28onIK2JUAvhOUpul4mQPaYorfxBidAvq1fRSmvJ0CGwhzTYFcoQE3X2WCY/yhAFeyW7s+nKUA=\",\"dtype\":\"float64\",\"shape\":[37]},\"y\":{\"__ndarray__\":\"RO+lhXHQ0j+hFpATNsvgP242FUIW8uc/UE9/9i8p7z+GIIstq1XzPxQhI8Aigfc/YqAFa3V9/D/BvRyef0IBQC/kQnF/pARAPpLF6RPtB0ASXBswGX4KQBi1QOUA2gtAJCnSIsnWC0D4meacNZoKQOiaC+KQZwhAfMBOVNlqBUCbZZm4hKsBQPw7BWWMVPo/wLsZJ3MH8D9A3z3I0HnTP8CW0UsIHtu/cBK/giXF8r+grfFGlu3+v5ZSh+bERAXAatheFx8RCsBS8YrIzP8MwGAYEKpEjQ3AgO5q+ALjC8AyvTAmRL8IwPzqtlvnAgXAU7hyTZBBAcBwGfp8d0j7vz1CfB+8PfS/boCa+0XW6r8wgUD01IbcvyBqFniehbu/MNoA0b8rxj8=\",\"dtype\":\"float64\",\"shape\":[37]}},\"selected\":null,\"selection_policy\":null},\"id\":\"15d02787-4ad3-476f-8268-2e57f7fc95d0\",\"type\":\"ColumnDataSource\"},{\"attributes\":{\"label\":{\"value\":\"1970\"},\"renderers\":[{\"id\":\"e4a76201-4a2a-44b4-8a97-55600750f93a\",\"type\":\"GlyphRenderer\"}]},\"id\":\"06e2f1e3-765d-4691-bbd4-50bf15eb3f2f\",\"type\":\"LegendItem\"},{\"attributes\":{\"line_color\":\"#a6cee3\",\"x\":{\"field\":\"x\"},\"y\":{\"field\":\"y\"}},\"id\":\"ee562fa7-15fd-42aa-9948-0784a95c742e\",\"type\":\"Line\"},{\"attributes\":{\"callback\":null,\"column_names\":[\"x\",\"y\"],\"data\":{\"x\":{\"__ndarray__\":\"AAAAAAAA8D8+puhtvEH1P3tM0dt4g/o/uPK5STXF/z97TNHbeIMCQJqfxRJXJAVAuPK5STXFB0DXRa6AE2YKQPaYorfxBg1AFeyW7s+nD0Can8USVyQRQCrJPy7GdBJAuPK5STXFE0BIHDRlpBUVQNdFroATZhZAZ28onIK2F0D2mKK38QYZQIbCHNNgVxpAFeyW7s+nG0CkFREKP/gcQDQ/iyWuSB5Aw2gFQR2ZH0AqyT8uxnQgQPHd/Lv9HCFAuPK5STXFIUCAB3fXbG0iQEgcNGWkFSNAEDHx8tu9I0DXRa6AE2YkQJ9aaw5LDiVAZ28onIK2JUAvhOUpul4mQPaYorfxBidAvq1fRSmvJ0CGwhzTYFcoQE3X2WCY/yhAFeyW7s+nKUA=\",\"dtype\":\"float64\",\"shape\":[37]},\"y\":{\"__ndarray__\":\"KoLje9TRwT9Wn5ER3PvXP65gRgmdIuM/xsRNNDYw6j8vr1fokrHwPwJbnXQ5mfQ/0N/3ezQs+T9h3NLQM67+P7bbmG3heAJARQ58KyqYBUBNL4BR9yIIQPeiVAiumwlA2VesyqTTCUCGxP1ckvEIQIT8jilqPwdAqOgZe+foBED4m82jbeEBQGR0QTqkC/w/MIyF6LOu8j8wzxfo01DgP0AEPo0DuMa/gGYTSlqz67/+Rq0C8bf4v6Zks1YllgHAt1H5hpYrBsALLEH9h2YJwMqb1dUXpwrAiQMHqfbNCcC5Qx0TilkHwJuyvXOzGgTAvtav2hnAAMCOr0kFqCb7v5eTS623GvW/TJheTdFm7r/6xopZEQ3jv9M2YhcKX9G/sOMo4Y7ihz8=\",\"dtype\":\"float64\",\"shape\":[37]}},\"selected\":null,\"selection_policy\":null},\"id\":\"f576346c-8a43-495a-8cb1-974bc91edf6d\",\"type\":\"ColumnDataSource\"},{\"attributes\":{\"label\":{\"value\":\"1980\"},\"renderers\":[{\"id\":\"907659dc-52c3-47ee-a15e-e62de2becc28\",\"type\":\"GlyphRenderer\"}]},\"id\":\"f65b5315-8dcb-4f5d-956f-a615121faff4\",\"type\":\"LegendItem\"},{\"attributes\":{\"below\":[{\"id\":\"73ed8d26-740d-4539-89e4-5eaeb7c85577\",\"type\":\"LinearAxis\"}],\"left\":[{\"id\":\"7fe2a376-9734-4ae9-ae55-ee31970d0499\",\"type\":\"LinearAxis\"}],\"plot_width\":900,\"renderers\":[{\"id\":\"73ed8d26-740d-4539-89e4-5eaeb7c85577\",\"type\":\"LinearAxis\"},{\"id\":\"ebce2b4e-606d-4ba2-8416-9963a7bede1d\",\"type\":\"Grid\"},{\"id\":\"7fe2a376-9734-4ae9-ae55-ee31970d0499\",\"type\":\"LinearAxis\"},{\"id\":\"ccd8a49e-8d5e-4b38-9c4e-721892b756d9\",\"type\":\"Grid\"},{\"id\":\"a744e24b-69fe-47a9-ad4f-a5ca8d65cee4\",\"type\":\"BoxAnnotation\"},{\"id\":\"6f7707a3-5916-4ae6-907a-238ae4c42b16\",\"type\":\"Legend\"},{\"id\":\"d5274fd3-fe4b-4f6f-91e1-b823bfffe5cc\",\"type\":\"GlyphRenderer\"},{\"id\":\"e4a76201-4a2a-44b4-8a97-55600750f93a\",\"type\":\"GlyphRenderer\"},{\"id\":\"907659dc-52c3-47ee-a15e-e62de2becc28\",\"type\":\"GlyphRenderer\"},{\"id\":\"728eeb77-0361-4021-a976-6004c1204c91\",\"type\":\"GlyphRenderer\"},{\"id\":\"1321fada-ee8f-491d-a8f7-c84b61ae6d5d\",\"type\":\"GlyphRenderer\"}],\"title\":{\"id\":\"3e3c7fab-7358-4807-ac07-39b027f8ba1c\",\"type\":\"Title\"},\"toolbar\":{\"id\":\"438df943-76ff-4ab9-809a-f338f1e689fb\",\"type\":\"Toolbar\"},\"x_range\":{\"id\":\"1e028484-a98f-4573-b604-13c16328acf4\",\"type\":\"DataRange1d\"},\"x_scale\":{\"id\":\"32835196-e579-496e-a38f-bd290117cbbe\",\"type\":\"LinearScale\"},\"y_range\":{\"id\":\"f1b13902-ff58-4574-8c58-edca142eaf6b\",\"type\":\"DataRange1d\"},\"y_scale\":{\"id\":\"131197d4-3bd7-4c85-9dd8-646dd2c75739\",\"type\":\"LinearScale\"}},\"id\":\"c784f4ee-9c71-4b1f-9d33-d2c8a1b3e1c6\",\"subtype\":\"Figure\",\"type\":\"Plot\"},{\"attributes\":{\"items\":[{\"id\":\"399f3ef0-5428-46eb-958d-341df1dac0c7\",\"type\":\"LegendItem\"},{\"id\":\"06e2f1e3-765d-4691-bbd4-50bf15eb3f2f\",\"type\":\"LegendItem\"},{\"id\":\"f65b5315-8dcb-4f5d-956f-a615121faff4\",\"type\":\"LegendItem\"},{\"id\":\"3bf4a6b6-767f-45f3-9ff4-dccd59c5b1ca\",\"type\":\"LegendItem\"},{\"id\":\"4fb2a41e-de74-44e8-8e8b-78c49804d3b2\",\"type\":\"LegendItem\"}],\"location\":\"bottom_left\",\"plot\":{\"id\":\"c784f4ee-9c71-4b1f-9d33-d2c8a1b3e1c6\",\"subtype\":\"Figure\",\"type\":\"Plot\"}},\"id\":\"6f7707a3-5916-4ae6-907a-238ae4c42b16\",\"type\":\"Legend\"},{\"attributes\":{\"callback\":null,\"column_names\":[\"x\",\"y\"],\"data\":{\"x\":{\"__ndarray__\":\"AAAAAAAA8D8+puhtvEH1P3tM0dt4g/o/uPK5STXF/z97TNHbeIMCQJqfxRJXJAVAuPK5STXFB0DXRa6AE2YKQPaYorfxBg1AFeyW7s+nD0Can8USVyQRQCrJPy7GdBJAuPK5STXFE0BIHDRlpBUVQNdFroATZhZAZ28onIK2F0D2mKK38QYZQIbCHNNgVxpAFeyW7s+nG0CkFREKP/gcQDQ/iyWuSB5Aw2gFQR2ZH0AqyT8uxnQgQPHd/Lv9HCFAuPK5STXFIUCAB3fXbG0iQEgcNGWkFSNAEDHx8tu9I0DXRa6AE2YkQJ9aaw5LDiVAZ28onIK2JUAvhOUpul4mQPaYorfxBidAvq1fRSmvJ0CGwhzTYFcoQE3X2WCY/yhAFeyW7s+nKUA=\",\"dtype\":\"float64\",\"shape\":[37]},\"y\":{\"__ndarray__\":\"wHVOEGL0rT9sCw1HQG7RP2y1w2CCwt0/Rhq3td6l5D9CnDSoQ1rqP8ZhVZjIRfA/rNEYjREC9D9kbrrjlLb4P6pLczxvV/4/RmvfFM4iAkCfE7dyqbkEQKKgOHY1bgZAUimtrl4DB0BK5q+Z8pQGQOyBVNT5bAVA7Lcrybi6A0CKkIS0e2gBQOewRO8+bvw/ZINRMF4S9D/A2YZPKWHkP4C6lhoREpC/pFr8+2vA5L9kd/pKatbzv4P7z9uxo/y/QucVcWdDAsBLKn3t2k4FwB6Hxu+03QbArMwvp/WbBsB8DvU5+cAEwBWnLB8m9wHAgrJmnD/v/b8ms5PrpFv4vzNE1f1TSvO/tPmfY5zt7L+kR7T2L3LjvxCba7RQstS/cL7MRG5QsL8=\",\"dtype\":\"float64\",\"shape\":[37]}},\"selected\":null,\"selection_policy\":null},\"id\":\"190645c8-797b-429f-bfd2-0678c4a95ead\",\"type\":\"ColumnDataSource\"},{\"attributes\":{\"line_color\":\"#33a02c\",\"x\":{\"field\":\"x\"},\"y\":{\"field\":\"y\"}},\"id\":\"8ceefc92-b7f7-43bb-8131-cd42f3867d82\",\"type\":\"Line\"},{\"attributes\":{\"line_alpha\":0.1,\"line_color\":\"#1f77b4\",\"x\":{\"field\":\"x\"},\"y\":{\"field\":\"y\"}},\"id\":\"3e82ac49-1809-4a7f-9a82-d8825c696a63\",\"type\":\"Line\"},{\"attributes\":{\"label\":{\"value\":\"1960\"},\"renderers\":[{\"id\":\"d5274fd3-fe4b-4f6f-91e1-b823bfffe5cc\",\"type\":\"GlyphRenderer\"}]},\"id\":\"399f3ef0-5428-46eb-958d-341df1dac0c7\",\"type\":\"LegendItem\"},{\"attributes\":{\"plot\":null,\"text\":\"Several years of the seasonal component\"},\"id\":\"3e3c7fab-7358-4807-ac07-39b027f8ba1c\",\"type\":\"Title\"},{\"attributes\":{\"line_color\":\"#b2df8a\",\"x\":{\"field\":\"x\"},\"y\":{\"field\":\"y\"}},\"id\":\"b4cff074-a2d5-47a3-bc5f-0fe0e9457264\",\"type\":\"Line\"},{\"attributes\":{\"line_color\":\"#fb9a99\",\"x\":{\"field\":\"x\"},\"y\":{\"field\":\"y\"}},\"id\":\"bb7c28a7-d190-42d9-9c25-6874ac16fb2d\",\"type\":\"Line\"},{\"attributes\":{\"callback\":null},\"id\":\"1e028484-a98f-4573-b604-13c16328acf4\",\"type\":\"DataRange1d\"},{\"attributes\":{\"active_drag\":\"auto\",\"active_inspect\":\"auto\",\"active_scroll\":\"auto\",\"active_tap\":\"auto\",\"tools\":[{\"id\":\"46ba694e-ee45-4608-b6e1-3f03dca96eab\",\"type\":\"PanTool\"},{\"id\":\"3835845e-b1d6-42b2-913e-8a4ac426146f\",\"type\":\"WheelZoomTool\"},{\"id\":\"36e83ff2-f16b-402c-8f60-b82b2385e879\",\"type\":\"BoxZoomTool\"},{\"id\":\"01ff3e6a-10af-4d32-a964-2c89f5aaa3bf\",\"type\":\"SaveTool\"},{\"id\":\"42e50bd0-d9f5-49dd-a34d-4612254f503e\",\"type\":\"ResetTool\"},{\"id\":\"cbf5c512-65dd-497f-a71d-51228dd7410c\",\"type\":\"HelpTool\"}]},\"id\":\"438df943-76ff-4ab9-809a-f338f1e689fb\",\"type\":\"Toolbar\"},{\"attributes\":{},\"id\":\"bab3b066-09c5-4881-8ffb-d4f7a1fe5f5a\",\"type\":\"BasicTickFormatter\"},{\"attributes\":{},\"id\":\"32835196-e579-496e-a38f-bd290117cbbe\",\"type\":\"LinearScale\"},{\"attributes\":{\"source\":{\"id\":\"190645c8-797b-429f-bfd2-0678c4a95ead\",\"type\":\"ColumnDataSource\"}},\"id\":\"8620c7d6-6af0-47c8-b995-7f69bea766ef\",\"type\":\"CDSView\"},{\"attributes\":{\"callback\":null},\"id\":\"f1b13902-ff58-4574-8c58-edca142eaf6b\",\"type\":\"DataRange1d\"},{\"attributes\":{\"source\":{\"id\":\"d6a99391-c7a6-4dba-b785-ceefca8690ff\",\"type\":\"ColumnDataSource\"}},\"id\":\"436352e9-9b1c-44bb-b4fa-ff09855e437f\",\"type\":\"CDSView\"},{\"attributes\":{\"callback\":null,\"column_names\":[\"x\",\"y\"],\"data\":{\"x\":{\"__ndarray__\":\"AAAAAAAA8D8+puhtvEH1P3tM0dt4g/o/uPK5STXF/z97TNHbeIMCQJqfxRJXJAVAuPK5STXFB0DXRa6AE2YKQPaYorfxBg1AFeyW7s+nD0Can8USVyQRQCrJPy7GdBJAuPK5STXFE0BIHDRlpBUVQNdFroATZhZAZ28onIK2F0D2mKK38QYZQIbCHNNgVxpAFeyW7s+nG0CkFREKP/gcQDQ/iyWuSB5Aw2gFQR2ZH0AqyT8uxnQgQPHd/Lv9HCFAuPK5STXFIUCAB3fXbG0iQEgcNGWkFSNAEDHx8tu9I0DXRa6AE2YkQJ9aaw5LDiVAZ28onIK2JUAvhOUpul4mQPaYorfxBidAvq1fRSmvJ0CGwhzTYFcoQE3X2WCY/yhAFeyW7s+nKUA=\",\"dtype\":\"float64\",\"shape\":[37]},\"y\":{\"__ndarray__\":\"eGV0lHJVzD9Kdy46KEPdP6+dKJGB5+U/pENo0S4x7T8OeZ3A61vyP3ZDGi2IffY//DLnccRd+z8YqqxEdJsAQFoTkxua4QNABADhFJAQB0BvTDGcA5AJQMyC3hAV5gpAUNHRDz/sCkBg1UxiGM0JQBCpoPqSzwdAsqNJEHkcBUAadGNwKa4BQLZTWDsl5/o/+Ea7/tT98D9A+mTu1W7YP6DII9tv5dS/AJBjpPO78L9MNi3htEf8v2LflvMVrQPAKt/bQgNeCMDwvOsU82gLwHy/o0SUPQzAMlIktzfoCsC4gvGP6w4IwBOVlJVOjQTADH2SxUIBAcCFDVxFCz37v/zS2YiVsPS//EnPc4ab7L9ronEO2pjgv5i+udzX38e/SCfVclK0uD8=\",\"dtype\":\"float64\",\"shape\":[37]}},\"selected\":null,\"selection_policy\":null},\"id\":\"7017b3dd-c505-481c-960f-df5c870f577d\",\"type\":\"ColumnDataSource\"},{\"attributes\":{},\"id\":\"131197d4-3bd7-4c85-9dd8-646dd2c75739\",\"type\":\"LinearScale\"},{\"attributes\":{\"data_source\":{\"id\":\"15d02787-4ad3-476f-8268-2e57f7fc95d0\",\"type\":\"ColumnDataSource\"},\"glyph\":{\"id\":\"bb7c28a7-d190-42d9-9c25-6874ac16fb2d\",\"type\":\"Line\"},\"hover_glyph\":null,\"muted_glyph\":null,\"nonselection_glyph\":{\"id\":\"ab3053e8-305a-4546-9f9a-e3674528de82\",\"type\":\"Line\"},\"selection_glyph\":null,\"view\":{\"id\":\"94ab34db-525d-4a3d-95a2-c91dae2ef36d\",\"type\":\"CDSView\"}},\"id\":\"1321fada-ee8f-491d-a8f7-c84b61ae6d5d\",\"type\":\"GlyphRenderer\"},{\"attributes\":{},\"id\":\"621af3a9-1a29-4b1e-84e7-5970cea12695\",\"type\":\"BasicTickFormatter\"},{\"attributes\":{\"plot\":{\"id\":\"c784f4ee-9c71-4b1f-9d33-d2c8a1b3e1c6\",\"subtype\":\"Figure\",\"type\":\"Plot\"},\"ticker\":{\"id\":\"6dc5d605-87dd-4d06-88ca-080ace656e2d\",\"type\":\"BasicTicker\"}},\"id\":\"ebce2b4e-606d-4ba2-8416-9963a7bede1d\",\"type\":\"Grid\"},{\"attributes\":{\"line_alpha\":0.1,\"line_color\":\"#1f77b4\",\"x\":{\"field\":\"x\"},\"y\":{\"field\":\"y\"}},\"id\":\"ab3053e8-305a-4546-9f9a-e3674528de82\",\"type\":\"Line\"},{\"attributes\":{\"axis_label\":\"Month\",\"formatter\":{\"id\":\"bab3b066-09c5-4881-8ffb-d4f7a1fe5f5a\",\"type\":\"BasicTickFormatter\"},\"plot\":{\"id\":\"c784f4ee-9c71-4b1f-9d33-d2c8a1b3e1c6\",\"subtype\":\"Figure\",\"type\":\"Plot\"},\"ticker\":{\"id\":\"6dc5d605-87dd-4d06-88ca-080ace656e2d\",\"type\":\"BasicTicker\"}},\"id\":\"73ed8d26-740d-4539-89e4-5eaeb7c85577\",\"type\":\"LinearAxis\"},{\"attributes\":{},\"id\":\"6dc5d605-87dd-4d06-88ca-080ace656e2d\",\"type\":\"BasicTicker\"},{\"attributes\":{\"line_alpha\":0.1,\"line_color\":\"#1f77b4\",\"x\":{\"field\":\"x\"},\"y\":{\"field\":\"y\"}},\"id\":\"4f4c3f80-d7b8-423e-b0fe-b55dd6a7b40d\",\"type\":\"Line\"},{\"attributes\":{\"source\":{\"id\":\"15d02787-4ad3-476f-8268-2e57f7fc95d0\",\"type\":\"ColumnDataSource\"}},\"id\":\"94ab34db-525d-4a3d-95a2-c91dae2ef36d\",\"type\":\"CDSView\"},{\"attributes\":{\"axis_label\":\"\\u0394 CO2 [ppm]\",\"formatter\":{\"id\":\"621af3a9-1a29-4b1e-84e7-5970cea12695\",\"type\":\"BasicTickFormatter\"},\"plot\":{\"id\":\"c784f4ee-9c71-4b1f-9d33-d2c8a1b3e1c6\",\"subtype\":\"Figure\",\"type\":\"Plot\"},\"ticker\":{\"id\":\"87788c5b-4911-450d-bf11-3aadfcc8ce6d\",\"type\":\"BasicTicker\"}},\"id\":\"7fe2a376-9734-4ae9-ae55-ee31970d0499\",\"type\":\"LinearAxis\"},{\"attributes\":{\"line_alpha\":0.1,\"line_color\":\"#1f77b4\",\"x\":{\"field\":\"x\"},\"y\":{\"field\":\"y\"}},\"id\":\"f7a848d8-d65d-4ab7-992d-caee4b58a0a5\",\"type\":\"Line\"},{\"attributes\":{\"data_source\":{\"id\":\"d6a99391-c7a6-4dba-b785-ceefca8690ff\",\"type\":\"ColumnDataSource\"},\"glyph\":{\"id\":\"6779757c-155e-4257-a282-9f69b574da58\",\"type\":\"Line\"},\"hover_glyph\":null,\"muted_glyph\":null,\"nonselection_glyph\":{\"id\":\"3e82ac49-1809-4a7f-9a82-d8825c696a63\",\"type\":\"Line\"},\"selection_glyph\":null,\"view\":{\"id\":\"436352e9-9b1c-44bb-b4fa-ff09855e437f\",\"type\":\"CDSView\"}},\"id\":\"e4a76201-4a2a-44b4-8a97-55600750f93a\",\"type\":\"GlyphRenderer\"},{\"attributes\":{\"data_source\":{\"id\":\"7017b3dd-c505-481c-960f-df5c870f577d\",\"type\":\"ColumnDataSource\"},\"glyph\":{\"id\":\"8ceefc92-b7f7-43bb-8131-cd42f3867d82\",\"type\":\"Line\"},\"hover_glyph\":null,\"muted_glyph\":null,\"nonselection_glyph\":{\"id\":\"f7a848d8-d65d-4ab7-992d-caee4b58a0a5\",\"type\":\"Line\"},\"selection_glyph\":null,\"view\":{\"id\":\"4fa41074-6a69-4e8a-b0a1-fc101413ea74\",\"type\":\"CDSView\"}},\"id\":\"728eeb77-0361-4021-a976-6004c1204c91\",\"type\":\"GlyphRenderer\"},{\"attributes\":{},\"id\":\"87788c5b-4911-450d-bf11-3aadfcc8ce6d\",\"type\":\"BasicTicker\"},{\"attributes\":{\"dimension\":1,\"plot\":{\"id\":\"c784f4ee-9c71-4b1f-9d33-d2c8a1b3e1c6\",\"subtype\":\"Figure\",\"type\":\"Plot\"},\"ticker\":{\"id\":\"87788c5b-4911-450d-bf11-3aadfcc8ce6d\",\"type\":\"BasicTicker\"}},\"id\":\"ccd8a49e-8d5e-4b38-9c4e-721892b756d9\",\"type\":\"Grid\"},{\"attributes\":{\"line_alpha\":0.1,\"line_color\":\"#1f77b4\",\"x\":{\"field\":\"x\"},\"y\":{\"field\":\"y\"}},\"id\":\"3c840a81-681c-4636-a7eb-1369d1d6c1dd\",\"type\":\"Line\"},{\"attributes\":{\"data_source\":{\"id\":\"190645c8-797b-429f-bfd2-0678c4a95ead\",\"type\":\"ColumnDataSource\"},\"glyph\":{\"id\":\"ee562fa7-15fd-42aa-9948-0784a95c742e\",\"type\":\"Line\"},\"hover_glyph\":null,\"muted_glyph\":null,\"nonselection_glyph\":{\"id\":\"4f4c3f80-d7b8-423e-b0fe-b55dd6a7b40d\",\"type\":\"Line\"},\"selection_glyph\":null,\"view\":{\"id\":\"8620c7d6-6af0-47c8-b995-7f69bea766ef\",\"type\":\"CDSView\"}},\"id\":\"d5274fd3-fe4b-4f6f-91e1-b823bfffe5cc\",\"type\":\"GlyphRenderer\"},{\"attributes\":{\"overlay\":{\"id\":\"a744e24b-69fe-47a9-ad4f-a5ca8d65cee4\",\"type\":\"BoxAnnotation\"}},\"id\":\"36e83ff2-f16b-402c-8f60-b82b2385e879\",\"type\":\"BoxZoomTool\"},{\"attributes\":{\"line_color\":\"#1f78b4\",\"x\":{\"field\":\"x\"},\"y\":{\"field\":\"y\"}},\"id\":\"6779757c-155e-4257-a282-9f69b574da58\",\"type\":\"Line\"},{\"attributes\":{\"source\":{\"id\":\"f576346c-8a43-495a-8cb1-974bc91edf6d\",\"type\":\"ColumnDataSource\"}},\"id\":\"018a8470-eae1-424d-9140-4c37dc28ab2f\",\"type\":\"CDSView\"},{\"attributes\":{\"data_source\":{\"id\":\"f576346c-8a43-495a-8cb1-974bc91edf6d\",\"type\":\"ColumnDataSource\"},\"glyph\":{\"id\":\"b4cff074-a2d5-47a3-bc5f-0fe0e9457264\",\"type\":\"Line\"},\"hover_glyph\":null,\"muted_glyph\":null,\"nonselection_glyph\":{\"id\":\"3c840a81-681c-4636-a7eb-1369d1d6c1dd\",\"type\":\"Line\"},\"selection_glyph\":null,\"view\":{\"id\":\"018a8470-eae1-424d-9140-4c37dc28ab2f\",\"type\":\"CDSView\"}},\"id\":\"907659dc-52c3-47ee-a15e-e62de2becc28\",\"type\":\"GlyphRenderer\"},{\"attributes\":{\"label\":{\"value\":\"1990\"},\"renderers\":[{\"id\":\"728eeb77-0361-4021-a976-6004c1204c91\",\"type\":\"GlyphRenderer\"}]},\"id\":\"3bf4a6b6-767f-45f3-9ff4-dccd59c5b1ca\",\"type\":\"LegendItem\"},{\"attributes\":{\"bottom_units\":\"screen\",\"fill_alpha\":{\"value\":0.5},\"fill_color\":{\"value\":\"lightgrey\"},\"left_units\":\"screen\",\"level\":\"overlay\",\"line_alpha\":{\"value\":1.0},\"line_color\":{\"value\":\"black\"},\"line_dash\":[4,4],\"line_width\":{\"value\":2},\"plot\":null,\"render_mode\":\"css\",\"right_units\":\"screen\",\"top_units\":\"screen\"},\"id\":\"a744e24b-69fe-47a9-ad4f-a5ca8d65cee4\",\"type\":\"BoxAnnotation\"},{\"attributes\":{\"source\":{\"id\":\"7017b3dd-c505-481c-960f-df5c870f577d\",\"type\":\"ColumnDataSource\"}},\"id\":\"4fa41074-6a69-4e8a-b0a1-fc101413ea74\",\"type\":\"CDSView\"},{\"attributes\":{},\"id\":\"46ba694e-ee45-4608-b6e1-3f03dca96eab\",\"type\":\"PanTool\"},{\"attributes\":{},\"id\":\"3835845e-b1d6-42b2-913e-8a4ac426146f\",\"type\":\"WheelZoomTool\"},{\"attributes\":{},\"id\":\"01ff3e6a-10af-4d32-a964-2c89f5aaa3bf\",\"type\":\"SaveTool\"},{\"attributes\":{},\"id\":\"42e50bd0-d9f5-49dd-a34d-4612254f503e\",\"type\":\"ResetTool\"},{\"attributes\":{},\"id\":\"cbf5c512-65dd-497f-a71d-51228dd7410c\",\"type\":\"HelpTool\"},{\"attributes\":{\"label\":{\"value\":\"2000\"},\"renderers\":[{\"id\":\"1321fada-ee8f-491d-a8f7-c84b61ae6d5d\",\"type\":\"GlyphRenderer\"}]},\"id\":\"4fb2a41e-de74-44e8-8e8b-78c49804d3b2\",\"type\":\"LegendItem\"},{\"attributes\":{\"callback\":null,\"column_names\":[\"x\",\"y\"],\"data\":{\"x\":{\"__ndarray__\":\"AAAAAAAA8D8+puhtvEH1P3tM0dt4g/o/uPK5STXF/z97TNHbeIMCQJqfxRJXJAVAuPK5STXFB0DXRa6AE2YKQPaYorfxBg1AFeyW7s+nD0Can8USVyQRQCrJPy7GdBJAuPK5STXFE0BIHDRlpBUVQNdFroATZhZAZ28onIK2F0D2mKK38QYZQIbCHNNgVxpAFeyW7s+nG0CkFREKP/gcQDQ/iyWuSB5Aw2gFQR2ZH0AqyT8uxnQgQPHd/Lv9HCFAuPK5STXFIUCAB3fXbG0iQEgcNGWkFSNAEDHx8tu9I0DXRa6AE2YkQJ9aaw5LDiVAZ28onIK2JUAvhOUpul4mQPaYorfxBidAvq1fRSmvJ0CGwhzTYFcoQE3X2WCY/yhAFeyW7s+nKUA=\",\"dtype\":\"float64\",\"shape\":[37]},\"y\":{\"__ndarray__\":\"mKsb+fWmuT9WxX4uS+rUPwff96vfM+E/PqCh+2G85z8+1fnN/1buPxhzF8iHwvI/8bu9JtYC9z+mMK04DzT8P+znlDsZGQFAjNnM7LQhBEBQA9ZRcKYGQCO2daRyKghAb940Lq19CEDYEEV4k8YHQDRPpZlkUAZAA4REq4NFBEDA09SmdZABQLIglDai/fs/gP8++aIL8z9kujkWY5nhP+DMM3mcgb6/tPVGfzvd6L+SixyhlpH2v54/+0qJGQDAF/HvHP5dBMBGuN5oGn0HwH2YQgRg2QjAmHOmuuQ8CMBrADC7hQkGwDay+IiYAQPAHRsj61Sw/78GUCb0u8X5v109Vr6APvS/QKArYRjC7b9ragy7XE7jvxrgFsLtENO/QPdSEPvpmb8=\",\"dtype\":\"float64\",\"shape\":[37]}},\"selected\":null,\"selection_policy\":null},\"id\":\"d6a99391-c7a6-4dba-b785-ceefca8690ff\",\"type\":\"ColumnDataSource\"}],\"root_ids\":[\"c784f4ee-9c71-4b1f-9d33-d2c8a1b3e1c6\"]},\"title\":\"Bokeh Application\",\"version\":\"0.12.15\"}};\n",
       "  var render_items = [{\"docid\":\"197f91aa-828c-480a-8c7f-50f8ad1a24e8\",\"elementid\":\"fd9ec89b-acd8-4435-81b8-e6b68f566f39\",\"modelid\":\"c784f4ee-9c71-4b1f-9d33-d2c8a1b3e1c6\"}];\n",
       "  root.Bokeh.embed.embed_items_notebook(docs_json, render_items);\n",
       "\n",
       "  }\n",
       "  if (root.Bokeh !== undefined) {\n",
       "    embed_document(root);\n",
       "  } else {\n",
       "    var attempts = 0;\n",
       "    var timer = setInterval(function(root) {\n",
       "      if (root.Bokeh !== undefined) {\n",
       "        embed_document(root);\n",
       "        clearInterval(timer);\n",
       "      }\n",
       "      attempts++;\n",
       "      if (attempts > 100) {\n",
       "        console.log(\"Bokeh: ERROR: Unable to run BokehJS code because BokehJS library is missing\")\n",
       "        clearInterval(timer);\n",
       "      }\n",
       "    }, 10, root)\n",
       "  }\n",
       "})(window);"
      ],
      "application/vnd.bokehjs_exec.v0+json": ""
     },
     "metadata": {
      "application/vnd.bokehjs_exec.v0+json": {
       "id": "c784f4ee-9c71-4b1f-9d33-d2c8a1b3e1c6"
      }
     },
     "output_type": "display_data"
    }
   ],
   "source": [
    "# xx = np.linspace(1990, 2000, 1000)\n",
    "# \n",
    "for i, year in enumerate(years):\n",
    "    dates = pd.date_range(start=\"1/1/\"+year, end=\"12/31/\"+year, freq=\"10D\")\n",
    "    tnew = dates_to_idx(dates)\n",
    "\n",
    "    print(\"Predicting year\", year)\n",
    "    y_pred_, sigmas_ = predict1(tnew, x, y, cov=[k1, k2, k4], sigma_n=np.sqrt(m.likelihood.variance.value))\n",
    "\n",
    "    # plot mean\n",
    "    t = np.asarray((dates - dates[0])/pd.Timedelta(1, \"M\")) + 1\n",
    "    p.line(t, y_pred_[2], line_width=1, line_color=colors[i], legend=year)\n",
    "\n",
    "p.legend.location = \"bottom_left\"\n",
    "bokeh.plotting.show(p)"
   ]
  },
  {
   "cell_type": "markdown",
   "metadata": {},
   "source": [
    "## Alternative implementation 2"
   ]
  },
  {
   "cell_type": "markdown",
   "metadata": {},
   "source": [
    "Here is an alternative implementation of the decomposition based on a comment in [Example that shows how to separate additive effects, e.g. time series decomposition of birthdays data](https://github.com/GPflow/GPflow/issues/491)"
   ]
  },
  {
   "cell_type": "code",
   "execution_count": 22,
   "metadata": {},
   "outputs": [],
   "source": [
    "XX = xx.reshape(-1, 1)"
   ]
  },
  {
   "cell_type": "code",
   "execution_count": 23,
   "metadata": {},
   "outputs": [
    {
     "data": {
      "text/plain": [
       "'0.0000002123'"
      ]
     },
     "execution_count": 23,
     "metadata": {},
     "output_type": "execute_result"
    }
   ],
   "source": [
    "_x_new = XX\n",
    "_x     = X\n",
    "_y     = Y\n",
    "_A = k_.compute_K_symm(_x_new)\n",
    "_C = k_.compute_K(_x_new, _x)\n",
    "_B = k_.compute_K_symm(_x) + m.likelihood.variance.value*np.diag(np.ones(len(_x)))\n",
    "\n",
    "_mu1 = np.linalg.inv(_B).dot(_C.T).T.dot(_y).squeeze()\n",
    "_tmp1 = np.linalg.inv(_B).dot(_C.T)\n",
    "_tmp2 = np.linalg.solve(_B, _C.T) \n",
    "'{:.10f}'.format(np.abs(_tmp1 - _tmp2).max())"
   ]
  },
  {
   "cell_type": "code",
   "execution_count": 24,
   "metadata": {},
   "outputs": [
    {
     "data": {
      "text/plain": [
       "'0.0000001891'"
      ]
     },
     "execution_count": 24,
     "metadata": {},
     "output_type": "execute_result"
    }
   ],
   "source": [
    "_mu2 = np.linalg.solve(_B,_C.T).T.dot(_y).squeeze()\n",
    "'{:.10f}'.format(np.abs(_mu1 - _mu2).max())"
   ]
  },
  {
   "cell_type": "code",
   "execution_count": 25,
   "metadata": {},
   "outputs": [],
   "source": [
    "def conditional2(x_new, x, y, cov, sigma_n=0):\n",
    "    if not isinstance(cov, list):\n",
    "        cov = [cov]\n",
    "\n",
    "    if len(cov) < 2:\n",
    "        total_covariance_function = cov[0]\n",
    "    else:\n",
    "        # total_covariance_function = None\n",
    "        total_covariance_function = functools.reduce(lambda a, x: a + x, cov)\n",
    "\n",
    "    A = total_covariance_function.compute_K_symm(x_new)\n",
    "    C = total_covariance_function.compute_K(x_new, x)\n",
    "    B = total_covariance_function.compute_K_symm(x) + np.power(sigma_n,2)*np.diag(np.ones(len(x)))\n",
    "\n",
    "    mu = [np.linalg.inv(B).dot(C.T).T.dot(y).squeeze()]\n",
    "    sigma = [(A - C.dot(np.linalg.inv(B).dot(C.T))).squeeze()]\n",
    "\n",
    "    for i in range(0, len(cov)):\n",
    "        partial_covariance_function = cov[i]\n",
    "        C_ = partial_covariance_function.compute_K(x_new, x)\n",
    "        mu_ = np.linalg.inv(B).dot(C_.T).T.dot(y).squeeze()\n",
    "        mu.append(mu_)\n",
    "\n",
    "    return (mu, sigma)\n",
    "\n",
    "def predict2(x_new, x, y, cov, sigma_n=0):\n",
    "    l_y_pred, l_sigmas = conditional2(x_new, x, y, cov=cov, sigma_n=sigma_n)\n",
    "    if len(l_sigmas[0].shape) > 1:\n",
    "        return l_y_pred, [np.diagonal(ls) for ls in l_sigmas]\n",
    "    else:\n",
    "        return l_y_pred, l_sigmas"
   ]
  },
  {
   "cell_type": "code",
   "execution_count": 26,
   "metadata": {},
   "outputs": [],
   "source": [
    "y_pred2, sigmas2 = predict2(XX, X, Y, cov=[k1_, k2_, k4_], sigma_n=np.sqrt(m.likelihood.variance.value))"
   ]
  },
  {
   "cell_type": "code",
   "execution_count": 27,
   "metadata": {},
   "outputs": [
    {
     "data": {
      "text/plain": [
       "1000"
      ]
     },
     "execution_count": 27,
     "metadata": {},
     "output_type": "execute_result"
    }
   ],
   "source": [
    "len(y_pred[0])"
   ]
  },
  {
   "cell_type": "code",
   "execution_count": 28,
   "metadata": {},
   "outputs": [
    {
     "data": {
      "text/plain": [
       "False"
      ]
     },
     "execution_count": 28,
     "metadata": {},
     "output_type": "execute_result"
    }
   ],
   "source": [
    "np.allclose(y_pred[0], y_pred2[0])"
   ]
  },
  {
   "cell_type": "code",
   "execution_count": 29,
   "metadata": {},
   "outputs": [
    {
     "data": {
      "text/html": [
       "<div>\n",
       "<style scoped>\n",
       "    .dataframe tbody tr th:only-of-type {\n",
       "        vertical-align: middle;\n",
       "    }\n",
       "\n",
       "    .dataframe tbody tr th {\n",
       "        vertical-align: top;\n",
       "    }\n",
       "\n",
       "    .dataframe thead th {\n",
       "        text-align: right;\n",
       "    }\n",
       "</style>\n",
       "<table border=\"1\" class=\"dataframe\">\n",
       "  <thead>\n",
       "    <tr style=\"text-align: right;\">\n",
       "      <th></th>\n",
       "      <th>np</th>\n",
       "      <th>tf</th>\n",
       "      <th>delta</th>\n",
       "      <th>%</th>\n",
       "    </tr>\n",
       "  </thead>\n",
       "  <tbody>\n",
       "    <tr>\n",
       "      <th>0</th>\n",
       "      <td>353.432249</td>\n",
       "      <td>353.491490</td>\n",
       "      <td>0.059241</td>\n",
       "      <td>0.016762</td>\n",
       "    </tr>\n",
       "    <tr>\n",
       "      <th>1</th>\n",
       "      <td>353.794488</td>\n",
       "      <td>353.593366</td>\n",
       "      <td>0.201122</td>\n",
       "      <td>0.056847</td>\n",
       "    </tr>\n",
       "    <tr>\n",
       "      <th>2</th>\n",
       "      <td>353.592719</td>\n",
       "      <td>353.691102</td>\n",
       "      <td>0.098382</td>\n",
       "      <td>0.027824</td>\n",
       "    </tr>\n",
       "    <tr>\n",
       "      <th>3</th>\n",
       "      <td>353.718547</td>\n",
       "      <td>353.784907</td>\n",
       "      <td>0.066361</td>\n",
       "      <td>0.018761</td>\n",
       "    </tr>\n",
       "    <tr>\n",
       "      <th>4</th>\n",
       "      <td>353.802554</td>\n",
       "      <td>353.875188</td>\n",
       "      <td>0.072634</td>\n",
       "      <td>0.020529</td>\n",
       "    </tr>\n",
       "  </tbody>\n",
       "</table>\n",
       "</div>"
      ],
      "text/plain": [
       "           np          tf     delta         %\n",
       "0  353.432249  353.491490  0.059241  0.016762\n",
       "1  353.794488  353.593366  0.201122  0.056847\n",
       "2  353.592719  353.691102  0.098382  0.027824\n",
       "3  353.718547  353.784907  0.066361  0.018761\n",
       "4  353.802554  353.875188  0.072634  0.020529"
      ]
     },
     "execution_count": 29,
     "metadata": {},
     "output_type": "execute_result"
    }
   ],
   "source": [
    "df = pd.DataFrame(np.array([y_pred[0],y_pred2[0]]).T, columns=['np','tf'])\n",
    "df['delta'] = np.abs(df['np'] - df['tf'])\n",
    "df['%'] = df['delta'] / df['np'] * 100.0\n",
    "df.head()"
   ]
  },
  {
   "cell_type": "code",
   "execution_count": 30,
   "metadata": {},
   "outputs": [
    {
     "data": {
      "text/plain": [
       "delta    0.422420\n",
       "%        0.118468\n",
       "dtype: float64"
      ]
     },
     "execution_count": 30,
     "metadata": {},
     "output_type": "execute_result"
    }
   ],
   "source": [
    "df[['delta','%']].max()"
   ]
  },
  {
   "cell_type": "markdown",
   "metadata": {},
   "source": [
    "## Alternative implementation 3"
   ]
  },
  {
   "cell_type": "markdown",
   "metadata": {},
   "source": [
    "* [Detecting periodicities with Gaussian processes](https://www.researchgate.net/publication/301303918_Detecting_periodicities_with_Gaussian_processes)\n",
    "    * [download](https://peerj.com/articles/cs-50/#supp-3) (see figure3.ipynb)"
   ]
  },
  {
   "cell_type": "code",
   "execution_count": 31,
   "metadata": {},
   "outputs": [],
   "source": [
    "import GPy"
   ]
  },
  {
   "cell_type": "code",
   "execution_count": 32,
   "metadata": {},
   "outputs": [
    {
     "name": "stderr",
     "output_type": "stream",
     "text": [
      " /home/user/cs/local/install/Anaconda3-5.1.0-Linux-x86_64/lib/python3.6/site-packages/paramz/transformations.py:111: RuntimeWarning:overflow encountered in expm1\n"
     ]
    },
    {
     "data": {
      "text/html": [
       "<style type=\"text/css\">\n",
       ".pd{\n",
       "    font-family: \"Courier New\", Courier, monospace !important;\n",
       "    width: 100%;\n",
       "    padding: 3px;\n",
       "}\n",
       "</style>\n",
       "\n",
       "<p class=pd>\n",
       "<b>Model</b>: GP regression<br>\n",
       "<b>Objective</b>: 129.0325586779723<br>\n",
       "<b>Number of Parameters</b>: 11<br>\n",
       "<b>Number of Optimization Parameters</b>: 11<br>\n",
       "<b>Updates</b>: True<br>\n",
       "</p>\n",
       "<style type=\"text/css\">\n",
       ".tg  {font-family:\"Courier New\", Courier, monospace !important;padding:2px 3px;word-break:normal;border-collapse:collapse;border-spacing:0;border-color:#DCDCDC;margin:0px auto;width:100%;}\n",
       ".tg td{font-family:\"Courier New\", Courier, monospace !important;font-weight:bold;color:#444;background-color:#F7FDFA;border-style:solid;border-width:1px;overflow:hidden;word-break:normal;border-color:#DCDCDC;}\n",
       ".tg th{font-family:\"Courier New\", Courier, monospace !important;font-weight:normal;color:#fff;background-color:#26ADE4;border-style:solid;border-width:1px;overflow:hidden;word-break:normal;border-color:#DCDCDC;}\n",
       ".tg .tg-left{font-family:\"Courier New\", Courier, monospace !important;font-weight:normal;text-align:left;}\n",
       ".tg .tg-center{font-family:\"Courier New\", Courier, monospace !important;font-weight:normal;text-align:center;}\n",
       ".tg .tg-right{font-family:\"Courier New\", Courier, monospace !important;font-weight:normal;text-align:right;}\n",
       "</style>\n",
       "<table class=\"tg\"><tr><th><b>  GP_regression.                  </b></th><th><b>               value</b></th><th><b>constraints</b></th><th><b>priors</b></th></tr>\n",
       "<tr><td class=tg-left>  sum.rbf.variance                </td><td class=tg-right>   4356.219066727382</td><td class=tg-center>    +ve    </td><td class=tg-center>      </td></tr>\n",
       "<tr><td class=tg-left>  sum.rbf.lengthscale             </td><td class=tg-right>   48.56594619483027</td><td class=tg-center>    +ve    </td><td class=tg-center>      </td></tr>\n",
       "<tr><td class=tg-left>  sum.mul.rbf.variance            </td><td class=tg-right>   5.637683700856834</td><td class=tg-center>    +ve    </td><td class=tg-center>      </td></tr>\n",
       "<tr><td class=tg-left>  sum.mul.rbf.lengthscale         </td><td class=tg-right>   91.88721945135256</td><td class=tg-center>    +ve    </td><td class=tg-center>      </td></tr>\n",
       "<tr><td class=tg-left>  sum.mul.std_periodic.variance   </td><td class=tg-right>  1.0272708800096328</td><td class=tg-center>    +ve    </td><td class=tg-center>      </td></tr>\n",
       "<tr><td class=tg-left>  sum.mul.std_periodic.period     </td><td class=tg-right>  0.9997023993127501</td><td class=tg-center>    +ve    </td><td class=tg-center>      </td></tr>\n",
       "<tr><td class=tg-left>  sum.mul.std_periodic.lengthscale</td><td class=tg-right>  0.6709921661743454</td><td class=tg-center>    +ve    </td><td class=tg-center>      </td></tr>\n",
       "<tr><td class=tg-left>  sum.rbf_1.variance              </td><td class=tg-right>  0.1604335253636476</td><td class=tg-center>    +ve    </td><td class=tg-center>      </td></tr>\n",
       "<tr><td class=tg-left>  sum.rbf_1.lengthscale           </td><td class=tg-right>  0.3275299772519137</td><td class=tg-center>    +ve    </td><td class=tg-center>      </td></tr>\n",
       "<tr><td class=tg-left>  sum.white.variance              </td><td class=tg-right> 0.03261433565644494</td><td class=tg-center>    +ve    </td><td class=tg-center>      </td></tr>\n",
       "<tr><td class=tg-left>  Gaussian_noise.variance         </td><td class=tg-right>0.009561763817922439</td><td class=tg-center>    +ve    </td><td class=tg-center>      </td></tr>\n",
       "</table>"
      ],
      "text/plain": [
       "<GPy.models.gp_regression.GPRegression at 0x7f71241ab198>"
      ]
     },
     "execution_count": 32,
     "metadata": {},
     "output_type": "execute_result"
    }
   ],
   "source": [
    "k1__  = GPy.kern.RBF        (input_dim=1, variance=float(m.kern.rbf_1.variance.value)           , lengthscale=float(m.kern.rbf_1.lengthscales.value))\n",
    "k2__1 = GPy.kern.RBF        (input_dim=1, variance=float(m.kern.product.rbf.variance.value)     , lengthscale=float(m.kern.product.rbf.lengthscales.value))\n",
    "k2__2 = GPy.kern.StdPeriodic(input_dim=1, variance=float(m.kern.product.periodic.variance.value), lengthscale=float(m.kern.product.periodic.lengthscales.value),period=float(m.kern.product.periodic.period.value))\n",
    "k2__  = k2__1 * k2__2\n",
    "k4__1 = GPy.kern.RBF        (input_dim=1, variance=float(m.kern.rbf_2.variance.value)           , lengthscale=float(m.kern.rbf_2.lengthscales.value))\n",
    "k4__2 = GPy.kern.White      (input_dim=1, variance=float(m.kern.white.variance.value))\n",
    "k4__  = k4__1 + k4__2\n",
    "k__   = k1__ + k2__ + k4__\n",
    "m__   = GPy.models.GPRegression(X,Y,k__)\n",
    "m__.Gaussian_noise.variance[0] = float(m.likelihood.variance.value)\n",
    "m__"
   ]
  },
  {
   "cell_type": "code",
   "execution_count": 33,
   "metadata": {},
   "outputs": [],
   "source": [
    "def conditional3(x_new, x, y, cov, sigma_n=0):\n",
    "    if not isinstance(cov, list):\n",
    "        cov = [cov]\n",
    "\n",
    "    if len(cov) < 2:\n",
    "        total_covariance_function = cov[0]\n",
    "    else:\n",
    "        # total_covariance_function = None\n",
    "        total_covariance_function = functools.reduce(lambda a, x: a + x, cov)\n",
    "\n",
    "    A = total_covariance_function.K(x_new,x_new)\n",
    "    C = total_covariance_function.K(x_new, x)\n",
    "    B = total_covariance_function.K(x,x) + np.power(sigma_n,2)*np.diag(np.ones(len(x)))\n",
    "\n",
    "    mu = [np.linalg.inv(B).dot(C.T).T.dot(y).squeeze()]\n",
    "    sigma = [(A - C.dot(np.linalg.inv(B).dot(C.T))).squeeze()]\n",
    "\n",
    "    for i in range(0, len(cov)):\n",
    "        partial_covariance_function = cov[i]\n",
    "        C_ = partial_covariance_function.K(x_new, x)\n",
    "        mu_ = np.linalg.inv(B).dot(C_.T).T.dot(y).squeeze()\n",
    "        mu.append(mu_)\n",
    "\n",
    "    return (mu, sigma)\n",
    "\n",
    "def predict3(x_new, x, y, cov, sigma_n=0):\n",
    "    l_y_pred, l_sigmas = conditional3(x_new, x, y, cov=cov, sigma_n=sigma_n)\n",
    "    if len(l_sigmas[0].shape) > 1:\n",
    "        return l_y_pred, [np.diagonal(ls) for ls in l_sigmas]\n",
    "    else:\n",
    "        return l_y_pred, l_sigmas"
   ]
  },
  {
   "cell_type": "code",
   "execution_count": 34,
   "metadata": {},
   "outputs": [
    {
     "name": "stderr",
     "output_type": "stream",
     "text": [
      " /home/user/cs/local/install/Anaconda3-5.1.0-Linux-x86_64/lib/python3.6/site-packages/paramz/transformations.py:111: RuntimeWarning:overflow encountered in expm1\n"
     ]
    }
   ],
   "source": [
    "y_pred3, sigmas3 = predict3(XX, X, Y, cov=[k1__, k2__, k4__], sigma_n=np.sqrt(m__.Gaussian_noise.variance[0]))"
   ]
  },
  {
   "cell_type": "code",
   "execution_count": 35,
   "metadata": {},
   "outputs": [
    {
     "data": {
      "text/plain": [
       "False"
      ]
     },
     "execution_count": 35,
     "metadata": {},
     "output_type": "execute_result"
    }
   ],
   "source": [
    "np.allclose(y_pred[0], y_pred3[0])"
   ]
  },
  {
   "cell_type": "code",
   "execution_count": 36,
   "metadata": {},
   "outputs": [
    {
     "data": {
      "text/html": [
       "<div>\n",
       "<style scoped>\n",
       "    .dataframe tbody tr th:only-of-type {\n",
       "        vertical-align: middle;\n",
       "    }\n",
       "\n",
       "    .dataframe tbody tr th {\n",
       "        vertical-align: top;\n",
       "    }\n",
       "\n",
       "    .dataframe thead th {\n",
       "        text-align: right;\n",
       "    }\n",
       "</style>\n",
       "<table border=\"1\" class=\"dataframe\">\n",
       "  <thead>\n",
       "    <tr style=\"text-align: right;\">\n",
       "      <th></th>\n",
       "      <th>np</th>\n",
       "      <th>gpflow</th>\n",
       "      <th>gpy</th>\n",
       "      <th>delta_gpflow</th>\n",
       "      <th>%_gpflow</th>\n",
       "      <th>delta_gpy</th>\n",
       "      <th>%_gpy</th>\n",
       "      <th>delta_gpflow_gpy</th>\n",
       "      <th>%_gpflow_gpy</th>\n",
       "    </tr>\n",
       "  </thead>\n",
       "  <tbody>\n",
       "    <tr>\n",
       "      <th>0</th>\n",
       "      <td>353.432249</td>\n",
       "      <td>353.491490</td>\n",
       "      <td>353.531821</td>\n",
       "      <td>0.059241</td>\n",
       "      <td>0.016762</td>\n",
       "      <td>0.099572</td>\n",
       "      <td>0.028173</td>\n",
       "      <td>0.040331</td>\n",
       "      <td>0.011409</td>\n",
       "    </tr>\n",
       "    <tr>\n",
       "      <th>1</th>\n",
       "      <td>353.794488</td>\n",
       "      <td>353.593366</td>\n",
       "      <td>353.638284</td>\n",
       "      <td>0.201122</td>\n",
       "      <td>0.056847</td>\n",
       "      <td>0.156204</td>\n",
       "      <td>0.044151</td>\n",
       "      <td>0.044917</td>\n",
       "      <td>0.012703</td>\n",
       "    </tr>\n",
       "    <tr>\n",
       "      <th>2</th>\n",
       "      <td>353.592719</td>\n",
       "      <td>353.691102</td>\n",
       "      <td>353.739576</td>\n",
       "      <td>0.098382</td>\n",
       "      <td>0.027824</td>\n",
       "      <td>0.146856</td>\n",
       "      <td>0.041533</td>\n",
       "      <td>0.048474</td>\n",
       "      <td>0.013705</td>\n",
       "    </tr>\n",
       "    <tr>\n",
       "      <th>3</th>\n",
       "      <td>353.718547</td>\n",
       "      <td>353.784907</td>\n",
       "      <td>353.835668</td>\n",
       "      <td>0.066361</td>\n",
       "      <td>0.018761</td>\n",
       "      <td>0.117121</td>\n",
       "      <td>0.033111</td>\n",
       "      <td>0.050760</td>\n",
       "      <td>0.014348</td>\n",
       "    </tr>\n",
       "    <tr>\n",
       "      <th>4</th>\n",
       "      <td>353.802554</td>\n",
       "      <td>353.875188</td>\n",
       "      <td>353.926814</td>\n",
       "      <td>0.072634</td>\n",
       "      <td>0.020529</td>\n",
       "      <td>0.124260</td>\n",
       "      <td>0.035121</td>\n",
       "      <td>0.051626</td>\n",
       "      <td>0.014589</td>\n",
       "    </tr>\n",
       "  </tbody>\n",
       "</table>\n",
       "</div>"
      ],
      "text/plain": [
       "           np      gpflow         gpy  delta_gpflow  %_gpflow  delta_gpy  \\\n",
       "0  353.432249  353.491490  353.531821      0.059241  0.016762   0.099572   \n",
       "1  353.794488  353.593366  353.638284      0.201122  0.056847   0.156204   \n",
       "2  353.592719  353.691102  353.739576      0.098382  0.027824   0.146856   \n",
       "3  353.718547  353.784907  353.835668      0.066361  0.018761   0.117121   \n",
       "4  353.802554  353.875188  353.926814      0.072634  0.020529   0.124260   \n",
       "\n",
       "      %_gpy  delta_gpflow_gpy  %_gpflow_gpy  \n",
       "0  0.028173          0.040331      0.011409  \n",
       "1  0.044151          0.044917      0.012703  \n",
       "2  0.041533          0.048474      0.013705  \n",
       "3  0.033111          0.050760      0.014348  \n",
       "4  0.035121          0.051626      0.014589  "
      ]
     },
     "execution_count": 36,
     "metadata": {},
     "output_type": "execute_result"
    }
   ],
   "source": [
    "df = pd.DataFrame(np.array([y_pred[0],y_pred2[0],y_pred3[0]]).T, columns=['np','gpflow','gpy'])\n",
    "df['delta_gpflow'] = np.abs(df['np'] - df['gpflow'])\n",
    "df['%_gpflow'] = df['delta_gpflow'] / df['np'] * 100.0\n",
    "df['delta_gpy'] = np.abs(df['np'] - df['gpy'])\n",
    "df['%_gpy'] = df['delta_gpy'] / df['np'] * 100.0\n",
    "df['delta_gpflow_gpy'] = np.abs(df['gpflow'] - df['gpy'])\n",
    "df['%_gpflow_gpy'] = df['delta_gpflow_gpy'] / df['gpflow'] * 100.0\n",
    "df.head()"
   ]
  },
  {
   "cell_type": "code",
   "execution_count": 37,
   "metadata": {},
   "outputs": [
    {
     "data": {
      "text/plain": [
       "delta_gpflow        0.422420\n",
       "%_gpflow            0.118468\n",
       "delta_gpy           0.470745\n",
       "%_gpy               0.128166\n",
       "delta_gpflow_gpy    0.426263\n",
       "%_gpflow_gpy        0.115775\n",
       "dtype: float64"
      ]
     },
     "execution_count": 37,
     "metadata": {},
     "output_type": "execute_result"
    }
   ],
   "source": [
    "df[['delta_gpflow','%_gpflow','delta_gpy','%_gpy','delta_gpflow_gpy','%_gpflow_gpy']].max()"
   ]
  },
  {
   "cell_type": "markdown",
   "metadata": {},
   "source": [
    "### Using different GPy optimizers"
   ]
  },
  {
   "cell_type": "markdown",
   "metadata": {},
   "source": [
    "[GPy delivers \"wrong\" results compared to gpflow](https://github.com/SheffieldML/GPy/issues/614)"
   ]
  },
  {
   "cell_type": "code",
   "execution_count": 38,
   "metadata": {},
   "outputs": [
    {
     "name": "stderr",
     "output_type": "stream",
     "text": [
      " /home/user/cs/local/install/Anaconda3-5.1.0-Linux-x86_64/lib/python3.6/site-packages/paramz/transformations.py:111: RuntimeWarning:overflow encountered in expm1\n"
     ]
    },
    {
     "data": {
      "text/html": [
       "<style type=\"text/css\">\n",
       ".pd{\n",
       "    font-family: \"Courier New\", Courier, monospace !important;\n",
       "    width: 100%;\n",
       "    padding: 3px;\n",
       "}\n",
       "</style>\n",
       "\n",
       "<p class=pd>\n",
       "<b>Model</b>: GP regression<br>\n",
       "<b>Objective</b>: 129.03255860662563<br>\n",
       "<b>Number of Parameters</b>: 11<br>\n",
       "<b>Number of Optimization Parameters</b>: 11<br>\n",
       "<b>Updates</b>: True<br>\n",
       "</p>\n",
       "<style type=\"text/css\">\n",
       ".tg  {font-family:\"Courier New\", Courier, monospace !important;padding:2px 3px;word-break:normal;border-collapse:collapse;border-spacing:0;border-color:#DCDCDC;margin:0px auto;width:100%;}\n",
       ".tg td{font-family:\"Courier New\", Courier, monospace !important;font-weight:bold;color:#444;background-color:#F7FDFA;border-style:solid;border-width:1px;overflow:hidden;word-break:normal;border-color:#DCDCDC;}\n",
       ".tg th{font-family:\"Courier New\", Courier, monospace !important;font-weight:normal;color:#fff;background-color:#26ADE4;border-style:solid;border-width:1px;overflow:hidden;word-break:normal;border-color:#DCDCDC;}\n",
       ".tg .tg-left{font-family:\"Courier New\", Courier, monospace !important;font-weight:normal;text-align:left;}\n",
       ".tg .tg-center{font-family:\"Courier New\", Courier, monospace !important;font-weight:normal;text-align:center;}\n",
       ".tg .tg-right{font-family:\"Courier New\", Courier, monospace !important;font-weight:normal;text-align:right;}\n",
       "</style>\n",
       "<table class=\"tg\"><tr><th><b>  GP_regression.                  </b></th><th><b>               value</b></th><th><b>constraints</b></th><th><b>priors</b></th></tr>\n",
       "<tr><td class=tg-left>  sum.rbf.variance                </td><td class=tg-right>   4356.219066919968</td><td class=tg-center>    +ve    </td><td class=tg-center>      </td></tr>\n",
       "<tr><td class=tg-left>  sum.rbf.lengthscale             </td><td class=tg-right>   48.56594639625781</td><td class=tg-center>    +ve    </td><td class=tg-center>      </td></tr>\n",
       "<tr><td class=tg-left>  sum.mul.rbf.variance            </td><td class=tg-right>   5.637683700048617</td><td class=tg-center>    +ve    </td><td class=tg-center>      </td></tr>\n",
       "<tr><td class=tg-left>  sum.mul.rbf.lengthscale         </td><td class=tg-right>   91.88722139917022</td><td class=tg-center>    +ve    </td><td class=tg-center>      </td></tr>\n",
       "<tr><td class=tg-left>  sum.mul.std_periodic.variance   </td><td class=tg-right>   1.027270878168286</td><td class=tg-center>    +ve    </td><td class=tg-center>      </td></tr>\n",
       "<tr><td class=tg-left>  sum.mul.std_periodic.period     </td><td class=tg-right>   0.999702336077066</td><td class=tg-center>    +ve    </td><td class=tg-center>      </td></tr>\n",
       "<tr><td class=tg-left>  sum.mul.std_periodic.lengthscale</td><td class=tg-right>  0.6709921519788398</td><td class=tg-center>    +ve    </td><td class=tg-center>      </td></tr>\n",
       "<tr><td class=tg-left>  sum.rbf_1.variance              </td><td class=tg-right>  0.1604335223905518</td><td class=tg-center>    +ve    </td><td class=tg-center>      </td></tr>\n",
       "<tr><td class=tg-left>  sum.rbf_1.lengthscale           </td><td class=tg-right>  0.3275299864473394</td><td class=tg-center>    +ve    </td><td class=tg-center>      </td></tr>\n",
       "<tr><td class=tg-left>  sum.white.variance              </td><td class=tg-right>  0.0326143341988312</td><td class=tg-center>    +ve    </td><td class=tg-center>      </td></tr>\n",
       "<tr><td class=tg-left>  Gaussian_noise.variance         </td><td class=tg-right>0.009561763689725448</td><td class=tg-center>    +ve    </td><td class=tg-center>      </td></tr>\n",
       "</table>"
      ],
      "text/plain": [
       "<GPy.models.gp_regression.GPRegression at 0x7f7124049ef0>"
      ]
     },
     "execution_count": 38,
     "metadata": {},
     "output_type": "execute_result"
    }
   ],
   "source": [
    "k1__  = GPy.kern.RBF        (input_dim=1, variance=float(m.kern.rbf_1.variance.value)           , lengthscale=float(m.kern.rbf_1.lengthscales.value))\n",
    "k2__1 = GPy.kern.RBF        (input_dim=1, variance=float(m.kern.product.rbf.variance.value)     , lengthscale=float(m.kern.product.rbf.lengthscales.value))\n",
    "k2__2 = GPy.kern.StdPeriodic(input_dim=1, variance=float(m.kern.product.periodic.variance.value), lengthscale=float(m.kern.product.periodic.lengthscales.value),period=float(m.kern.product.periodic.period.value))\n",
    "k2__  = k2__1 * k2__2\n",
    "k4__1 = GPy.kern.RBF        (input_dim=1, variance=float(m.kern.rbf_2.variance.value)           , lengthscale=float(m.kern.rbf_2.lengthscales.value))\n",
    "k4__2 = GPy.kern.White      (input_dim=1, variance=float(m.kern.white.variance.value))\n",
    "k4__  = k4__1 + k4__2\n",
    "k__   = k1__ + k2__ + k4__\n",
    "m__   = GPy.models.GPRegression(X,Y,k__)\n",
    "m__.Gaussian_noise.variance[0] = float(m.likelihood.variance.value)\n",
    "m__.optimize()\n",
    "m__"
   ]
  },
  {
   "cell_type": "code",
   "execution_count": 39,
   "metadata": {},
   "outputs": [
    {
     "name": "stderr",
     "output_type": "stream",
     "text": [
      " /home/user/cs/local/install/Anaconda3-5.1.0-Linux-x86_64/lib/python3.6/site-packages/paramz/transformations.py:111: RuntimeWarning:overflow encountered in expm1\n"
     ]
    },
    {
     "data": {
      "text/html": [
       "<style type=\"text/css\">\n",
       ".pd{\n",
       "    font-family: \"Courier New\", Courier, monospace !important;\n",
       "    width: 100%;\n",
       "    padding: 3px;\n",
       "}\n",
       "</style>\n",
       "\n",
       "<p class=pd>\n",
       "<b>Model</b>: GP regression<br>\n",
       "<b>Objective</b>: 129.0325584869393<br>\n",
       "<b>Number of Parameters</b>: 11<br>\n",
       "<b>Number of Optimization Parameters</b>: 11<br>\n",
       "<b>Updates</b>: True<br>\n",
       "</p>\n",
       "<style type=\"text/css\">\n",
       ".tg  {font-family:\"Courier New\", Courier, monospace !important;padding:2px 3px;word-break:normal;border-collapse:collapse;border-spacing:0;border-color:#DCDCDC;margin:0px auto;width:100%;}\n",
       ".tg td{font-family:\"Courier New\", Courier, monospace !important;font-weight:bold;color:#444;background-color:#F7FDFA;border-style:solid;border-width:1px;overflow:hidden;word-break:normal;border-color:#DCDCDC;}\n",
       ".tg th{font-family:\"Courier New\", Courier, monospace !important;font-weight:normal;color:#fff;background-color:#26ADE4;border-style:solid;border-width:1px;overflow:hidden;word-break:normal;border-color:#DCDCDC;}\n",
       ".tg .tg-left{font-family:\"Courier New\", Courier, monospace !important;font-weight:normal;text-align:left;}\n",
       ".tg .tg-center{font-family:\"Courier New\", Courier, monospace !important;font-weight:normal;text-align:center;}\n",
       ".tg .tg-right{font-family:\"Courier New\", Courier, monospace !important;font-weight:normal;text-align:right;}\n",
       "</style>\n",
       "<table class=\"tg\"><tr><th><b>  GP_regression.                  </b></th><th><b>               value</b></th><th><b>constraints</b></th><th><b>priors</b></th></tr>\n",
       "<tr><td class=tg-left>  sum.rbf.variance                </td><td class=tg-right>   4356.219067485651</td><td class=tg-center>    +ve    </td><td class=tg-center>      </td></tr>\n",
       "<tr><td class=tg-left>  sum.rbf.lengthscale             </td><td class=tg-right>   48.56594698791067</td><td class=tg-center>    +ve    </td><td class=tg-center>      </td></tr>\n",
       "<tr><td class=tg-left>  sum.mul.rbf.variance            </td><td class=tg-right>   5.637683697674644</td><td class=tg-center>    +ve    </td><td class=tg-center>      </td></tr>\n",
       "<tr><td class=tg-left>  sum.mul.rbf.lengthscale         </td><td class=tg-right>   91.88722712049271</td><td class=tg-center>    +ve    </td><td class=tg-center>      </td></tr>\n",
       "<tr><td class=tg-left>  sum.mul.std_periodic.variance   </td><td class=tg-right>  1.0272708727596997</td><td class=tg-center>    +ve    </td><td class=tg-center>      </td></tr>\n",
       "<tr><td class=tg-left>  sum.mul.std_periodic.period     </td><td class=tg-right>  0.9997021503349799</td><td class=tg-center>    +ve    </td><td class=tg-center>      </td></tr>\n",
       "<tr><td class=tg-left>  sum.mul.std_periodic.lengthscale</td><td class=tg-right>   0.670992110282399</td><td class=tg-center>    +ve    </td><td class=tg-center>      </td></tr>\n",
       "<tr><td class=tg-left>  sum.rbf_1.variance              </td><td class=tg-right>  0.1604335136576813</td><td class=tg-center>    +ve    </td><td class=tg-center>      </td></tr>\n",
       "<tr><td class=tg-left>  sum.rbf_1.lengthscale           </td><td class=tg-right>  0.3275300134570538</td><td class=tg-center>    +ve    </td><td class=tg-center>      </td></tr>\n",
       "<tr><td class=tg-left>  sum.white.variance              </td><td class=tg-right>  0.0326143299173845</td><td class=tg-center>    +ve    </td><td class=tg-center>      </td></tr>\n",
       "<tr><td class=tg-left>  Gaussian_noise.variance         </td><td class=tg-right>0.009561763313172598</td><td class=tg-center>    +ve    </td><td class=tg-center>      </td></tr>\n",
       "</table>"
      ],
      "text/plain": [
       "<GPy.models.gp_regression.GPRegression at 0x7f71240dd940>"
      ]
     },
     "execution_count": 39,
     "metadata": {},
     "output_type": "execute_result"
    }
   ],
   "source": [
    "k1__  = GPy.kern.RBF        (input_dim=1, variance=float(m.kern.rbf_1.variance.value)           , lengthscale=float(m.kern.rbf_1.lengthscales.value))\n",
    "k2__1 = GPy.kern.RBF        (input_dim=1, variance=float(m.kern.product.rbf.variance.value)     , lengthscale=float(m.kern.product.rbf.lengthscales.value))\n",
    "k2__2 = GPy.kern.StdPeriodic(input_dim=1, variance=float(m.kern.product.periodic.variance.value), lengthscale=float(m.kern.product.periodic.lengthscales.value),period=float(m.kern.product.periodic.period.value))\n",
    "k2__  = k2__1 * k2__2\n",
    "k4__1 = GPy.kern.RBF        (input_dim=1, variance=float(m.kern.rbf_2.variance.value)           , lengthscale=float(m.kern.rbf_2.lengthscales.value))\n",
    "k4__2 = GPy.kern.White      (input_dim=1, variance=float(m.kern.white.variance.value))\n",
    "k4__  = k4__1 + k4__2\n",
    "k__   = k1__ + k2__ + k4__\n",
    "m__   = GPy.models.GPRegression(X,Y,k__)\n",
    "m__.Gaussian_noise.variance[0] = float(m.likelihood.variance.value)\n",
    "m__.optimize(optimizer='scg')\n",
    "m__"
   ]
  }
 ],
 "metadata": {
  "kernelspec": {
   "display_name": "Python 3",
   "language": "python",
   "name": "python3"
  },
  "language_info": {
   "codemirror_mode": {
    "name": "ipython",
    "version": 3
   },
   "file_extension": ".py",
   "mimetype": "text/x-python",
   "name": "python",
   "nbconvert_exporter": "python",
   "pygments_lexer": "ipython3",
   "version": "3.6.4"
  }
 },
 "nbformat": 4,
 "nbformat_minor": 2
}
