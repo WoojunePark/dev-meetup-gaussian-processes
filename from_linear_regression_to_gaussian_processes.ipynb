{
 "cells": [
  {
   "cell_type": "markdown",
   "metadata": {
    "deletable": true,
    "editable": true
   },
   "source": [
    "# From Linear Regression to Gaussian Processes"
   ]
  },
  {
   "cell_type": "markdown",
   "metadata": {
    "deletable": true,
    "editable": true
   },
   "source": [
    "In this notebook we look at the path from linear regression to gaussian processes as outlined in [chapter 2](http://www.gaussianprocess.org/gpml/chapters/RW2.pdf) of [Gaussian Processes for Machine Learning](http://www.gaussianprocess.org/gpml/chapters/)."
   ]
  },
  {
   "cell_type": "markdown",
   "metadata": {
    "deletable": true,
    "editable": true
   },
   "source": [
    "For a few examples about linear regression and its relationship to bayesian methods have a look at the following [notebook](https://nbviewer.jupyter.org/github/cs224/dev-meetup-bayesian-methods-for-hackers/blob/master/bayesian-methods-for-hackers.ipynb)."
   ]
  },
  {
   "cell_type": "code",
   "execution_count": 1,
   "metadata": {
    "collapsed": true,
    "deletable": true,
    "editable": true
   },
   "outputs": [],
   "source": [
    "%matplotlib inline\n",
    "import numpy as np, matplotlib.pyplot as plt, seaborn as sns\n",
    "\n",
    "import sympy\n",
    "sympy.init_printing()\n",
    "\n",
    "from sklearn.linear_model import LinearRegression\n",
    "\n",
    "SEED = 42\n",
    "np.random.seed(SEED)\n",
    "np.set_printoptions(edgeitems=10)\n",
    "np.core.arrayprint._line_width = 180"
   ]
  },
  {
   "cell_type": "markdown",
   "metadata": {},
   "source": [
    "Let's star by creating some `xpty` and `ypts` that will serve as the example data that we want to treat via our regression procedure."
   ]
  },
  {
   "cell_type": "code",
   "execution_count": 2,
   "metadata": {
    "collapsed": false,
    "deletable": true,
    "editable": true
   },
   "outputs": [
    {
     "data": {
      "text/plain": [
       "array([-2. , -1.5, -1. , -0.5,  0. ,  0.5,  1. ,  1.5,  2. ,  2.5,  3. ,  3.5,  4. ,  4.5])"
      ]
     },
     "execution_count": 2,
     "metadata": {},
     "output_type": "execute_result"
    }
   ],
   "source": [
    "xpts = np.arange(-2.0, 5.0, 0.5)\n",
    "xpts"
   ]
  },
  {
   "cell_type": "markdown",
   "metadata": {},
   "source": [
    "The function we use to generate the `ypts` is a polynomial of 4th degree:"
   ]
  },
  {
   "cell_type": "code",
   "execution_count": 3,
   "metadata": {
    "collapsed": false,
    "deletable": true,
    "editable": true
   },
   "outputs": [
    {
     "data": {
      "image/png": "[encoded data removed]",
      "text/latex": [
       "$$x^{4} - 7.5 x^{3} + 14.5 x^{2} + 3.0 x - 20.0$$"
      ],
      "text/plain": [
       " 4        3         2               \n",
       "x  - 7.5⋅x  + 14.5⋅x  + 3.0⋅x - 20.0"
      ]
     },
     "execution_count": 3,
     "metadata": {},
     "output_type": "execute_result"
    }
   ],
   "source": [
    "def myfn(x):\n",
    "    return (x+1)*(x-2)*(x-2.5)*(x-4)\n",
    "\n",
    "symx = sympy.symbols('x')\n",
    "sympy.expand((symx+1)*(symx-2)*(symx-2.5)*(symx-4))"
   ]
  },
  {
   "cell_type": "code",
   "execution_count": 4,
   "metadata": {
    "collapsed": false,
    "deletable": true,
    "editable": true
   },
   "outputs": [
    {
     "data": {
      "text/plain": [
       "array([ 108.   ,   38.5  ,   -0.   ,  -16.875,  -20.   ,  -15.75 ,   -9.   ,   -3.125,    0.   ,   -0.   ,   -2.   ,   -3.375,    0.   ,   13.75 ])"
      ]
     },
     "execution_count": 4,
     "metadata": {},
     "output_type": "execute_result"
    }
   ],
   "source": [
    "vmyfn = np.vectorize(myfn)\n",
    "\n",
    "ypts = vmyfn(xpts)\n",
    "ypts"
   ]
  },
  {
   "cell_type": "markdown",
   "metadata": {
    "deletable": true,
    "editable": true
   },
   "source": [
    "## The standard linear model"
   ]
  },
  {
   "cell_type": "markdown",
   "metadata": {
    "deletable": true,
    "editable": true
   },
   "source": [
    "$$\\newcommand{gpvec}[1]{{\\bf #1}}$$\n",
    "We have a training set $\\mathcal{D}$ of $n$ observations, $\\mathcal{D}=\\{(\\gpvec{x_i}, y_i) |\\; i = 1, ..., n\\}$, where $\\gpvec{x}$ denotes an input vector (covariates) of dimension D and $y$ denotes a scalar output or target (dependent variable); the column vector inputs for all $n$ cases are aggregated in the D × $n$ design matrix $X$, and the targets are collected in the vector $\\gpvec{y}$, so we can write $\\mathcal{D}= (X, \\gpvec{y})$."
   ]
  },
  {
   "cell_type": "markdown",
   "metadata": {
    "deletable": true,
    "editable": true
   },
   "source": [
    "$$f(\\gpvec{x})=\\gpvec{x}^T\\cdot\\gpvec{w},\\qquad y=f(\\gpvec{x})+\\epsilon$$\n",
    "$$\\epsilon=\\mathcal{N}(0, \\sigma_n^2)$$"
   ]
  },
  {
   "cell_type": "markdown",
   "metadata": {},
   "source": [
    "The standard linear regression formula for predicting $y=f_*$ for a given new $x_*$ is given by:"
   ]
  },
  {
   "cell_type": "markdown",
   "metadata": {
    "deletable": true,
    "editable": true
   },
   "source": [
    "$$p(f_*|x_*, X, y) = \\mathcal{N}\\left(\\frac{1}{\\sigma_n^2}\\gpvec{x_*}^TA^{-1}X\\gpvec{y},\\; \\gpvec{x_*}^TA^{-1}\\gpvec{x_*}\\right)$$\n",
    "$$A=\\frac{1}{\\sigma_n^2}XX^T+\\Sigma_p^{-1}$$"
   ]
  },
  {
   "cell_type": "markdown",
   "metadata": {
    "deletable": true,
    "editable": true
   },
   "source": [
    "In case that we set $\\Sigma_p=0$ we arrive at the standard equation for linear regression:\n",
    "$$\\bar{\\gpvec{w}}=(XX^T)^{-1}X\\gpvec{y}$$"
   ]
  },
  {
   "cell_type": "markdown",
   "metadata": {},
   "source": [
    "Let's perform the standard linear regression via the scikit-learn `LinearRegression` method:"
   ]
  },
  {
   "cell_type": "code",
   "execution_count": 5,
   "metadata": {
    "collapsed": false,
    "deletable": true,
    "editable": true
   },
   "outputs": [
    {
     "data": {
      "image/png": "[encoded data removed]",
      "text/latex": [
       "$$\\left ( 14.25, \\quad -6.25\\right )$$"
      ],
      "text/plain": [
       "(14.25, -6.25)"
      ]
     },
     "execution_count": 5,
     "metadata": {},
     "output_type": "execute_result"
    }
   ],
   "source": [
    "lr = LinearRegression()\n",
    "X = xpts[:, np.newaxis]\n",
    "lr.fit(X, ypts)\n",
    "lr.coef_.squeeze()\n",
    "lr.intercept_, lr.coef_[0]"
   ]
  },
  {
   "cell_type": "markdown",
   "metadata": {},
   "source": [
    "If we plot the result the fit is obviously less than optimal:"
   ]
  },
  {
   "cell_type": "code",
   "execution_count": 6,
   "metadata": {
    "collapsed": false,
    "deletable": true,
    "editable": true
   },
   "outputs": [
    {
     "data": {
      "text/plain": [
       "<matplotlib.text.Text at 0x7fc6f82c6eb8>"
      ]
     },
     "execution_count": 6,
     "metadata": {},
     "output_type": "execute_result"
    },
    {
     "data": {
      "image/png": "[encoded data removed]",
      "text/plain": [
       "<matplotlib.figure.Figure at 0x7fc6f8375358>"
      ]
     },
     "metadata": {},
     "output_type": "display_data"
    }
   ],
   "source": [
    "fig=plt.figure(figsize=(15, 8), dpi= 80, facecolor='w', edgecolor='k')\n",
    "ax = plt.subplot(1, 1, 1)\n",
    "ax.plot(xpts, ypts, 'bo')\n",
    "plot_x = np.linspace(-3, 6, 100)\n",
    "ax.plot(plot_x, lr.intercept_ + lr.coef_[0]*plot_x)\n",
    "ax.set_xlabel(r'$x$')\n",
    "ax.set_ylabel(r'$y$')"
   ]
  },
  {
   "cell_type": "markdown",
   "metadata": {
    "deletable": true,
    "editable": true
   },
   "source": [
    "## Projections of inputs into feature space"
   ]
  },
  {
   "cell_type": "markdown",
   "metadata": {},
   "source": [
    "What would happen if we do not only use the raw $x$ values as the design matrix $X$, but would add artificial or derived covariates to generate a design matrix $\\Phi$ with dimensions D${}^*$ × $n$, with D${}^*$ > D. The process by which we create the artificial derived features is a function that we call $\\phi(x)$. Obvisouly then also the new weight vector $\\gpvec{w}$ has then D${}^*$ elements and not only D elements."
   ]
  },
  {
   "cell_type": "markdown",
   "metadata": {
    "deletable": true,
    "editable": true
   },
   "source": [
    "$$\\phi(x)=(1, x, x^2, x^3, ...)^T$$\n",
    "$$f(\\gpvec{x})=\\phi(\\gpvec{x})^T\\cdot\\gpvec{w}$$"
   ]
  },
  {
   "cell_type": "markdown",
   "metadata": {
    "deletable": true,
    "editable": true
   },
   "source": [
    "The analysis for this model is analogous to the standard linear model, except that everywhere $\\Phi=\\Phi(X)$ is\n",
    "substituted for $X$."
   ]
  },
  {
   "cell_type": "markdown",
   "metadata": {
    "deletable": true,
    "editable": true
   },
   "source": [
    "$$p(f_*|x_*, X, y) = \\mathcal{N}\\left(\\frac{1}{\\sigma_n^2}\\phi(\\gpvec{x_*})^TA^{-1}\\Phi\\gpvec{y},\\; \\phi(\\gpvec{x_*})^TA^{-1}\\phi(\\gpvec{x_*})\\right)$$\n",
    "with $\\Phi=\\Phi(X)$ and $A=\\sigma_n^{-2}\\Phi\\Phi^T+\\Sigma_p^{-1}$. $A$ and $\\Sigma_p$ are D${}^*$×D${}^*$ matrices.\n",
    "\n",
    "In cases where we have many features (and indeed perhaps even infinitely many), where D${}^*$>$N$ (the number of features is larger than the number of training cases (the design matrix $X$ is taller than broad)) we might prefer to work with the $K$ matrix as defined in the next section. "
   ]
  },
  {
   "cell_type": "markdown",
   "metadata": {
    "deletable": true,
    "editable": true
   },
   "source": [
    "Let's define $K=\\Phi^T\\Sigma_p\\Phi$ and let's start with the following identity:"
   ]
  },
  {
   "cell_type": "markdown",
   "metadata": {
    "deletable": true,
    "editable": true
   },
   "source": [
    "$$\\sigma_n^{-2}\\Phi(K+\\sigma_n^2I)=\\sigma_n^{-2}\\Phi(\\Phi^T\\Sigma_p\\Phi+\\sigma_n^2I)=\\sigma_n^{-2}\\Phi\\Phi^T\\Sigma_p\\Phi+\\Phi=(A-\\Sigma_p^{-1})\\Sigma_p\\Phi+\\Phi=A\\Sigma_p\\Phi$$"
   ]
  },
  {
   "cell_type": "markdown",
   "metadata": {
    "deletable": true,
    "editable": true
   },
   "source": [
    "Now multiplying by $A^{-1}$ from the left and $(K+\\sigma_n^2I)^{-1}$ from the right gives:"
   ]
  },
  {
   "cell_type": "markdown",
   "metadata": {
    "deletable": true,
    "editable": true
   },
   "source": [
    "$$A^{-1}\\sigma_n^{-2}\\Phi(K+\\sigma_n^2I)(K+\\sigma_n^2I)^{-1}=A^{-1}A\\Sigma_p\\Phi(K+\\sigma_n^2I)^{-1}$$"
   ]
  },
  {
   "cell_type": "markdown",
   "metadata": {
    "deletable": true,
    "editable": true
   },
   "source": [
    "$$\\sigma_n^{-2}A^{-1}\\Phi=\\Sigma_p\\Phi(K+\\sigma_n^2I)^{-1}$$"
   ]
  },
  {
   "cell_type": "markdown",
   "metadata": {
    "deletable": true,
    "editable": true
   },
   "source": [
    "Now using this in the above expression for $p(f_*|x_*, X, y)$ we arrive at:"
   ]
  },
  {
   "cell_type": "markdown",
   "metadata": {
    "deletable": true,
    "editable": true
   },
   "source": [
    "$$p(f_*|x_*, X, y) = \\mathcal{N}\\left(\\phi(\\gpvec{x_*})^T\\Sigma_p\\Phi(K+\\sigma_n^2I)^{-1}\\gpvec{y},\\; ...\\right)$$"
   ]
  },
  {
   "cell_type": "markdown",
   "metadata": {
    "deletable": true,
    "editable": true
   },
   "source": [
    "Notice that in this equation the feature space always enters in the form of $\\Phi^T\\Sigma_p\\Phi$, $\\phi(\\gpvec{x_*})^T\\Sigma_p\\Phi$ or $\\phi(\\gpvec{x_*})^T\\Sigma_p\\phi(\\gpvec{x_*})$; thus the entries of these matrices are invariably of the form $\\phi(\\gpvec{x})^T\\Sigma_p\\phi(\\gpvec{x'})$, where $\\gpvec{x}$ and $\\gpvec{x'}$ are in either the training or the test sets."
   ]
  },
  {
   "cell_type": "markdown",
   "metadata": {
    "deletable": true,
    "editable": true
   },
   "source": [
    "Let us define $k(\\gpvec{x}, \\gpvec{x'})=\\phi(\\gpvec{x})^T\\Sigma_p\\phi(\\gpvec{x'})$. We call $k(\\cdot, \\cdot)$ a **covariance function or a kernel**. Then defining $\\psi(\\gpvec{x}) = \\Sigma_p^{1/2}\\phi(\\gpvec{x})$ we obtain a simple dot product representation $k(\\gpvec{x}, \\gpvec{x'})=\\psi(\\gpvec{x})\\cdot\\psi(\\gpvec{x'})$."
   ]
  },
  {
   "cell_type": "markdown",
   "metadata": {
    "deletable": true,
    "editable": true
   },
   "source": [
    "If an algorithm is defined solely in terms of inner products in input space then it can be lifted into feature space by replacing occurrences of those inner products by $k(\\gpvec{x}, \\gpvec{x'})$. **This is sometimes called the kernel trick**. This technique is particularly valuable in situations where it is more convenient to compute the kernel than the feature vectors themselves. This may be the case if the feature vector has infinitely many dimensions, e.g. like for the fourier transformation or a taylor series expansion or similar."
   ]
  },
  {
   "cell_type": "markdown",
   "metadata": {
    "deletable": true,
    "editable": true
   },
   "source": [
    "The above is the so called **\"weight-space view\"**. There is an equivalent view that is called the \"function-space view\". For details have a look at [chapter 2](http://www.gaussianprocess.org/gpml/chapters/RW2.pdf) of [Gaussian Processes for Machine Learning](http://www.gaussianprocess.org/gpml/chapters/)."
   ]
  },
  {
   "cell_type": "markdown",
   "metadata": {
    "deletable": true,
    "editable": true
   },
   "source": [
    "Both kernel ridge regression (KRR) and Gaussian process regression (GPR) learn a target function by employing internally the \"kernel trick\". A major difference is that **GPR can choose the kernel's hyperparameters based on gradient-ascent on the marginal likelihood function** (and is therefore much faster) while KRR needs to perform a grid search on a cross-validated loss function (mean-squared error loss). A further difference is that GPR learns a generative, probabilistic model of the target function and **can thus provide meaningful confidence intervals** and **posterior samples** along with the predictions while KRR only provides predictions.\n",
    "\n",
    "Have a look [here](http://scikit-learn.org/stable/auto_examples/gaussian_process/plot_compare_gpr_krr.html) for details."
   ]
  },
  {
   "cell_type": "markdown",
   "metadata": {},
   "source": [
    "### Worked Example"
   ]
  },
  {
   "cell_type": "markdown",
   "metadata": {},
   "source": [
    "Let's create the matrix $\\Phi$ by extending our original input to the linear regression via the features, the powers of the polynomial:"
   ]
  },
  {
   "cell_type": "code",
   "execution_count": 7,
   "metadata": {
    "collapsed": false,
    "deletable": true,
    "editable": true
   },
   "outputs": [
    {
     "data": {
      "text/plain": [
       "array([[ -2.00000000e+00,   4.00000000e+00,  -8.00000000e+00,   1.60000000e+01],\n",
       "       [ -1.50000000e+00,   2.25000000e+00,  -3.37500000e+00,   5.06250000e+00],\n",
       "       [ -1.00000000e+00,   1.00000000e+00,  -1.00000000e+00,   1.00000000e+00],\n",
       "       [ -5.00000000e-01,   2.50000000e-01,  -1.25000000e-01,   6.25000000e-02],\n",
       "       [  0.00000000e+00,   0.00000000e+00,   0.00000000e+00,   0.00000000e+00],\n",
       "       [  5.00000000e-01,   2.50000000e-01,   1.25000000e-01,   6.25000000e-02],\n",
       "       [  1.00000000e+00,   1.00000000e+00,   1.00000000e+00,   1.00000000e+00],\n",
       "       [  1.50000000e+00,   2.25000000e+00,   3.37500000e+00,   5.06250000e+00],\n",
       "       [  2.00000000e+00,   4.00000000e+00,   8.00000000e+00,   1.60000000e+01],\n",
       "       [  2.50000000e+00,   6.25000000e+00,   1.56250000e+01,   3.90625000e+01],\n",
       "       [  3.00000000e+00,   9.00000000e+00,   2.70000000e+01,   8.10000000e+01],\n",
       "       [  3.50000000e+00,   1.22500000e+01,   4.28750000e+01,   1.50062500e+02],\n",
       "       [  4.00000000e+00,   1.60000000e+01,   6.40000000e+01,   2.56000000e+02],\n",
       "       [  4.50000000e+00,   2.02500000e+01,   9.11250000e+01,   4.10062500e+02]])"
      ]
     },
     "execution_count": 7,
     "metadata": {},
     "output_type": "execute_result"
    }
   ],
   "source": [
    "X_poly = np.hstack([X, X**2, X**3, X**4])\n",
    "X_poly"
   ]
  },
  {
   "cell_type": "markdown",
   "metadata": {},
   "source": [
    "And now we perform the exact same linear regression as we did above, but only with the extended design matrix including the features:"
   ]
  },
  {
   "cell_type": "code",
   "execution_count": 8,
   "metadata": {
    "collapsed": false,
    "deletable": true,
    "editable": true
   },
   "outputs": [
    {
     "data": {
      "text/plain": [
       "(-20.000000000000085, array([  3. ,  14.5,  -7.5,   1. ]))"
      ]
     },
     "execution_count": 8,
     "metadata": {},
     "output_type": "execute_result"
    }
   ],
   "source": [
    "lr_poly = LinearRegression()\n",
    "lr_poly.fit(X_poly, ypts)\n",
    "lr_poly.intercept_, lr_poly.coef_"
   ]
  },
  {
   "cell_type": "markdown",
   "metadata": {},
   "source": [
    "As you can see this linear regression recovers all of the \"weights\" of the polynomial of 4th degree that we used to generate the data:"
   ]
  },
  {
   "cell_type": "code",
   "execution_count": 9,
   "metadata": {
    "collapsed": false,
    "deletable": true,
    "editable": true
   },
   "outputs": [
    {
     "data": {
      "image/png": "[encoded data removed]",
      "text/latex": [
       "$$x^{4} - 7.5 x^{3} + 14.5 x^{2} + 3.0 x - 20.0$$"
      ],
      "text/plain": [
       " 4        3         2               \n",
       "x  - 7.5⋅x  + 14.5⋅x  + 3.0⋅x - 20.0"
      ]
     },
     "execution_count": 9,
     "metadata": {},
     "output_type": "execute_result"
    }
   ],
   "source": [
    "sympy.expand((symx+1)*(symx-2)*(symx-2.5)*(symx-4))"
   ]
  },
  {
   "cell_type": "markdown",
   "metadata": {},
   "source": [
    "And now we can plot the recovered polynomial:"
   ]
  },
  {
   "cell_type": "code",
   "execution_count": 10,
   "metadata": {
    "collapsed": false,
    "deletable": true,
    "editable": true
   },
   "outputs": [
    {
     "data": {
      "text/plain": [
       "<matplotlib.text.Text at 0x7fc6ed3edf60>"
      ]
     },
     "execution_count": 10,
     "metadata": {},
     "output_type": "execute_result"
    },
    {
     "data": {
      "image/png": "[encoded data removed]",
      "text/plain": [
       "<matplotlib.figure.Figure at 0x7fc6f4e6ec88>"
      ]
     },
     "metadata": {},
     "output_type": "display_data"
    }
   ],
   "source": [
    "fig=plt.figure(figsize=(15, 8), dpi= 80, facecolor='w', edgecolor='k')\n",
    "ax = plt.subplot(1, 1, 1)\n",
    "ax.plot(xpts, ypts, 'bo')\n",
    "plot_x = np.linspace(-3, 6, 100)\n",
    "ax.plot(plot_x, lr_poly.intercept_ + lr_poly.coef_[0]*plot_x + lr_poly.coef_[1]*plot_x**2 + \n",
    "        lr_poly.coef_[2]*plot_x**3 + lr_poly.coef_[3]*plot_x**4)\n",
    "ax.set_xlabel(r'$x$')\n",
    "ax.set_ylabel(r'$y$')"
   ]
  }
 ],
 "metadata": {
  "kernelspec": {
   "display_name": "Python 3",
   "language": "python",
   "name": "python3"
  },
  "language_info": {
   "codemirror_mode": {
    "name": "ipython",
    "version": 3
   },
   "file_extension": ".py",
   "mimetype": "text/x-python",
   "name": "python",
   "nbconvert_exporter": "python",
   "pygments_lexer": "ipython3",
   "version": "3.6.1"
  }
 },
 "nbformat": 4,
 "nbformat_minor": 2
}
